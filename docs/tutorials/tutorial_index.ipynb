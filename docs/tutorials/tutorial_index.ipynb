{
 "cells": [
  {
   "cell_type": "markdown",
   "id": "5073839e",
   "metadata": {
    "papermill": {
     "duration": 0.002653,
     "end_time": "2023-08-21T07:49:31.483657",
     "exception": false,
     "start_time": "2023-08-21T07:49:31.481004",
     "status": "completed"
    },
    "tags": []
   },
   "source": [
    "# kquant 튜토리얼"
   ]
  },
  {
   "cell_type": "markdown",
   "id": "75b0581e",
   "metadata": {
    "papermill": {
     "duration": 0.009292,
     "end_time": "2023-08-21T07:49:31.495036",
     "exception": false,
     "start_time": "2023-08-21T07:49:31.485744",
     "status": "completed"
    },
    "tags": []
   },
   "source": [
    "- 본 튜토리얼은 `kquant` 패키지를 처음 사용하시는 분을 위한 내용입니다."
   ]
  },
  {
   "cell_type": "markdown",
   "id": "125dbfea",
   "metadata": {
    "papermill": {
     "duration": 0.003013,
     "end_time": "2023-08-21T07:49:31.500440",
     "exception": false,
     "start_time": "2023-08-21T07:49:31.497427",
     "status": "completed"
    },
    "tags": []
   },
   "source": [
    "## 튜토리얼 목록"
   ]
  },
  {
   "cell_type": "markdown",
   "id": "b28d0c70",
   "metadata": {
    "papermill": {
     "duration": 0.003614,
     "end_time": "2023-08-21T07:49:31.506526",
     "exception": false,
     "start_time": "2023-08-21T07:49:31.502912",
     "status": "completed"
    },
    "tags": []
   },
   "source": [
    "- [튜토리얼 1 - `kquant` 패키지 설치](tutorial01.ipynb)\n",
    "- [튜토리얼 2 - CHECK-API 정보 설정](tutorial02.ipynb)\n",
    "- [튜토리얼 3 - 주가 정보 입수](tutorial03.ipynb)"
   ]
  },
  {
   "cell_type": "markdown",
   "id": "fbce32ce",
   "metadata": {
    "papermill": {
     "duration": 0.006533,
     "end_time": "2023-08-21T07:49:31.516011",
     "exception": false,
     "start_time": "2023-08-21T07:49:31.509478",
     "status": "completed"
    },
    "tags": []
   },
   "source": []
  }
 ],
 "metadata": {
  "kernelspec": {
   "display_name": "base",
   "language": "python",
   "name": "python3"
  },
  "language_info": {
   "codemirror_mode": {
    "name": "ipython",
    "version": 3
   },
   "file_extension": ".py",
   "mimetype": "text/x-python",
   "name": "python",
   "nbconvert_exporter": "python",
   "pygments_lexer": "ipython3",
   "version": "3.10.10"
  },
  "papermill": {
   "default_parameters": {},
   "duration": 3.464267,
   "end_time": "2023-08-21T07:49:31.943234",
   "environment_variables": {},
   "exception": null,
   "input_path": "docs/tutorials/tutorial_index.ipynb",
   "output_path": "docs/tutorials/tutorial_index.ipynb",
   "parameters": {},
   "start_time": "2023-08-21T07:49:28.478967",
   "version": "2.4.0"
  }
 },
 "nbformat": 4,
 "nbformat_minor": 5
}