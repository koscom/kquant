{
 "cells": [
  {
   "cell_type": "markdown",
   "id": "5073839e",
   "metadata": {
    "papermill": {
     "duration": 0.002861,
     "end_time": "2023-11-03T02:15:00.798139",
     "exception": false,
     "start_time": "2023-11-03T02:15:00.795278",
     "status": "completed"
    },
    "tags": []
   },
   "source": [
    "# kquant 튜토리얼"
   ]
  },
  {
   "cell_type": "markdown",
   "id": "75b0581e",
   "metadata": {
    "papermill": {
     "duration": 0.001741,
     "end_time": "2023-11-03T02:15:00.801999",
     "exception": false,
     "start_time": "2023-11-03T02:15:00.800258",
     "status": "completed"
    },
    "tags": []
   },
   "source": [
    "- 본 튜토리얼은 `kquant` 패키지를 처음 사용하시는 분을 위한 내용입니다."
   ]
  },
  {
   "cell_type": "markdown",
   "id": "125dbfea",
   "metadata": {
    "papermill": {
     "duration": 0.001634,
     "end_time": "2023-11-03T02:15:00.805219",
     "exception": false,
     "start_time": "2023-11-03T02:15:00.803585",
     "status": "completed"
    },
    "tags": []
   },
   "source": [
    "## 튜토리얼 목록"
   ]
  },
  {
   "cell_type": "markdown",
   "id": "b28d0c70",
   "metadata": {
    "papermill": {
     "duration": 0.00172,
     "end_time": "2023-11-03T02:15:00.808466",
     "exception": false,
     "start_time": "2023-11-03T02:15:00.806746",
     "status": "completed"
    },
    "tags": []
   },
   "source": [
    "- [튜토리얼 1 - `kquant` 패키지 설치](tutorial01.ipynb)\n",
    "- [튜토리얼 2 - CHECK-API 정보 설정](tutorial02.ipynb)\n",
    "- [튜토리얼 3 - 주가 정보 입수](tutorial03.ipynb)\n",
    "- [튜토리얼 4 - 기술적 분석과 시각화](tutorial04.ipynb)\n",
    "- [튜토리얼 5 - 주식 매매 백테스트](tutorial05.ipynb)\n",
    "- [튜토리얼 6 - 포트폴리오 백테스트](tutorial06.ipynb)"
   ]
  },
  {
   "cell_type": "markdown",
   "id": "fbce32ce",
   "metadata": {
    "papermill": {
     "duration": 0.001878,
     "end_time": "2023-11-03T02:15:00.812402",
     "exception": false,
     "start_time": "2023-11-03T02:15:00.810524",
     "status": "completed"
    },
    "tags": []
   },
   "source": []
  }
 ],
 "metadata": {
  "kernelspec": {
   "display_name": "base",
   "language": "python",
   "name": "python3"
  },
  "language_info": {
   "codemirror_mode": {
    "name": "ipython",
    "version": 3
   },
   "file_extension": ".py",
   "mimetype": "text/x-python",
   "name": "python",
   "nbconvert_exporter": "python",
   "pygments_lexer": "ipython3",
   "version": "3.10.10"
  },
  "papermill": {
   "default_parameters": {},
   "duration": 4.516557,
   "end_time": "2023-11-03T02:15:01.236443",
   "environment_variables": {},
   "exception": null,
   "input_path": "docs/tutorials/tutorial_index.ipynb",
   "output_path": "docs/tutorials/tutorial_index.ipynb",
   "parameters": {},
   "start_time": "2023-11-03T02:14:56.719886",
   "version": "2.4.0"
  }
 },
 "nbformat": 4,
 "nbformat_minor": 5
}