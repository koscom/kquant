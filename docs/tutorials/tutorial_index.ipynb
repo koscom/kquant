{
 "cells": [
  {
   "cell_type": "markdown",
   "id": "5073839e",
   "metadata": {
    "papermill": {
     "duration": 0.003607,
     "end_time": "2023-08-25T06:01:33.848076",
     "exception": false,
     "start_time": "2023-08-25T06:01:33.844469",
     "status": "completed"
    },
    "tags": []
   },
   "source": [
    "# kquant 튜토리얼"
   ]
  },
  {
   "cell_type": "markdown",
   "id": "75b0581e",
   "metadata": {
    "papermill": {
     "duration": 0.001238,
     "end_time": "2023-08-25T06:01:33.851295",
     "exception": false,
     "start_time": "2023-08-25T06:01:33.850057",
     "status": "completed"
    },
    "tags": []
   },
   "source": [
    "- 본 튜토리얼은 `kquant` 패키지를 처음 사용하시는 분을 위한 내용입니다."
   ]
  },
  {
   "cell_type": "markdown",
   "id": "125dbfea",
   "metadata": {
    "papermill": {
     "duration": 0.001167,
     "end_time": "2023-08-25T06:01:33.853723",
     "exception": false,
     "start_time": "2023-08-25T06:01:33.852556",
     "status": "completed"
    },
    "tags": []
   },
   "source": [
    "## 튜토리얼 목록"
   ]
  },
  {
   "cell_type": "markdown",
   "id": "b28d0c70",
   "metadata": {
    "papermill": {
     "duration": 0.001196,
     "end_time": "2023-08-25T06:01:33.856052",
     "exception": false,
     "start_time": "2023-08-25T06:01:33.854856",
     "status": "completed"
    },
    "tags": []
   },
   "source": [
    "- [튜토리얼 1 - `kquant` 패키지 설치](tutorial01.ipynb)\n",
    "- [튜토리얼 2 - CHECK-API 정보 설정](tutorial02.ipynb)\n",
    "- [튜토리얼 3 - 주가 정보 입수](tutorial03.ipynb)\n",
    "- [튜토리얼 4 - 기술적 분석과 시각화](tutorial04.ipynb)\n",
    "- [튜토리얼 5 - 주식 매매 백테스트](tutorial05.ipynb)\n",
    "- [튜토리얼 6 - 포트폴리오 백테스트](tutorial06.ipynb)"
   ]
  },
  {
   "cell_type": "markdown",
   "id": "fbce32ce",
   "metadata": {
    "papermill": {
     "duration": 0.001472,
     "end_time": "2023-08-25T06:01:33.858918",
     "exception": false,
     "start_time": "2023-08-25T06:01:33.857446",
     "status": "completed"
    },
    "tags": []
   },
   "source": []
  }
 ],
 "metadata": {
  "kernelspec": {
   "display_name": "base",
   "language": "python",
   "name": "python3"
  },
  "language_info": {
   "codemirror_mode": {
    "name": "ipython",
    "version": 3
   },
   "file_extension": ".py",
   "mimetype": "text/x-python",
   "name": "python",
   "nbconvert_exporter": "python",
   "pygments_lexer": "ipython3",
   "version": "3.10.10"
  },
  "papermill": {
   "default_parameters": {},
   "duration": 5.076934,
   "end_time": "2023-08-25T06:01:34.277762",
   "environment_variables": {},
   "exception": null,
   "input_path": "docs/tutorials/tutorial_index.ipynb",
   "output_path": "docs/tutorials/tutorial_index.ipynb",
   "parameters": {},
   "start_time": "2023-08-25T06:01:29.200828",
   "version": "2.4.0"
  }
 },
 "nbformat": 4,
 "nbformat_minor": 5
}