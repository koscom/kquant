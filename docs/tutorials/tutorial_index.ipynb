{
 "cells": [
  {
   "cell_type": "markdown",
   "id": "5073839e",
   "metadata": {
    "papermill": {
     "duration": 0.002813,
     "end_time": "2024-01-31T05:35:04.746219",
     "exception": false,
     "start_time": "2024-01-31T05:35:04.743406",
     "status": "completed"
    },
    "tags": []
   },
   "source": [
    "# kquant 튜토리얼"
   ]
  },
  {
   "cell_type": "markdown",
   "id": "75b0581e",
   "metadata": {
    "papermill": {
     "duration": 0.001756,
     "end_time": "2024-01-31T05:35:04.750164",
     "exception": false,
     "start_time": "2024-01-31T05:35:04.748408",
     "status": "completed"
    },
    "tags": []
   },
   "source": [
    "- 본 튜토리얼은 `kquant` 패키지를 처음 사용하시는 분을 위한 내용입니다."
   ]
  },
  {
   "cell_type": "markdown",
   "id": "125dbfea",
   "metadata": {
    "papermill": {
     "duration": 0.001737,
     "end_time": "2024-01-31T05:35:04.753779",
     "exception": false,
     "start_time": "2024-01-31T05:35:04.752042",
     "status": "completed"
    },
    "tags": []
   },
   "source": [
    "## 튜토리얼 목록"
   ]
  },
  {
   "cell_type": "markdown",
   "id": "b28d0c70",
   "metadata": {
    "papermill": {
     "duration": 0.00156,
     "end_time": "2024-01-31T05:35:04.756919",
     "exception": false,
     "start_time": "2024-01-31T05:35:04.755359",
     "status": "completed"
    },
    "tags": []
   },
   "source": [
    "- [튜토리얼 1 - `kquant` 패키지 설치](tutorial01.ipynb)\n",
    "- [튜토리얼 2 - CHECK-API 정보 설정](tutorial02.ipynb)\n",
    "- [튜토리얼 3 - 주가 정보 입수](tutorial03.ipynb)\n",
    "- [튜토리얼 4 - 기술적 분석과 시각화](tutorial04.ipynb)\n",
    "- [튜토리얼 5 - 주식 매매 백테스트](tutorial05.ipynb)\n",
    "- [튜토리얼 6 - 포트폴리오 백테스트](tutorial06.ipynb)"
   ]
  },
  {
   "cell_type": "markdown",
   "id": "fbce32ce",
   "metadata": {
    "papermill": {
     "duration": 0.001534,
     "end_time": "2024-01-31T05:35:04.760006",
     "exception": false,
     "start_time": "2024-01-31T05:35:04.758472",
     "status": "completed"
    },
    "tags": []
   },
   "source": []
  }
 ],
 "metadata": {
  "kernelspec": {
   "display_name": "base",
   "language": "python",
   "name": "python3"
  },
  "language_info": {
   "codemirror_mode": {
    "name": "ipython",
    "version": 3
   },
   "file_extension": ".py",
   "mimetype": "text/x-python",
   "name": "python",
   "nbconvert_exporter": "python",
   "pygments_lexer": "ipython3",
   "version": "3.10.12"
  },
  "papermill": {
   "default_parameters": {},
   "duration": 4.235233,
   "end_time": "2024-01-31T05:35:05.283983",
   "environment_variables": {},
   "exception": null,
   "input_path": "docs/tutorials/tutorial_index.ipynb",
   "output_path": "docs/tutorials/tutorial_index.ipynb",
   "parameters": {},
   "start_time": "2024-01-31T05:35:01.048750",
   "version": "2.4.0"
  }
 },
 "nbformat": 4,
 "nbformat_minor": 5
}