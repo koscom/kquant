{
 "cells": [
  {
   "cell_type": "markdown",
   "id": "5073839e",
   "metadata": {
    "papermill": {
     "duration": 0.00324,
     "end_time": "2023-08-18T02:05:39.240200",
     "exception": false,
     "start_time": "2023-08-18T02:05:39.236960",
     "status": "completed"
    },
    "tags": []
   },
   "source": [
    "# kquant 튜토리얼"
   ]
  },
  {
   "cell_type": "markdown",
   "id": "75b0581e",
   "metadata": {
    "papermill": {
     "duration": 0.001511,
     "end_time": "2023-08-18T02:05:39.243937",
     "exception": false,
     "start_time": "2023-08-18T02:05:39.242426",
     "status": "completed"
    },
    "tags": []
   },
   "source": [
    "- 본 튜토리얼은 `kquant` 패키지를 처음 사용하시는 분을 위한 내용입니다."
   ]
  },
  {
   "cell_type": "markdown",
   "id": "125dbfea",
   "metadata": {
    "papermill": {
     "duration": 0.001385,
     "end_time": "2023-08-18T02:05:39.246765",
     "exception": false,
     "start_time": "2023-08-18T02:05:39.245380",
     "status": "completed"
    },
    "tags": []
   },
   "source": [
    "## 튜토리얼 목록"
   ]
  },
  {
   "cell_type": "markdown",
   "id": "b28d0c70",
   "metadata": {
    "papermill": {
     "duration": 0.001663,
     "end_time": "2023-08-18T02:05:39.249786",
     "exception": false,
     "start_time": "2023-08-18T02:05:39.248123",
     "status": "completed"
    },
    "tags": []
   },
   "source": [
    "- [튜토리얼 1 - `kquant` 패키지 설치](tutorial01.ipynb)\n",
    "- [튜토리얼 2 - CHECK-API 정보 설정](tutorial02.ipynb)\n",
    "- [튜토리얼 3 - 주가 정보 입수](tutorial03.ipynb)"
   ]
  },
  {
   "cell_type": "markdown",
   "id": "fbce32ce",
   "metadata": {
    "papermill": {
     "duration": 0.002229,
     "end_time": "2023-08-18T02:05:39.253756",
     "exception": false,
     "start_time": "2023-08-18T02:05:39.251527",
     "status": "completed"
    },
    "tags": []
   },
   "source": []
  }
 ],
 "metadata": {
  "kernelspec": {
   "display_name": "base",
   "language": "python",
   "name": "python3"
  },
  "language_info": {
   "codemirror_mode": {
    "name": "ipython",
    "version": 3
   },
   "file_extension": ".py",
   "mimetype": "text/x-python",
   "name": "python",
   "nbconvert_exporter": "python",
   "pygments_lexer": "ipython3",
   "version": "3.10.10"
  },
  "papermill": {
   "default_parameters": {},
   "duration": 3.393098,
   "end_time": "2023-08-18T02:05:39.676771",
   "environment_variables": {},
   "exception": null,
   "input_path": "docs/tutorials/tutorial_index.ipynb",
   "output_path": "docs/tutorials/tutorial_index.ipynb",
   "parameters": {},
   "start_time": "2023-08-18T02:05:36.283673",
   "version": "2.4.0"
  }
 },
 "nbformat": 4,
 "nbformat_minor": 5
}