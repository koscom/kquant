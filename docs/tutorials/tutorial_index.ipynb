{
 "cells": [
  {
   "cell_type": "markdown",
   "id": "5073839e",
   "metadata": {
    "papermill": {
     "duration": 0.005065,
     "end_time": "2023-12-04T03:10:47.298412",
     "exception": false,
     "start_time": "2023-12-04T03:10:47.293347",
     "status": "completed"
    },
    "tags": []
   },
   "source": [
    "# kquant 튜토리얼"
   ]
  },
  {
   "cell_type": "markdown",
   "id": "75b0581e",
   "metadata": {
    "papermill": {
     "duration": 0.002678,
     "end_time": "2023-12-04T03:10:47.304355",
     "exception": false,
     "start_time": "2023-12-04T03:10:47.301677",
     "status": "completed"
    },
    "tags": []
   },
   "source": [
    "- 본 튜토리얼은 `kquant` 패키지를 처음 사용하시는 분을 위한 내용입니다."
   ]
  },
  {
   "cell_type": "markdown",
   "id": "125dbfea",
   "metadata": {
    "papermill": {
     "duration": 0.001679,
     "end_time": "2023-12-04T03:10:47.307931",
     "exception": false,
     "start_time": "2023-12-04T03:10:47.306252",
     "status": "completed"
    },
    "tags": []
   },
   "source": [
    "## 튜토리얼 목록"
   ]
  },
  {
   "cell_type": "markdown",
   "id": "b28d0c70",
   "metadata": {
    "papermill": {
     "duration": 0.002852,
     "end_time": "2023-12-04T03:10:47.313641",
     "exception": false,
     "start_time": "2023-12-04T03:10:47.310789",
     "status": "completed"
    },
    "tags": []
   },
   "source": [
    "- [튜토리얼 1 - `kquant` 패키지 설치](tutorial01.ipynb)\n",
    "- [튜토리얼 2 - CHECK-API 정보 설정](tutorial02.ipynb)\n",
    "- [튜토리얼 3 - 주가 정보 입수](tutorial03.ipynb)\n",
    "- [튜토리얼 4 - 기술적 분석과 시각화](tutorial04.ipynb)\n",
    "- [튜토리얼 5 - 주식 매매 백테스트](tutorial05.ipynb)\n",
    "- [튜토리얼 6 - 포트폴리오 백테스트](tutorial06.ipynb)"
   ]
  },
  {
   "cell_type": "markdown",
   "id": "fbce32ce",
   "metadata": {
    "papermill": {
     "duration": 0.001578,
     "end_time": "2023-12-04T03:10:47.317296",
     "exception": false,
     "start_time": "2023-12-04T03:10:47.315718",
     "status": "completed"
    },
    "tags": []
   },
   "source": []
  }
 ],
 "metadata": {
  "kernelspec": {
   "display_name": "base",
   "language": "python",
   "name": "python3"
  },
  "language_info": {
   "codemirror_mode": {
    "name": "ipython",
    "version": 3
   },
   "file_extension": ".py",
   "mimetype": "text/x-python",
   "name": "python",
   "nbconvert_exporter": "python",
   "pygments_lexer": "ipython3",
   "version": "3.10.12"
  },
  "papermill": {
   "default_parameters": {},
   "duration": 6.47927,
   "end_time": "2023-12-04T03:10:47.948905",
   "environment_variables": {},
   "exception": null,
   "input_path": "docs/tutorials/tutorial_index.ipynb",
   "output_path": "docs/tutorials/tutorial_index.ipynb",
   "parameters": {},
   "start_time": "2023-12-04T03:10:41.469635",
   "version": "2.4.0"
  }
 },
 "nbformat": 4,
 "nbformat_minor": 5
}