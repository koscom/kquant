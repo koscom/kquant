{
 "cells": [
  {
   "cell_type": "markdown",
   "id": "5073839e",
   "metadata": {
    "papermill": {
     "duration": 0.003072,
     "end_time": "2023-07-20T06:38:47.674850",
     "exception": false,
     "start_time": "2023-07-20T06:38:47.671778",
     "status": "completed"
    },
    "tags": []
   },
   "source": [
    "# kquant 튜토리얼"
   ]
  },
  {
   "cell_type": "markdown",
   "id": "75b0581e",
   "metadata": {
    "papermill": {
     "duration": 0.001513,
     "end_time": "2023-07-20T06:38:47.678514",
     "exception": false,
     "start_time": "2023-07-20T06:38:47.677001",
     "status": "completed"
    },
    "tags": []
   },
   "source": [
    "- 본 튜토리얼은 `kquant` 패키지를 처음 사용하시는 분을 위한 내용입니다."
   ]
  },
  {
   "cell_type": "markdown",
   "id": "125dbfea",
   "metadata": {
    "papermill": {
     "duration": 0.001473,
     "end_time": "2023-07-20T06:38:47.681757",
     "exception": false,
     "start_time": "2023-07-20T06:38:47.680284",
     "status": "completed"
    },
    "tags": []
   },
   "source": [
    "## 튜토리얼 목록"
   ]
  },
  {
   "cell_type": "markdown",
   "id": "b28d0c70",
   "metadata": {
    "papermill": {
     "duration": 0.001431,
     "end_time": "2023-07-20T06:38:47.684655",
     "exception": false,
     "start_time": "2023-07-20T06:38:47.683224",
     "status": "completed"
    },
    "tags": []
   },
   "source": [
    "- [튜토리얼 1 - `kquant` 패키지 설치](tutorial01.ipynb)\n",
    "- [튜토리얼 2 - CHECK-API 정보 설정](tutorial02.ipynb)\n",
    "- [튜토리얼 3 - 주가 정보 입수](tutorial03.ipynb)"
   ]
  },
  {
   "cell_type": "markdown",
   "id": "fbce32ce",
   "metadata": {
    "papermill": {
     "duration": 0.001334,
     "end_time": "2023-07-20T06:38:47.687311",
     "exception": false,
     "start_time": "2023-07-20T06:38:47.685977",
     "status": "completed"
    },
    "tags": []
   },
   "source": []
  }
 ],
 "metadata": {
  "kernelspec": {
   "display_name": "base",
   "language": "python",
   "name": "python3"
  },
  "language_info": {
   "codemirror_mode": {
    "name": "ipython",
    "version": 3
   },
   "file_extension": ".py",
   "mimetype": "text/x-python",
   "name": "python",
   "nbconvert_exporter": "python",
   "pygments_lexer": "ipython3",
   "version": "3.10.10"
  },
  "papermill": {
   "default_parameters": {},
   "duration": 3.222844,
   "end_time": "2023-07-20T06:38:48.111655",
   "environment_variables": {},
   "exception": null,
   "input_path": "docs/tutorials/tutorial_index.ipynb",
   "output_path": "docs/tutorials/tutorial_index.ipynb",
   "parameters": {},
   "start_time": "2023-07-20T06:38:44.888811",
   "version": "2.4.0"
  }
 },
 "nbformat": 4,
 "nbformat_minor": 5
}