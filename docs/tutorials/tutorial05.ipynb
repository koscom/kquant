{
 "cells": [
  {
   "cell_type": "markdown",
   "id": "7cbe19db",
   "metadata": {
    "papermill": {
     "duration": 0.007678,
     "end_time": "2023-08-21T07:49:51.194275",
     "exception": false,
     "start_time": "2023-08-21T07:49:51.186597",
     "status": "completed"
    },
    "tags": []
   },
   "source": [
    "# 튜토리얼 5 - 주식 매매 백테스트"
   ]
  },
  {
   "cell_type": "markdown",
   "id": "225ae0ec",
   "metadata": {
    "papermill": {
     "duration": 0.008194,
     "end_time": "2023-08-21T07:49:51.209867",
     "exception": false,
     "start_time": "2023-08-21T07:49:51.201673",
     "status": "completed"
    },
    "tags": []
   },
   "source": [
    "과거의 주가정보를 이용하여 특정한 주문전략을 수행하였을 때의 성과를 계산하는 것을 백테스트(backtest)라고 합니다.\n",
    "\n",
    "kquant 패키지는 개별 주식 및 주식 포트폴리오에 대한 백테스트(backtest) 기능을 제공합니다.\n",
    "\n",
    "본 튜토리얼에서는 개별 주식에 대해 매매 백테스트하는 법을 설명합니다."
   ]
  },
  {
   "cell_type": "code",
   "execution_count": 1,
   "id": "7d6e1ea7",
   "metadata": {
    "execution": {
     "iopub.execute_input": "2023-08-21T07:49:51.227991Z",
     "iopub.status.busy": "2023-08-21T07:49:51.227707Z",
     "iopub.status.idle": "2023-08-21T07:49:51.601184Z",
     "shell.execute_reply": "2023-08-21T07:49:51.600531Z"
    },
    "papermill": {
     "duration": 0.384251,
     "end_time": "2023-08-21T07:49:51.603255",
     "exception": false,
     "start_time": "2023-08-21T07:49:51.219004",
     "status": "completed"
    },
    "tags": []
   },
   "outputs": [],
   "source": [
    "import kquant as kq"
   ]
  },
  {
   "cell_type": "markdown",
   "id": "4fc68236",
   "metadata": {
    "papermill": {
     "duration": 0.007692,
     "end_time": "2023-08-21T07:49:51.618440",
     "exception": false,
     "start_time": "2023-08-21T07:49:51.610748",
     "status": "completed"
    },
    "tags": []
   },
   "source": [
    "## 5.1 백테스트용 입력정보 준비"
   ]
  },
  {
   "cell_type": "markdown",
   "id": "d945daaf",
   "metadata": {
    "papermill": {
     "duration": 0.008014,
     "end_time": "2023-08-21T07:49:51.635454",
     "exception": false,
     "start_time": "2023-08-21T07:49:51.627440",
     "status": "completed"
    },
    "tags": []
   },
   "source": [
    "주식매매 백테스트를 하기 위해서는 날짜별 주식 주문 정보가 담긴 pandas 데이터프레임 `df_order`을 준비해야 합니다. \n",
    "`df_order`은 다음과 같은 2개의 열을 가져야 합니다.\n",
    "\n",
    "- `DATE`: 주문하는 주식의 날짜 정보 리스트. 중복된 날짜가 있으면 안되고 pandas `to_datetime` 함수로 변환가능한 `\"2023-01-01` 형식 등의 문자열 \n",
    "- `ORDER`: 주문하는 주식의 수량 리스트. 정수만 가능하며 양수인 경우 매수, 음수인 경우 매도로 처리함\n",
    "\n",
    "\n",
    "예를 들어 다음과 같이 2023년 1월 2일에 삼성전자 주식을 10주 매수하고 11일에 10주 매도하는 주문정보를 만들 수 있습니다."
   ]
  },
  {
   "cell_type": "code",
   "execution_count": 2,
   "id": "2d9af508",
   "metadata": {
    "execution": {
     "iopub.execute_input": "2023-08-21T07:49:51.651725Z",
     "iopub.status.busy": "2023-08-21T07:49:51.651414Z",
     "iopub.status.idle": "2023-08-21T07:49:51.664398Z",
     "shell.execute_reply": "2023-08-21T07:49:51.663657Z"
    },
    "papermill": {
     "duration": 0.022992,
     "end_time": "2023-08-21T07:49:51.666296",
     "exception": false,
     "start_time": "2023-08-21T07:49:51.643304",
     "status": "completed"
    },
    "tags": []
   },
   "outputs": [
    {
     "data": {
      "text/html": [
       "<div>\n",
       "<style scoped>\n",
       "    .dataframe tbody tr th:only-of-type {\n",
       "        vertical-align: middle;\n",
       "    }\n",
       "\n",
       "    .dataframe tbody tr th {\n",
       "        vertical-align: top;\n",
       "    }\n",
       "\n",
       "    .dataframe thead th {\n",
       "        text-align: right;\n",
       "    }\n",
       "</style>\n",
       "<table border=\"1\" class=\"dataframe\">\n",
       "  <thead>\n",
       "    <tr style=\"text-align: right;\">\n",
       "      <th></th>\n",
       "      <th>DATE</th>\n",
       "      <th>ORDER</th>\n",
       "    </tr>\n",
       "  </thead>\n",
       "  <tbody>\n",
       "    <tr>\n",
       "      <th>0</th>\n",
       "      <td>2023-01-02</td>\n",
       "      <td>10</td>\n",
       "    </tr>\n",
       "    <tr>\n",
       "      <th>1</th>\n",
       "      <td>2023-01-11</td>\n",
       "      <td>-10</td>\n",
       "    </tr>\n",
       "  </tbody>\n",
       "</table>\n",
       "</div>"
      ],
      "text/plain": [
       "         DATE  ORDER\n",
       "0  2023-01-02     10\n",
       "1  2023-01-11    -10"
      ]
     },
     "execution_count": 2,
     "metadata": {},
     "output_type": "execute_result"
    }
   ],
   "source": [
    "import pandas as pd\n",
    "\n",
    "df_order = pd.DataFrame({\n",
    "    \"DATE\": [\"2023-01-02\", \"2023-01-11\"],\n",
    "    \"ORDER\": [10, -10]\n",
    "})\n",
    "\n",
    "df_order\n"
   ]
  },
  {
   "cell_type": "markdown",
   "id": "a6632d52",
   "metadata": {
    "papermill": {
     "duration": 0.006925,
     "end_time": "2023-08-21T07:49:51.680626",
     "exception": false,
     "start_time": "2023-08-21T07:49:51.673701",
     "status": "completed"
    },
    "tags": []
   },
   "source": [
    "## 5.2 백테스트 실시"
   ]
  },
  {
   "cell_type": "markdown",
   "id": "ebed384d",
   "metadata": {
    "papermill": {
     "duration": 0.006723,
     "end_time": "2023-08-21T07:49:51.695110",
     "exception": false,
     "start_time": "2023-08-21T07:49:51.688387",
     "status": "completed"
    },
    "tags": []
   },
   "source": [
    "주문 정보 데이터프레임이 준비되면 `backtest_stock_daily` 함수를 사용하여 주식 매매 백테스트를 할 수 있습니다. \n",
    "\n",
    "`backtest_stock_daily` 함수는 기본적으로 다음과 같은 입력 인수를 받습니다.\n",
    "\n",
    "- `symbol`: 종목 단축코드 문자열\n",
    "- `order`: 날짜별 주식 주문 정보가 담긴 pandas 데이터프레임.\n",
    "- `start_date` (옵션): 백테스트 시작 날짜 정보. 입력하지 않으면 `df_order` 데이터프레임의 첫 날짜를 사용.\n",
    "- `end_date` (옵션): 백테스트 시작 날짜 정보. 입력하지 않으면 `df_order` 데이터프레임의 마지막 날짜를 사용.\n",
    "- `init_cash` (옵션): 초기보유 현금. 반드시 이름있는 인수(named parameter) 형태로 입력해야 함.\n",
    "\n",
    "`backtest_stock_daily` 함수에 `df_order` 데이터프레임을 입력하여 실행하면 백테스트를 수행하고 결과를 담은 `df_result` 데이터프레임을 출력합니다."
   ]
  },
  {
   "cell_type": "code",
   "execution_count": 3,
   "id": "7e7435d1",
   "metadata": {
    "execution": {
     "iopub.execute_input": "2023-08-21T07:49:51.710266Z",
     "iopub.status.busy": "2023-08-21T07:49:51.710009Z",
     "iopub.status.idle": "2023-08-21T07:49:52.221573Z",
     "shell.execute_reply": "2023-08-21T07:49:52.220884Z"
    },
    "papermill": {
     "duration": 0.520873,
     "end_time": "2023-08-21T07:49:52.223425",
     "exception": false,
     "start_time": "2023-08-21T07:49:51.702552",
     "status": "completed"
    },
    "tags": []
   },
   "outputs": [
    {
     "name": "stderr",
     "output_type": "stream",
     "text": [
      "[2023-01-02] 종목: 005930, 주문전 보유수량:      0 주문수량:     10, 매매수량:     10, 주문후 보유수량:     10\n",
      "[2023-01-11] 종목: 005930, 주문전 보유수량:     10 주문수량:    -10, 매매수량:    -10, 주문후 보유수량:      0\n"
     ]
    }
   ],
   "source": [
    "df_result = kq.backtest_stock_daily(\"005930\", df_order, init_cash=1_000_000)"
   ]
  },
  {
   "cell_type": "markdown",
   "id": "fc913b1a",
   "metadata": {
    "papermill": {
     "duration": 0.007043,
     "end_time": "2023-08-21T07:49:52.237762",
     "exception": false,
     "start_time": "2023-08-21T07:49:52.230719",
     "status": "completed"
    },
    "tags": []
   },
   "source": [
    "## 5.3 백테스트 결과 정보"
   ]
  },
  {
   "cell_type": "markdown",
   "id": "63b661d3",
   "metadata": {
    "papermill": {
     "duration": 0.006952,
     "end_time": "2023-08-21T07:49:52.252404",
     "exception": false,
     "start_time": "2023-08-21T07:49:52.245452",
     "status": "completed"
    },
    "tags": []
   },
   "source": [
    "백테스트 결과를 담은 데이터프레임 `df_result`에는 백테스트 기간동안의 다음 정보를 담고 있습니다.\n",
    "\n",
    "- DATE: 날짜\n",
    "- SYMBOL: 종목단축코드\n",
    "- PRICE: 주식 평가를 위한 당일 종가\n",
    "- ORDER: 주문수량, 양수이면 매수, 음수이면 매도\n",
    "- QTY: 실제 매매수량, 양수이면 매수, 음수이면 매도\n",
    "- TRADE_PRICE: 체결 가격, 매매일 종가에서 슬리피지(slippage) 비율만큼 손실을 보면서 체결\n",
    "- FEE: 증권사 및 유관기관 수수료 금액\n",
    "- TRADE_TAX: 매도시 발생하는 증권거래세 금액\n",
    "- SLIPPAGE: 주식의 현재 가격과 실제 매매 가격의 차이에 의해 발생하는 슬리피지(slippage)\n",
    "- CASHFLOW: 현금흐름, 양수이면 매도시 발생하는 현금유입, 음수이면 매수시 발생하는 현금유출\n",
    "- CASH: 당일의 보유 현금 금액\n",
    "- POSITION: 당일의 보유 주식 수량\n",
    "- AVG_PRICE: 당일기준 보유 주식의 역사적 평균가격, 선입선출 방식으로 계산\n",
    "- HIST_VALUE: 보유 주식의 매수 금액, 선입선출 방식으로 계산\n",
    "- STOCK_VALUE: 당일의 주식 평가액\n",
    "- TOTAL_VALUE: 당일의 주식 평가액과 현금 보유액의 합계\n",
    "- REAL_PROFIT: 주식 매도시 발생하는 실현손익, 음수이면 손실\n",
    "- UNREAL_PROFIT: 보유 주식에 대한 평가손익, 음수이면 손실\n",
    "- PROFIT: 총손익, 누적 실현손익과 최종 평가손익의 합, 음수이면 손실\n",
    "\n",
    "예를 들어 실제 매매수량 `QTY`는 이후에 설명할 여러가지 주문 오류로 인해 실제 주문수량 `ORDER`와 다를 수 있습니다."
   ]
  },
  {
   "cell_type": "code",
   "execution_count": 4,
   "id": "9eb7e7cc",
   "metadata": {
    "execution": {
     "iopub.execute_input": "2023-08-21T07:49:52.268084Z",
     "iopub.status.busy": "2023-08-21T07:49:52.267807Z",
     "iopub.status.idle": "2023-08-21T07:49:52.286738Z",
     "shell.execute_reply": "2023-08-21T07:49:52.286148Z"
    },
    "papermill": {
     "duration": 0.028448,
     "end_time": "2023-08-21T07:49:52.288435",
     "exception": false,
     "start_time": "2023-08-21T07:49:52.259987",
     "status": "completed"
    },
    "tags": []
   },
   "outputs": [
    {
     "data": {
      "text/html": [
       "<div>\n",
       "<style scoped>\n",
       "    .dataframe tbody tr th:only-of-type {\n",
       "        vertical-align: middle;\n",
       "    }\n",
       "\n",
       "    .dataframe tbody tr th {\n",
       "        vertical-align: top;\n",
       "    }\n",
       "\n",
       "    .dataframe thead th {\n",
       "        text-align: right;\n",
       "    }\n",
       "</style>\n",
       "<table border=\"1\" class=\"dataframe\">\n",
       "  <thead>\n",
       "    <tr style=\"text-align: right;\">\n",
       "      <th></th>\n",
       "      <th>DATE</th>\n",
       "      <th>SYMBOL</th>\n",
       "      <th>PRICE</th>\n",
       "      <th>ORDER</th>\n",
       "      <th>QTY</th>\n",
       "      <th>TRADE_PRICE</th>\n",
       "      <th>POSITION</th>\n",
       "      <th>AVG_PRICE</th>\n",
       "      <th>FEE</th>\n",
       "      <th>TRADE_TAX</th>\n",
       "      <th>SLIPPAGE</th>\n",
       "      <th>CASHFLOW</th>\n",
       "      <th>CASH</th>\n",
       "      <th>HIST_VALUE</th>\n",
       "      <th>STOCK_VALUE</th>\n",
       "      <th>TOTAL_VALUE</th>\n",
       "      <th>REAL_PROFIT</th>\n",
       "      <th>UNREAL_PROFIT</th>\n",
       "      <th>PROFIT</th>\n",
       "      <th>HIGHWATERMARK</th>\n",
       "      <th>DRAWDOWN</th>\n",
       "    </tr>\n",
       "  </thead>\n",
       "  <tbody>\n",
       "    <tr>\n",
       "      <th>0</th>\n",
       "      <td>2023-01-02</td>\n",
       "      <td>005930</td>\n",
       "      <td>55,500</td>\n",
       "      <td>10</td>\n",
       "      <td>10</td>\n",
       "      <td>55,500</td>\n",
       "      <td>10</td>\n",
       "      <td>55,500.0000</td>\n",
       "      <td>0</td>\n",
       "      <td>0</td>\n",
       "      <td>0</td>\n",
       "      <td>-555,000</td>\n",
       "      <td>445,000</td>\n",
       "      <td>555,000</td>\n",
       "      <td>555,000</td>\n",
       "      <td>1,000,000</td>\n",
       "      <td>0</td>\n",
       "      <td>0</td>\n",
       "      <td>0</td>\n",
       "      <td>1,000,000</td>\n",
       "      <td>0</td>\n",
       "    </tr>\n",
       "    <tr>\n",
       "      <th>1</th>\n",
       "      <td>2023-01-03</td>\n",
       "      <td>005930</td>\n",
       "      <td>55,400</td>\n",
       "      <td>0</td>\n",
       "      <td>0</td>\n",
       "      <td>0</td>\n",
       "      <td>10</td>\n",
       "      <td>55,500.0000</td>\n",
       "      <td>0</td>\n",
       "      <td>0</td>\n",
       "      <td>0</td>\n",
       "      <td>0</td>\n",
       "      <td>445,000</td>\n",
       "      <td>555,000</td>\n",
       "      <td>554,000</td>\n",
       "      <td>999,000</td>\n",
       "      <td>0</td>\n",
       "      <td>-1,000</td>\n",
       "      <td>-1,000</td>\n",
       "      <td>1,000,000</td>\n",
       "      <td>1,000</td>\n",
       "    </tr>\n",
       "    <tr>\n",
       "      <th>2</th>\n",
       "      <td>2023-01-04</td>\n",
       "      <td>005930</td>\n",
       "      <td>57,800</td>\n",
       "      <td>0</td>\n",
       "      <td>0</td>\n",
       "      <td>0</td>\n",
       "      <td>10</td>\n",
       "      <td>55,500.0000</td>\n",
       "      <td>0</td>\n",
       "      <td>0</td>\n",
       "      <td>0</td>\n",
       "      <td>0</td>\n",
       "      <td>445,000</td>\n",
       "      <td>555,000</td>\n",
       "      <td>578,000</td>\n",
       "      <td>1,023,000</td>\n",
       "      <td>0</td>\n",
       "      <td>23,000</td>\n",
       "      <td>23,000</td>\n",
       "      <td>1,023,000</td>\n",
       "      <td>0</td>\n",
       "    </tr>\n",
       "    <tr>\n",
       "      <th>3</th>\n",
       "      <td>2023-01-05</td>\n",
       "      <td>005930</td>\n",
       "      <td>58,200</td>\n",
       "      <td>0</td>\n",
       "      <td>0</td>\n",
       "      <td>0</td>\n",
       "      <td>10</td>\n",
       "      <td>55,500.0000</td>\n",
       "      <td>0</td>\n",
       "      <td>0</td>\n",
       "      <td>0</td>\n",
       "      <td>0</td>\n",
       "      <td>445,000</td>\n",
       "      <td>555,000</td>\n",
       "      <td>582,000</td>\n",
       "      <td>1,027,000</td>\n",
       "      <td>0</td>\n",
       "      <td>27,000</td>\n",
       "      <td>27,000</td>\n",
       "      <td>1,027,000</td>\n",
       "      <td>0</td>\n",
       "    </tr>\n",
       "    <tr>\n",
       "      <th>4</th>\n",
       "      <td>2023-01-06</td>\n",
       "      <td>005930</td>\n",
       "      <td>59,000</td>\n",
       "      <td>0</td>\n",
       "      <td>0</td>\n",
       "      <td>0</td>\n",
       "      <td>10</td>\n",
       "      <td>55,500.0000</td>\n",
       "      <td>0</td>\n",
       "      <td>0</td>\n",
       "      <td>0</td>\n",
       "      <td>0</td>\n",
       "      <td>445,000</td>\n",
       "      <td>555,000</td>\n",
       "      <td>590,000</td>\n",
       "      <td>1,035,000</td>\n",
       "      <td>0</td>\n",
       "      <td>35,000</td>\n",
       "      <td>35,000</td>\n",
       "      <td>1,035,000</td>\n",
       "      <td>0</td>\n",
       "    </tr>\n",
       "    <tr>\n",
       "      <th>5</th>\n",
       "      <td>2023-01-09</td>\n",
       "      <td>005930</td>\n",
       "      <td>60,700</td>\n",
       "      <td>0</td>\n",
       "      <td>0</td>\n",
       "      <td>0</td>\n",
       "      <td>10</td>\n",
       "      <td>55,500.0000</td>\n",
       "      <td>0</td>\n",
       "      <td>0</td>\n",
       "      <td>0</td>\n",
       "      <td>0</td>\n",
       "      <td>445,000</td>\n",
       "      <td>555,000</td>\n",
       "      <td>607,000</td>\n",
       "      <td>1,052,000</td>\n",
       "      <td>0</td>\n",
       "      <td>52,000</td>\n",
       "      <td>52,000</td>\n",
       "      <td>1,052,000</td>\n",
       "      <td>0</td>\n",
       "    </tr>\n",
       "    <tr>\n",
       "      <th>6</th>\n",
       "      <td>2023-01-10</td>\n",
       "      <td>005930</td>\n",
       "      <td>60,400</td>\n",
       "      <td>0</td>\n",
       "      <td>0</td>\n",
       "      <td>0</td>\n",
       "      <td>10</td>\n",
       "      <td>55,500.0000</td>\n",
       "      <td>0</td>\n",
       "      <td>0</td>\n",
       "      <td>0</td>\n",
       "      <td>0</td>\n",
       "      <td>445,000</td>\n",
       "      <td>555,000</td>\n",
       "      <td>604,000</td>\n",
       "      <td>1,049,000</td>\n",
       "      <td>0</td>\n",
       "      <td>49,000</td>\n",
       "      <td>49,000</td>\n",
       "      <td>1,052,000</td>\n",
       "      <td>3,000</td>\n",
       "    </tr>\n",
       "    <tr>\n",
       "      <th>7</th>\n",
       "      <td>2023-01-11</td>\n",
       "      <td>005930</td>\n",
       "      <td>60,500</td>\n",
       "      <td>-10</td>\n",
       "      <td>-10</td>\n",
       "      <td>60,500</td>\n",
       "      <td>0</td>\n",
       "      <td>0.0000</td>\n",
       "      <td>0</td>\n",
       "      <td>0</td>\n",
       "      <td>0</td>\n",
       "      <td>605,000</td>\n",
       "      <td>1,050,000</td>\n",
       "      <td>0</td>\n",
       "      <td>0</td>\n",
       "      <td>1,050,000</td>\n",
       "      <td>50,000</td>\n",
       "      <td>0</td>\n",
       "      <td>50,000</td>\n",
       "      <td>1,052,000</td>\n",
       "      <td>2,000</td>\n",
       "    </tr>\n",
       "  </tbody>\n",
       "</table>\n",
       "</div>"
      ],
      "text/plain": [
       "        DATE  SYMBOL   PRICE  ORDER  QTY  TRADE_PRICE  POSITION   AVG_PRICE  \\\n",
       "0 2023-01-02  005930  55,500     10   10       55,500        10 55,500.0000   \n",
       "1 2023-01-03  005930  55,400      0    0            0        10 55,500.0000   \n",
       "2 2023-01-04  005930  57,800      0    0            0        10 55,500.0000   \n",
       "3 2023-01-05  005930  58,200      0    0            0        10 55,500.0000   \n",
       "4 2023-01-06  005930  59,000      0    0            0        10 55,500.0000   \n",
       "5 2023-01-09  005930  60,700      0    0            0        10 55,500.0000   \n",
       "6 2023-01-10  005930  60,400      0    0            0        10 55,500.0000   \n",
       "7 2023-01-11  005930  60,500    -10  -10       60,500         0      0.0000   \n",
       "\n",
       "   FEE  TRADE_TAX  SLIPPAGE  CASHFLOW       CASH  HIST_VALUE  STOCK_VALUE  \\\n",
       "0    0          0         0  -555,000    445,000     555,000      555,000   \n",
       "1    0          0         0         0    445,000     555,000      554,000   \n",
       "2    0          0         0         0    445,000     555,000      578,000   \n",
       "3    0          0         0         0    445,000     555,000      582,000   \n",
       "4    0          0         0         0    445,000     555,000      590,000   \n",
       "5    0          0         0         0    445,000     555,000      607,000   \n",
       "6    0          0         0         0    445,000     555,000      604,000   \n",
       "7    0          0         0   605,000  1,050,000           0            0   \n",
       "\n",
       "   TOTAL_VALUE  REAL_PROFIT  UNREAL_PROFIT  PROFIT  HIGHWATERMARK  DRAWDOWN  \n",
       "0    1,000,000            0              0       0      1,000,000         0  \n",
       "1      999,000            0         -1,000  -1,000      1,000,000     1,000  \n",
       "2    1,023,000            0         23,000  23,000      1,023,000         0  \n",
       "3    1,027,000            0         27,000  27,000      1,027,000         0  \n",
       "4    1,035,000            0         35,000  35,000      1,035,000         0  \n",
       "5    1,052,000            0         52,000  52,000      1,052,000         0  \n",
       "6    1,049,000            0         49,000  49,000      1,052,000     3,000  \n",
       "7    1,050,000       50,000              0  50,000      1,052,000     2,000  "
      ]
     },
     "execution_count": 4,
     "metadata": {},
     "output_type": "execute_result"
    }
   ],
   "source": [
    "df_result"
   ]
  },
  {
   "cell_type": "markdown",
   "id": "8a76d229",
   "metadata": {
    "papermill": {
     "duration": 0.00662,
     "end_time": "2023-08-21T07:49:52.302156",
     "exception": false,
     "start_time": "2023-08-21T07:49:52.295536",
     "status": "completed"
    },
    "tags": []
   },
   "source": [
    "위 백테스트 결과로부터 1월 2일 55,500원에 10주 매수하고 11일 60,500원에 전량 매도하여 50,000원의 수익을 얻었음을 알 수 있습니다."
   ]
  },
  {
   "cell_type": "code",
   "execution_count": 5,
   "id": "ed46511d",
   "metadata": {
    "execution": {
     "iopub.execute_input": "2023-08-21T07:49:52.318095Z",
     "iopub.status.busy": "2023-08-21T07:49:52.317815Z",
     "iopub.status.idle": "2023-08-21T07:49:52.322536Z",
     "shell.execute_reply": "2023-08-21T07:49:52.321685Z"
    },
    "papermill": {
     "duration": 0.015344,
     "end_time": "2023-08-21T07:49:52.324794",
     "exception": false,
     "start_time": "2023-08-21T07:49:52.309450",
     "status": "completed"
    },
    "tags": []
   },
   "outputs": [
    {
     "name": "stdout",
     "output_type": "stream",
     "text": [
      "매수가격: 55,500원, 매도가격: 60,500원, 수익: 50,000원\n"
     ]
    }
   ],
   "source": [
    "print(\n",
    "    f\"매수가격: {df_result.TRADE_PRICE.iloc[0]:,}원, \"\n",
    "    f\"매도가격: {df_result.TRADE_PRICE.iloc[-1]:,}원, \" \n",
    "    f\"수익: {df_result.PROFIT.iloc[-1]:,}원\"\n",
    ")"
   ]
  },
  {
   "cell_type": "markdown",
   "id": "820f7ba6",
   "metadata": {
    "papermill": {
     "duration": 0.007779,
     "end_time": "2023-08-21T07:49:52.340360",
     "exception": false,
     "start_time": "2023-08-21T07:49:52.332581",
     "status": "completed"
    },
    "tags": []
   },
   "source": [
    "## 5.4 백테스트 결과 시각화"
   ]
  },
  {
   "cell_type": "markdown",
   "id": "0078d4ab",
   "metadata": {
    "papermill": {
     "duration": 0.008923,
     "end_time": "2023-08-21T07:49:52.358693",
     "exception": false,
     "start_time": "2023-08-21T07:49:52.349770",
     "status": "completed"
    },
    "tags": []
   },
   "source": [
    "kquant 패키지는 백테스트 결과 시각화를 위한 `backtest_plot_stock_daily` 함수를 제공합니다. 인수로는 백테스트 결과 데이터프레임을 받습니다. "
   ]
  },
  {
   "cell_type": "code",
   "execution_count": 6,
   "id": "aa46f0b9",
   "metadata": {
    "execution": {
     "iopub.execute_input": "2023-08-21T07:49:52.414063Z",
     "iopub.status.busy": "2023-08-21T07:49:52.410148Z",
     "iopub.status.idle": "2023-08-21T07:49:52.617915Z",
     "shell.execute_reply": "2023-08-21T07:49:52.617349Z"
    },
    "papermill": {
     "duration": 0.240953,
     "end_time": "2023-08-21T07:49:52.619572",
     "exception": false,
     "start_time": "2023-08-21T07:49:52.378619",
     "status": "completed"
    },
    "tags": []
   },
   "outputs": [
    {
     "data": {
      "text/html": [
       "        <script type=\"text/javascript\">\n",
       "        window.PlotlyConfig = {MathJaxConfig: 'local'};\n",
       "        if (window.MathJax && window.MathJax.Hub && window.MathJax.Hub.Config) {window.MathJax.Hub.Config({SVG: {font: \"STIX-Web\"}});}\n",
       "        if (typeof require !== 'undefined') {\n",
       "        require.undef(\"plotly\");\n",
       "        requirejs.config({\n",
       "            paths: {\n",
       "                'plotly': ['https://cdn.plot.ly/plotly-2.25.2.min']\n",
       "            }\n",
       "        });\n",
       "        require(['plotly'], function(Plotly) {\n",
       "            window._Plotly = Plotly;\n",
       "        });\n",
       "        }\n",
       "        </script>\n",
       "        "
      ]
     },
     "metadata": {},
     "output_type": "display_data"
    },
    {
     "data": {
      "application/vnd.plotly.v1+json": {
       "config": {
        "displaylogo": false,
        "modeBarButtonsToRemove": [
         "resetScale2d",
         "lasso2d",
         "zoomIn2d",
         "zoomOut2d",
         "select2d"
        ],
        "plotlyServerURL": "https://plot.ly"
       },
       "data": [
        {
         "marker": {
          "color": "#000000"
         },
         "mode": "lines",
         "name": "가격",
         "type": "scatter",
         "x": [
          "2023-01-02T00:00:00",
          "2023-01-03T00:00:00",
          "2023-01-04T00:00:00",
          "2023-01-05T00:00:00",
          "2023-01-06T00:00:00",
          "2023-01-09T00:00:00",
          "2023-01-10T00:00:00",
          "2023-01-11T00:00:00"
         ],
         "xaxis": "x5",
         "y": [
          55500,
          55400,
          57800,
          58200,
          59000,
          60700,
          60400,
          60500
         ],
         "yaxis": "y"
        },
        {
         "marker": {
          "color": "#DC143C",
          "line": {
           "color": "white",
           "width": 1
          },
          "size": 12,
          "symbol": "triangle-up"
         },
         "mode": "markers",
         "name": "매수",
         "type": "scatter",
         "x": [
          "2023-01-02T00:00:00"
         ],
         "xaxis": "x5",
         "y": [
          55500
         ],
         "yaxis": "y"
        },
        {
         "marker": {
          "color": "#00008B",
          "line": {
           "color": "white",
           "width": 1
          },
          "size": 12,
          "symbol": "triangle-down"
         },
         "mode": "markers",
         "name": "매도",
         "type": "scatter",
         "x": [
          "2023-01-11T00:00:00"
         ],
         "xaxis": "x5",
         "y": [
          60500
         ],
         "yaxis": "y"
        },
        {
         "fill": "tozeroy",
         "fillcolor": "lightgray",
         "line": {
          "color": "#000000",
          "shape": "hv"
         },
         "mode": "lines",
         "name": "잔고수량",
         "type": "scatter",
         "x": [
          "2023-01-02T00:00:00",
          "2023-01-03T00:00:00",
          "2023-01-04T00:00:00",
          "2023-01-05T00:00:00",
          "2023-01-06T00:00:00",
          "2023-01-09T00:00:00",
          "2023-01-10T00:00:00",
          "2023-01-11T00:00:00"
         ],
         "xaxis": "x5",
         "y": [
          10,
          10,
          10,
          10,
          10,
          10,
          10,
          0
         ],
         "yaxis": "y2"
        },
        {
         "line": {
          "color": "#000000",
          "shape": "hv"
         },
         "mode": "lines",
         "name": "잔고가치",
         "type": "scatter",
         "x": [
          "2023-01-02T00:00:00",
          "2023-01-03T00:00:00",
          "2023-01-04T00:00:00",
          "2023-01-05T00:00:00",
          "2023-01-06T00:00:00",
          "2023-01-09T00:00:00",
          "2023-01-10T00:00:00",
          "2023-01-11T00:00:00"
         ],
         "xaxis": "x5",
         "y": [
          555000,
          554000,
          578000,
          582000,
          590000,
          607000,
          604000,
          null
         ],
         "yaxis": "y3"
        },
        {
         "cliponaxis": false,
         "marker": {
          "color": [
           "#00008B",
           "#00008B",
           "#00008B",
           "#00008B",
           "#00008B",
           "#00008B",
           "#00008B",
           "#DC143C"
          ]
         },
         "name": "실현손익",
         "text": [
          "",
          "",
          "",
          "",
          "",
          "",
          "",
          "50,000"
         ],
         "textposition": "outside",
         "type": "bar",
         "width": 432000000,
         "x": [
          "2023-01-02T00:00:00",
          "2023-01-03T00:00:00",
          "2023-01-04T00:00:00",
          "2023-01-05T00:00:00",
          "2023-01-06T00:00:00",
          "2023-01-09T00:00:00",
          "2023-01-10T00:00:00",
          "2023-01-11T00:00:00"
         ],
         "xaxis": "x5",
         "y": [
          0,
          0,
          0,
          0,
          0,
          0,
          0,
          50000
         ],
         "yaxis": "y4"
        },
        {
         "line": {
          "color": "#000000",
          "shape": "hv"
         },
         "mode": "lines",
         "name": "총자산가치",
         "type": "scatter",
         "x": [
          "2023-01-02T00:00:00",
          "2023-01-03T00:00:00",
          "2023-01-04T00:00:00",
          "2023-01-05T00:00:00",
          "2023-01-06T00:00:00",
          "2023-01-09T00:00:00",
          "2023-01-10T00:00:00",
          "2023-01-11T00:00:00"
         ],
         "xaxis": "x5",
         "y": [
          1000000,
          999000,
          1023000,
          1027000,
          1035000,
          1052000,
          1049000,
          1050000
         ],
         "yaxis": "y5"
        },
        {
         "line": {
          "color": "#DC143C",
          "dash": "dash",
          "shape": "hv"
         },
         "mode": "lines",
         "name": "최고자산가치",
         "type": "scatter",
         "x": [
          "2023-01-02T00:00:00",
          "2023-01-03T00:00:00",
          "2023-01-04T00:00:00",
          "2023-01-05T00:00:00",
          "2023-01-06T00:00:00",
          "2023-01-09T00:00:00",
          "2023-01-10T00:00:00",
          "2023-01-11T00:00:00"
         ],
         "xaxis": "x5",
         "y": [
          1000000,
          1000000,
          1023000,
          1027000,
          1035000,
          1052000,
          1052000,
          1052000
         ],
         "yaxis": "y5"
        },
        {
         "base": [
          1000000
         ],
         "cliponaxis": false,
         "marker": {
          "color": [
           "#DC143C"
          ]
         },
         "name": "최종손익",
         "text": [
          "최종수익: 50,000"
         ],
         "textposition": "outside",
         "type": "bar",
         "width": 864000000,
         "x": [
          "2023-01-11T00:00:00"
         ],
         "xaxis": "x5",
         "y": [
          50000
         ],
         "yaxis": "y5"
        },
        {
         "cliponaxis": false,
         "marker": {
          "color": [
           "#DC143C",
           "#00008B"
          ],
          "line": {
           "color": "white",
           "width": 1
          },
          "size": 12,
          "symbol": [
           "triangle-up",
           "triangle-down"
          ]
         },
         "mode": "markers+text",
         "name": "",
         "text": [
          "최고자산가치: 1,052,000",
          "MDD: -3,000"
         ],
         "textposition": [
          "top center",
          "bottom center"
         ],
         "type": "scatter",
         "x": [
          "2023-01-09T00:00:00",
          "2023-01-10T00:00:00"
         ],
         "xaxis": "x5",
         "y": [
          1052000,
          1049000
         ],
         "yaxis": "y5"
        }
       ],
       "layout": {
        "annotations": [
         {
          "font": {
           "size": 16
          },
          "showarrow": false,
          "text": "가격",
          "x": 0.5,
          "xanchor": "center",
          "xref": "paper",
          "y": 1,
          "yanchor": "bottom",
          "yref": "paper"
         },
         {
          "font": {
           "size": 16
          },
          "showarrow": false,
          "text": "잔고수량",
          "x": 0.5,
          "xanchor": "center",
          "xref": "paper",
          "y": 0.79,
          "yanchor": "bottom",
          "yref": "paper"
         },
         {
          "font": {
           "size": 16
          },
          "showarrow": false,
          "text": "잔고가치",
          "x": 0.5,
          "xanchor": "center",
          "xref": "paper",
          "y": 0.66,
          "yanchor": "bottom",
          "yref": "paper"
         },
         {
          "font": {
           "size": 16
          },
          "showarrow": false,
          "text": "실현손익",
          "x": 0.5,
          "xanchor": "center",
          "xref": "paper",
          "y": 0.45,
          "yanchor": "bottom",
          "yref": "paper"
         },
         {
          "font": {
           "size": 16
          },
          "showarrow": false,
          "text": "총자산가치",
          "x": 0.5,
          "xanchor": "center",
          "xref": "paper",
          "y": 0.24,
          "yanchor": "bottom",
          "yref": "paper"
         }
        ],
        "height": 800,
        "hovermode": "x unified",
        "margin": {
         "b": 25,
         "l": 25,
         "r": 25,
         "t": 80
        },
        "showlegend": false,
        "template": {
         "data": {
          "bar": [
           {
            "error_x": {
             "color": "#2a3f5f"
            },
            "error_y": {
             "color": "#2a3f5f"
            },
            "marker": {
             "line": {
              "color": "#E5ECF6",
              "width": 0.5
             },
             "pattern": {
              "fillmode": "overlay",
              "size": 10,
              "solidity": 0.2
             }
            },
            "type": "bar"
           }
          ],
          "barpolar": [
           {
            "marker": {
             "line": {
              "color": "#E5ECF6",
              "width": 0.5
             },
             "pattern": {
              "fillmode": "overlay",
              "size": 10,
              "solidity": 0.2
             }
            },
            "type": "barpolar"
           }
          ],
          "carpet": [
           {
            "aaxis": {
             "endlinecolor": "#2a3f5f",
             "gridcolor": "white",
             "linecolor": "white",
             "minorgridcolor": "white",
             "startlinecolor": "#2a3f5f"
            },
            "baxis": {
             "endlinecolor": "#2a3f5f",
             "gridcolor": "white",
             "linecolor": "white",
             "minorgridcolor": "white",
             "startlinecolor": "#2a3f5f"
            },
            "type": "carpet"
           }
          ],
          "choropleth": [
           {
            "colorbar": {
             "outlinewidth": 0,
             "ticks": ""
            },
            "type": "choropleth"
           }
          ],
          "contour": [
           {
            "colorbar": {
             "outlinewidth": 0,
             "ticks": ""
            },
            "colorscale": [
             [
              0,
              "#0d0887"
             ],
             [
              0.1111111111111111,
              "#46039f"
             ],
             [
              0.2222222222222222,
              "#7201a8"
             ],
             [
              0.3333333333333333,
              "#9c179e"
             ],
             [
              0.4444444444444444,
              "#bd3786"
             ],
             [
              0.5555555555555556,
              "#d8576b"
             ],
             [
              0.6666666666666666,
              "#ed7953"
             ],
             [
              0.7777777777777778,
              "#fb9f3a"
             ],
             [
              0.8888888888888888,
              "#fdca26"
             ],
             [
              1,
              "#f0f921"
             ]
            ],
            "type": "contour"
           }
          ],
          "contourcarpet": [
           {
            "colorbar": {
             "outlinewidth": 0,
             "ticks": ""
            },
            "type": "contourcarpet"
           }
          ],
          "heatmap": [
           {
            "colorbar": {
             "outlinewidth": 0,
             "ticks": ""
            },
            "colorscale": [
             [
              0,
              "#0d0887"
             ],
             [
              0.1111111111111111,
              "#46039f"
             ],
             [
              0.2222222222222222,
              "#7201a8"
             ],
             [
              0.3333333333333333,
              "#9c179e"
             ],
             [
              0.4444444444444444,
              "#bd3786"
             ],
             [
              0.5555555555555556,
              "#d8576b"
             ],
             [
              0.6666666666666666,
              "#ed7953"
             ],
             [
              0.7777777777777778,
              "#fb9f3a"
             ],
             [
              0.8888888888888888,
              "#fdca26"
             ],
             [
              1,
              "#f0f921"
             ]
            ],
            "type": "heatmap"
           }
          ],
          "heatmapgl": [
           {
            "colorbar": {
             "outlinewidth": 0,
             "ticks": ""
            },
            "colorscale": [
             [
              0,
              "#0d0887"
             ],
             [
              0.1111111111111111,
              "#46039f"
             ],
             [
              0.2222222222222222,
              "#7201a8"
             ],
             [
              0.3333333333333333,
              "#9c179e"
             ],
             [
              0.4444444444444444,
              "#bd3786"
             ],
             [
              0.5555555555555556,
              "#d8576b"
             ],
             [
              0.6666666666666666,
              "#ed7953"
             ],
             [
              0.7777777777777778,
              "#fb9f3a"
             ],
             [
              0.8888888888888888,
              "#fdca26"
             ],
             [
              1,
              "#f0f921"
             ]
            ],
            "type": "heatmapgl"
           }
          ],
          "histogram": [
           {
            "marker": {
             "pattern": {
              "fillmode": "overlay",
              "size": 10,
              "solidity": 0.2
             }
            },
            "type": "histogram"
           }
          ],
          "histogram2d": [
           {
            "colorbar": {
             "outlinewidth": 0,
             "ticks": ""
            },
            "colorscale": [
             [
              0,
              "#0d0887"
             ],
             [
              0.1111111111111111,
              "#46039f"
             ],
             [
              0.2222222222222222,
              "#7201a8"
             ],
             [
              0.3333333333333333,
              "#9c179e"
             ],
             [
              0.4444444444444444,
              "#bd3786"
             ],
             [
              0.5555555555555556,
              "#d8576b"
             ],
             [
              0.6666666666666666,
              "#ed7953"
             ],
             [
              0.7777777777777778,
              "#fb9f3a"
             ],
             [
              0.8888888888888888,
              "#fdca26"
             ],
             [
              1,
              "#f0f921"
             ]
            ],
            "type": "histogram2d"
           }
          ],
          "histogram2dcontour": [
           {
            "colorbar": {
             "outlinewidth": 0,
             "ticks": ""
            },
            "colorscale": [
             [
              0,
              "#0d0887"
             ],
             [
              0.1111111111111111,
              "#46039f"
             ],
             [
              0.2222222222222222,
              "#7201a8"
             ],
             [
              0.3333333333333333,
              "#9c179e"
             ],
             [
              0.4444444444444444,
              "#bd3786"
             ],
             [
              0.5555555555555556,
              "#d8576b"
             ],
             [
              0.6666666666666666,
              "#ed7953"
             ],
             [
              0.7777777777777778,
              "#fb9f3a"
             ],
             [
              0.8888888888888888,
              "#fdca26"
             ],
             [
              1,
              "#f0f921"
             ]
            ],
            "type": "histogram2dcontour"
           }
          ],
          "mesh3d": [
           {
            "colorbar": {
             "outlinewidth": 0,
             "ticks": ""
            },
            "type": "mesh3d"
           }
          ],
          "parcoords": [
           {
            "line": {
             "colorbar": {
              "outlinewidth": 0,
              "ticks": ""
             }
            },
            "type": "parcoords"
           }
          ],
          "pie": [
           {
            "automargin": true,
            "type": "pie"
           }
          ],
          "scatter": [
           {
            "fillpattern": {
             "fillmode": "overlay",
             "size": 10,
             "solidity": 0.2
            },
            "type": "scatter"
           }
          ],
          "scatter3d": [
           {
            "line": {
             "colorbar": {
              "outlinewidth": 0,
              "ticks": ""
             }
            },
            "marker": {
             "colorbar": {
              "outlinewidth": 0,
              "ticks": ""
             }
            },
            "type": "scatter3d"
           }
          ],
          "scattercarpet": [
           {
            "marker": {
             "colorbar": {
              "outlinewidth": 0,
              "ticks": ""
             }
            },
            "type": "scattercarpet"
           }
          ],
          "scattergeo": [
           {
            "marker": {
             "colorbar": {
              "outlinewidth": 0,
              "ticks": ""
             }
            },
            "type": "scattergeo"
           }
          ],
          "scattergl": [
           {
            "marker": {
             "colorbar": {
              "outlinewidth": 0,
              "ticks": ""
             }
            },
            "type": "scattergl"
           }
          ],
          "scattermapbox": [
           {
            "marker": {
             "colorbar": {
              "outlinewidth": 0,
              "ticks": ""
             }
            },
            "type": "scattermapbox"
           }
          ],
          "scatterpolar": [
           {
            "marker": {
             "colorbar": {
              "outlinewidth": 0,
              "ticks": ""
             }
            },
            "type": "scatterpolar"
           }
          ],
          "scatterpolargl": [
           {
            "marker": {
             "colorbar": {
              "outlinewidth": 0,
              "ticks": ""
             }
            },
            "type": "scatterpolargl"
           }
          ],
          "scatterternary": [
           {
            "marker": {
             "colorbar": {
              "outlinewidth": 0,
              "ticks": ""
             }
            },
            "type": "scatterternary"
           }
          ],
          "surface": [
           {
            "colorbar": {
             "outlinewidth": 0,
             "ticks": ""
            },
            "colorscale": [
             [
              0,
              "#0d0887"
             ],
             [
              0.1111111111111111,
              "#46039f"
             ],
             [
              0.2222222222222222,
              "#7201a8"
             ],
             [
              0.3333333333333333,
              "#9c179e"
             ],
             [
              0.4444444444444444,
              "#bd3786"
             ],
             [
              0.5555555555555556,
              "#d8576b"
             ],
             [
              0.6666666666666666,
              "#ed7953"
             ],
             [
              0.7777777777777778,
              "#fb9f3a"
             ],
             [
              0.8888888888888888,
              "#fdca26"
             ],
             [
              1,
              "#f0f921"
             ]
            ],
            "type": "surface"
           }
          ],
          "table": [
           {
            "cells": {
             "fill": {
              "color": "#EBF0F8"
             },
             "line": {
              "color": "white"
             }
            },
            "header": {
             "fill": {
              "color": "#C8D4E3"
             },
             "line": {
              "color": "white"
             }
            },
            "type": "table"
           }
          ]
         },
         "layout": {
          "annotationdefaults": {
           "arrowcolor": "#2a3f5f",
           "arrowhead": 0,
           "arrowwidth": 1
          },
          "autotypenumbers": "strict",
          "coloraxis": {
           "colorbar": {
            "outlinewidth": 0,
            "ticks": ""
           }
          },
          "colorscale": {
           "diverging": [
            [
             0,
             "#8e0152"
            ],
            [
             0.1,
             "#c51b7d"
            ],
            [
             0.2,
             "#de77ae"
            ],
            [
             0.3,
             "#f1b6da"
            ],
            [
             0.4,
             "#fde0ef"
            ],
            [
             0.5,
             "#f7f7f7"
            ],
            [
             0.6,
             "#e6f5d0"
            ],
            [
             0.7,
             "#b8e186"
            ],
            [
             0.8,
             "#7fbc41"
            ],
            [
             0.9,
             "#4d9221"
            ],
            [
             1,
             "#276419"
            ]
           ],
           "sequential": [
            [
             0,
             "#0d0887"
            ],
            [
             0.1111111111111111,
             "#46039f"
            ],
            [
             0.2222222222222222,
             "#7201a8"
            ],
            [
             0.3333333333333333,
             "#9c179e"
            ],
            [
             0.4444444444444444,
             "#bd3786"
            ],
            [
             0.5555555555555556,
             "#d8576b"
            ],
            [
             0.6666666666666666,
             "#ed7953"
            ],
            [
             0.7777777777777778,
             "#fb9f3a"
            ],
            [
             0.8888888888888888,
             "#fdca26"
            ],
            [
             1,
             "#f0f921"
            ]
           ],
           "sequentialminus": [
            [
             0,
             "#0d0887"
            ],
            [
             0.1111111111111111,
             "#46039f"
            ],
            [
             0.2222222222222222,
             "#7201a8"
            ],
            [
             0.3333333333333333,
             "#9c179e"
            ],
            [
             0.4444444444444444,
             "#bd3786"
            ],
            [
             0.5555555555555556,
             "#d8576b"
            ],
            [
             0.6666666666666666,
             "#ed7953"
            ],
            [
             0.7777777777777778,
             "#fb9f3a"
            ],
            [
             0.8888888888888888,
             "#fdca26"
            ],
            [
             1,
             "#f0f921"
            ]
           ]
          },
          "colorway": [
           "#636efa",
           "#EF553B",
           "#00cc96",
           "#ab63fa",
           "#FFA15A",
           "#19d3f3",
           "#FF6692",
           "#B6E880",
           "#FF97FF",
           "#FECB52"
          ],
          "font": {
           "color": "#2a3f5f"
          },
          "geo": {
           "bgcolor": "white",
           "lakecolor": "white",
           "landcolor": "#E5ECF6",
           "showlakes": true,
           "showland": true,
           "subunitcolor": "white"
          },
          "hoverlabel": {
           "align": "left"
          },
          "hovermode": "closest",
          "mapbox": {
           "style": "light"
          },
          "paper_bgcolor": "white",
          "plot_bgcolor": "#E5ECF6",
          "polar": {
           "angularaxis": {
            "gridcolor": "white",
            "linecolor": "white",
            "ticks": ""
           },
           "bgcolor": "#E5ECF6",
           "radialaxis": {
            "gridcolor": "white",
            "linecolor": "white",
            "ticks": ""
           }
          },
          "scene": {
           "xaxis": {
            "backgroundcolor": "#E5ECF6",
            "gridcolor": "white",
            "gridwidth": 2,
            "linecolor": "white",
            "showbackground": true,
            "ticks": "",
            "zerolinecolor": "white"
           },
           "yaxis": {
            "backgroundcolor": "#E5ECF6",
            "gridcolor": "white",
            "gridwidth": 2,
            "linecolor": "white",
            "showbackground": true,
            "ticks": "",
            "zerolinecolor": "white"
           },
           "zaxis": {
            "backgroundcolor": "#E5ECF6",
            "gridcolor": "white",
            "gridwidth": 2,
            "linecolor": "white",
            "showbackground": true,
            "ticks": "",
            "zerolinecolor": "white"
           }
          },
          "shapedefaults": {
           "line": {
            "color": "#2a3f5f"
           }
          },
          "ternary": {
           "aaxis": {
            "gridcolor": "white",
            "linecolor": "white",
            "ticks": ""
           },
           "baxis": {
            "gridcolor": "white",
            "linecolor": "white",
            "ticks": ""
           },
           "bgcolor": "#E5ECF6",
           "caxis": {
            "gridcolor": "white",
            "linecolor": "white",
            "ticks": ""
           }
          },
          "title": {
           "x": 0.05
          },
          "xaxis": {
           "automargin": true,
           "gridcolor": "white",
           "linecolor": "white",
           "ticks": "",
           "title": {
            "standoff": 15
           },
           "zerolinecolor": "white",
           "zerolinewidth": 2
          },
          "yaxis": {
           "automargin": true,
           "gridcolor": "white",
           "linecolor": "white",
           "ticks": "",
           "title": {
            "standoff": 15
           },
           "zerolinecolor": "white",
           "zerolinewidth": 2
          }
         }
        },
        "title": {
         "text": "백테스트 결과: 005930, 2023-01-02~2023-01-11",
         "x": 0.5,
         "y": 0.98
        },
        "uniformtext": {
         "minsize": 12,
         "mode": "show"
        },
        "xaxis": {
         "anchor": "y",
         "domain": [
          0,
          1
         ],
         "matches": "x5",
         "showticklabels": false
        },
        "xaxis2": {
         "anchor": "y2",
         "domain": [
          0,
          1
         ],
         "matches": "x5",
         "showticklabels": false
        },
        "xaxis3": {
         "anchor": "y3",
         "domain": [
          0,
          1
         ],
         "matches": "x5",
         "showticklabels": false
        },
        "xaxis4": {
         "anchor": "y4",
         "domain": [
          0,
          1
         ],
         "matches": "x5",
         "showticklabels": false
        },
        "xaxis5": {
         "anchor": "y5",
         "domain": [
          0,
          1
         ],
         "hoverformat": "%Y-%m-%d",
         "showticklabels": true,
         "tickformat": "%Y-%m-%d"
        },
        "yaxis": {
         "anchor": "x",
         "domain": [
          0.8400000000000001,
          1
         ],
         "tickformat": ",d"
        },
        "yaxis2": {
         "anchor": "x2",
         "domain": [
          0.7100000000000001,
          0.79
         ],
         "dtick": "L1"
        },
        "yaxis3": {
         "anchor": "x3",
         "domain": [
          0.5,
          0.66
         ],
         "tickformat": ",d"
        },
        "yaxis4": {
         "anchor": "x4",
         "domain": [
          0.29,
          0.45
         ],
         "tickformat": ",d"
        },
        "yaxis5": {
         "anchor": "x5",
         "domain": [
          0,
          0.24
         ],
         "tickformat": ",d"
        }
       }
      },
      "text/html": [
       "<div>                            <div id=\"25f31f0c-c915-4c66-bc5f-5fcbc53f1b3e\" class=\"plotly-graph-div\" style=\"height:800px; width:100%;\"></div>            <script type=\"text/javascript\">                require([\"plotly\"], function(Plotly) {                    window.PLOTLYENV=window.PLOTLYENV || {};                                    if (document.getElementById(\"25f31f0c-c915-4c66-bc5f-5fcbc53f1b3e\")) {                    Plotly.newPlot(                        \"25f31f0c-c915-4c66-bc5f-5fcbc53f1b3e\",                        [{\"marker\":{\"color\":\"#000000\"},\"mode\":\"lines\",\"name\":\"\\uac00\\uaca9\",\"x\":[\"2023-01-02T00:00:00\",\"2023-01-03T00:00:00\",\"2023-01-04T00:00:00\",\"2023-01-05T00:00:00\",\"2023-01-06T00:00:00\",\"2023-01-09T00:00:00\",\"2023-01-10T00:00:00\",\"2023-01-11T00:00:00\"],\"y\":[55500,55400,57800,58200,59000,60700,60400,60500],\"type\":\"scatter\",\"xaxis\":\"x5\",\"yaxis\":\"y\"},{\"marker\":{\"color\":\"#DC143C\",\"line\":{\"color\":\"white\",\"width\":1},\"size\":12,\"symbol\":\"triangle-up\"},\"mode\":\"markers\",\"name\":\"\\ub9e4\\uc218\",\"x\":[\"2023-01-02T00:00:00\"],\"y\":[55500],\"type\":\"scatter\",\"xaxis\":\"x5\",\"yaxis\":\"y\"},{\"marker\":{\"color\":\"#00008B\",\"line\":{\"color\":\"white\",\"width\":1},\"size\":12,\"symbol\":\"triangle-down\"},\"mode\":\"markers\",\"name\":\"\\ub9e4\\ub3c4\",\"x\":[\"2023-01-11T00:00:00\"],\"y\":[60500],\"type\":\"scatter\",\"xaxis\":\"x5\",\"yaxis\":\"y\"},{\"fill\":\"tozeroy\",\"fillcolor\":\"lightgray\",\"line\":{\"color\":\"#000000\",\"shape\":\"hv\"},\"mode\":\"lines\",\"name\":\"\\uc794\\uace0\\uc218\\ub7c9\",\"x\":[\"2023-01-02T00:00:00\",\"2023-01-03T00:00:00\",\"2023-01-04T00:00:00\",\"2023-01-05T00:00:00\",\"2023-01-06T00:00:00\",\"2023-01-09T00:00:00\",\"2023-01-10T00:00:00\",\"2023-01-11T00:00:00\"],\"y\":[10,10,10,10,10,10,10,0],\"type\":\"scatter\",\"xaxis\":\"x5\",\"yaxis\":\"y2\"},{\"line\":{\"color\":\"#000000\",\"shape\":\"hv\"},\"mode\":\"lines\",\"name\":\"\\uc794\\uace0\\uac00\\uce58\",\"x\":[\"2023-01-02T00:00:00\",\"2023-01-03T00:00:00\",\"2023-01-04T00:00:00\",\"2023-01-05T00:00:00\",\"2023-01-06T00:00:00\",\"2023-01-09T00:00:00\",\"2023-01-10T00:00:00\",\"2023-01-11T00:00:00\"],\"y\":[555000.0,554000.0,578000.0,582000.0,590000.0,607000.0,604000.0,null],\"type\":\"scatter\",\"xaxis\":\"x5\",\"yaxis\":\"y3\"},{\"cliponaxis\":false,\"marker\":{\"color\":[\"#00008B\",\"#00008B\",\"#00008B\",\"#00008B\",\"#00008B\",\"#00008B\",\"#00008B\",\"#DC143C\"]},\"name\":\"\\uc2e4\\ud604\\uc190\\uc775\",\"text\":[\"\",\"\",\"\",\"\",\"\",\"\",\"\",\"50,000\"],\"textposition\":\"outside\",\"width\":432000000,\"x\":[\"2023-01-02T00:00:00\",\"2023-01-03T00:00:00\",\"2023-01-04T00:00:00\",\"2023-01-05T00:00:00\",\"2023-01-06T00:00:00\",\"2023-01-09T00:00:00\",\"2023-01-10T00:00:00\",\"2023-01-11T00:00:00\"],\"y\":[0,0,0,0,0,0,0,50000],\"type\":\"bar\",\"xaxis\":\"x5\",\"yaxis\":\"y4\"},{\"line\":{\"color\":\"#000000\",\"shape\":\"hv\"},\"mode\":\"lines\",\"name\":\"\\ucd1d\\uc790\\uc0b0\\uac00\\uce58\",\"x\":[\"2023-01-02T00:00:00\",\"2023-01-03T00:00:00\",\"2023-01-04T00:00:00\",\"2023-01-05T00:00:00\",\"2023-01-06T00:00:00\",\"2023-01-09T00:00:00\",\"2023-01-10T00:00:00\",\"2023-01-11T00:00:00\"],\"y\":[1000000,999000,1023000,1027000,1035000,1052000,1049000,1050000],\"type\":\"scatter\",\"xaxis\":\"x5\",\"yaxis\":\"y5\"},{\"line\":{\"color\":\"#DC143C\",\"dash\":\"dash\",\"shape\":\"hv\"},\"mode\":\"lines\",\"name\":\"\\ucd5c\\uace0\\uc790\\uc0b0\\uac00\\uce58\",\"x\":[\"2023-01-02T00:00:00\",\"2023-01-03T00:00:00\",\"2023-01-04T00:00:00\",\"2023-01-05T00:00:00\",\"2023-01-06T00:00:00\",\"2023-01-09T00:00:00\",\"2023-01-10T00:00:00\",\"2023-01-11T00:00:00\"],\"y\":[1000000,1000000,1023000,1027000,1035000,1052000,1052000,1052000],\"type\":\"scatter\",\"xaxis\":\"x5\",\"yaxis\":\"y5\"},{\"base\":[1000000],\"cliponaxis\":false,\"marker\":{\"color\":[\"#DC143C\"]},\"name\":\"\\ucd5c\\uc885\\uc190\\uc775\",\"text\":[\"\\ucd5c\\uc885\\uc218\\uc775: 50,000\"],\"textposition\":\"outside\",\"width\":864000000,\"x\":[\"2023-01-11T00:00:00\"],\"y\":[50000],\"type\":\"bar\",\"xaxis\":\"x5\",\"yaxis\":\"y5\"},{\"cliponaxis\":false,\"marker\":{\"color\":[\"#DC143C\",\"#00008B\"],\"line\":{\"color\":\"white\",\"width\":1},\"size\":12,\"symbol\":[\"triangle-up\",\"triangle-down\"]},\"mode\":\"markers+text\",\"name\":\"\",\"text\":[\"\\ucd5c\\uace0\\uc790\\uc0b0\\uac00\\uce58: 1,052,000\",\"MDD: -3,000\"],\"textposition\":[\"top center\",\"bottom center\"],\"x\":[\"2023-01-09T00:00:00\",\"2023-01-10T00:00:00\"],\"y\":[1052000,1049000],\"type\":\"scatter\",\"xaxis\":\"x5\",\"yaxis\":\"y5\"}],                        {\"template\":{\"data\":{\"histogram2dcontour\":[{\"type\":\"histogram2dcontour\",\"colorbar\":{\"outlinewidth\":0,\"ticks\":\"\"},\"colorscale\":[[0.0,\"#0d0887\"],[0.1111111111111111,\"#46039f\"],[0.2222222222222222,\"#7201a8\"],[0.3333333333333333,\"#9c179e\"],[0.4444444444444444,\"#bd3786\"],[0.5555555555555556,\"#d8576b\"],[0.6666666666666666,\"#ed7953\"],[0.7777777777777778,\"#fb9f3a\"],[0.8888888888888888,\"#fdca26\"],[1.0,\"#f0f921\"]]}],\"choropleth\":[{\"type\":\"choropleth\",\"colorbar\":{\"outlinewidth\":0,\"ticks\":\"\"}}],\"histogram2d\":[{\"type\":\"histogram2d\",\"colorbar\":{\"outlinewidth\":0,\"ticks\":\"\"},\"colorscale\":[[0.0,\"#0d0887\"],[0.1111111111111111,\"#46039f\"],[0.2222222222222222,\"#7201a8\"],[0.3333333333333333,\"#9c179e\"],[0.4444444444444444,\"#bd3786\"],[0.5555555555555556,\"#d8576b\"],[0.6666666666666666,\"#ed7953\"],[0.7777777777777778,\"#fb9f3a\"],[0.8888888888888888,\"#fdca26\"],[1.0,\"#f0f921\"]]}],\"heatmap\":[{\"type\":\"heatmap\",\"colorbar\":{\"outlinewidth\":0,\"ticks\":\"\"},\"colorscale\":[[0.0,\"#0d0887\"],[0.1111111111111111,\"#46039f\"],[0.2222222222222222,\"#7201a8\"],[0.3333333333333333,\"#9c179e\"],[0.4444444444444444,\"#bd3786\"],[0.5555555555555556,\"#d8576b\"],[0.6666666666666666,\"#ed7953\"],[0.7777777777777778,\"#fb9f3a\"],[0.8888888888888888,\"#fdca26\"],[1.0,\"#f0f921\"]]}],\"heatmapgl\":[{\"type\":\"heatmapgl\",\"colorbar\":{\"outlinewidth\":0,\"ticks\":\"\"},\"colorscale\":[[0.0,\"#0d0887\"],[0.1111111111111111,\"#46039f\"],[0.2222222222222222,\"#7201a8\"],[0.3333333333333333,\"#9c179e\"],[0.4444444444444444,\"#bd3786\"],[0.5555555555555556,\"#d8576b\"],[0.6666666666666666,\"#ed7953\"],[0.7777777777777778,\"#fb9f3a\"],[0.8888888888888888,\"#fdca26\"],[1.0,\"#f0f921\"]]}],\"contourcarpet\":[{\"type\":\"contourcarpet\",\"colorbar\":{\"outlinewidth\":0,\"ticks\":\"\"}}],\"contour\":[{\"type\":\"contour\",\"colorbar\":{\"outlinewidth\":0,\"ticks\":\"\"},\"colorscale\":[[0.0,\"#0d0887\"],[0.1111111111111111,\"#46039f\"],[0.2222222222222222,\"#7201a8\"],[0.3333333333333333,\"#9c179e\"],[0.4444444444444444,\"#bd3786\"],[0.5555555555555556,\"#d8576b\"],[0.6666666666666666,\"#ed7953\"],[0.7777777777777778,\"#fb9f3a\"],[0.8888888888888888,\"#fdca26\"],[1.0,\"#f0f921\"]]}],\"surface\":[{\"type\":\"surface\",\"colorbar\":{\"outlinewidth\":0,\"ticks\":\"\"},\"colorscale\":[[0.0,\"#0d0887\"],[0.1111111111111111,\"#46039f\"],[0.2222222222222222,\"#7201a8\"],[0.3333333333333333,\"#9c179e\"],[0.4444444444444444,\"#bd3786\"],[0.5555555555555556,\"#d8576b\"],[0.6666666666666666,\"#ed7953\"],[0.7777777777777778,\"#fb9f3a\"],[0.8888888888888888,\"#fdca26\"],[1.0,\"#f0f921\"]]}],\"mesh3d\":[{\"type\":\"mesh3d\",\"colorbar\":{\"outlinewidth\":0,\"ticks\":\"\"}}],\"scatter\":[{\"fillpattern\":{\"fillmode\":\"overlay\",\"size\":10,\"solidity\":0.2},\"type\":\"scatter\"}],\"parcoords\":[{\"type\":\"parcoords\",\"line\":{\"colorbar\":{\"outlinewidth\":0,\"ticks\":\"\"}}}],\"scatterpolargl\":[{\"type\":\"scatterpolargl\",\"marker\":{\"colorbar\":{\"outlinewidth\":0,\"ticks\":\"\"}}}],\"bar\":[{\"error_x\":{\"color\":\"#2a3f5f\"},\"error_y\":{\"color\":\"#2a3f5f\"},\"marker\":{\"line\":{\"color\":\"#E5ECF6\",\"width\":0.5},\"pattern\":{\"fillmode\":\"overlay\",\"size\":10,\"solidity\":0.2}},\"type\":\"bar\"}],\"scattergeo\":[{\"type\":\"scattergeo\",\"marker\":{\"colorbar\":{\"outlinewidth\":0,\"ticks\":\"\"}}}],\"scatterpolar\":[{\"type\":\"scatterpolar\",\"marker\":{\"colorbar\":{\"outlinewidth\":0,\"ticks\":\"\"}}}],\"histogram\":[{\"marker\":{\"pattern\":{\"fillmode\":\"overlay\",\"size\":10,\"solidity\":0.2}},\"type\":\"histogram\"}],\"scattergl\":[{\"type\":\"scattergl\",\"marker\":{\"colorbar\":{\"outlinewidth\":0,\"ticks\":\"\"}}}],\"scatter3d\":[{\"type\":\"scatter3d\",\"line\":{\"colorbar\":{\"outlinewidth\":0,\"ticks\":\"\"}},\"marker\":{\"colorbar\":{\"outlinewidth\":0,\"ticks\":\"\"}}}],\"scattermapbox\":[{\"type\":\"scattermapbox\",\"marker\":{\"colorbar\":{\"outlinewidth\":0,\"ticks\":\"\"}}}],\"scatterternary\":[{\"type\":\"scatterternary\",\"marker\":{\"colorbar\":{\"outlinewidth\":0,\"ticks\":\"\"}}}],\"scattercarpet\":[{\"type\":\"scattercarpet\",\"marker\":{\"colorbar\":{\"outlinewidth\":0,\"ticks\":\"\"}}}],\"carpet\":[{\"aaxis\":{\"endlinecolor\":\"#2a3f5f\",\"gridcolor\":\"white\",\"linecolor\":\"white\",\"minorgridcolor\":\"white\",\"startlinecolor\":\"#2a3f5f\"},\"baxis\":{\"endlinecolor\":\"#2a3f5f\",\"gridcolor\":\"white\",\"linecolor\":\"white\",\"minorgridcolor\":\"white\",\"startlinecolor\":\"#2a3f5f\"},\"type\":\"carpet\"}],\"table\":[{\"cells\":{\"fill\":{\"color\":\"#EBF0F8\"},\"line\":{\"color\":\"white\"}},\"header\":{\"fill\":{\"color\":\"#C8D4E3\"},\"line\":{\"color\":\"white\"}},\"type\":\"table\"}],\"barpolar\":[{\"marker\":{\"line\":{\"color\":\"#E5ECF6\",\"width\":0.5},\"pattern\":{\"fillmode\":\"overlay\",\"size\":10,\"solidity\":0.2}},\"type\":\"barpolar\"}],\"pie\":[{\"automargin\":true,\"type\":\"pie\"}]},\"layout\":{\"autotypenumbers\":\"strict\",\"colorway\":[\"#636efa\",\"#EF553B\",\"#00cc96\",\"#ab63fa\",\"#FFA15A\",\"#19d3f3\",\"#FF6692\",\"#B6E880\",\"#FF97FF\",\"#FECB52\"],\"font\":{\"color\":\"#2a3f5f\"},\"hovermode\":\"closest\",\"hoverlabel\":{\"align\":\"left\"},\"paper_bgcolor\":\"white\",\"plot_bgcolor\":\"#E5ECF6\",\"polar\":{\"bgcolor\":\"#E5ECF6\",\"angularaxis\":{\"gridcolor\":\"white\",\"linecolor\":\"white\",\"ticks\":\"\"},\"radialaxis\":{\"gridcolor\":\"white\",\"linecolor\":\"white\",\"ticks\":\"\"}},\"ternary\":{\"bgcolor\":\"#E5ECF6\",\"aaxis\":{\"gridcolor\":\"white\",\"linecolor\":\"white\",\"ticks\":\"\"},\"baxis\":{\"gridcolor\":\"white\",\"linecolor\":\"white\",\"ticks\":\"\"},\"caxis\":{\"gridcolor\":\"white\",\"linecolor\":\"white\",\"ticks\":\"\"}},\"coloraxis\":{\"colorbar\":{\"outlinewidth\":0,\"ticks\":\"\"}},\"colorscale\":{\"sequential\":[[0.0,\"#0d0887\"],[0.1111111111111111,\"#46039f\"],[0.2222222222222222,\"#7201a8\"],[0.3333333333333333,\"#9c179e\"],[0.4444444444444444,\"#bd3786\"],[0.5555555555555556,\"#d8576b\"],[0.6666666666666666,\"#ed7953\"],[0.7777777777777778,\"#fb9f3a\"],[0.8888888888888888,\"#fdca26\"],[1.0,\"#f0f921\"]],\"sequentialminus\":[[0.0,\"#0d0887\"],[0.1111111111111111,\"#46039f\"],[0.2222222222222222,\"#7201a8\"],[0.3333333333333333,\"#9c179e\"],[0.4444444444444444,\"#bd3786\"],[0.5555555555555556,\"#d8576b\"],[0.6666666666666666,\"#ed7953\"],[0.7777777777777778,\"#fb9f3a\"],[0.8888888888888888,\"#fdca26\"],[1.0,\"#f0f921\"]],\"diverging\":[[0,\"#8e0152\"],[0.1,\"#c51b7d\"],[0.2,\"#de77ae\"],[0.3,\"#f1b6da\"],[0.4,\"#fde0ef\"],[0.5,\"#f7f7f7\"],[0.6,\"#e6f5d0\"],[0.7,\"#b8e186\"],[0.8,\"#7fbc41\"],[0.9,\"#4d9221\"],[1,\"#276419\"]]},\"xaxis\":{\"gridcolor\":\"white\",\"linecolor\":\"white\",\"ticks\":\"\",\"title\":{\"standoff\":15},\"zerolinecolor\":\"white\",\"automargin\":true,\"zerolinewidth\":2},\"yaxis\":{\"gridcolor\":\"white\",\"linecolor\":\"white\",\"ticks\":\"\",\"title\":{\"standoff\":15},\"zerolinecolor\":\"white\",\"automargin\":true,\"zerolinewidth\":2},\"scene\":{\"xaxis\":{\"backgroundcolor\":\"#E5ECF6\",\"gridcolor\":\"white\",\"linecolor\":\"white\",\"showbackground\":true,\"ticks\":\"\",\"zerolinecolor\":\"white\",\"gridwidth\":2},\"yaxis\":{\"backgroundcolor\":\"#E5ECF6\",\"gridcolor\":\"white\",\"linecolor\":\"white\",\"showbackground\":true,\"ticks\":\"\",\"zerolinecolor\":\"white\",\"gridwidth\":2},\"zaxis\":{\"backgroundcolor\":\"#E5ECF6\",\"gridcolor\":\"white\",\"linecolor\":\"white\",\"showbackground\":true,\"ticks\":\"\",\"zerolinecolor\":\"white\",\"gridwidth\":2}},\"shapedefaults\":{\"line\":{\"color\":\"#2a3f5f\"}},\"annotationdefaults\":{\"arrowcolor\":\"#2a3f5f\",\"arrowhead\":0,\"arrowwidth\":1},\"geo\":{\"bgcolor\":\"white\",\"landcolor\":\"#E5ECF6\",\"subunitcolor\":\"white\",\"showland\":true,\"showlakes\":true,\"lakecolor\":\"white\"},\"title\":{\"x\":0.05},\"mapbox\":{\"style\":\"light\"}}},\"xaxis\":{\"anchor\":\"y\",\"domain\":[0.0,1.0],\"matches\":\"x5\",\"showticklabels\":false},\"yaxis\":{\"anchor\":\"x\",\"domain\":[0.8400000000000001,1.0],\"tickformat\":\",d\"},\"xaxis2\":{\"anchor\":\"y2\",\"domain\":[0.0,1.0],\"matches\":\"x5\",\"showticklabels\":false},\"yaxis2\":{\"anchor\":\"x2\",\"domain\":[0.7100000000000001,0.79],\"dtick\":\"L1\"},\"xaxis3\":{\"anchor\":\"y3\",\"domain\":[0.0,1.0],\"matches\":\"x5\",\"showticklabels\":false},\"yaxis3\":{\"anchor\":\"x3\",\"domain\":[0.5,0.66],\"tickformat\":\",d\"},\"xaxis4\":{\"anchor\":\"y4\",\"domain\":[0.0,1.0],\"matches\":\"x5\",\"showticklabels\":false},\"yaxis4\":{\"anchor\":\"x4\",\"domain\":[0.29,0.45],\"tickformat\":\",d\"},\"xaxis5\":{\"anchor\":\"y5\",\"domain\":[0.0,1.0],\"hoverformat\":\"%Y-%m-%d\",\"showticklabels\":true,\"tickformat\":\"%Y-%m-%d\"},\"yaxis5\":{\"anchor\":\"x5\",\"domain\":[0.0,0.24],\"tickformat\":\",d\"},\"annotations\":[{\"font\":{\"size\":16},\"showarrow\":false,\"text\":\"\\uac00\\uaca9\",\"x\":0.5,\"xanchor\":\"center\",\"xref\":\"paper\",\"y\":1.0,\"yanchor\":\"bottom\",\"yref\":\"paper\"},{\"font\":{\"size\":16},\"showarrow\":false,\"text\":\"\\uc794\\uace0\\uc218\\ub7c9\",\"x\":0.5,\"xanchor\":\"center\",\"xref\":\"paper\",\"y\":0.79,\"yanchor\":\"bottom\",\"yref\":\"paper\"},{\"font\":{\"size\":16},\"showarrow\":false,\"text\":\"\\uc794\\uace0\\uac00\\uce58\",\"x\":0.5,\"xanchor\":\"center\",\"xref\":\"paper\",\"y\":0.66,\"yanchor\":\"bottom\",\"yref\":\"paper\"},{\"font\":{\"size\":16},\"showarrow\":false,\"text\":\"\\uc2e4\\ud604\\uc190\\uc775\",\"x\":0.5,\"xanchor\":\"center\",\"xref\":\"paper\",\"y\":0.45,\"yanchor\":\"bottom\",\"yref\":\"paper\"},{\"font\":{\"size\":16},\"showarrow\":false,\"text\":\"\\ucd1d\\uc790\\uc0b0\\uac00\\uce58\",\"x\":0.5,\"xanchor\":\"center\",\"xref\":\"paper\",\"y\":0.24,\"yanchor\":\"bottom\",\"yref\":\"paper\"}],\"margin\":{\"b\":25,\"l\":25,\"r\":25,\"t\":80},\"title\":{\"text\":\"\\ubc31\\ud14c\\uc2a4\\ud2b8 \\uacb0\\uacfc: 005930, 2023-01-02~2023-01-11\",\"x\":0.5,\"y\":0.98},\"uniformtext\":{\"minsize\":12,\"mode\":\"show\"},\"height\":800,\"hovermode\":\"x unified\",\"showlegend\":false},                        {\"modeBarButtonsToRemove\": [\"resetScale2d\", \"lasso2d\", \"zoomIn2d\", \"zoomOut2d\", \"select2d\"], \"displaylogo\": false, \"responsive\": true}                    ).then(function(){\n",
       "                            \n",
       "var gd = document.getElementById('25f31f0c-c915-4c66-bc5f-5fcbc53f1b3e');\n",
       "var x = new MutationObserver(function (mutations, observer) {{\n",
       "        var display = window.getComputedStyle(gd).display;\n",
       "        if (!display || display === 'none') {{\n",
       "            console.log([gd, 'removed!']);\n",
       "            Plotly.purge(gd);\n",
       "            observer.disconnect();\n",
       "        }}\n",
       "}});\n",
       "\n",
       "// Listen for the removal of the full notebook cells\n",
       "var notebookContainer = gd.closest('#notebook-container');\n",
       "if (notebookContainer) {{\n",
       "    x.observe(notebookContainer, {childList: true});\n",
       "}}\n",
       "\n",
       "// Listen for the clearing of the current output cell\n",
       "var outputEl = gd.closest('.output');\n",
       "if (outputEl) {{\n",
       "    x.observe(outputEl, {childList: true});\n",
       "}}\n",
       "\n",
       "                        })                };                });            </script>        </div>"
      ]
     },
     "metadata": {},
     "output_type": "display_data"
    }
   ],
   "source": [
    "kq.backtest_plot_stock_daily(df_result)"
   ]
  },
  {
   "cell_type": "markdown",
   "id": "bc813a52",
   "metadata": {
    "papermill": {
     "duration": 0.012935,
     "end_time": "2023-08-21T07:49:52.644692",
     "exception": false,
     "start_time": "2023-08-21T07:49:52.631757",
     "status": "completed"
    },
    "tags": []
   },
   "source": [
    "## 5.5 백테스트 성능 평가"
   ]
  },
  {
   "cell_type": "markdown",
   "id": "88b30f70",
   "metadata": {
    "papermill": {
     "duration": 0.013127,
     "end_time": "2023-08-21T07:49:52.670374",
     "exception": false,
     "start_time": "2023-08-21T07:49:52.657247",
     "status": "completed"
    },
    "tags": []
   },
   "source": [
    "`backtest_stats_stock_daily` 함수를 사용하면 백테스트의 성능을 다양한 통계수치로 볼 수 있습니다.\n",
    "성능평가 항목은 다음과 같습니다.\n",
    "\n",
    "- START_DATE : 백테스트 시작일\n",
    "- END_DATE : 백테스트 종료일\n",
    "- DAYS : 백테스트 기간\n",
    "- START_PRICE : 백테스트 시작일 가격\n",
    "- END_PRICE : 백테스트 종료일 가격\n",
    "- BENCHMARK_RETURN : 백테스트 기간동안의 단순 주식 수익률\n",
    "- INIT_CASH : 초기보유 현금\n",
    "- START_VALUE : 백테스트 시작일 총자산 가치\n",
    "- END_VALUE : 백테스트 종료일 총자산 가치\n",
    "- MAX_VALUE : 백테스트 기간중 총자산 가치의 최고치\n",
    "- MAX_VALUE_DATE : 백테스트 기간중 총자산 가치의 최고치 기록일\n",
    "- MIN_VALUE : 백테스트 기간중 총자산 가치의 최저치\n",
    "- MIN_VALUE_DATE:  : 백테스트 기간중 총자산 가치의 최저치 기록일\n",
    "- PROFIT : 수익\n",
    "- TOTAL_RETURN : 초기보유 현금에 대한 수익률\n",
    "- ANNUALIZED_RETURN : 연율화한 수익률\n",
    "- VOLATILITY : 변동성\n",
    "- SHARPE_RATIO : 샤프지수\n",
    "- TOTAL_FEE : 수수료 비용 합계\n",
    "- TOTAL_TRADE_TAX : 매도세 비용 합계\n",
    "- TOTAL_SLIPPAGE : 슬리피지 비용 합계\n",
    "- TOTAL_COST : 전체 비용 합계\n",
    "- WINNING_TRADE_COUNT : 실현수익이 양수인 횟수\n",
    "- LOSING_TRADE_COUNT : 실현수익이 음수인 횟수\n",
    "- WIN_RATE : 전체 매도 횟수 중 실현수익이 양수인 횟수의 비율\n",
    "- WINNING_PL_SUM : 실현수익이 양수인 경우의 수익 합계\n",
    "- LOSING_PL_SUM : 실현수익이 음수인 경우의 수익 합계\n",
    "- WINNING_PL_AVG : 실현수익이 양수인 경우의 수익 평균\n",
    "- LOSING_PL_AVG : 실현수익이 양수인 경우의 수익 평균\n",
    "- MAXDRAWDOWN : 맥시멈 드로운다운(Maximum Draw-down: 최고 자산가치 대비 하락)\n",
    "- MAXDRAWDOWN_DATE : 맥시멈 드로운다운 날짜"
   ]
  },
  {
   "cell_type": "code",
   "execution_count": 7,
   "id": "641557b7",
   "metadata": {
    "execution": {
     "iopub.execute_input": "2023-08-21T07:49:52.696209Z",
     "iopub.status.busy": "2023-08-21T07:49:52.695942Z",
     "iopub.status.idle": "2023-08-21T07:49:52.706365Z",
     "shell.execute_reply": "2023-08-21T07:49:52.705405Z"
    },
    "papermill": {
     "duration": 0.025842,
     "end_time": "2023-08-21T07:49:52.708620",
     "exception": false,
     "start_time": "2023-08-21T07:49:52.682778",
     "status": "completed"
    },
    "tags": []
   },
   "outputs": [
    {
     "data": {
      "text/plain": [
       "START_DATE             2023-01-02 00:00:00\n",
       "END_DATE               2023-01-11 00:00:00\n",
       "DAYS                                     8\n",
       "START_PRICE                          55500\n",
       "END_PRICE                            60500\n",
       "BENCHMARK_RETURN                    0.0901\n",
       "INIT_CASH                          1000000\n",
       "START_VALUE                        1000000\n",
       "END_VALUE                          1050000\n",
       "MAX_VALUE                          1052000\n",
       "MAX_VALUE_DATE         2023-01-09 00:00:00\n",
       "MIN_VALUE                           999000\n",
       "MIN_VALUE_DATE         2023-01-03 00:00:00\n",
       "PROFIT                               50000\n",
       "TOTAL_RETURN                        0.0500\n",
       "ANNUALIZED_RETURN                   1.5750\n",
       "VOLATILITY                          0.1569\n",
       "SHARPE_RATIO                       10.0357\n",
       "TOTAL_FEE                                0\n",
       "TOTAL_TRADE_TAX                          0\n",
       "TOTAL_SLIPPAGE                           0\n",
       "TOTAL_COST                               0\n",
       "WINNING_TRADE_COUNT                      1\n",
       "LOSING_TRADE_COUNT                       0\n",
       "WIN_RATE                            1.0000\n",
       "WINNING_PL_SUM                       50000\n",
       "LOSING_PL_SUM                            0\n",
       "WINNING_PL_AVG                 50,000.0000\n",
       "LOSING_PL_AVG                          NaN\n",
       "MAXDRAWDOWN                          -3000\n",
       "MAXDRAWDOWN_DATE       2023-01-10 00:00:00\n",
       "dtype: object"
      ]
     },
     "execution_count": 7,
     "metadata": {},
     "output_type": "execute_result"
    }
   ],
   "source": [
    "kq.backtest_stats_stock_daily(df_result)"
   ]
  },
  {
   "cell_type": "markdown",
   "id": "763f3a67",
   "metadata": {
    "papermill": {
     "duration": 0.011641,
     "end_time": "2023-08-21T07:49:52.731995",
     "exception": false,
     "start_time": "2023-08-21T07:49:52.720354",
     "status": "completed"
    },
    "tags": []
   },
   "source": [
    "## 5.6 백테스트 날짜 설정"
   ]
  },
  {
   "cell_type": "markdown",
   "id": "b0b755a5",
   "metadata": {
    "papermill": {
     "duration": 0.012741,
     "end_time": "2023-08-21T07:49:52.757207",
     "exception": false,
     "start_time": "2023-08-21T07:49:52.744466",
     "status": "completed"
    },
    "tags": []
   },
   "source": [
    "주문정보 데이터프레임의 날짜와 상관없이 백테스트 기간을 설정하고 싶은 경우에는 `start_date` 및 `start_date` 인수를 주면 됩니다."
   ]
  },
  {
   "cell_type": "code",
   "execution_count": 8,
   "id": "4a5a6bc7",
   "metadata": {
    "execution": {
     "iopub.execute_input": "2023-08-21T07:49:52.786211Z",
     "iopub.status.busy": "2023-08-21T07:49:52.785901Z",
     "iopub.status.idle": "2023-08-21T07:49:53.377645Z",
     "shell.execute_reply": "2023-08-21T07:49:53.376927Z"
    },
    "papermill": {
     "duration": 0.607511,
     "end_time": "2023-08-21T07:49:53.379296",
     "exception": false,
     "start_time": "2023-08-21T07:49:52.771785",
     "status": "completed"
    },
    "tags": []
   },
   "outputs": [
    {
     "name": "stderr",
     "output_type": "stream",
     "text": [
      "[2023-01-02] 종목: 005930, 주문전 보유수량:      0 주문수량:     10, 매매수량:     10, 주문후 보유수량:     10\n",
      "[2023-01-11] 종목: 005930, 주문전 보유수량:     10 주문수량:    -10, 매매수량:    -10, 주문후 보유수량:      0\n"
     ]
    },
    {
     "data": {
      "text/html": [
       "<div>\n",
       "<style scoped>\n",
       "    .dataframe tbody tr th:only-of-type {\n",
       "        vertical-align: middle;\n",
       "    }\n",
       "\n",
       "    .dataframe tbody tr th {\n",
       "        vertical-align: top;\n",
       "    }\n",
       "\n",
       "    .dataframe thead th {\n",
       "        text-align: right;\n",
       "    }\n",
       "</style>\n",
       "<table border=\"1\" class=\"dataframe\">\n",
       "  <thead>\n",
       "    <tr style=\"text-align: right;\">\n",
       "      <th></th>\n",
       "      <th>DATE</th>\n",
       "      <th>SYMBOL</th>\n",
       "      <th>PRICE</th>\n",
       "      <th>ORDER</th>\n",
       "      <th>QTY</th>\n",
       "      <th>TRADE_PRICE</th>\n",
       "      <th>POSITION</th>\n",
       "      <th>AVG_PRICE</th>\n",
       "      <th>FEE</th>\n",
       "      <th>TRADE_TAX</th>\n",
       "      <th>SLIPPAGE</th>\n",
       "      <th>CASHFLOW</th>\n",
       "      <th>CASH</th>\n",
       "      <th>HIST_VALUE</th>\n",
       "      <th>STOCK_VALUE</th>\n",
       "      <th>TOTAL_VALUE</th>\n",
       "      <th>REAL_PROFIT</th>\n",
       "      <th>UNREAL_PROFIT</th>\n",
       "      <th>PROFIT</th>\n",
       "      <th>HIGHWATERMARK</th>\n",
       "      <th>DRAWDOWN</th>\n",
       "    </tr>\n",
       "  </thead>\n",
       "  <tbody>\n",
       "    <tr>\n",
       "      <th>0</th>\n",
       "      <td>2022-12-21</td>\n",
       "      <td>005930</td>\n",
       "      <td>58,000</td>\n",
       "      <td>0</td>\n",
       "      <td>0</td>\n",
       "      <td>0</td>\n",
       "      <td>0</td>\n",
       "      <td>0.0000</td>\n",
       "      <td>0</td>\n",
       "      <td>0</td>\n",
       "      <td>0</td>\n",
       "      <td>0</td>\n",
       "      <td>1,000,000</td>\n",
       "      <td>0</td>\n",
       "      <td>0</td>\n",
       "      <td>1,000,000</td>\n",
       "      <td>0</td>\n",
       "      <td>0</td>\n",
       "      <td>0</td>\n",
       "      <td>1,000,000</td>\n",
       "      <td>0</td>\n",
       "    </tr>\n",
       "    <tr>\n",
       "      <th>1</th>\n",
       "      <td>2022-12-22</td>\n",
       "      <td>005930</td>\n",
       "      <td>59,100</td>\n",
       "      <td>0</td>\n",
       "      <td>0</td>\n",
       "      <td>0</td>\n",
       "      <td>0</td>\n",
       "      <td>0.0000</td>\n",
       "      <td>0</td>\n",
       "      <td>0</td>\n",
       "      <td>0</td>\n",
       "      <td>0</td>\n",
       "      <td>1,000,000</td>\n",
       "      <td>0</td>\n",
       "      <td>0</td>\n",
       "      <td>1,000,000</td>\n",
       "      <td>0</td>\n",
       "      <td>0</td>\n",
       "      <td>0</td>\n",
       "      <td>1,000,000</td>\n",
       "      <td>0</td>\n",
       "    </tr>\n",
       "    <tr>\n",
       "      <th>2</th>\n",
       "      <td>2022-12-23</td>\n",
       "      <td>005930</td>\n",
       "      <td>58,100</td>\n",
       "      <td>0</td>\n",
       "      <td>0</td>\n",
       "      <td>0</td>\n",
       "      <td>0</td>\n",
       "      <td>0.0000</td>\n",
       "      <td>0</td>\n",
       "      <td>0</td>\n",
       "      <td>0</td>\n",
       "      <td>0</td>\n",
       "      <td>1,000,000</td>\n",
       "      <td>0</td>\n",
       "      <td>0</td>\n",
       "      <td>1,000,000</td>\n",
       "      <td>0</td>\n",
       "      <td>0</td>\n",
       "      <td>0</td>\n",
       "      <td>1,000,000</td>\n",
       "      <td>0</td>\n",
       "    </tr>\n",
       "    <tr>\n",
       "      <th>3</th>\n",
       "      <td>2022-12-26</td>\n",
       "      <td>005930</td>\n",
       "      <td>57,900</td>\n",
       "      <td>0</td>\n",
       "      <td>0</td>\n",
       "      <td>0</td>\n",
       "      <td>0</td>\n",
       "      <td>0.0000</td>\n",
       "      <td>0</td>\n",
       "      <td>0</td>\n",
       "      <td>0</td>\n",
       "      <td>0</td>\n",
       "      <td>1,000,000</td>\n",
       "      <td>0</td>\n",
       "      <td>0</td>\n",
       "      <td>1,000,000</td>\n",
       "      <td>0</td>\n",
       "      <td>0</td>\n",
       "      <td>0</td>\n",
       "      <td>1,000,000</td>\n",
       "      <td>0</td>\n",
       "    </tr>\n",
       "    <tr>\n",
       "      <th>4</th>\n",
       "      <td>2022-12-27</td>\n",
       "      <td>005930</td>\n",
       "      <td>58,100</td>\n",
       "      <td>0</td>\n",
       "      <td>0</td>\n",
       "      <td>0</td>\n",
       "      <td>0</td>\n",
       "      <td>0.0000</td>\n",
       "      <td>0</td>\n",
       "      <td>0</td>\n",
       "      <td>0</td>\n",
       "      <td>0</td>\n",
       "      <td>1,000,000</td>\n",
       "      <td>0</td>\n",
       "      <td>0</td>\n",
       "      <td>1,000,000</td>\n",
       "      <td>0</td>\n",
       "      <td>0</td>\n",
       "      <td>0</td>\n",
       "      <td>1,000,000</td>\n",
       "      <td>0</td>\n",
       "    </tr>\n",
       "    <tr>\n",
       "      <th>5</th>\n",
       "      <td>2022-12-28</td>\n",
       "      <td>005930</td>\n",
       "      <td>56,600</td>\n",
       "      <td>0</td>\n",
       "      <td>0</td>\n",
       "      <td>0</td>\n",
       "      <td>0</td>\n",
       "      <td>0.0000</td>\n",
       "      <td>0</td>\n",
       "      <td>0</td>\n",
       "      <td>0</td>\n",
       "      <td>0</td>\n",
       "      <td>1,000,000</td>\n",
       "      <td>0</td>\n",
       "      <td>0</td>\n",
       "      <td>1,000,000</td>\n",
       "      <td>0</td>\n",
       "      <td>0</td>\n",
       "      <td>0</td>\n",
       "      <td>1,000,000</td>\n",
       "      <td>0</td>\n",
       "    </tr>\n",
       "    <tr>\n",
       "      <th>6</th>\n",
       "      <td>2022-12-29</td>\n",
       "      <td>005930</td>\n",
       "      <td>55,300</td>\n",
       "      <td>0</td>\n",
       "      <td>0</td>\n",
       "      <td>0</td>\n",
       "      <td>0</td>\n",
       "      <td>0.0000</td>\n",
       "      <td>0</td>\n",
       "      <td>0</td>\n",
       "      <td>0</td>\n",
       "      <td>0</td>\n",
       "      <td>1,000,000</td>\n",
       "      <td>0</td>\n",
       "      <td>0</td>\n",
       "      <td>1,000,000</td>\n",
       "      <td>0</td>\n",
       "      <td>0</td>\n",
       "      <td>0</td>\n",
       "      <td>1,000,000</td>\n",
       "      <td>0</td>\n",
       "    </tr>\n",
       "    <tr>\n",
       "      <th>7</th>\n",
       "      <td>2023-01-02</td>\n",
       "      <td>005930</td>\n",
       "      <td>55,500</td>\n",
       "      <td>10</td>\n",
       "      <td>10</td>\n",
       "      <td>55,500</td>\n",
       "      <td>10</td>\n",
       "      <td>55,500.0000</td>\n",
       "      <td>0</td>\n",
       "      <td>0</td>\n",
       "      <td>0</td>\n",
       "      <td>-555,000</td>\n",
       "      <td>445,000</td>\n",
       "      <td>555,000</td>\n",
       "      <td>555,000</td>\n",
       "      <td>1,000,000</td>\n",
       "      <td>0</td>\n",
       "      <td>0</td>\n",
       "      <td>0</td>\n",
       "      <td>1,000,000</td>\n",
       "      <td>0</td>\n",
       "    </tr>\n",
       "    <tr>\n",
       "      <th>8</th>\n",
       "      <td>2023-01-03</td>\n",
       "      <td>005930</td>\n",
       "      <td>55,400</td>\n",
       "      <td>0</td>\n",
       "      <td>0</td>\n",
       "      <td>0</td>\n",
       "      <td>10</td>\n",
       "      <td>55,500.0000</td>\n",
       "      <td>0</td>\n",
       "      <td>0</td>\n",
       "      <td>0</td>\n",
       "      <td>0</td>\n",
       "      <td>445,000</td>\n",
       "      <td>555,000</td>\n",
       "      <td>554,000</td>\n",
       "      <td>999,000</td>\n",
       "      <td>0</td>\n",
       "      <td>-1,000</td>\n",
       "      <td>-1,000</td>\n",
       "      <td>1,000,000</td>\n",
       "      <td>1,000</td>\n",
       "    </tr>\n",
       "    <tr>\n",
       "      <th>9</th>\n",
       "      <td>2023-01-04</td>\n",
       "      <td>005930</td>\n",
       "      <td>57,800</td>\n",
       "      <td>0</td>\n",
       "      <td>0</td>\n",
       "      <td>0</td>\n",
       "      <td>10</td>\n",
       "      <td>55,500.0000</td>\n",
       "      <td>0</td>\n",
       "      <td>0</td>\n",
       "      <td>0</td>\n",
       "      <td>0</td>\n",
       "      <td>445,000</td>\n",
       "      <td>555,000</td>\n",
       "      <td>578,000</td>\n",
       "      <td>1,023,000</td>\n",
       "      <td>0</td>\n",
       "      <td>23,000</td>\n",
       "      <td>23,000</td>\n",
       "      <td>1,023,000</td>\n",
       "      <td>0</td>\n",
       "    </tr>\n",
       "    <tr>\n",
       "      <th>10</th>\n",
       "      <td>2023-01-05</td>\n",
       "      <td>005930</td>\n",
       "      <td>58,200</td>\n",
       "      <td>0</td>\n",
       "      <td>0</td>\n",
       "      <td>0</td>\n",
       "      <td>10</td>\n",
       "      <td>55,500.0000</td>\n",
       "      <td>0</td>\n",
       "      <td>0</td>\n",
       "      <td>0</td>\n",
       "      <td>0</td>\n",
       "      <td>445,000</td>\n",
       "      <td>555,000</td>\n",
       "      <td>582,000</td>\n",
       "      <td>1,027,000</td>\n",
       "      <td>0</td>\n",
       "      <td>27,000</td>\n",
       "      <td>27,000</td>\n",
       "      <td>1,027,000</td>\n",
       "      <td>0</td>\n",
       "    </tr>\n",
       "    <tr>\n",
       "      <th>11</th>\n",
       "      <td>2023-01-06</td>\n",
       "      <td>005930</td>\n",
       "      <td>59,000</td>\n",
       "      <td>0</td>\n",
       "      <td>0</td>\n",
       "      <td>0</td>\n",
       "      <td>10</td>\n",
       "      <td>55,500.0000</td>\n",
       "      <td>0</td>\n",
       "      <td>0</td>\n",
       "      <td>0</td>\n",
       "      <td>0</td>\n",
       "      <td>445,000</td>\n",
       "      <td>555,000</td>\n",
       "      <td>590,000</td>\n",
       "      <td>1,035,000</td>\n",
       "      <td>0</td>\n",
       "      <td>35,000</td>\n",
       "      <td>35,000</td>\n",
       "      <td>1,035,000</td>\n",
       "      <td>0</td>\n",
       "    </tr>\n",
       "    <tr>\n",
       "      <th>12</th>\n",
       "      <td>2023-01-09</td>\n",
       "      <td>005930</td>\n",
       "      <td>60,700</td>\n",
       "      <td>0</td>\n",
       "      <td>0</td>\n",
       "      <td>0</td>\n",
       "      <td>10</td>\n",
       "      <td>55,500.0000</td>\n",
       "      <td>0</td>\n",
       "      <td>0</td>\n",
       "      <td>0</td>\n",
       "      <td>0</td>\n",
       "      <td>445,000</td>\n",
       "      <td>555,000</td>\n",
       "      <td>607,000</td>\n",
       "      <td>1,052,000</td>\n",
       "      <td>0</td>\n",
       "      <td>52,000</td>\n",
       "      <td>52,000</td>\n",
       "      <td>1,052,000</td>\n",
       "      <td>0</td>\n",
       "    </tr>\n",
       "    <tr>\n",
       "      <th>13</th>\n",
       "      <td>2023-01-10</td>\n",
       "      <td>005930</td>\n",
       "      <td>60,400</td>\n",
       "      <td>0</td>\n",
       "      <td>0</td>\n",
       "      <td>0</td>\n",
       "      <td>10</td>\n",
       "      <td>55,500.0000</td>\n",
       "      <td>0</td>\n",
       "      <td>0</td>\n",
       "      <td>0</td>\n",
       "      <td>0</td>\n",
       "      <td>445,000</td>\n",
       "      <td>555,000</td>\n",
       "      <td>604,000</td>\n",
       "      <td>1,049,000</td>\n",
       "      <td>0</td>\n",
       "      <td>49,000</td>\n",
       "      <td>49,000</td>\n",
       "      <td>1,052,000</td>\n",
       "      <td>3,000</td>\n",
       "    </tr>\n",
       "    <tr>\n",
       "      <th>14</th>\n",
       "      <td>2023-01-11</td>\n",
       "      <td>005930</td>\n",
       "      <td>60,500</td>\n",
       "      <td>-10</td>\n",
       "      <td>-10</td>\n",
       "      <td>60,500</td>\n",
       "      <td>0</td>\n",
       "      <td>0.0000</td>\n",
       "      <td>0</td>\n",
       "      <td>0</td>\n",
       "      <td>0</td>\n",
       "      <td>605,000</td>\n",
       "      <td>1,050,000</td>\n",
       "      <td>0</td>\n",
       "      <td>0</td>\n",
       "      <td>1,050,000</td>\n",
       "      <td>50,000</td>\n",
       "      <td>0</td>\n",
       "      <td>50,000</td>\n",
       "      <td>1,052,000</td>\n",
       "      <td>2,000</td>\n",
       "    </tr>\n",
       "    <tr>\n",
       "      <th>15</th>\n",
       "      <td>2023-01-12</td>\n",
       "      <td>005930</td>\n",
       "      <td>60,500</td>\n",
       "      <td>0</td>\n",
       "      <td>0</td>\n",
       "      <td>0</td>\n",
       "      <td>0</td>\n",
       "      <td>0.0000</td>\n",
       "      <td>0</td>\n",
       "      <td>0</td>\n",
       "      <td>0</td>\n",
       "      <td>0</td>\n",
       "      <td>1,050,000</td>\n",
       "      <td>0</td>\n",
       "      <td>0</td>\n",
       "      <td>1,050,000</td>\n",
       "      <td>0</td>\n",
       "      <td>0</td>\n",
       "      <td>50,000</td>\n",
       "      <td>1,052,000</td>\n",
       "      <td>2,000</td>\n",
       "    </tr>\n",
       "    <tr>\n",
       "      <th>16</th>\n",
       "      <td>2023-01-13</td>\n",
       "      <td>005930</td>\n",
       "      <td>60,800</td>\n",
       "      <td>0</td>\n",
       "      <td>0</td>\n",
       "      <td>0</td>\n",
       "      <td>0</td>\n",
       "      <td>0.0000</td>\n",
       "      <td>0</td>\n",
       "      <td>0</td>\n",
       "      <td>0</td>\n",
       "      <td>0</td>\n",
       "      <td>1,050,000</td>\n",
       "      <td>0</td>\n",
       "      <td>0</td>\n",
       "      <td>1,050,000</td>\n",
       "      <td>0</td>\n",
       "      <td>0</td>\n",
       "      <td>50,000</td>\n",
       "      <td>1,052,000</td>\n",
       "      <td>2,000</td>\n",
       "    </tr>\n",
       "    <tr>\n",
       "      <th>17</th>\n",
       "      <td>2023-01-16</td>\n",
       "      <td>005930</td>\n",
       "      <td>61,100</td>\n",
       "      <td>0</td>\n",
       "      <td>0</td>\n",
       "      <td>0</td>\n",
       "      <td>0</td>\n",
       "      <td>0.0000</td>\n",
       "      <td>0</td>\n",
       "      <td>0</td>\n",
       "      <td>0</td>\n",
       "      <td>0</td>\n",
       "      <td>1,050,000</td>\n",
       "      <td>0</td>\n",
       "      <td>0</td>\n",
       "      <td>1,050,000</td>\n",
       "      <td>0</td>\n",
       "      <td>0</td>\n",
       "      <td>50,000</td>\n",
       "      <td>1,052,000</td>\n",
       "      <td>2,000</td>\n",
       "    </tr>\n",
       "    <tr>\n",
       "      <th>18</th>\n",
       "      <td>2023-01-17</td>\n",
       "      <td>005930</td>\n",
       "      <td>61,000</td>\n",
       "      <td>0</td>\n",
       "      <td>0</td>\n",
       "      <td>0</td>\n",
       "      <td>0</td>\n",
       "      <td>0.0000</td>\n",
       "      <td>0</td>\n",
       "      <td>0</td>\n",
       "      <td>0</td>\n",
       "      <td>0</td>\n",
       "      <td>1,050,000</td>\n",
       "      <td>0</td>\n",
       "      <td>0</td>\n",
       "      <td>1,050,000</td>\n",
       "      <td>0</td>\n",
       "      <td>0</td>\n",
       "      <td>50,000</td>\n",
       "      <td>1,052,000</td>\n",
       "      <td>2,000</td>\n",
       "    </tr>\n",
       "    <tr>\n",
       "      <th>19</th>\n",
       "      <td>2023-01-18</td>\n",
       "      <td>005930</td>\n",
       "      <td>60,400</td>\n",
       "      <td>0</td>\n",
       "      <td>0</td>\n",
       "      <td>0</td>\n",
       "      <td>0</td>\n",
       "      <td>0.0000</td>\n",
       "      <td>0</td>\n",
       "      <td>0</td>\n",
       "      <td>0</td>\n",
       "      <td>0</td>\n",
       "      <td>1,050,000</td>\n",
       "      <td>0</td>\n",
       "      <td>0</td>\n",
       "      <td>1,050,000</td>\n",
       "      <td>0</td>\n",
       "      <td>0</td>\n",
       "      <td>50,000</td>\n",
       "      <td>1,052,000</td>\n",
       "      <td>2,000</td>\n",
       "    </tr>\n",
       "    <tr>\n",
       "      <th>20</th>\n",
       "      <td>2023-01-19</td>\n",
       "      <td>005930</td>\n",
       "      <td>61,500</td>\n",
       "      <td>0</td>\n",
       "      <td>0</td>\n",
       "      <td>0</td>\n",
       "      <td>0</td>\n",
       "      <td>0.0000</td>\n",
       "      <td>0</td>\n",
       "      <td>0</td>\n",
       "      <td>0</td>\n",
       "      <td>0</td>\n",
       "      <td>1,050,000</td>\n",
       "      <td>0</td>\n",
       "      <td>0</td>\n",
       "      <td>1,050,000</td>\n",
       "      <td>0</td>\n",
       "      <td>0</td>\n",
       "      <td>50,000</td>\n",
       "      <td>1,052,000</td>\n",
       "      <td>2,000</td>\n",
       "    </tr>\n",
       "    <tr>\n",
       "      <th>21</th>\n",
       "      <td>2023-01-20</td>\n",
       "      <td>005930</td>\n",
       "      <td>61,800</td>\n",
       "      <td>0</td>\n",
       "      <td>0</td>\n",
       "      <td>0</td>\n",
       "      <td>0</td>\n",
       "      <td>0.0000</td>\n",
       "      <td>0</td>\n",
       "      <td>0</td>\n",
       "      <td>0</td>\n",
       "      <td>0</td>\n",
       "      <td>1,050,000</td>\n",
       "      <td>0</td>\n",
       "      <td>0</td>\n",
       "      <td>1,050,000</td>\n",
       "      <td>0</td>\n",
       "      <td>0</td>\n",
       "      <td>50,000</td>\n",
       "      <td>1,052,000</td>\n",
       "      <td>2,000</td>\n",
       "    </tr>\n",
       "  </tbody>\n",
       "</table>\n",
       "</div>"
      ],
      "text/plain": [
       "         DATE  SYMBOL   PRICE  ORDER  QTY  TRADE_PRICE  POSITION   AVG_PRICE  \\\n",
       "0  2022-12-21  005930  58,000      0    0            0         0      0.0000   \n",
       "1  2022-12-22  005930  59,100      0    0            0         0      0.0000   \n",
       "2  2022-12-23  005930  58,100      0    0            0         0      0.0000   \n",
       "3  2022-12-26  005930  57,900      0    0            0         0      0.0000   \n",
       "4  2022-12-27  005930  58,100      0    0            0         0      0.0000   \n",
       "5  2022-12-28  005930  56,600      0    0            0         0      0.0000   \n",
       "6  2022-12-29  005930  55,300      0    0            0         0      0.0000   \n",
       "7  2023-01-02  005930  55,500     10   10       55,500        10 55,500.0000   \n",
       "8  2023-01-03  005930  55,400      0    0            0        10 55,500.0000   \n",
       "9  2023-01-04  005930  57,800      0    0            0        10 55,500.0000   \n",
       "10 2023-01-05  005930  58,200      0    0            0        10 55,500.0000   \n",
       "11 2023-01-06  005930  59,000      0    0            0        10 55,500.0000   \n",
       "12 2023-01-09  005930  60,700      0    0            0        10 55,500.0000   \n",
       "13 2023-01-10  005930  60,400      0    0            0        10 55,500.0000   \n",
       "14 2023-01-11  005930  60,500    -10  -10       60,500         0      0.0000   \n",
       "15 2023-01-12  005930  60,500      0    0            0         0      0.0000   \n",
       "16 2023-01-13  005930  60,800      0    0            0         0      0.0000   \n",
       "17 2023-01-16  005930  61,100      0    0            0         0      0.0000   \n",
       "18 2023-01-17  005930  61,000      0    0            0         0      0.0000   \n",
       "19 2023-01-18  005930  60,400      0    0            0         0      0.0000   \n",
       "20 2023-01-19  005930  61,500      0    0            0         0      0.0000   \n",
       "21 2023-01-20  005930  61,800      0    0            0         0      0.0000   \n",
       "\n",
       "    FEE  TRADE_TAX  SLIPPAGE  CASHFLOW       CASH  HIST_VALUE  STOCK_VALUE  \\\n",
       "0     0          0         0         0  1,000,000           0            0   \n",
       "1     0          0         0         0  1,000,000           0            0   \n",
       "2     0          0         0         0  1,000,000           0            0   \n",
       "3     0          0         0         0  1,000,000           0            0   \n",
       "4     0          0         0         0  1,000,000           0            0   \n",
       "5     0          0         0         0  1,000,000           0            0   \n",
       "6     0          0         0         0  1,000,000           0            0   \n",
       "7     0          0         0  -555,000    445,000     555,000      555,000   \n",
       "8     0          0         0         0    445,000     555,000      554,000   \n",
       "9     0          0         0         0    445,000     555,000      578,000   \n",
       "10    0          0         0         0    445,000     555,000      582,000   \n",
       "11    0          0         0         0    445,000     555,000      590,000   \n",
       "12    0          0         0         0    445,000     555,000      607,000   \n",
       "13    0          0         0         0    445,000     555,000      604,000   \n",
       "14    0          0         0   605,000  1,050,000           0            0   \n",
       "15    0          0         0         0  1,050,000           0            0   \n",
       "16    0          0         0         0  1,050,000           0            0   \n",
       "17    0          0         0         0  1,050,000           0            0   \n",
       "18    0          0         0         0  1,050,000           0            0   \n",
       "19    0          0         0         0  1,050,000           0            0   \n",
       "20    0          0         0         0  1,050,000           0            0   \n",
       "21    0          0         0         0  1,050,000           0            0   \n",
       "\n",
       "    TOTAL_VALUE  REAL_PROFIT  UNREAL_PROFIT  PROFIT  HIGHWATERMARK  DRAWDOWN  \n",
       "0     1,000,000            0              0       0      1,000,000         0  \n",
       "1     1,000,000            0              0       0      1,000,000         0  \n",
       "2     1,000,000            0              0       0      1,000,000         0  \n",
       "3     1,000,000            0              0       0      1,000,000         0  \n",
       "4     1,000,000            0              0       0      1,000,000         0  \n",
       "5     1,000,000            0              0       0      1,000,000         0  \n",
       "6     1,000,000            0              0       0      1,000,000         0  \n",
       "7     1,000,000            0              0       0      1,000,000         0  \n",
       "8       999,000            0         -1,000  -1,000      1,000,000     1,000  \n",
       "9     1,023,000            0         23,000  23,000      1,023,000         0  \n",
       "10    1,027,000            0         27,000  27,000      1,027,000         0  \n",
       "11    1,035,000            0         35,000  35,000      1,035,000         0  \n",
       "12    1,052,000            0         52,000  52,000      1,052,000         0  \n",
       "13    1,049,000            0         49,000  49,000      1,052,000     3,000  \n",
       "14    1,050,000       50,000              0  50,000      1,052,000     2,000  \n",
       "15    1,050,000            0              0  50,000      1,052,000     2,000  \n",
       "16    1,050,000            0              0  50,000      1,052,000     2,000  \n",
       "17    1,050,000            0              0  50,000      1,052,000     2,000  \n",
       "18    1,050,000            0              0  50,000      1,052,000     2,000  \n",
       "19    1,050,000            0              0  50,000      1,052,000     2,000  \n",
       "20    1,050,000            0              0  50,000      1,052,000     2,000  \n",
       "21    1,050,000            0              0  50,000      1,052,000     2,000  "
      ]
     },
     "execution_count": 8,
     "metadata": {},
     "output_type": "execute_result"
    }
   ],
   "source": [
    "df_result2 = kq.backtest_stock_daily(\n",
    "    \"005930\", \n",
    "    df_order, \n",
    "    \"2022-12-21\", \n",
    "    \"2023-01-21\", \n",
    "    init_cash=1_000_000)\n",
    "df_result2"
   ]
  },
  {
   "cell_type": "code",
   "execution_count": 9,
   "id": "a5074116",
   "metadata": {
    "execution": {
     "iopub.execute_input": "2023-08-21T07:49:53.404741Z",
     "iopub.status.busy": "2023-08-21T07:49:53.404458Z",
     "iopub.status.idle": "2023-08-21T07:49:53.472985Z",
     "shell.execute_reply": "2023-08-21T07:49:53.472420Z"
    },
    "papermill": {
     "duration": 0.082892,
     "end_time": "2023-08-21T07:49:53.474560",
     "exception": false,
     "start_time": "2023-08-21T07:49:53.391668",
     "status": "completed"
    },
    "tags": []
   },
   "outputs": [
    {
     "data": {
      "application/vnd.plotly.v1+json": {
       "config": {
        "displaylogo": false,
        "modeBarButtonsToRemove": [
         "resetScale2d",
         "lasso2d",
         "zoomIn2d",
         "zoomOut2d",
         "select2d"
        ],
        "plotlyServerURL": "https://plot.ly",
        "responsive": true
       },
       "data": [
        {
         "marker": {
          "color": "#000000"
         },
         "mode": "lines",
         "name": "가격",
         "type": "scatter",
         "x": [
          "2022-12-21T00:00:00",
          "2022-12-22T00:00:00",
          "2022-12-23T00:00:00",
          "2022-12-26T00:00:00",
          "2022-12-27T00:00:00",
          "2022-12-28T00:00:00",
          "2022-12-29T00:00:00",
          "2023-01-02T00:00:00",
          "2023-01-03T00:00:00",
          "2023-01-04T00:00:00",
          "2023-01-05T00:00:00",
          "2023-01-06T00:00:00",
          "2023-01-09T00:00:00",
          "2023-01-10T00:00:00",
          "2023-01-11T00:00:00",
          "2023-01-12T00:00:00",
          "2023-01-13T00:00:00",
          "2023-01-16T00:00:00",
          "2023-01-17T00:00:00",
          "2023-01-18T00:00:00",
          "2023-01-19T00:00:00",
          "2023-01-20T00:00:00"
         ],
         "xaxis": "x5",
         "y": [
          58000,
          59100,
          58100,
          57900,
          58100,
          56600,
          55300,
          55500,
          55400,
          57800,
          58200,
          59000,
          60700,
          60400,
          60500,
          60500,
          60800,
          61100,
          61000,
          60400,
          61500,
          61800
         ],
         "yaxis": "y"
        },
        {
         "marker": {
          "color": "#DC143C",
          "line": {
           "color": "white",
           "width": 1
          },
          "size": 12,
          "symbol": "triangle-up"
         },
         "mode": "markers",
         "name": "매수",
         "type": "scatter",
         "x": [
          "2023-01-02T00:00:00"
         ],
         "xaxis": "x5",
         "y": [
          55500
         ],
         "yaxis": "y"
        },
        {
         "marker": {
          "color": "#00008B",
          "line": {
           "color": "white",
           "width": 1
          },
          "size": 12,
          "symbol": "triangle-down"
         },
         "mode": "markers",
         "name": "매도",
         "type": "scatter",
         "x": [
          "2023-01-11T00:00:00"
         ],
         "xaxis": "x5",
         "y": [
          60500
         ],
         "yaxis": "y"
        },
        {
         "fill": "tozeroy",
         "fillcolor": "lightgray",
         "line": {
          "color": "#000000",
          "shape": "hv"
         },
         "mode": "lines",
         "name": "잔고수량",
         "type": "scatter",
         "x": [
          "2022-12-21T00:00:00",
          "2022-12-22T00:00:00",
          "2022-12-23T00:00:00",
          "2022-12-26T00:00:00",
          "2022-12-27T00:00:00",
          "2022-12-28T00:00:00",
          "2022-12-29T00:00:00",
          "2023-01-02T00:00:00",
          "2023-01-03T00:00:00",
          "2023-01-04T00:00:00",
          "2023-01-05T00:00:00",
          "2023-01-06T00:00:00",
          "2023-01-09T00:00:00",
          "2023-01-10T00:00:00",
          "2023-01-11T00:00:00",
          "2023-01-12T00:00:00",
          "2023-01-13T00:00:00",
          "2023-01-16T00:00:00",
          "2023-01-17T00:00:00",
          "2023-01-18T00:00:00",
          "2023-01-19T00:00:00",
          "2023-01-20T00:00:00"
         ],
         "xaxis": "x5",
         "y": [
          0,
          0,
          0,
          0,
          0,
          0,
          0,
          10,
          10,
          10,
          10,
          10,
          10,
          10,
          0,
          0,
          0,
          0,
          0,
          0,
          0,
          0
         ],
         "yaxis": "y2"
        },
        {
         "line": {
          "color": "#000000",
          "shape": "hv"
         },
         "mode": "lines",
         "name": "잔고가치",
         "type": "scatter",
         "x": [
          "2022-12-21T00:00:00",
          "2022-12-22T00:00:00",
          "2022-12-23T00:00:00",
          "2022-12-26T00:00:00",
          "2022-12-27T00:00:00",
          "2022-12-28T00:00:00",
          "2022-12-29T00:00:00",
          "2023-01-02T00:00:00",
          "2023-01-03T00:00:00",
          "2023-01-04T00:00:00",
          "2023-01-05T00:00:00",
          "2023-01-06T00:00:00",
          "2023-01-09T00:00:00",
          "2023-01-10T00:00:00",
          "2023-01-11T00:00:00",
          "2023-01-12T00:00:00",
          "2023-01-13T00:00:00",
          "2023-01-16T00:00:00",
          "2023-01-17T00:00:00",
          "2023-01-18T00:00:00",
          "2023-01-19T00:00:00",
          "2023-01-20T00:00:00"
         ],
         "xaxis": "x5",
         "y": [
          null,
          null,
          null,
          null,
          null,
          null,
          null,
          555000,
          554000,
          578000,
          582000,
          590000,
          607000,
          604000,
          null,
          null,
          null,
          null,
          null,
          null,
          null,
          null
         ],
         "yaxis": "y3"
        },
        {
         "cliponaxis": false,
         "marker": {
          "color": [
           "#00008B",
           "#00008B",
           "#00008B",
           "#00008B",
           "#00008B",
           "#00008B",
           "#00008B",
           "#00008B",
           "#00008B",
           "#00008B",
           "#00008B",
           "#00008B",
           "#00008B",
           "#00008B",
           "#DC143C",
           "#00008B",
           "#00008B",
           "#00008B",
           "#00008B",
           "#00008B",
           "#00008B",
           "#00008B"
          ]
         },
         "name": "실현손익",
         "text": [
          "",
          "",
          "",
          "",
          "",
          "",
          "",
          "",
          "",
          "",
          "",
          "",
          "",
          "",
          "50,000",
          "",
          "",
          "",
          "",
          "",
          "",
          ""
         ],
         "textposition": "outside",
         "type": "bar",
         "width": 432000000,
         "x": [
          "2022-12-21T00:00:00",
          "2022-12-22T00:00:00",
          "2022-12-23T00:00:00",
          "2022-12-26T00:00:00",
          "2022-12-27T00:00:00",
          "2022-12-28T00:00:00",
          "2022-12-29T00:00:00",
          "2023-01-02T00:00:00",
          "2023-01-03T00:00:00",
          "2023-01-04T00:00:00",
          "2023-01-05T00:00:00",
          "2023-01-06T00:00:00",
          "2023-01-09T00:00:00",
          "2023-01-10T00:00:00",
          "2023-01-11T00:00:00",
          "2023-01-12T00:00:00",
          "2023-01-13T00:00:00",
          "2023-01-16T00:00:00",
          "2023-01-17T00:00:00",
          "2023-01-18T00:00:00",
          "2023-01-19T00:00:00",
          "2023-01-20T00:00:00"
         ],
         "xaxis": "x5",
         "y": [
          0,
          0,
          0,
          0,
          0,
          0,
          0,
          0,
          0,
          0,
          0,
          0,
          0,
          0,
          50000,
          0,
          0,
          0,
          0,
          0,
          0,
          0
         ],
         "yaxis": "y4"
        },
        {
         "line": {
          "color": "#000000",
          "shape": "hv"
         },
         "mode": "lines",
         "name": "총자산가치",
         "type": "scatter",
         "x": [
          "2022-12-21T00:00:00",
          "2022-12-22T00:00:00",
          "2022-12-23T00:00:00",
          "2022-12-26T00:00:00",
          "2022-12-27T00:00:00",
          "2022-12-28T00:00:00",
          "2022-12-29T00:00:00",
          "2023-01-02T00:00:00",
          "2023-01-03T00:00:00",
          "2023-01-04T00:00:00",
          "2023-01-05T00:00:00",
          "2023-01-06T00:00:00",
          "2023-01-09T00:00:00",
          "2023-01-10T00:00:00",
          "2023-01-11T00:00:00",
          "2023-01-12T00:00:00",
          "2023-01-13T00:00:00",
          "2023-01-16T00:00:00",
          "2023-01-17T00:00:00",
          "2023-01-18T00:00:00",
          "2023-01-19T00:00:00",
          "2023-01-20T00:00:00"
         ],
         "xaxis": "x5",
         "y": [
          1000000,
          1000000,
          1000000,
          1000000,
          1000000,
          1000000,
          1000000,
          1000000,
          999000,
          1023000,
          1027000,
          1035000,
          1052000,
          1049000,
          1050000,
          1050000,
          1050000,
          1050000,
          1050000,
          1050000,
          1050000,
          1050000
         ],
         "yaxis": "y5"
        },
        {
         "line": {
          "color": "#DC143C",
          "dash": "dash",
          "shape": "hv"
         },
         "mode": "lines",
         "name": "최고자산가치",
         "type": "scatter",
         "x": [
          "2022-12-21T00:00:00",
          "2022-12-22T00:00:00",
          "2022-12-23T00:00:00",
          "2022-12-26T00:00:00",
          "2022-12-27T00:00:00",
          "2022-12-28T00:00:00",
          "2022-12-29T00:00:00",
          "2023-01-02T00:00:00",
          "2023-01-03T00:00:00",
          "2023-01-04T00:00:00",
          "2023-01-05T00:00:00",
          "2023-01-06T00:00:00",
          "2023-01-09T00:00:00",
          "2023-01-10T00:00:00",
          "2023-01-11T00:00:00",
          "2023-01-12T00:00:00",
          "2023-01-13T00:00:00",
          "2023-01-16T00:00:00",
          "2023-01-17T00:00:00",
          "2023-01-18T00:00:00",
          "2023-01-19T00:00:00",
          "2023-01-20T00:00:00"
         ],
         "xaxis": "x5",
         "y": [
          1000000,
          1000000,
          1000000,
          1000000,
          1000000,
          1000000,
          1000000,
          1000000,
          1000000,
          1023000,
          1027000,
          1035000,
          1052000,
          1052000,
          1052000,
          1052000,
          1052000,
          1052000,
          1052000,
          1052000,
          1052000,
          1052000
         ],
         "yaxis": "y5"
        },
        {
         "base": [
          1000000
         ],
         "cliponaxis": false,
         "marker": {
          "color": [
           "#DC143C"
          ]
         },
         "name": "최종손익",
         "text": [
          "최종수익: 50,000"
         ],
         "textposition": "outside",
         "type": "bar",
         "width": 864000000,
         "x": [
          "2023-01-20T00:00:00"
         ],
         "xaxis": "x5",
         "y": [
          50000
         ],
         "yaxis": "y5"
        },
        {
         "cliponaxis": false,
         "marker": {
          "color": [
           "#DC143C",
           "#00008B"
          ],
          "line": {
           "color": "white",
           "width": 1
          },
          "size": 12,
          "symbol": [
           "triangle-up",
           "triangle-down"
          ]
         },
         "mode": "markers+text",
         "name": "",
         "text": [
          "최고자산가치: 1,052,000",
          "MDD: -3,000"
         ],
         "textposition": [
          "top center",
          "bottom center"
         ],
         "type": "scatter",
         "x": [
          "2023-01-09T00:00:00",
          "2023-01-10T00:00:00"
         ],
         "xaxis": "x5",
         "y": [
          1052000,
          1049000
         ],
         "yaxis": "y5"
        }
       ],
       "layout": {
        "annotations": [
         {
          "font": {
           "size": 16
          },
          "showarrow": false,
          "text": "가격",
          "x": 0.5,
          "xanchor": "center",
          "xref": "paper",
          "y": 1,
          "yanchor": "bottom",
          "yref": "paper"
         },
         {
          "font": {
           "size": 16
          },
          "showarrow": false,
          "text": "잔고수량",
          "x": 0.5,
          "xanchor": "center",
          "xref": "paper",
          "y": 0.79,
          "yanchor": "bottom",
          "yref": "paper"
         },
         {
          "font": {
           "size": 16
          },
          "showarrow": false,
          "text": "잔고가치",
          "x": 0.5,
          "xanchor": "center",
          "xref": "paper",
          "y": 0.66,
          "yanchor": "bottom",
          "yref": "paper"
         },
         {
          "font": {
           "size": 16
          },
          "showarrow": false,
          "text": "실현손익",
          "x": 0.5,
          "xanchor": "center",
          "xref": "paper",
          "y": 0.45,
          "yanchor": "bottom",
          "yref": "paper"
         },
         {
          "font": {
           "size": 16
          },
          "showarrow": false,
          "text": "총자산가치",
          "x": 0.5,
          "xanchor": "center",
          "xref": "paper",
          "y": 0.24,
          "yanchor": "bottom",
          "yref": "paper"
         }
        ],
        "height": 800,
        "hovermode": "x unified",
        "margin": {
         "b": 25,
         "l": 25,
         "r": 25,
         "t": 80
        },
        "showlegend": false,
        "template": {
         "data": {
          "bar": [
           {
            "error_x": {
             "color": "#2a3f5f"
            },
            "error_y": {
             "color": "#2a3f5f"
            },
            "marker": {
             "line": {
              "color": "#E5ECF6",
              "width": 0.5
             },
             "pattern": {
              "fillmode": "overlay",
              "size": 10,
              "solidity": 0.2
             }
            },
            "type": "bar"
           }
          ],
          "barpolar": [
           {
            "marker": {
             "line": {
              "color": "#E5ECF6",
              "width": 0.5
             },
             "pattern": {
              "fillmode": "overlay",
              "size": 10,
              "solidity": 0.2
             }
            },
            "type": "barpolar"
           }
          ],
          "carpet": [
           {
            "aaxis": {
             "endlinecolor": "#2a3f5f",
             "gridcolor": "white",
             "linecolor": "white",
             "minorgridcolor": "white",
             "startlinecolor": "#2a3f5f"
            },
            "baxis": {
             "endlinecolor": "#2a3f5f",
             "gridcolor": "white",
             "linecolor": "white",
             "minorgridcolor": "white",
             "startlinecolor": "#2a3f5f"
            },
            "type": "carpet"
           }
          ],
          "choropleth": [
           {
            "colorbar": {
             "outlinewidth": 0,
             "ticks": ""
            },
            "type": "choropleth"
           }
          ],
          "contour": [
           {
            "colorbar": {
             "outlinewidth": 0,
             "ticks": ""
            },
            "colorscale": [
             [
              0,
              "#0d0887"
             ],
             [
              0.1111111111111111,
              "#46039f"
             ],
             [
              0.2222222222222222,
              "#7201a8"
             ],
             [
              0.3333333333333333,
              "#9c179e"
             ],
             [
              0.4444444444444444,
              "#bd3786"
             ],
             [
              0.5555555555555556,
              "#d8576b"
             ],
             [
              0.6666666666666666,
              "#ed7953"
             ],
             [
              0.7777777777777778,
              "#fb9f3a"
             ],
             [
              0.8888888888888888,
              "#fdca26"
             ],
             [
              1,
              "#f0f921"
             ]
            ],
            "type": "contour"
           }
          ],
          "contourcarpet": [
           {
            "colorbar": {
             "outlinewidth": 0,
             "ticks": ""
            },
            "type": "contourcarpet"
           }
          ],
          "heatmap": [
           {
            "colorbar": {
             "outlinewidth": 0,
             "ticks": ""
            },
            "colorscale": [
             [
              0,
              "#0d0887"
             ],
             [
              0.1111111111111111,
              "#46039f"
             ],
             [
              0.2222222222222222,
              "#7201a8"
             ],
             [
              0.3333333333333333,
              "#9c179e"
             ],
             [
              0.4444444444444444,
              "#bd3786"
             ],
             [
              0.5555555555555556,
              "#d8576b"
             ],
             [
              0.6666666666666666,
              "#ed7953"
             ],
             [
              0.7777777777777778,
              "#fb9f3a"
             ],
             [
              0.8888888888888888,
              "#fdca26"
             ],
             [
              1,
              "#f0f921"
             ]
            ],
            "type": "heatmap"
           }
          ],
          "heatmapgl": [
           {
            "colorbar": {
             "outlinewidth": 0,
             "ticks": ""
            },
            "colorscale": [
             [
              0,
              "#0d0887"
             ],
             [
              0.1111111111111111,
              "#46039f"
             ],
             [
              0.2222222222222222,
              "#7201a8"
             ],
             [
              0.3333333333333333,
              "#9c179e"
             ],
             [
              0.4444444444444444,
              "#bd3786"
             ],
             [
              0.5555555555555556,
              "#d8576b"
             ],
             [
              0.6666666666666666,
              "#ed7953"
             ],
             [
              0.7777777777777778,
              "#fb9f3a"
             ],
             [
              0.8888888888888888,
              "#fdca26"
             ],
             [
              1,
              "#f0f921"
             ]
            ],
            "type": "heatmapgl"
           }
          ],
          "histogram": [
           {
            "marker": {
             "pattern": {
              "fillmode": "overlay",
              "size": 10,
              "solidity": 0.2
             }
            },
            "type": "histogram"
           }
          ],
          "histogram2d": [
           {
            "colorbar": {
             "outlinewidth": 0,
             "ticks": ""
            },
            "colorscale": [
             [
              0,
              "#0d0887"
             ],
             [
              0.1111111111111111,
              "#46039f"
             ],
             [
              0.2222222222222222,
              "#7201a8"
             ],
             [
              0.3333333333333333,
              "#9c179e"
             ],
             [
              0.4444444444444444,
              "#bd3786"
             ],
             [
              0.5555555555555556,
              "#d8576b"
             ],
             [
              0.6666666666666666,
              "#ed7953"
             ],
             [
              0.7777777777777778,
              "#fb9f3a"
             ],
             [
              0.8888888888888888,
              "#fdca26"
             ],
             [
              1,
              "#f0f921"
             ]
            ],
            "type": "histogram2d"
           }
          ],
          "histogram2dcontour": [
           {
            "colorbar": {
             "outlinewidth": 0,
             "ticks": ""
            },
            "colorscale": [
             [
              0,
              "#0d0887"
             ],
             [
              0.1111111111111111,
              "#46039f"
             ],
             [
              0.2222222222222222,
              "#7201a8"
             ],
             [
              0.3333333333333333,
              "#9c179e"
             ],
             [
              0.4444444444444444,
              "#bd3786"
             ],
             [
              0.5555555555555556,
              "#d8576b"
             ],
             [
              0.6666666666666666,
              "#ed7953"
             ],
             [
              0.7777777777777778,
              "#fb9f3a"
             ],
             [
              0.8888888888888888,
              "#fdca26"
             ],
             [
              1,
              "#f0f921"
             ]
            ],
            "type": "histogram2dcontour"
           }
          ],
          "mesh3d": [
           {
            "colorbar": {
             "outlinewidth": 0,
             "ticks": ""
            },
            "type": "mesh3d"
           }
          ],
          "parcoords": [
           {
            "line": {
             "colorbar": {
              "outlinewidth": 0,
              "ticks": ""
             }
            },
            "type": "parcoords"
           }
          ],
          "pie": [
           {
            "automargin": true,
            "type": "pie"
           }
          ],
          "scatter": [
           {
            "fillpattern": {
             "fillmode": "overlay",
             "size": 10,
             "solidity": 0.2
            },
            "type": "scatter"
           }
          ],
          "scatter3d": [
           {
            "line": {
             "colorbar": {
              "outlinewidth": 0,
              "ticks": ""
             }
            },
            "marker": {
             "colorbar": {
              "outlinewidth": 0,
              "ticks": ""
             }
            },
            "type": "scatter3d"
           }
          ],
          "scattercarpet": [
           {
            "marker": {
             "colorbar": {
              "outlinewidth": 0,
              "ticks": ""
             }
            },
            "type": "scattercarpet"
           }
          ],
          "scattergeo": [
           {
            "marker": {
             "colorbar": {
              "outlinewidth": 0,
              "ticks": ""
             }
            },
            "type": "scattergeo"
           }
          ],
          "scattergl": [
           {
            "marker": {
             "colorbar": {
              "outlinewidth": 0,
              "ticks": ""
             }
            },
            "type": "scattergl"
           }
          ],
          "scattermapbox": [
           {
            "marker": {
             "colorbar": {
              "outlinewidth": 0,
              "ticks": ""
             }
            },
            "type": "scattermapbox"
           }
          ],
          "scatterpolar": [
           {
            "marker": {
             "colorbar": {
              "outlinewidth": 0,
              "ticks": ""
             }
            },
            "type": "scatterpolar"
           }
          ],
          "scatterpolargl": [
           {
            "marker": {
             "colorbar": {
              "outlinewidth": 0,
              "ticks": ""
             }
            },
            "type": "scatterpolargl"
           }
          ],
          "scatterternary": [
           {
            "marker": {
             "colorbar": {
              "outlinewidth": 0,
              "ticks": ""
             }
            },
            "type": "scatterternary"
           }
          ],
          "surface": [
           {
            "colorbar": {
             "outlinewidth": 0,
             "ticks": ""
            },
            "colorscale": [
             [
              0,
              "#0d0887"
             ],
             [
              0.1111111111111111,
              "#46039f"
             ],
             [
              0.2222222222222222,
              "#7201a8"
             ],
             [
              0.3333333333333333,
              "#9c179e"
             ],
             [
              0.4444444444444444,
              "#bd3786"
             ],
             [
              0.5555555555555556,
              "#d8576b"
             ],
             [
              0.6666666666666666,
              "#ed7953"
             ],
             [
              0.7777777777777778,
              "#fb9f3a"
             ],
             [
              0.8888888888888888,
              "#fdca26"
             ],
             [
              1,
              "#f0f921"
             ]
            ],
            "type": "surface"
           }
          ],
          "table": [
           {
            "cells": {
             "fill": {
              "color": "#EBF0F8"
             },
             "line": {
              "color": "white"
             }
            },
            "header": {
             "fill": {
              "color": "#C8D4E3"
             },
             "line": {
              "color": "white"
             }
            },
            "type": "table"
           }
          ]
         },
         "layout": {
          "annotationdefaults": {
           "arrowcolor": "#2a3f5f",
           "arrowhead": 0,
           "arrowwidth": 1
          },
          "autotypenumbers": "strict",
          "coloraxis": {
           "colorbar": {
            "outlinewidth": 0,
            "ticks": ""
           }
          },
          "colorscale": {
           "diverging": [
            [
             0,
             "#8e0152"
            ],
            [
             0.1,
             "#c51b7d"
            ],
            [
             0.2,
             "#de77ae"
            ],
            [
             0.3,
             "#f1b6da"
            ],
            [
             0.4,
             "#fde0ef"
            ],
            [
             0.5,
             "#f7f7f7"
            ],
            [
             0.6,
             "#e6f5d0"
            ],
            [
             0.7,
             "#b8e186"
            ],
            [
             0.8,
             "#7fbc41"
            ],
            [
             0.9,
             "#4d9221"
            ],
            [
             1,
             "#276419"
            ]
           ],
           "sequential": [
            [
             0,
             "#0d0887"
            ],
            [
             0.1111111111111111,
             "#46039f"
            ],
            [
             0.2222222222222222,
             "#7201a8"
            ],
            [
             0.3333333333333333,
             "#9c179e"
            ],
            [
             0.4444444444444444,
             "#bd3786"
            ],
            [
             0.5555555555555556,
             "#d8576b"
            ],
            [
             0.6666666666666666,
             "#ed7953"
            ],
            [
             0.7777777777777778,
             "#fb9f3a"
            ],
            [
             0.8888888888888888,
             "#fdca26"
            ],
            [
             1,
             "#f0f921"
            ]
           ],
           "sequentialminus": [
            [
             0,
             "#0d0887"
            ],
            [
             0.1111111111111111,
             "#46039f"
            ],
            [
             0.2222222222222222,
             "#7201a8"
            ],
            [
             0.3333333333333333,
             "#9c179e"
            ],
            [
             0.4444444444444444,
             "#bd3786"
            ],
            [
             0.5555555555555556,
             "#d8576b"
            ],
            [
             0.6666666666666666,
             "#ed7953"
            ],
            [
             0.7777777777777778,
             "#fb9f3a"
            ],
            [
             0.8888888888888888,
             "#fdca26"
            ],
            [
             1,
             "#f0f921"
            ]
           ]
          },
          "colorway": [
           "#636efa",
           "#EF553B",
           "#00cc96",
           "#ab63fa",
           "#FFA15A",
           "#19d3f3",
           "#FF6692",
           "#B6E880",
           "#FF97FF",
           "#FECB52"
          ],
          "font": {
           "color": "#2a3f5f"
          },
          "geo": {
           "bgcolor": "white",
           "lakecolor": "white",
           "landcolor": "#E5ECF6",
           "showlakes": true,
           "showland": true,
           "subunitcolor": "white"
          },
          "hoverlabel": {
           "align": "left"
          },
          "hovermode": "closest",
          "mapbox": {
           "style": "light"
          },
          "paper_bgcolor": "white",
          "plot_bgcolor": "#E5ECF6",
          "polar": {
           "angularaxis": {
            "gridcolor": "white",
            "linecolor": "white",
            "ticks": ""
           },
           "bgcolor": "#E5ECF6",
           "radialaxis": {
            "gridcolor": "white",
            "linecolor": "white",
            "ticks": ""
           }
          },
          "scene": {
           "xaxis": {
            "backgroundcolor": "#E5ECF6",
            "gridcolor": "white",
            "gridwidth": 2,
            "linecolor": "white",
            "showbackground": true,
            "ticks": "",
            "zerolinecolor": "white"
           },
           "yaxis": {
            "backgroundcolor": "#E5ECF6",
            "gridcolor": "white",
            "gridwidth": 2,
            "linecolor": "white",
            "showbackground": true,
            "ticks": "",
            "zerolinecolor": "white"
           },
           "zaxis": {
            "backgroundcolor": "#E5ECF6",
            "gridcolor": "white",
            "gridwidth": 2,
            "linecolor": "white",
            "showbackground": true,
            "ticks": "",
            "zerolinecolor": "white"
           }
          },
          "shapedefaults": {
           "line": {
            "color": "#2a3f5f"
           }
          },
          "ternary": {
           "aaxis": {
            "gridcolor": "white",
            "linecolor": "white",
            "ticks": ""
           },
           "baxis": {
            "gridcolor": "white",
            "linecolor": "white",
            "ticks": ""
           },
           "bgcolor": "#E5ECF6",
           "caxis": {
            "gridcolor": "white",
            "linecolor": "white",
            "ticks": ""
           }
          },
          "title": {
           "x": 0.05
          },
          "xaxis": {
           "automargin": true,
           "gridcolor": "white",
           "linecolor": "white",
           "ticks": "",
           "title": {
            "standoff": 15
           },
           "zerolinecolor": "white",
           "zerolinewidth": 2
          },
          "yaxis": {
           "automargin": true,
           "gridcolor": "white",
           "linecolor": "white",
           "ticks": "",
           "title": {
            "standoff": 15
           },
           "zerolinecolor": "white",
           "zerolinewidth": 2
          }
         }
        },
        "title": {
         "text": "백테스트 결과: 005930, 2022-12-21~2023-01-20",
         "x": 0.5,
         "y": 0.98
        },
        "uniformtext": {
         "minsize": 12,
         "mode": "show"
        },
        "xaxis": {
         "anchor": "y",
         "domain": [
          0,
          1
         ],
         "matches": "x5",
         "showticklabels": false
        },
        "xaxis2": {
         "anchor": "y2",
         "domain": [
          0,
          1
         ],
         "matches": "x5",
         "showticklabels": false
        },
        "xaxis3": {
         "anchor": "y3",
         "domain": [
          0,
          1
         ],
         "matches": "x5",
         "showticklabels": false
        },
        "xaxis4": {
         "anchor": "y4",
         "domain": [
          0,
          1
         ],
         "matches": "x5",
         "showticklabels": false
        },
        "xaxis5": {
         "anchor": "y5",
         "domain": [
          0,
          1
         ],
         "hoverformat": "%Y-%m-%d",
         "showticklabels": true,
         "tickformat": "%Y-%m-%d"
        },
        "yaxis": {
         "anchor": "x",
         "domain": [
          0.8400000000000001,
          1
         ],
         "tickformat": ",d"
        },
        "yaxis2": {
         "anchor": "x2",
         "domain": [
          0.7100000000000001,
          0.79
         ],
         "dtick": "L1"
        },
        "yaxis3": {
         "anchor": "x3",
         "domain": [
          0.5,
          0.66
         ],
         "tickformat": ",d"
        },
        "yaxis4": {
         "anchor": "x4",
         "domain": [
          0.29,
          0.45
         ],
         "tickformat": ",d"
        },
        "yaxis5": {
         "anchor": "x5",
         "domain": [
          0,
          0.24
         ],
         "tickformat": ",d"
        }
       }
      },
      "text/html": [
       "<div>                            <div id=\"66e9779e-5fe0-470c-8449-94f3faacf0d4\" class=\"plotly-graph-div\" style=\"height:800px; width:100%;\"></div>            <script type=\"text/javascript\">                require([\"plotly\"], function(Plotly) {                    window.PLOTLYENV=window.PLOTLYENV || {};                                    if (document.getElementById(\"66e9779e-5fe0-470c-8449-94f3faacf0d4\")) {                    Plotly.newPlot(                        \"66e9779e-5fe0-470c-8449-94f3faacf0d4\",                        [{\"marker\":{\"color\":\"#000000\"},\"mode\":\"lines\",\"name\":\"\\uac00\\uaca9\",\"x\":[\"2022-12-21T00:00:00\",\"2022-12-22T00:00:00\",\"2022-12-23T00:00:00\",\"2022-12-26T00:00:00\",\"2022-12-27T00:00:00\",\"2022-12-28T00:00:00\",\"2022-12-29T00:00:00\",\"2023-01-02T00:00:00\",\"2023-01-03T00:00:00\",\"2023-01-04T00:00:00\",\"2023-01-05T00:00:00\",\"2023-01-06T00:00:00\",\"2023-01-09T00:00:00\",\"2023-01-10T00:00:00\",\"2023-01-11T00:00:00\",\"2023-01-12T00:00:00\",\"2023-01-13T00:00:00\",\"2023-01-16T00:00:00\",\"2023-01-17T00:00:00\",\"2023-01-18T00:00:00\",\"2023-01-19T00:00:00\",\"2023-01-20T00:00:00\"],\"y\":[58000,59100,58100,57900,58100,56600,55300,55500,55400,57800,58200,59000,60700,60400,60500,60500,60800,61100,61000,60400,61500,61800],\"type\":\"scatter\",\"xaxis\":\"x5\",\"yaxis\":\"y\"},{\"marker\":{\"color\":\"#DC143C\",\"line\":{\"color\":\"white\",\"width\":1},\"size\":12,\"symbol\":\"triangle-up\"},\"mode\":\"markers\",\"name\":\"\\ub9e4\\uc218\",\"x\":[\"2023-01-02T00:00:00\"],\"y\":[55500],\"type\":\"scatter\",\"xaxis\":\"x5\",\"yaxis\":\"y\"},{\"marker\":{\"color\":\"#00008B\",\"line\":{\"color\":\"white\",\"width\":1},\"size\":12,\"symbol\":\"triangle-down\"},\"mode\":\"markers\",\"name\":\"\\ub9e4\\ub3c4\",\"x\":[\"2023-01-11T00:00:00\"],\"y\":[60500],\"type\":\"scatter\",\"xaxis\":\"x5\",\"yaxis\":\"y\"},{\"fill\":\"tozeroy\",\"fillcolor\":\"lightgray\",\"line\":{\"color\":\"#000000\",\"shape\":\"hv\"},\"mode\":\"lines\",\"name\":\"\\uc794\\uace0\\uc218\\ub7c9\",\"x\":[\"2022-12-21T00:00:00\",\"2022-12-22T00:00:00\",\"2022-12-23T00:00:00\",\"2022-12-26T00:00:00\",\"2022-12-27T00:00:00\",\"2022-12-28T00:00:00\",\"2022-12-29T00:00:00\",\"2023-01-02T00:00:00\",\"2023-01-03T00:00:00\",\"2023-01-04T00:00:00\",\"2023-01-05T00:00:00\",\"2023-01-06T00:00:00\",\"2023-01-09T00:00:00\",\"2023-01-10T00:00:00\",\"2023-01-11T00:00:00\",\"2023-01-12T00:00:00\",\"2023-01-13T00:00:00\",\"2023-01-16T00:00:00\",\"2023-01-17T00:00:00\",\"2023-01-18T00:00:00\",\"2023-01-19T00:00:00\",\"2023-01-20T00:00:00\"],\"y\":[0,0,0,0,0,0,0,10,10,10,10,10,10,10,0,0,0,0,0,0,0,0],\"type\":\"scatter\",\"xaxis\":\"x5\",\"yaxis\":\"y2\"},{\"line\":{\"color\":\"#000000\",\"shape\":\"hv\"},\"mode\":\"lines\",\"name\":\"\\uc794\\uace0\\uac00\\uce58\",\"x\":[\"2022-12-21T00:00:00\",\"2022-12-22T00:00:00\",\"2022-12-23T00:00:00\",\"2022-12-26T00:00:00\",\"2022-12-27T00:00:00\",\"2022-12-28T00:00:00\",\"2022-12-29T00:00:00\",\"2023-01-02T00:00:00\",\"2023-01-03T00:00:00\",\"2023-01-04T00:00:00\",\"2023-01-05T00:00:00\",\"2023-01-06T00:00:00\",\"2023-01-09T00:00:00\",\"2023-01-10T00:00:00\",\"2023-01-11T00:00:00\",\"2023-01-12T00:00:00\",\"2023-01-13T00:00:00\",\"2023-01-16T00:00:00\",\"2023-01-17T00:00:00\",\"2023-01-18T00:00:00\",\"2023-01-19T00:00:00\",\"2023-01-20T00:00:00\"],\"y\":[null,null,null,null,null,null,null,555000.0,554000.0,578000.0,582000.0,590000.0,607000.0,604000.0,null,null,null,null,null,null,null,null],\"type\":\"scatter\",\"xaxis\":\"x5\",\"yaxis\":\"y3\"},{\"cliponaxis\":false,\"marker\":{\"color\":[\"#00008B\",\"#00008B\",\"#00008B\",\"#00008B\",\"#00008B\",\"#00008B\",\"#00008B\",\"#00008B\",\"#00008B\",\"#00008B\",\"#00008B\",\"#00008B\",\"#00008B\",\"#00008B\",\"#DC143C\",\"#00008B\",\"#00008B\",\"#00008B\",\"#00008B\",\"#00008B\",\"#00008B\",\"#00008B\"]},\"name\":\"\\uc2e4\\ud604\\uc190\\uc775\",\"text\":[\"\",\"\",\"\",\"\",\"\",\"\",\"\",\"\",\"\",\"\",\"\",\"\",\"\",\"\",\"50,000\",\"\",\"\",\"\",\"\",\"\",\"\",\"\"],\"textposition\":\"outside\",\"width\":432000000,\"x\":[\"2022-12-21T00:00:00\",\"2022-12-22T00:00:00\",\"2022-12-23T00:00:00\",\"2022-12-26T00:00:00\",\"2022-12-27T00:00:00\",\"2022-12-28T00:00:00\",\"2022-12-29T00:00:00\",\"2023-01-02T00:00:00\",\"2023-01-03T00:00:00\",\"2023-01-04T00:00:00\",\"2023-01-05T00:00:00\",\"2023-01-06T00:00:00\",\"2023-01-09T00:00:00\",\"2023-01-10T00:00:00\",\"2023-01-11T00:00:00\",\"2023-01-12T00:00:00\",\"2023-01-13T00:00:00\",\"2023-01-16T00:00:00\",\"2023-01-17T00:00:00\",\"2023-01-18T00:00:00\",\"2023-01-19T00:00:00\",\"2023-01-20T00:00:00\"],\"y\":[0,0,0,0,0,0,0,0,0,0,0,0,0,0,50000,0,0,0,0,0,0,0],\"type\":\"bar\",\"xaxis\":\"x5\",\"yaxis\":\"y4\"},{\"line\":{\"color\":\"#000000\",\"shape\":\"hv\"},\"mode\":\"lines\",\"name\":\"\\ucd1d\\uc790\\uc0b0\\uac00\\uce58\",\"x\":[\"2022-12-21T00:00:00\",\"2022-12-22T00:00:00\",\"2022-12-23T00:00:00\",\"2022-12-26T00:00:00\",\"2022-12-27T00:00:00\",\"2022-12-28T00:00:00\",\"2022-12-29T00:00:00\",\"2023-01-02T00:00:00\",\"2023-01-03T00:00:00\",\"2023-01-04T00:00:00\",\"2023-01-05T00:00:00\",\"2023-01-06T00:00:00\",\"2023-01-09T00:00:00\",\"2023-01-10T00:00:00\",\"2023-01-11T00:00:00\",\"2023-01-12T00:00:00\",\"2023-01-13T00:00:00\",\"2023-01-16T00:00:00\",\"2023-01-17T00:00:00\",\"2023-01-18T00:00:00\",\"2023-01-19T00:00:00\",\"2023-01-20T00:00:00\"],\"y\":[1000000,1000000,1000000,1000000,1000000,1000000,1000000,1000000,999000,1023000,1027000,1035000,1052000,1049000,1050000,1050000,1050000,1050000,1050000,1050000,1050000,1050000],\"type\":\"scatter\",\"xaxis\":\"x5\",\"yaxis\":\"y5\"},{\"line\":{\"color\":\"#DC143C\",\"dash\":\"dash\",\"shape\":\"hv\"},\"mode\":\"lines\",\"name\":\"\\ucd5c\\uace0\\uc790\\uc0b0\\uac00\\uce58\",\"x\":[\"2022-12-21T00:00:00\",\"2022-12-22T00:00:00\",\"2022-12-23T00:00:00\",\"2022-12-26T00:00:00\",\"2022-12-27T00:00:00\",\"2022-12-28T00:00:00\",\"2022-12-29T00:00:00\",\"2023-01-02T00:00:00\",\"2023-01-03T00:00:00\",\"2023-01-04T00:00:00\",\"2023-01-05T00:00:00\",\"2023-01-06T00:00:00\",\"2023-01-09T00:00:00\",\"2023-01-10T00:00:00\",\"2023-01-11T00:00:00\",\"2023-01-12T00:00:00\",\"2023-01-13T00:00:00\",\"2023-01-16T00:00:00\",\"2023-01-17T00:00:00\",\"2023-01-18T00:00:00\",\"2023-01-19T00:00:00\",\"2023-01-20T00:00:00\"],\"y\":[1000000,1000000,1000000,1000000,1000000,1000000,1000000,1000000,1000000,1023000,1027000,1035000,1052000,1052000,1052000,1052000,1052000,1052000,1052000,1052000,1052000,1052000],\"type\":\"scatter\",\"xaxis\":\"x5\",\"yaxis\":\"y5\"},{\"base\":[1000000],\"cliponaxis\":false,\"marker\":{\"color\":[\"#DC143C\"]},\"name\":\"\\ucd5c\\uc885\\uc190\\uc775\",\"text\":[\"\\ucd5c\\uc885\\uc218\\uc775: 50,000\"],\"textposition\":\"outside\",\"width\":864000000,\"x\":[\"2023-01-20T00:00:00\"],\"y\":[50000],\"type\":\"bar\",\"xaxis\":\"x5\",\"yaxis\":\"y5\"},{\"cliponaxis\":false,\"marker\":{\"color\":[\"#DC143C\",\"#00008B\"],\"line\":{\"color\":\"white\",\"width\":1},\"size\":12,\"symbol\":[\"triangle-up\",\"triangle-down\"]},\"mode\":\"markers+text\",\"name\":\"\",\"text\":[\"\\ucd5c\\uace0\\uc790\\uc0b0\\uac00\\uce58: 1,052,000\",\"MDD: -3,000\"],\"textposition\":[\"top center\",\"bottom center\"],\"x\":[\"2023-01-09T00:00:00\",\"2023-01-10T00:00:00\"],\"y\":[1052000,1049000],\"type\":\"scatter\",\"xaxis\":\"x5\",\"yaxis\":\"y5\"}],                        {\"template\":{\"data\":{\"histogram2dcontour\":[{\"type\":\"histogram2dcontour\",\"colorbar\":{\"outlinewidth\":0,\"ticks\":\"\"},\"colorscale\":[[0.0,\"#0d0887\"],[0.1111111111111111,\"#46039f\"],[0.2222222222222222,\"#7201a8\"],[0.3333333333333333,\"#9c179e\"],[0.4444444444444444,\"#bd3786\"],[0.5555555555555556,\"#d8576b\"],[0.6666666666666666,\"#ed7953\"],[0.7777777777777778,\"#fb9f3a\"],[0.8888888888888888,\"#fdca26\"],[1.0,\"#f0f921\"]]}],\"choropleth\":[{\"type\":\"choropleth\",\"colorbar\":{\"outlinewidth\":0,\"ticks\":\"\"}}],\"histogram2d\":[{\"type\":\"histogram2d\",\"colorbar\":{\"outlinewidth\":0,\"ticks\":\"\"},\"colorscale\":[[0.0,\"#0d0887\"],[0.1111111111111111,\"#46039f\"],[0.2222222222222222,\"#7201a8\"],[0.3333333333333333,\"#9c179e\"],[0.4444444444444444,\"#bd3786\"],[0.5555555555555556,\"#d8576b\"],[0.6666666666666666,\"#ed7953\"],[0.7777777777777778,\"#fb9f3a\"],[0.8888888888888888,\"#fdca26\"],[1.0,\"#f0f921\"]]}],\"heatmap\":[{\"type\":\"heatmap\",\"colorbar\":{\"outlinewidth\":0,\"ticks\":\"\"},\"colorscale\":[[0.0,\"#0d0887\"],[0.1111111111111111,\"#46039f\"],[0.2222222222222222,\"#7201a8\"],[0.3333333333333333,\"#9c179e\"],[0.4444444444444444,\"#bd3786\"],[0.5555555555555556,\"#d8576b\"],[0.6666666666666666,\"#ed7953\"],[0.7777777777777778,\"#fb9f3a\"],[0.8888888888888888,\"#fdca26\"],[1.0,\"#f0f921\"]]}],\"heatmapgl\":[{\"type\":\"heatmapgl\",\"colorbar\":{\"outlinewidth\":0,\"ticks\":\"\"},\"colorscale\":[[0.0,\"#0d0887\"],[0.1111111111111111,\"#46039f\"],[0.2222222222222222,\"#7201a8\"],[0.3333333333333333,\"#9c179e\"],[0.4444444444444444,\"#bd3786\"],[0.5555555555555556,\"#d8576b\"],[0.6666666666666666,\"#ed7953\"],[0.7777777777777778,\"#fb9f3a\"],[0.8888888888888888,\"#fdca26\"],[1.0,\"#f0f921\"]]}],\"contourcarpet\":[{\"type\":\"contourcarpet\",\"colorbar\":{\"outlinewidth\":0,\"ticks\":\"\"}}],\"contour\":[{\"type\":\"contour\",\"colorbar\":{\"outlinewidth\":0,\"ticks\":\"\"},\"colorscale\":[[0.0,\"#0d0887\"],[0.1111111111111111,\"#46039f\"],[0.2222222222222222,\"#7201a8\"],[0.3333333333333333,\"#9c179e\"],[0.4444444444444444,\"#bd3786\"],[0.5555555555555556,\"#d8576b\"],[0.6666666666666666,\"#ed7953\"],[0.7777777777777778,\"#fb9f3a\"],[0.8888888888888888,\"#fdca26\"],[1.0,\"#f0f921\"]]}],\"surface\":[{\"type\":\"surface\",\"colorbar\":{\"outlinewidth\":0,\"ticks\":\"\"},\"colorscale\":[[0.0,\"#0d0887\"],[0.1111111111111111,\"#46039f\"],[0.2222222222222222,\"#7201a8\"],[0.3333333333333333,\"#9c179e\"],[0.4444444444444444,\"#bd3786\"],[0.5555555555555556,\"#d8576b\"],[0.6666666666666666,\"#ed7953\"],[0.7777777777777778,\"#fb9f3a\"],[0.8888888888888888,\"#fdca26\"],[1.0,\"#f0f921\"]]}],\"mesh3d\":[{\"type\":\"mesh3d\",\"colorbar\":{\"outlinewidth\":0,\"ticks\":\"\"}}],\"scatter\":[{\"fillpattern\":{\"fillmode\":\"overlay\",\"size\":10,\"solidity\":0.2},\"type\":\"scatter\"}],\"parcoords\":[{\"type\":\"parcoords\",\"line\":{\"colorbar\":{\"outlinewidth\":0,\"ticks\":\"\"}}}],\"scatterpolargl\":[{\"type\":\"scatterpolargl\",\"marker\":{\"colorbar\":{\"outlinewidth\":0,\"ticks\":\"\"}}}],\"bar\":[{\"error_x\":{\"color\":\"#2a3f5f\"},\"error_y\":{\"color\":\"#2a3f5f\"},\"marker\":{\"line\":{\"color\":\"#E5ECF6\",\"width\":0.5},\"pattern\":{\"fillmode\":\"overlay\",\"size\":10,\"solidity\":0.2}},\"type\":\"bar\"}],\"scattergeo\":[{\"type\":\"scattergeo\",\"marker\":{\"colorbar\":{\"outlinewidth\":0,\"ticks\":\"\"}}}],\"scatterpolar\":[{\"type\":\"scatterpolar\",\"marker\":{\"colorbar\":{\"outlinewidth\":0,\"ticks\":\"\"}}}],\"histogram\":[{\"marker\":{\"pattern\":{\"fillmode\":\"overlay\",\"size\":10,\"solidity\":0.2}},\"type\":\"histogram\"}],\"scattergl\":[{\"type\":\"scattergl\",\"marker\":{\"colorbar\":{\"outlinewidth\":0,\"ticks\":\"\"}}}],\"scatter3d\":[{\"type\":\"scatter3d\",\"line\":{\"colorbar\":{\"outlinewidth\":0,\"ticks\":\"\"}},\"marker\":{\"colorbar\":{\"outlinewidth\":0,\"ticks\":\"\"}}}],\"scattermapbox\":[{\"type\":\"scattermapbox\",\"marker\":{\"colorbar\":{\"outlinewidth\":0,\"ticks\":\"\"}}}],\"scatterternary\":[{\"type\":\"scatterternary\",\"marker\":{\"colorbar\":{\"outlinewidth\":0,\"ticks\":\"\"}}}],\"scattercarpet\":[{\"type\":\"scattercarpet\",\"marker\":{\"colorbar\":{\"outlinewidth\":0,\"ticks\":\"\"}}}],\"carpet\":[{\"aaxis\":{\"endlinecolor\":\"#2a3f5f\",\"gridcolor\":\"white\",\"linecolor\":\"white\",\"minorgridcolor\":\"white\",\"startlinecolor\":\"#2a3f5f\"},\"baxis\":{\"endlinecolor\":\"#2a3f5f\",\"gridcolor\":\"white\",\"linecolor\":\"white\",\"minorgridcolor\":\"white\",\"startlinecolor\":\"#2a3f5f\"},\"type\":\"carpet\"}],\"table\":[{\"cells\":{\"fill\":{\"color\":\"#EBF0F8\"},\"line\":{\"color\":\"white\"}},\"header\":{\"fill\":{\"color\":\"#C8D4E3\"},\"line\":{\"color\":\"white\"}},\"type\":\"table\"}],\"barpolar\":[{\"marker\":{\"line\":{\"color\":\"#E5ECF6\",\"width\":0.5},\"pattern\":{\"fillmode\":\"overlay\",\"size\":10,\"solidity\":0.2}},\"type\":\"barpolar\"}],\"pie\":[{\"automargin\":true,\"type\":\"pie\"}]},\"layout\":{\"autotypenumbers\":\"strict\",\"colorway\":[\"#636efa\",\"#EF553B\",\"#00cc96\",\"#ab63fa\",\"#FFA15A\",\"#19d3f3\",\"#FF6692\",\"#B6E880\",\"#FF97FF\",\"#FECB52\"],\"font\":{\"color\":\"#2a3f5f\"},\"hovermode\":\"closest\",\"hoverlabel\":{\"align\":\"left\"},\"paper_bgcolor\":\"white\",\"plot_bgcolor\":\"#E5ECF6\",\"polar\":{\"bgcolor\":\"#E5ECF6\",\"angularaxis\":{\"gridcolor\":\"white\",\"linecolor\":\"white\",\"ticks\":\"\"},\"radialaxis\":{\"gridcolor\":\"white\",\"linecolor\":\"white\",\"ticks\":\"\"}},\"ternary\":{\"bgcolor\":\"#E5ECF6\",\"aaxis\":{\"gridcolor\":\"white\",\"linecolor\":\"white\",\"ticks\":\"\"},\"baxis\":{\"gridcolor\":\"white\",\"linecolor\":\"white\",\"ticks\":\"\"},\"caxis\":{\"gridcolor\":\"white\",\"linecolor\":\"white\",\"ticks\":\"\"}},\"coloraxis\":{\"colorbar\":{\"outlinewidth\":0,\"ticks\":\"\"}},\"colorscale\":{\"sequential\":[[0.0,\"#0d0887\"],[0.1111111111111111,\"#46039f\"],[0.2222222222222222,\"#7201a8\"],[0.3333333333333333,\"#9c179e\"],[0.4444444444444444,\"#bd3786\"],[0.5555555555555556,\"#d8576b\"],[0.6666666666666666,\"#ed7953\"],[0.7777777777777778,\"#fb9f3a\"],[0.8888888888888888,\"#fdca26\"],[1.0,\"#f0f921\"]],\"sequentialminus\":[[0.0,\"#0d0887\"],[0.1111111111111111,\"#46039f\"],[0.2222222222222222,\"#7201a8\"],[0.3333333333333333,\"#9c179e\"],[0.4444444444444444,\"#bd3786\"],[0.5555555555555556,\"#d8576b\"],[0.6666666666666666,\"#ed7953\"],[0.7777777777777778,\"#fb9f3a\"],[0.8888888888888888,\"#fdca26\"],[1.0,\"#f0f921\"]],\"diverging\":[[0,\"#8e0152\"],[0.1,\"#c51b7d\"],[0.2,\"#de77ae\"],[0.3,\"#f1b6da\"],[0.4,\"#fde0ef\"],[0.5,\"#f7f7f7\"],[0.6,\"#e6f5d0\"],[0.7,\"#b8e186\"],[0.8,\"#7fbc41\"],[0.9,\"#4d9221\"],[1,\"#276419\"]]},\"xaxis\":{\"gridcolor\":\"white\",\"linecolor\":\"white\",\"ticks\":\"\",\"title\":{\"standoff\":15},\"zerolinecolor\":\"white\",\"automargin\":true,\"zerolinewidth\":2},\"yaxis\":{\"gridcolor\":\"white\",\"linecolor\":\"white\",\"ticks\":\"\",\"title\":{\"standoff\":15},\"zerolinecolor\":\"white\",\"automargin\":true,\"zerolinewidth\":2},\"scene\":{\"xaxis\":{\"backgroundcolor\":\"#E5ECF6\",\"gridcolor\":\"white\",\"linecolor\":\"white\",\"showbackground\":true,\"ticks\":\"\",\"zerolinecolor\":\"white\",\"gridwidth\":2},\"yaxis\":{\"backgroundcolor\":\"#E5ECF6\",\"gridcolor\":\"white\",\"linecolor\":\"white\",\"showbackground\":true,\"ticks\":\"\",\"zerolinecolor\":\"white\",\"gridwidth\":2},\"zaxis\":{\"backgroundcolor\":\"#E5ECF6\",\"gridcolor\":\"white\",\"linecolor\":\"white\",\"showbackground\":true,\"ticks\":\"\",\"zerolinecolor\":\"white\",\"gridwidth\":2}},\"shapedefaults\":{\"line\":{\"color\":\"#2a3f5f\"}},\"annotationdefaults\":{\"arrowcolor\":\"#2a3f5f\",\"arrowhead\":0,\"arrowwidth\":1},\"geo\":{\"bgcolor\":\"white\",\"landcolor\":\"#E5ECF6\",\"subunitcolor\":\"white\",\"showland\":true,\"showlakes\":true,\"lakecolor\":\"white\"},\"title\":{\"x\":0.05},\"mapbox\":{\"style\":\"light\"}}},\"xaxis\":{\"anchor\":\"y\",\"domain\":[0.0,1.0],\"matches\":\"x5\",\"showticklabels\":false},\"yaxis\":{\"anchor\":\"x\",\"domain\":[0.8400000000000001,1.0],\"tickformat\":\",d\"},\"xaxis2\":{\"anchor\":\"y2\",\"domain\":[0.0,1.0],\"matches\":\"x5\",\"showticklabels\":false},\"yaxis2\":{\"anchor\":\"x2\",\"domain\":[0.7100000000000001,0.79],\"dtick\":\"L1\"},\"xaxis3\":{\"anchor\":\"y3\",\"domain\":[0.0,1.0],\"matches\":\"x5\",\"showticklabels\":false},\"yaxis3\":{\"anchor\":\"x3\",\"domain\":[0.5,0.66],\"tickformat\":\",d\"},\"xaxis4\":{\"anchor\":\"y4\",\"domain\":[0.0,1.0],\"matches\":\"x5\",\"showticklabels\":false},\"yaxis4\":{\"anchor\":\"x4\",\"domain\":[0.29,0.45],\"tickformat\":\",d\"},\"xaxis5\":{\"anchor\":\"y5\",\"domain\":[0.0,1.0],\"hoverformat\":\"%Y-%m-%d\",\"showticklabels\":true,\"tickformat\":\"%Y-%m-%d\"},\"yaxis5\":{\"anchor\":\"x5\",\"domain\":[0.0,0.24],\"tickformat\":\",d\"},\"annotations\":[{\"font\":{\"size\":16},\"showarrow\":false,\"text\":\"\\uac00\\uaca9\",\"x\":0.5,\"xanchor\":\"center\",\"xref\":\"paper\",\"y\":1.0,\"yanchor\":\"bottom\",\"yref\":\"paper\"},{\"font\":{\"size\":16},\"showarrow\":false,\"text\":\"\\uc794\\uace0\\uc218\\ub7c9\",\"x\":0.5,\"xanchor\":\"center\",\"xref\":\"paper\",\"y\":0.79,\"yanchor\":\"bottom\",\"yref\":\"paper\"},{\"font\":{\"size\":16},\"showarrow\":false,\"text\":\"\\uc794\\uace0\\uac00\\uce58\",\"x\":0.5,\"xanchor\":\"center\",\"xref\":\"paper\",\"y\":0.66,\"yanchor\":\"bottom\",\"yref\":\"paper\"},{\"font\":{\"size\":16},\"showarrow\":false,\"text\":\"\\uc2e4\\ud604\\uc190\\uc775\",\"x\":0.5,\"xanchor\":\"center\",\"xref\":\"paper\",\"y\":0.45,\"yanchor\":\"bottom\",\"yref\":\"paper\"},{\"font\":{\"size\":16},\"showarrow\":false,\"text\":\"\\ucd1d\\uc790\\uc0b0\\uac00\\uce58\",\"x\":0.5,\"xanchor\":\"center\",\"xref\":\"paper\",\"y\":0.24,\"yanchor\":\"bottom\",\"yref\":\"paper\"}],\"margin\":{\"b\":25,\"l\":25,\"r\":25,\"t\":80},\"title\":{\"text\":\"\\ubc31\\ud14c\\uc2a4\\ud2b8 \\uacb0\\uacfc: 005930, 2022-12-21~2023-01-20\",\"x\":0.5,\"y\":0.98},\"uniformtext\":{\"minsize\":12,\"mode\":\"show\"},\"height\":800,\"hovermode\":\"x unified\",\"showlegend\":false},                        {\"modeBarButtonsToRemove\": [\"resetScale2d\", \"lasso2d\", \"zoomIn2d\", \"zoomOut2d\", \"select2d\"], \"displaylogo\": false, \"responsive\": true}                    ).then(function(){\n",
       "                            \n",
       "var gd = document.getElementById('66e9779e-5fe0-470c-8449-94f3faacf0d4');\n",
       "var x = new MutationObserver(function (mutations, observer) {{\n",
       "        var display = window.getComputedStyle(gd).display;\n",
       "        if (!display || display === 'none') {{\n",
       "            console.log([gd, 'removed!']);\n",
       "            Plotly.purge(gd);\n",
       "            observer.disconnect();\n",
       "        }}\n",
       "}});\n",
       "\n",
       "// Listen for the removal of the full notebook cells\n",
       "var notebookContainer = gd.closest('#notebook-container');\n",
       "if (notebookContainer) {{\n",
       "    x.observe(notebookContainer, {childList: true});\n",
       "}}\n",
       "\n",
       "// Listen for the clearing of the current output cell\n",
       "var outputEl = gd.closest('.output');\n",
       "if (outputEl) {{\n",
       "    x.observe(outputEl, {childList: true});\n",
       "}}\n",
       "\n",
       "                        })                };                });            </script>        </div>"
      ]
     },
     "metadata": {},
     "output_type": "display_data"
    }
   ],
   "source": [
    "kq.backtest_plot_stock_daily(df_result2)"
   ]
  },
  {
   "cell_type": "markdown",
   "id": "c85f30f8",
   "metadata": {
    "papermill": {
     "duration": 0.017507,
     "end_time": "2023-08-21T07:49:53.508516",
     "exception": false,
     "start_time": "2023-08-21T07:49:53.491009",
     "status": "completed"
    },
    "tags": []
   },
   "source": [
    "## 5.7 수수료 및 슬리피지"
   ]
  },
  {
   "cell_type": "markdown",
   "id": "a1dd774f",
   "metadata": {
    "papermill": {
     "duration": 0.017936,
     "end_time": "2023-08-21T07:49:53.544198",
     "exception": false,
     "start_time": "2023-08-21T07:49:53.526262",
     "status": "completed"
    },
    "tags": []
   },
   "source": [
    "보다 현실적인 백테스트를 위해 `backtest_stock_daily` 함수 사용시 \n",
    "다음 인수로 수수료 및 슬리피지(slippage)를 설정할 수 있습니다.\n",
    "모든 인수는 이름있는 인수(named parameter) 형식으로 주어야 합니다.\n",
    "\n",
    "- `broker_fee_percent`: 증권사 수수료(%)\n",
    "- `exchange_fee_percent`: 유관기관 수수료(%)\n",
    "- `trade_tax_percent`: 매도시 주식양도세(%)\n",
    "- `slippage_tick`: 거래시 발생하는 슬리피지(slippage)틱(호가가격단위)\n",
    "\n",
    "위의 모든 인수는 %(percent) 단위이며 소수점 이하 자리수가 발생하는 경우 올림하여 처리합니다. \n",
    "\n",
    "예를 들어 증권사 수수료가 0.015%, 유관기관 수수료가 0.0036396%, 매도시 주식양도세가 0.20%이고\n",
    "슬리피지가 1틱인 경우에는 다음과 같습니다."
   ]
  },
  {
   "cell_type": "code",
   "execution_count": 10,
   "id": "c4e3181d",
   "metadata": {
    "execution": {
     "iopub.execute_input": "2023-08-21T07:49:53.580824Z",
     "iopub.status.busy": "2023-08-21T07:49:53.580579Z",
     "iopub.status.idle": "2023-08-21T07:49:54.038948Z",
     "shell.execute_reply": "2023-08-21T07:49:54.038378Z"
    },
    "papermill": {
     "duration": 0.477524,
     "end_time": "2023-08-21T07:49:54.040706",
     "exception": false,
     "start_time": "2023-08-21T07:49:53.563182",
     "status": "completed"
    },
    "tags": []
   },
   "outputs": [
    {
     "name": "stderr",
     "output_type": "stream",
     "text": [
      "[2023-01-02] 종목: 005930, 주문전 보유수량:      0 주문수량:     10, 매매수량:     10, 주문후 보유수량:     10\n",
      "[2023-01-11] 종목: 005930, 주문전 보유수량:     10 주문수량:    -10, 매매수량:    -10, 주문후 보유수량:      0\n"
     ]
    },
    {
     "data": {
      "text/html": [
       "<div>\n",
       "<style scoped>\n",
       "    .dataframe tbody tr th:only-of-type {\n",
       "        vertical-align: middle;\n",
       "    }\n",
       "\n",
       "    .dataframe tbody tr th {\n",
       "        vertical-align: top;\n",
       "    }\n",
       "\n",
       "    .dataframe thead th {\n",
       "        text-align: right;\n",
       "    }\n",
       "</style>\n",
       "<table border=\"1\" class=\"dataframe\">\n",
       "  <thead>\n",
       "    <tr style=\"text-align: right;\">\n",
       "      <th></th>\n",
       "      <th>DATE</th>\n",
       "      <th>SYMBOL</th>\n",
       "      <th>PRICE</th>\n",
       "      <th>ORDER</th>\n",
       "      <th>QTY</th>\n",
       "      <th>TRADE_PRICE</th>\n",
       "      <th>POSITION</th>\n",
       "      <th>AVG_PRICE</th>\n",
       "      <th>FEE</th>\n",
       "      <th>TRADE_TAX</th>\n",
       "      <th>SLIPPAGE</th>\n",
       "      <th>CASHFLOW</th>\n",
       "      <th>CASH</th>\n",
       "      <th>HIST_VALUE</th>\n",
       "      <th>STOCK_VALUE</th>\n",
       "      <th>TOTAL_VALUE</th>\n",
       "      <th>REAL_PROFIT</th>\n",
       "      <th>UNREAL_PROFIT</th>\n",
       "      <th>PROFIT</th>\n",
       "      <th>HIGHWATERMARK</th>\n",
       "      <th>DRAWDOWN</th>\n",
       "    </tr>\n",
       "  </thead>\n",
       "  <tbody>\n",
       "    <tr>\n",
       "      <th>0</th>\n",
       "      <td>2023-01-02</td>\n",
       "      <td>005930</td>\n",
       "      <td>55,500</td>\n",
       "      <td>10</td>\n",
       "      <td>10</td>\n",
       "      <td>55,600</td>\n",
       "      <td>10</td>\n",
       "      <td>55,600.0000</td>\n",
       "      <td>105</td>\n",
       "      <td>0</td>\n",
       "      <td>1,000</td>\n",
       "      <td>-556,105</td>\n",
       "      <td>443,895</td>\n",
       "      <td>556,000</td>\n",
       "      <td>555,000</td>\n",
       "      <td>998,895</td>\n",
       "      <td>-105</td>\n",
       "      <td>-1,000</td>\n",
       "      <td>-1,105</td>\n",
       "      <td>1,000,000</td>\n",
       "      <td>1,105</td>\n",
       "    </tr>\n",
       "    <tr>\n",
       "      <th>1</th>\n",
       "      <td>2023-01-03</td>\n",
       "      <td>005930</td>\n",
       "      <td>55,400</td>\n",
       "      <td>0</td>\n",
       "      <td>0</td>\n",
       "      <td>0</td>\n",
       "      <td>10</td>\n",
       "      <td>55,600.0000</td>\n",
       "      <td>0</td>\n",
       "      <td>0</td>\n",
       "      <td>0</td>\n",
       "      <td>0</td>\n",
       "      <td>443,895</td>\n",
       "      <td>556,000</td>\n",
       "      <td>554,000</td>\n",
       "      <td>997,895</td>\n",
       "      <td>0</td>\n",
       "      <td>-2,000</td>\n",
       "      <td>-2,105</td>\n",
       "      <td>1,000,000</td>\n",
       "      <td>2,105</td>\n",
       "    </tr>\n",
       "    <tr>\n",
       "      <th>2</th>\n",
       "      <td>2023-01-04</td>\n",
       "      <td>005930</td>\n",
       "      <td>57,800</td>\n",
       "      <td>0</td>\n",
       "      <td>0</td>\n",
       "      <td>0</td>\n",
       "      <td>10</td>\n",
       "      <td>55,600.0000</td>\n",
       "      <td>0</td>\n",
       "      <td>0</td>\n",
       "      <td>0</td>\n",
       "      <td>0</td>\n",
       "      <td>443,895</td>\n",
       "      <td>556,000</td>\n",
       "      <td>578,000</td>\n",
       "      <td>1,021,895</td>\n",
       "      <td>0</td>\n",
       "      <td>22,000</td>\n",
       "      <td>21,895</td>\n",
       "      <td>1,021,895</td>\n",
       "      <td>0</td>\n",
       "    </tr>\n",
       "    <tr>\n",
       "      <th>3</th>\n",
       "      <td>2023-01-05</td>\n",
       "      <td>005930</td>\n",
       "      <td>58,200</td>\n",
       "      <td>0</td>\n",
       "      <td>0</td>\n",
       "      <td>0</td>\n",
       "      <td>10</td>\n",
       "      <td>55,600.0000</td>\n",
       "      <td>0</td>\n",
       "      <td>0</td>\n",
       "      <td>0</td>\n",
       "      <td>0</td>\n",
       "      <td>443,895</td>\n",
       "      <td>556,000</td>\n",
       "      <td>582,000</td>\n",
       "      <td>1,025,895</td>\n",
       "      <td>0</td>\n",
       "      <td>26,000</td>\n",
       "      <td>25,895</td>\n",
       "      <td>1,025,895</td>\n",
       "      <td>0</td>\n",
       "    </tr>\n",
       "    <tr>\n",
       "      <th>4</th>\n",
       "      <td>2023-01-06</td>\n",
       "      <td>005930</td>\n",
       "      <td>59,000</td>\n",
       "      <td>0</td>\n",
       "      <td>0</td>\n",
       "      <td>0</td>\n",
       "      <td>10</td>\n",
       "      <td>55,600.0000</td>\n",
       "      <td>0</td>\n",
       "      <td>0</td>\n",
       "      <td>0</td>\n",
       "      <td>0</td>\n",
       "      <td>443,895</td>\n",
       "      <td>556,000</td>\n",
       "      <td>590,000</td>\n",
       "      <td>1,033,895</td>\n",
       "      <td>0</td>\n",
       "      <td>34,000</td>\n",
       "      <td>33,895</td>\n",
       "      <td>1,033,895</td>\n",
       "      <td>0</td>\n",
       "    </tr>\n",
       "    <tr>\n",
       "      <th>5</th>\n",
       "      <td>2023-01-09</td>\n",
       "      <td>005930</td>\n",
       "      <td>60,700</td>\n",
       "      <td>0</td>\n",
       "      <td>0</td>\n",
       "      <td>0</td>\n",
       "      <td>10</td>\n",
       "      <td>55,600.0000</td>\n",
       "      <td>0</td>\n",
       "      <td>0</td>\n",
       "      <td>0</td>\n",
       "      <td>0</td>\n",
       "      <td>443,895</td>\n",
       "      <td>556,000</td>\n",
       "      <td>607,000</td>\n",
       "      <td>1,050,895</td>\n",
       "      <td>0</td>\n",
       "      <td>51,000</td>\n",
       "      <td>50,895</td>\n",
       "      <td>1,050,895</td>\n",
       "      <td>0</td>\n",
       "    </tr>\n",
       "    <tr>\n",
       "      <th>6</th>\n",
       "      <td>2023-01-10</td>\n",
       "      <td>005930</td>\n",
       "      <td>60,400</td>\n",
       "      <td>0</td>\n",
       "      <td>0</td>\n",
       "      <td>0</td>\n",
       "      <td>10</td>\n",
       "      <td>55,600.0000</td>\n",
       "      <td>0</td>\n",
       "      <td>0</td>\n",
       "      <td>0</td>\n",
       "      <td>0</td>\n",
       "      <td>443,895</td>\n",
       "      <td>556,000</td>\n",
       "      <td>604,000</td>\n",
       "      <td>1,047,895</td>\n",
       "      <td>0</td>\n",
       "      <td>48,000</td>\n",
       "      <td>47,895</td>\n",
       "      <td>1,050,895</td>\n",
       "      <td>3,000</td>\n",
       "    </tr>\n",
       "    <tr>\n",
       "      <th>7</th>\n",
       "      <td>2023-01-11</td>\n",
       "      <td>005930</td>\n",
       "      <td>60,500</td>\n",
       "      <td>-10</td>\n",
       "      <td>-10</td>\n",
       "      <td>60,400</td>\n",
       "      <td>0</td>\n",
       "      <td>0.0000</td>\n",
       "      <td>113</td>\n",
       "      <td>1,208</td>\n",
       "      <td>1,000</td>\n",
       "      <td>602,679</td>\n",
       "      <td>1,046,574</td>\n",
       "      <td>0</td>\n",
       "      <td>0</td>\n",
       "      <td>1,046,574</td>\n",
       "      <td>46,679</td>\n",
       "      <td>0</td>\n",
       "      <td>46,574</td>\n",
       "      <td>1,050,895</td>\n",
       "      <td>4,321</td>\n",
       "    </tr>\n",
       "  </tbody>\n",
       "</table>\n",
       "</div>"
      ],
      "text/plain": [
       "        DATE  SYMBOL   PRICE  ORDER  QTY  TRADE_PRICE  POSITION   AVG_PRICE  \\\n",
       "0 2023-01-02  005930  55,500     10   10       55,600        10 55,600.0000   \n",
       "1 2023-01-03  005930  55,400      0    0            0        10 55,600.0000   \n",
       "2 2023-01-04  005930  57,800      0    0            0        10 55,600.0000   \n",
       "3 2023-01-05  005930  58,200      0    0            0        10 55,600.0000   \n",
       "4 2023-01-06  005930  59,000      0    0            0        10 55,600.0000   \n",
       "5 2023-01-09  005930  60,700      0    0            0        10 55,600.0000   \n",
       "6 2023-01-10  005930  60,400      0    0            0        10 55,600.0000   \n",
       "7 2023-01-11  005930  60,500    -10  -10       60,400         0      0.0000   \n",
       "\n",
       "   FEE  TRADE_TAX  SLIPPAGE  CASHFLOW       CASH  HIST_VALUE  STOCK_VALUE  \\\n",
       "0  105          0     1,000  -556,105    443,895     556,000      555,000   \n",
       "1    0          0         0         0    443,895     556,000      554,000   \n",
       "2    0          0         0         0    443,895     556,000      578,000   \n",
       "3    0          0         0         0    443,895     556,000      582,000   \n",
       "4    0          0         0         0    443,895     556,000      590,000   \n",
       "5    0          0         0         0    443,895     556,000      607,000   \n",
       "6    0          0         0         0    443,895     556,000      604,000   \n",
       "7  113      1,208     1,000   602,679  1,046,574           0            0   \n",
       "\n",
       "   TOTAL_VALUE  REAL_PROFIT  UNREAL_PROFIT  PROFIT  HIGHWATERMARK  DRAWDOWN  \n",
       "0      998,895         -105         -1,000  -1,105      1,000,000     1,105  \n",
       "1      997,895            0         -2,000  -2,105      1,000,000     2,105  \n",
       "2    1,021,895            0         22,000  21,895      1,021,895         0  \n",
       "3    1,025,895            0         26,000  25,895      1,025,895         0  \n",
       "4    1,033,895            0         34,000  33,895      1,033,895         0  \n",
       "5    1,050,895            0         51,000  50,895      1,050,895         0  \n",
       "6    1,047,895            0         48,000  47,895      1,050,895     3,000  \n",
       "7    1,046,574       46,679              0  46,574      1,050,895     4,321  "
      ]
     },
     "execution_count": 10,
     "metadata": {},
     "output_type": "execute_result"
    }
   ],
   "source": [
    "df_result3 = kq.backtest_stock_daily(\n",
    "    \"005930\",\n",
    "    df_order,\n",
    "    init_cash=1_000_000,\n",
    "    broker_fee_percent=0.015,\n",
    "    exchange_fee_percent=0.0036396,\n",
    "    trade_tax_percent=0.20,\n",
    "    slippage_tick=1,\n",
    ")\n",
    "\n",
    "df_result3\n"
   ]
  },
  {
   "cell_type": "markdown",
   "id": "09ae94af",
   "metadata": {
    "papermill": {
     "duration": 0.01865,
     "end_time": "2023-08-21T07:49:54.075938",
     "exception": false,
     "start_time": "2023-08-21T07:49:54.057288",
     "status": "completed"
    },
    "tags": []
   },
   "source": [
    "백테스트 결과에서 총 3,426원의 비용이 발생하여 수익이 50,000원이 아닌 46,574원이 되었음을 알 수 있습니다."
   ]
  },
  {
   "cell_type": "code",
   "execution_count": 11,
   "id": "10ccd3bf",
   "metadata": {
    "execution": {
     "iopub.execute_input": "2023-08-21T07:49:54.111382Z",
     "iopub.status.busy": "2023-08-21T07:49:54.111138Z",
     "iopub.status.idle": "2023-08-21T07:49:54.116403Z",
     "shell.execute_reply": "2023-08-21T07:49:54.115848Z"
    },
    "papermill": {
     "duration": 0.024274,
     "end_time": "2023-08-21T07:49:54.118007",
     "exception": false,
     "start_time": "2023-08-21T07:49:54.093733",
     "status": "completed"
    },
    "tags": []
   },
   "outputs": [
    {
     "name": "stdout",
     "output_type": "stream",
     "text": [
      "\n",
      "- 증권사 및 유관기관 수수료 218원(매수시 105원, 매도시 113원)\n",
      "- 매도세 1,208원\n",
      "- 슬리피지 2,000원 (매수시 1,000원 + 매도시 1,000원)\n",
      "- 총비용 3,426원\n",
      "- 비용제외수익 48,000원 = (60,400 - 55,600) x 10 = 4,800 x 10\n",
      "- 총수익 46,574원 = 비용제외수익 48,000원 - 총비용 3,426원\n",
      "\n"
     ]
    }
   ],
   "source": [
    "fee_buy = df_result3.FEE.iloc[0]\n",
    "fee_sell = df_result3.FEE.iloc[-1]\n",
    "fee = fee_buy + fee_sell\n",
    "tax = df_result3.TRADE_TAX.iloc[-1]\n",
    "slippage_buy = df_result3.SLIPPAGE.iloc[0]\n",
    "slippage_sell = df_result3.SLIPPAGE.iloc[-1]\n",
    "slippage = slippage_buy + slippage_buy\n",
    "price_buy = df_result3.TRADE_PRICE.iloc[0]\n",
    "price_sell = df_result3.TRADE_PRICE.iloc[-1]\n",
    "simple_profit = (price_sell - price_buy) * 10\n",
    "profit = df_result3.PROFIT.iloc[-1]\n",
    "\n",
    "print(f\"\"\"\n",
    "- 증권사 및 유관기관 수수료 {fee}원(매수시 {fee_buy}원, 매도시 {fee_sell}원)\n",
    "- 매도세 {tax:,}원\n",
    "- 슬리피지 {slippage:,}원 (매수시 {slippage_buy:,}원 + 매도시 {slippage_sell:,}원)\n",
    "- 총비용 {fee + tax + slippage:,}원\n",
    "- 비용제외수익 {simple_profit:,}원 = ({price_sell:,} - {price_buy:,}) x 10 = {price_sell - price_buy:,} x 10\n",
    "- 총수익 {profit:,}원 = 비용제외수익 {simple_profit:,}원 - 총비용 {fee + tax + slippage:,}원\n",
    "\"\"\")\n"
   ]
  },
  {
   "cell_type": "markdown",
   "id": "389491f4",
   "metadata": {
    "papermill": {
     "duration": 0.017211,
     "end_time": "2023-08-21T07:49:54.151921",
     "exception": false,
     "start_time": "2023-08-21T07:49:54.134710",
     "status": "completed"
    },
    "tags": []
   },
   "source": [
    "## 5.8 실현손익, 평가손익, 총손익"
   ]
  },
  {
   "cell_type": "markdown",
   "id": "b2a94982",
   "metadata": {
    "papermill": {
     "duration": 0.019557,
     "end_time": "2023-08-21T07:49:54.189647",
     "exception": false,
     "start_time": "2023-08-21T07:49:54.170090",
     "status": "completed"
    },
    "tags": []
   },
   "source": [
    "백테스트 결과에서 실현손익 `REAL_PROFIT`은 다음과 같이 계산합니다.\n",
    "\n",
    "- 주식매수시 매수수수료합계(음수)\n",
    "- 주식매도시 선입선출법(FIFO: First-In First-Out)으로 계산한 수익에서 매도세와 매도수수료를 차감한 금액\n",
    "\n",
    "즉, 주식매도시에는 먼저 매수한 주식부터 순차적으로 매도하는 방식으로 매수가를 계산하여 매도가로부터 차감하여 수익을 계산합니다."
   ]
  },
  {
   "cell_type": "code",
   "execution_count": 12,
   "id": "dc6eea2a",
   "metadata": {
    "execution": {
     "iopub.execute_input": "2023-08-21T07:49:54.227440Z",
     "iopub.status.busy": "2023-08-21T07:49:54.227165Z",
     "iopub.status.idle": "2023-08-21T07:49:54.235428Z",
     "shell.execute_reply": "2023-08-21T07:49:54.234118Z"
    },
    "papermill": {
     "duration": 0.031449,
     "end_time": "2023-08-21T07:49:54.238821",
     "exception": false,
     "start_time": "2023-08-21T07:49:54.207372",
     "status": "completed"
    },
    "tags": []
   },
   "outputs": [
    {
     "data": {
      "text/html": [
       "<div>\n",
       "<style scoped>\n",
       "    .dataframe tbody tr th:only-of-type {\n",
       "        vertical-align: middle;\n",
       "    }\n",
       "\n",
       "    .dataframe tbody tr th {\n",
       "        vertical-align: top;\n",
       "    }\n",
       "\n",
       "    .dataframe thead th {\n",
       "        text-align: right;\n",
       "    }\n",
       "</style>\n",
       "<table border=\"1\" class=\"dataframe\">\n",
       "  <thead>\n",
       "    <tr style=\"text-align: right;\">\n",
       "      <th></th>\n",
       "      <th>DATE</th>\n",
       "      <th>ORDER</th>\n",
       "    </tr>\n",
       "  </thead>\n",
       "  <tbody>\n",
       "    <tr>\n",
       "      <th>0</th>\n",
       "      <td>2023-01-02</td>\n",
       "      <td>10</td>\n",
       "    </tr>\n",
       "    <tr>\n",
       "      <th>1</th>\n",
       "      <td>2023-01-03</td>\n",
       "      <td>20</td>\n",
       "    </tr>\n",
       "    <tr>\n",
       "      <th>2</th>\n",
       "      <td>2023-01-04</td>\n",
       "      <td>-15</td>\n",
       "    </tr>\n",
       "  </tbody>\n",
       "</table>\n",
       "</div>"
      ],
      "text/plain": [
       "         DATE  ORDER\n",
       "0  2023-01-02     10\n",
       "1  2023-01-03     20\n",
       "2  2023-01-04    -15"
      ]
     },
     "execution_count": 12,
     "metadata": {},
     "output_type": "execute_result"
    }
   ],
   "source": [
    "df_order4 = pd.DataFrame({\n",
    "    \"DATE\": [\"2023-01-02\", \"2023-01-03\", \"2023-01-04\"],\n",
    "    \"ORDER\": [10, 20, -15]\n",
    "})\n",
    "\n",
    "df_order4\n"
   ]
  },
  {
   "cell_type": "code",
   "execution_count": 13,
   "id": "f9d2ef6e",
   "metadata": {
    "execution": {
     "iopub.execute_input": "2023-08-21T07:49:54.277271Z",
     "iopub.status.busy": "2023-08-21T07:49:54.277007Z",
     "iopub.status.idle": "2023-08-21T07:49:54.663785Z",
     "shell.execute_reply": "2023-08-21T07:49:54.663093Z"
    },
    "papermill": {
     "duration": 0.406906,
     "end_time": "2023-08-21T07:49:54.665400",
     "exception": false,
     "start_time": "2023-08-21T07:49:54.258494",
     "status": "completed"
    },
    "tags": []
   },
   "outputs": [
    {
     "name": "stderr",
     "output_type": "stream",
     "text": [
      "[2023-01-02] 종목: 005930, 주문전 보유수량:      0 주문수량:     10, 매매수량:     10, 주문후 보유수량:     10\n",
      "[2023-01-03] 종목: 005930, 주문전 보유수량:     10 주문수량:     20, 매매수량:     20, 주문후 보유수량:     30\n",
      "[2023-01-04] 종목: 005930, 주문전 보유수량:     30 주문수량:    -15, 매매수량:    -15, 주문후 보유수량:     15\n"
     ]
    },
    {
     "data": {
      "text/html": [
       "<div>\n",
       "<style scoped>\n",
       "    .dataframe tbody tr th:only-of-type {\n",
       "        vertical-align: middle;\n",
       "    }\n",
       "\n",
       "    .dataframe tbody tr th {\n",
       "        vertical-align: top;\n",
       "    }\n",
       "\n",
       "    .dataframe thead th {\n",
       "        text-align: right;\n",
       "    }\n",
       "</style>\n",
       "<table border=\"1\" class=\"dataframe\">\n",
       "  <thead>\n",
       "    <tr style=\"text-align: right;\">\n",
       "      <th></th>\n",
       "      <th>DATE</th>\n",
       "      <th>SYMBOL</th>\n",
       "      <th>PRICE</th>\n",
       "      <th>ORDER</th>\n",
       "      <th>QTY</th>\n",
       "      <th>TRADE_PRICE</th>\n",
       "      <th>POSITION</th>\n",
       "      <th>AVG_PRICE</th>\n",
       "      <th>FEE</th>\n",
       "      <th>TRADE_TAX</th>\n",
       "      <th>SLIPPAGE</th>\n",
       "      <th>CASHFLOW</th>\n",
       "      <th>CASH</th>\n",
       "      <th>HIST_VALUE</th>\n",
       "      <th>STOCK_VALUE</th>\n",
       "      <th>TOTAL_VALUE</th>\n",
       "      <th>REAL_PROFIT</th>\n",
       "      <th>UNREAL_PROFIT</th>\n",
       "      <th>PROFIT</th>\n",
       "      <th>HIGHWATERMARK</th>\n",
       "      <th>DRAWDOWN</th>\n",
       "    </tr>\n",
       "  </thead>\n",
       "  <tbody>\n",
       "    <tr>\n",
       "      <th>0</th>\n",
       "      <td>2023-01-02</td>\n",
       "      <td>005930</td>\n",
       "      <td>55,500</td>\n",
       "      <td>10</td>\n",
       "      <td>10</td>\n",
       "      <td>55,500</td>\n",
       "      <td>10</td>\n",
       "      <td>55,500.0000</td>\n",
       "      <td>105</td>\n",
       "      <td>0</td>\n",
       "      <td>0</td>\n",
       "      <td>-555,105</td>\n",
       "      <td>9,444,895</td>\n",
       "      <td>555,000</td>\n",
       "      <td>555,000</td>\n",
       "      <td>9,999,895</td>\n",
       "      <td>-105</td>\n",
       "      <td>0</td>\n",
       "      <td>-105</td>\n",
       "      <td>10,000,000</td>\n",
       "      <td>105</td>\n",
       "    </tr>\n",
       "    <tr>\n",
       "      <th>1</th>\n",
       "      <td>2023-01-03</td>\n",
       "      <td>005930</td>\n",
       "      <td>55,400</td>\n",
       "      <td>20</td>\n",
       "      <td>20</td>\n",
       "      <td>55,400</td>\n",
       "      <td>30</td>\n",
       "      <td>55,433.3333</td>\n",
       "      <td>208</td>\n",
       "      <td>0</td>\n",
       "      <td>0</td>\n",
       "      <td>-1,108,208</td>\n",
       "      <td>8,336,687</td>\n",
       "      <td>1,663,000</td>\n",
       "      <td>1,662,000</td>\n",
       "      <td>9,998,687</td>\n",
       "      <td>-208</td>\n",
       "      <td>-1,000</td>\n",
       "      <td>-1,313</td>\n",
       "      <td>10,000,000</td>\n",
       "      <td>1,313</td>\n",
       "    </tr>\n",
       "    <tr>\n",
       "      <th>2</th>\n",
       "      <td>2023-01-04</td>\n",
       "      <td>005930</td>\n",
       "      <td>57,800</td>\n",
       "      <td>-15</td>\n",
       "      <td>-15</td>\n",
       "      <td>57,800</td>\n",
       "      <td>15</td>\n",
       "      <td>55,400.0000</td>\n",
       "      <td>163</td>\n",
       "      <td>1,995</td>\n",
       "      <td>0</td>\n",
       "      <td>864,842</td>\n",
       "      <td>9,201,529</td>\n",
       "      <td>831,000</td>\n",
       "      <td>867,000</td>\n",
       "      <td>10,068,529</td>\n",
       "      <td>32,842</td>\n",
       "      <td>36,000</td>\n",
       "      <td>68,529</td>\n",
       "      <td>10,068,529</td>\n",
       "      <td>0</td>\n",
       "    </tr>\n",
       "  </tbody>\n",
       "</table>\n",
       "</div>"
      ],
      "text/plain": [
       "        DATE  SYMBOL   PRICE  ORDER  QTY  TRADE_PRICE  POSITION   AVG_PRICE  \\\n",
       "0 2023-01-02  005930  55,500     10   10       55,500        10 55,500.0000   \n",
       "1 2023-01-03  005930  55,400     20   20       55,400        30 55,433.3333   \n",
       "2 2023-01-04  005930  57,800    -15  -15       57,800        15 55,400.0000   \n",
       "\n",
       "   FEE  TRADE_TAX  SLIPPAGE    CASHFLOW       CASH  HIST_VALUE  STOCK_VALUE  \\\n",
       "0  105          0         0    -555,105  9,444,895     555,000      555,000   \n",
       "1  208          0         0  -1,108,208  8,336,687   1,663,000    1,662,000   \n",
       "2  163      1,995         0     864,842  9,201,529     831,000      867,000   \n",
       "\n",
       "   TOTAL_VALUE  REAL_PROFIT  UNREAL_PROFIT  PROFIT  HIGHWATERMARK  DRAWDOWN  \n",
       "0    9,999,895         -105              0    -105     10,000,000       105  \n",
       "1    9,998,687         -208         -1,000  -1,313     10,000,000     1,313  \n",
       "2   10,068,529       32,842         36,000  68,529     10,068,529         0  "
      ]
     },
     "execution_count": 13,
     "metadata": {},
     "output_type": "execute_result"
    }
   ],
   "source": [
    "df_result4 = kq.backtest_stock_daily(\n",
    "    \"005930\",\n",
    "    df_order4, \n",
    "    init_cash=10_000_000,\n",
    "    broker_fee_percent=0.015, \n",
    "    exchange_fee_percent=0.0036396,\n",
    "    trade_tax_percent=0.23,\n",
    ")\n",
    "\n",
    "df_result4\n"
   ]
  },
  {
   "cell_type": "code",
   "execution_count": 14,
   "id": "4bf5dcda",
   "metadata": {
    "execution": {
     "iopub.execute_input": "2023-08-21T07:49:54.705089Z",
     "iopub.status.busy": "2023-08-21T07:49:54.704796Z",
     "iopub.status.idle": "2023-08-21T07:49:54.710975Z",
     "shell.execute_reply": "2023-08-21T07:49:54.710373Z"
    },
    "papermill": {
     "duration": 0.029589,
     "end_time": "2023-08-21T07:49:54.712818",
     "exception": false,
     "start_time": "2023-08-21T07:49:54.683229",
     "status": "completed"
    },
    "tags": []
   },
   "outputs": [
    {
     "name": "stdout",
     "output_type": "stream",
     "text": [
      "\n",
      "- 1차 매수금액 555,000원 = 매수주가 55,500원 x 매도수량 10주\n",
      "- 2차 매수금액 277,000원 = 매수주가 55,400원 x 매도수량 5주\n",
      "- 총매수금액 832,000원 = 555,000원 + 277,000원\n",
      "- 총매도금액 867,000원 = 매도주가 57,800원 x 매도수량 15주 \n",
      "- 매도세 1,995원 = 총매도금액 867,000원 x 0.23% \n",
      "- 매도수수료 163원 = 총매도금액 867,000원 x 0.015% + 총매도금액 867,000원 x 0.0036396% \n",
      "- 총실현수익 32,842원 = 총매도금액 867,000원 - 총매수금액 832,000원 - 매도세 1,995원 - 매도수수료 163원\n",
      "\n"
     ]
    }
   ],
   "source": [
    "r0 = df_result4.iloc[0]\n",
    "r1 = df_result4.iloc[1]\n",
    "r2 = df_result4.iloc[2]\n",
    "f0 = r0.FEE\n",
    "f1 = r1.FEE\n",
    "f2 = r2.FEE\n",
    "tax = r2.TRADE_TAX\n",
    "cf_sell = r2.TRADE_PRICE * 15\n",
    "cf_buy1 = r0.TRADE_PRICE * 10\n",
    "cf_buy2 = r1.TRADE_PRICE * 5\n",
    "cf_buy = cf_buy1 + cf_buy2\n",
    "r_profit = r2.REAL_PROFIT\n",
    "print(f\"\"\"\n",
    "- 1차 매수금액 {cf_buy1:,}원 = 매수주가 {r0.TRADE_PRICE:,}원 x 매도수량 {abs(r0.QTY):,}주\n",
    "- 2차 매수금액 {cf_buy2:,}원 = 매수주가 {r1.TRADE_PRICE:,}원 x 매도수량 5주\n",
    "- 총매수금액 {cf_buy:,}원 = {cf_buy1:,}원 + {cf_buy2:,}원\n",
    "- 총매도금액 {cf_sell:,}원 = 매도주가 {r2.TRADE_PRICE:,}원 x 매도수량 {abs(r2.QTY):,}주 \n",
    "- 매도세 {tax:,}원 = 총매도금액 {cf_sell:,}원 x 0.23% \n",
    "- 매도수수료 {f2:,}원 = 총매도금액 {cf_sell:,}원 x 0.015% + 총매도금액 {cf_sell:,}원 x 0.0036396% \n",
    "- 총실현수익 {r_profit:,}원 = 총매도금액 {cf_sell:,}원 - 총매수금액 {cf_buy:,}원 - 매도세 {tax:,}원 - 매도수수료 {f2:,}원\n",
    "\"\"\")\n"
   ]
  },
  {
   "cell_type": "markdown",
   "id": "95d839a1",
   "metadata": {
    "papermill": {
     "duration": 0.019788,
     "end_time": "2023-08-21T07:49:54.750699",
     "exception": false,
     "start_time": "2023-08-21T07:49:54.730911",
     "status": "completed"
    },
    "tags": []
   },
   "source": [
    "평가손익 `UNREAL_PROFIT`은 보유주식의 현재가치에서 보유주식의 매수시 역사적가치를 차감하여 계산합니다."
   ]
  },
  {
   "cell_type": "code",
   "execution_count": 15,
   "id": "51dd2b69",
   "metadata": {
    "execution": {
     "iopub.execute_input": "2023-08-21T07:49:54.789429Z",
     "iopub.status.busy": "2023-08-21T07:49:54.789184Z",
     "iopub.status.idle": "2023-08-21T07:49:54.793379Z",
     "shell.execute_reply": "2023-08-21T07:49:54.792771Z"
    },
    "papermill": {
     "duration": 0.024537,
     "end_time": "2023-08-21T07:49:54.794869",
     "exception": false,
     "start_time": "2023-08-21T07:49:54.770332",
     "status": "completed"
    },
    "tags": []
   },
   "outputs": [
    {
     "name": "stdout",
     "output_type": "stream",
     "text": [
      "\n",
      "- 보유주식의 현재가치 867,000원 = 현재주가 57,800원 x 보유수량 15주\n",
      "- 보유주식의 역사적가치 831,000원 = 2차매수주가 55,400원 x 2차매수수량 중 잔여수량 15주\n",
      "- 평가손익 36,000원 = 현재가치 867,000원 - 역사적가치 831,000원\n",
      "\n"
     ]
    }
   ],
   "source": [
    "r0 = df_result4.iloc[0]\n",
    "r1 = df_result4.iloc[1]\n",
    "r2 = df_result4.iloc[2]\n",
    "print(f\"\"\"\n",
    "- 보유주식의 현재가치 {r2.STOCK_VALUE:,}원 = 현재주가 {r2.PRICE:,}원 x 보유수량 {r2.POSITION:,}주\n",
    "- 보유주식의 역사적가치 {r2.HIST_VALUE:,}원 = 2차매수주가 {r1.TRADE_PRICE:,}원 x 2차매수수량 중 잔여수량 15주\n",
    "- 평가손익 {r2.UNREAL_PROFIT:,}원 = 현재가치 {r2.STOCK_VALUE:,}원 - 역사적가치 {r2.HIST_VALUE:,}원\n",
    "\"\"\")\n"
   ]
  },
  {
   "cell_type": "markdown",
   "id": "700246cf",
   "metadata": {
    "papermill": {
     "duration": 0.018519,
     "end_time": "2023-08-21T07:49:54.832728",
     "exception": false,
     "start_time": "2023-08-21T07:49:54.814209",
     "status": "completed"
    },
    "tags": []
   },
   "source": [
    "총손익 `PROFIT`은 최종매매일까지의 실현손익의 누적과 최종매매일의 평가손익의 합입니다."
   ]
  },
  {
   "cell_type": "code",
   "execution_count": 16,
   "id": "f40ef144",
   "metadata": {
    "execution": {
     "iopub.execute_input": "2023-08-21T07:49:54.908405Z",
     "iopub.status.busy": "2023-08-21T07:49:54.907915Z",
     "iopub.status.idle": "2023-08-21T07:49:54.913725Z",
     "shell.execute_reply": "2023-08-21T07:49:54.912888Z"
    },
    "papermill": {
     "duration": 0.064082,
     "end_time": "2023-08-21T07:49:54.915860",
     "exception": false,
     "start_time": "2023-08-21T07:49:54.851778",
     "status": "completed"
    },
    "tags": []
   },
   "outputs": [
    {
     "name": "stdout",
     "output_type": "stream",
     "text": [
      "\n",
      "- 2023-01-02 실현손익 -105원\n",
      "- 2023-01-03 실현손익 -208원\n",
      "- 2023-01-04 실현손익 32,842원\n",
      "- 실현손익 누적 32,529원 = (-105원) + (-208원) + 32,842원\n",
      "- 2023-01-04 평가손익 36,000원\n",
      "- 2023-01-04 총손익 68,529원 = \"32,529원 + 36,000원\"\n",
      "\n"
     ]
    }
   ],
   "source": [
    "r0 = df_result4.iloc[0]\n",
    "r1 = df_result4.iloc[1]\n",
    "r2 = df_result4.iloc[2]\n",
    "all_real = r0.REAL_PROFIT + r1.REAL_PROFIT + r2.REAL_PROFIT\n",
    "print(f\"\"\"\n",
    "- {r0.DATE.strftime('%Y-%m-%d')} 실현손익 {r0.REAL_PROFIT:,}원\n",
    "- {r1.DATE.strftime('%Y-%m-%d')} 실현손익 {r1.REAL_PROFIT:,}원\n",
    "- {r2.DATE.strftime('%Y-%m-%d')} 실현손익 {r2.REAL_PROFIT:,}원\n",
    "- 실현손익 누적 {all_real:,}원 = ({r0.REAL_PROFIT:,}원) + ({r1.REAL_PROFIT:,}원) + {r2.REAL_PROFIT:,}원\n",
    "- {r2.DATE.strftime('%Y-%m-%d')} 평가손익 {r2.UNREAL_PROFIT:,}원\n",
    "- {r2.DATE.strftime('%Y-%m-%d')} 총손익 {r2.PROFIT:,}원 = \"{all_real:,}원 + {r2.UNREAL_PROFIT:,}원\"\n",
    "\"\"\")\n"
   ]
  },
  {
   "cell_type": "markdown",
   "id": "172a2b9e",
   "metadata": {
    "papermill": {
     "duration": 0.021839,
     "end_time": "2023-08-21T07:49:54.957372",
     "exception": false,
     "start_time": "2023-08-21T07:49:54.935533",
     "status": "completed"
    },
    "tags": []
   },
   "source": [
    "## 5.9 주문 오류 처리"
   ]
  },
  {
   "cell_type": "markdown",
   "id": "8564c39d",
   "metadata": {
    "papermill": {
     "duration": 0.018514,
     "end_time": "2023-08-21T07:49:54.994083",
     "exception": false,
     "start_time": "2023-08-21T07:49:54.975569",
     "status": "completed"
    },
    "tags": []
   },
   "source": [
    "백테스트 실행시 주문에 다음과 같은 오류사항이 있는 경우 경고가 발생하고 해당 주문은 무효처리됩니다.\n",
    "\n",
    "- `KQuantNotAllowShort`: 공매도 경고. 보유하지 않은 주문을 매도하거나 보유한 수량보다 많은 수량을 매도 주문한 경우\n",
    "- `KQuantNotAllowLoan`: 현금보유 경고. 보유하지 않은 주문을 매도하거나 보유한 수량보다 많은 수량을 매도 주문한 경우\n",
    "- `KQuantInvalidSymbol`: 주식종목 경고. 종목코드가 잘못된 경우\n",
    "\n"
   ]
  },
  {
   "cell_type": "code",
   "execution_count": 17,
   "id": "fd963b4b",
   "metadata": {
    "execution": {
     "iopub.execute_input": "2023-08-21T07:49:55.032216Z",
     "iopub.status.busy": "2023-08-21T07:49:55.031946Z",
     "iopub.status.idle": "2023-08-21T07:49:55.039167Z",
     "shell.execute_reply": "2023-08-21T07:49:55.038603Z"
    },
    "papermill": {
     "duration": 0.028198,
     "end_time": "2023-08-21T07:49:55.040739",
     "exception": false,
     "start_time": "2023-08-21T07:49:55.012541",
     "status": "completed"
    },
    "tags": []
   },
   "outputs": [
    {
     "data": {
      "text/html": [
       "<div>\n",
       "<style scoped>\n",
       "    .dataframe tbody tr th:only-of-type {\n",
       "        vertical-align: middle;\n",
       "    }\n",
       "\n",
       "    .dataframe tbody tr th {\n",
       "        vertical-align: top;\n",
       "    }\n",
       "\n",
       "    .dataframe thead th {\n",
       "        text-align: right;\n",
       "    }\n",
       "</style>\n",
       "<table border=\"1\" class=\"dataframe\">\n",
       "  <thead>\n",
       "    <tr style=\"text-align: right;\">\n",
       "      <th></th>\n",
       "      <th>DATE</th>\n",
       "      <th>ORDER</th>\n",
       "    </tr>\n",
       "  </thead>\n",
       "  <tbody>\n",
       "    <tr>\n",
       "      <th>0</th>\n",
       "      <td>2023-01-02</td>\n",
       "      <td>-10</td>\n",
       "    </tr>\n",
       "    <tr>\n",
       "      <th>1</th>\n",
       "      <td>2023-01-03</td>\n",
       "      <td>10</td>\n",
       "    </tr>\n",
       "    <tr>\n",
       "      <th>2</th>\n",
       "      <td>2023-01-04</td>\n",
       "      <td>-20</td>\n",
       "    </tr>\n",
       "    <tr>\n",
       "      <th>3</th>\n",
       "      <td>2023-01-05</td>\n",
       "      <td>10</td>\n",
       "    </tr>\n",
       "  </tbody>\n",
       "</table>\n",
       "</div>"
      ],
      "text/plain": [
       "         DATE  ORDER\n",
       "0  2023-01-02    -10\n",
       "1  2023-01-03     10\n",
       "2  2023-01-04    -20\n",
       "3  2023-01-05     10"
      ]
     },
     "execution_count": 17,
     "metadata": {},
     "output_type": "execute_result"
    }
   ],
   "source": [
    "df_order5 = pd.DataFrame({\n",
    "    \"DATE\": [\"2023-01-02\", \"2023-01-03\", \"2023-01-04\", \"2023-01-05\"],\n",
    "    \"ORDER\": [-10, 10, -20, 10]\n",
    "})\n",
    "\n",
    "df_order5"
   ]
  },
  {
   "cell_type": "markdown",
   "id": "3dc382a2",
   "metadata": {
    "papermill": {
     "duration": 0.01909,
     "end_time": "2023-08-21T07:49:55.078984",
     "exception": false,
     "start_time": "2023-08-21T07:49:55.059894",
     "status": "completed"
    },
    "tags": []
   },
   "source": [
    "예를 들어 위 주문은 다음 오류를 발생합니다.\n",
    "\n",
    "- 1월 2일 : 보유하지 않은 주식 10주를 매도하려고 하므로 공매도 경고가 발생하고 주문은 실행되지 않습니다.\n",
    "- 1월 4일 : 보유주식이 10주인데 20주를 매도하려고 하므로 공매도 경고가 발생하고 주문은 실행되지 않습니다.\n",
    "- 1월 5일 : 현금잔고보다 많은 금액의 주식을 매수하려고 하므로 현금보유 경고가 발생하고 주문은 실행되지 않습니다.\n"
   ]
  },
  {
   "cell_type": "code",
   "execution_count": 18,
   "id": "7d51fd70",
   "metadata": {
    "execution": {
     "iopub.execute_input": "2023-08-21T07:49:55.120193Z",
     "iopub.status.busy": "2023-08-21T07:49:55.119905Z",
     "iopub.status.idle": "2023-08-21T07:49:55.471004Z",
     "shell.execute_reply": "2023-08-21T07:49:55.470245Z"
    },
    "papermill": {
     "duration": 0.374345,
     "end_time": "2023-08-21T07:49:55.472897",
     "exception": false,
     "start_time": "2023-08-21T07:49:55.098552",
     "status": "completed"
    },
    "tags": []
   },
   "outputs": [
    {
     "name": "stderr",
     "output_type": "stream",
     "text": [
      "[2023-01-02] <KQuantNotAllowShort> 공매도 금지 오류: 매도 수량이 현재 보유수량보다 큼\n",
      "[2023-01-02] 종목: 005930, 주문전 보유수량:      0 주문수량:    -10, 매매수량:      0, 주문후 보유수량:      0\n",
      "[2023-01-03] 종목: 005930, 주문전 보유수량:      0 주문수량:     10, 매매수량:     10, 주문후 보유수량:     10\n",
      "[2023-01-04] <KQuantNotAllowShort> 공매도 금지 오류: 매도 수량이 현재 보유수량보다 큼\n",
      "[2023-01-04] 종목: 005930, 주문전 보유수량:     10 주문수량:    -20, 매매수량:      0, 주문후 보유수량:     10\n",
      "[2023-01-05] <KQuantNotAllowLoan> 융자 금지 오류: 매매가능 현금 미보유\n",
      "[2023-01-05] 종목: 005930, 주문전 보유수량:     10 주문수량:     10, 매매수량:      0, 주문후 보유수량:     10\n"
     ]
    },
    {
     "data": {
      "text/html": [
       "<div>\n",
       "<style scoped>\n",
       "    .dataframe tbody tr th:only-of-type {\n",
       "        vertical-align: middle;\n",
       "    }\n",
       "\n",
       "    .dataframe tbody tr th {\n",
       "        vertical-align: top;\n",
       "    }\n",
       "\n",
       "    .dataframe thead th {\n",
       "        text-align: right;\n",
       "    }\n",
       "</style>\n",
       "<table border=\"1\" class=\"dataframe\">\n",
       "  <thead>\n",
       "    <tr style=\"text-align: right;\">\n",
       "      <th></th>\n",
       "      <th>DATE</th>\n",
       "      <th>SYMBOL</th>\n",
       "      <th>PRICE</th>\n",
       "      <th>ORDER</th>\n",
       "      <th>QTY</th>\n",
       "      <th>TRADE_PRICE</th>\n",
       "      <th>POSITION</th>\n",
       "      <th>AVG_PRICE</th>\n",
       "      <th>FEE</th>\n",
       "      <th>TRADE_TAX</th>\n",
       "      <th>SLIPPAGE</th>\n",
       "      <th>CASHFLOW</th>\n",
       "      <th>CASH</th>\n",
       "      <th>HIST_VALUE</th>\n",
       "      <th>STOCK_VALUE</th>\n",
       "      <th>TOTAL_VALUE</th>\n",
       "      <th>REAL_PROFIT</th>\n",
       "      <th>UNREAL_PROFIT</th>\n",
       "      <th>PROFIT</th>\n",
       "      <th>HIGHWATERMARK</th>\n",
       "      <th>DRAWDOWN</th>\n",
       "    </tr>\n",
       "  </thead>\n",
       "  <tbody>\n",
       "    <tr>\n",
       "      <th>0</th>\n",
       "      <td>2023-01-02</td>\n",
       "      <td>005930</td>\n",
       "      <td>55,500</td>\n",
       "      <td>-10</td>\n",
       "      <td>0</td>\n",
       "      <td>0</td>\n",
       "      <td>0</td>\n",
       "      <td>0.0000</td>\n",
       "      <td>0</td>\n",
       "      <td>0</td>\n",
       "      <td>0</td>\n",
       "      <td>0</td>\n",
       "      <td>600,000</td>\n",
       "      <td>0</td>\n",
       "      <td>0</td>\n",
       "      <td>600,000</td>\n",
       "      <td>0</td>\n",
       "      <td>0</td>\n",
       "      <td>0</td>\n",
       "      <td>600,000</td>\n",
       "      <td>0</td>\n",
       "    </tr>\n",
       "    <tr>\n",
       "      <th>1</th>\n",
       "      <td>2023-01-03</td>\n",
       "      <td>005930</td>\n",
       "      <td>55,400</td>\n",
       "      <td>10</td>\n",
       "      <td>10</td>\n",
       "      <td>55,400</td>\n",
       "      <td>10</td>\n",
       "      <td>55,400.0000</td>\n",
       "      <td>0</td>\n",
       "      <td>0</td>\n",
       "      <td>0</td>\n",
       "      <td>-554,000</td>\n",
       "      <td>46,000</td>\n",
       "      <td>554,000</td>\n",
       "      <td>554,000</td>\n",
       "      <td>600,000</td>\n",
       "      <td>0</td>\n",
       "      <td>0</td>\n",
       "      <td>0</td>\n",
       "      <td>600,000</td>\n",
       "      <td>0</td>\n",
       "    </tr>\n",
       "    <tr>\n",
       "      <th>2</th>\n",
       "      <td>2023-01-04</td>\n",
       "      <td>005930</td>\n",
       "      <td>57,800</td>\n",
       "      <td>-20</td>\n",
       "      <td>0</td>\n",
       "      <td>0</td>\n",
       "      <td>10</td>\n",
       "      <td>55,400.0000</td>\n",
       "      <td>0</td>\n",
       "      <td>0</td>\n",
       "      <td>0</td>\n",
       "      <td>0</td>\n",
       "      <td>46,000</td>\n",
       "      <td>554,000</td>\n",
       "      <td>578,000</td>\n",
       "      <td>624,000</td>\n",
       "      <td>0</td>\n",
       "      <td>24,000</td>\n",
       "      <td>24,000</td>\n",
       "      <td>624,000</td>\n",
       "      <td>0</td>\n",
       "    </tr>\n",
       "    <tr>\n",
       "      <th>3</th>\n",
       "      <td>2023-01-05</td>\n",
       "      <td>005930</td>\n",
       "      <td>58,200</td>\n",
       "      <td>10</td>\n",
       "      <td>0</td>\n",
       "      <td>0</td>\n",
       "      <td>10</td>\n",
       "      <td>55,400.0000</td>\n",
       "      <td>0</td>\n",
       "      <td>0</td>\n",
       "      <td>0</td>\n",
       "      <td>0</td>\n",
       "      <td>46,000</td>\n",
       "      <td>554,000</td>\n",
       "      <td>582,000</td>\n",
       "      <td>628,000</td>\n",
       "      <td>0</td>\n",
       "      <td>28,000</td>\n",
       "      <td>28,000</td>\n",
       "      <td>628,000</td>\n",
       "      <td>0</td>\n",
       "    </tr>\n",
       "  </tbody>\n",
       "</table>\n",
       "</div>"
      ],
      "text/plain": [
       "        DATE  SYMBOL   PRICE  ORDER  QTY  TRADE_PRICE  POSITION   AVG_PRICE  \\\n",
       "0 2023-01-02  005930  55,500    -10    0            0         0      0.0000   \n",
       "1 2023-01-03  005930  55,400     10   10       55,400        10 55,400.0000   \n",
       "2 2023-01-04  005930  57,800    -20    0            0        10 55,400.0000   \n",
       "3 2023-01-05  005930  58,200     10    0            0        10 55,400.0000   \n",
       "\n",
       "   FEE  TRADE_TAX  SLIPPAGE  CASHFLOW     CASH  HIST_VALUE  STOCK_VALUE  \\\n",
       "0    0          0         0         0  600,000           0            0   \n",
       "1    0          0         0  -554,000   46,000     554,000      554,000   \n",
       "2    0          0         0         0   46,000     554,000      578,000   \n",
       "3    0          0         0         0   46,000     554,000      582,000   \n",
       "\n",
       "   TOTAL_VALUE  REAL_PROFIT  UNREAL_PROFIT  PROFIT  HIGHWATERMARK  DRAWDOWN  \n",
       "0      600,000            0              0       0        600,000         0  \n",
       "1      600,000            0              0       0        600,000         0  \n",
       "2      624,000            0         24,000  24,000        624,000         0  \n",
       "3      628,000            0         28,000  28,000        628,000         0  "
      ]
     },
     "execution_count": 18,
     "metadata": {},
     "output_type": "execute_result"
    }
   ],
   "source": [
    "kq.backtest_stock_daily(\"005930\", df_order5, init_cash=600_000)"
   ]
  },
  {
   "cell_type": "markdown",
   "id": "00fbb36f",
   "metadata": {
    "papermill": {
     "duration": 0.021268,
     "end_time": "2023-08-21T07:49:55.515235",
     "exception": false,
     "start_time": "2023-08-21T07:49:55.493967",
     "status": "completed"
    },
    "tags": []
   },
   "source": [
    ":::{.callout-caution title=\"주의사항\"}\n",
    "오류 주문은 예외(Exception)가 아닌 경고(Warning)로 처리되어 해당 주문정보만 무시되고 나머지 정상적인 주문정보은 그대로 처리되는 점에 주의하시기 바랍니다.\n",
    ":::"
   ]
  },
  {
   "cell_type": "markdown",
   "id": "62f6a4ea",
   "metadata": {
    "papermill": {
     "duration": 0.020277,
     "end_time": "2023-08-21T07:49:55.557444",
     "exception": false,
     "start_time": "2023-08-21T07:49:55.537167",
     "status": "completed"
    },
    "tags": []
   },
   "source": [
    "## 5.10 포워드테스트"
   ]
  },
  {
   "cell_type": "markdown",
   "id": "6d3fe3b1",
   "metadata": {
    "papermill": {
     "duration": 0.02021,
     "end_time": "2023-08-21T07:49:55.597755",
     "exception": false,
     "start_time": "2023-08-21T07:49:55.577545",
     "status": "completed"
    },
    "tags": []
   },
   "source": [
    "시간이 지나면서 새로운 주가정보가 발생하였을 때 진행중인 전략의 백테스트를 계속 갱신하며 매매전략의 성능을 모니터링하는 것을 포워드테스트(forward-test)라고 합니다.\n",
    "\n",
    "kquant는 포워드 테스트를 위해 과거의 백테스트에 새로운 주가정보와 주문정보를 추가하여 백테스트 결과를 갱신하는 기능을 `backtest_update_stock_daily` 함수로 지원합니다.\n",
    "\n",
    "`backtest_update_stock_daily` 함수를 사용하기 위해서는 최초 백테스트를 수행할 때 다음 코드와 같이 `return_position` 인수를 `True`로 주어 현재의 주식 보유상태를 저장하는 `df_position` 데이터프레임을 추가로 출력해야 합니다."
   ]
  },
  {
   "cell_type": "code",
   "execution_count": 19,
   "id": "79188210",
   "metadata": {
    "execution": {
     "iopub.execute_input": "2023-08-21T07:49:55.638624Z",
     "iopub.status.busy": "2023-08-21T07:49:55.638353Z",
     "iopub.status.idle": "2023-08-21T07:49:55.835315Z",
     "shell.execute_reply": "2023-08-21T07:49:55.834696Z"
    },
    "papermill": {
     "duration": 0.22021,
     "end_time": "2023-08-21T07:49:55.837092",
     "exception": false,
     "start_time": "2023-08-21T07:49:55.616882",
     "status": "completed"
    },
    "tags": []
   },
   "outputs": [
    {
     "name": "stderr",
     "output_type": "stream",
     "text": [
      "[2023-01-02] 종목: 005930, 주문전 보유수량:      0 주문수량:     10, 매매수량:     10, 주문후 보유수량:     10\n",
      "[2023-01-03] 종목: 005930, 주문전 보유수량:     10 주문수량:     10, 매매수량:     10, 주문후 보유수량:     20\n"
     ]
    }
   ],
   "source": [
    "df_order6 = pd.DataFrame({\n",
    "    \"DATE\": [\"2023-01-02\", \"2023-01-03\"],\n",
    "    \"ORDER\": [10, 10]\n",
    "})\n",
    "\n",
    "df_result6, df_position6 = kq.backtest_stock_daily(\n",
    "    \"005930\", \n",
    "    df_order6, \n",
    "    init_cash=10_000_000, \n",
    "    return_position=True,\n",
    ")\n"
   ]
  },
  {
   "cell_type": "code",
   "execution_count": 20,
   "id": "46cf5f94",
   "metadata": {
    "execution": {
     "iopub.execute_input": "2023-08-21T07:49:55.877125Z",
     "iopub.status.busy": "2023-08-21T07:49:55.876868Z",
     "iopub.status.idle": "2023-08-21T07:49:55.889373Z",
     "shell.execute_reply": "2023-08-21T07:49:55.888582Z"
    },
    "papermill": {
     "duration": 0.034619,
     "end_time": "2023-08-21T07:49:55.891210",
     "exception": false,
     "start_time": "2023-08-21T07:49:55.856591",
     "status": "completed"
    },
    "tags": []
   },
   "outputs": [
    {
     "data": {
      "text/html": [
       "<div>\n",
       "<style scoped>\n",
       "    .dataframe tbody tr th:only-of-type {\n",
       "        vertical-align: middle;\n",
       "    }\n",
       "\n",
       "    .dataframe tbody tr th {\n",
       "        vertical-align: top;\n",
       "    }\n",
       "\n",
       "    .dataframe thead th {\n",
       "        text-align: right;\n",
       "    }\n",
       "</style>\n",
       "<table border=\"1\" class=\"dataframe\">\n",
       "  <thead>\n",
       "    <tr style=\"text-align: right;\">\n",
       "      <th></th>\n",
       "      <th>DATE</th>\n",
       "      <th>SYMBOL</th>\n",
       "      <th>PRICE</th>\n",
       "      <th>ORDER</th>\n",
       "      <th>QTY</th>\n",
       "      <th>TRADE_PRICE</th>\n",
       "      <th>POSITION</th>\n",
       "      <th>AVG_PRICE</th>\n",
       "      <th>FEE</th>\n",
       "      <th>TRADE_TAX</th>\n",
       "      <th>SLIPPAGE</th>\n",
       "      <th>CASHFLOW</th>\n",
       "      <th>CASH</th>\n",
       "      <th>HIST_VALUE</th>\n",
       "      <th>STOCK_VALUE</th>\n",
       "      <th>TOTAL_VALUE</th>\n",
       "      <th>REAL_PROFIT</th>\n",
       "      <th>UNREAL_PROFIT</th>\n",
       "      <th>PROFIT</th>\n",
       "      <th>HIGHWATERMARK</th>\n",
       "      <th>DRAWDOWN</th>\n",
       "    </tr>\n",
       "  </thead>\n",
       "  <tbody>\n",
       "    <tr>\n",
       "      <th>0</th>\n",
       "      <td>2023-01-02</td>\n",
       "      <td>005930</td>\n",
       "      <td>55,500</td>\n",
       "      <td>10</td>\n",
       "      <td>10</td>\n",
       "      <td>55,500</td>\n",
       "      <td>10</td>\n",
       "      <td>55,500.0000</td>\n",
       "      <td>0</td>\n",
       "      <td>0</td>\n",
       "      <td>0</td>\n",
       "      <td>-555,000</td>\n",
       "      <td>9,445,000</td>\n",
       "      <td>555,000</td>\n",
       "      <td>555,000</td>\n",
       "      <td>10,000,000</td>\n",
       "      <td>0</td>\n",
       "      <td>0</td>\n",
       "      <td>0</td>\n",
       "      <td>10,000,000</td>\n",
       "      <td>0</td>\n",
       "    </tr>\n",
       "    <tr>\n",
       "      <th>1</th>\n",
       "      <td>2023-01-03</td>\n",
       "      <td>005930</td>\n",
       "      <td>55,400</td>\n",
       "      <td>10</td>\n",
       "      <td>10</td>\n",
       "      <td>55,400</td>\n",
       "      <td>20</td>\n",
       "      <td>55,450.0000</td>\n",
       "      <td>0</td>\n",
       "      <td>0</td>\n",
       "      <td>0</td>\n",
       "      <td>-554,000</td>\n",
       "      <td>8,891,000</td>\n",
       "      <td>1,109,000</td>\n",
       "      <td>1,108,000</td>\n",
       "      <td>9,999,000</td>\n",
       "      <td>0</td>\n",
       "      <td>-1,000</td>\n",
       "      <td>-1,000</td>\n",
       "      <td>10,000,000</td>\n",
       "      <td>1,000</td>\n",
       "    </tr>\n",
       "  </tbody>\n",
       "</table>\n",
       "</div>"
      ],
      "text/plain": [
       "        DATE  SYMBOL   PRICE  ORDER  QTY  TRADE_PRICE  POSITION   AVG_PRICE  \\\n",
       "0 2023-01-02  005930  55,500     10   10       55,500        10 55,500.0000   \n",
       "1 2023-01-03  005930  55,400     10   10       55,400        20 55,450.0000   \n",
       "\n",
       "   FEE  TRADE_TAX  SLIPPAGE  CASHFLOW       CASH  HIST_VALUE  STOCK_VALUE  \\\n",
       "0    0          0         0  -555,000  9,445,000     555,000      555,000   \n",
       "1    0          0         0  -554,000  8,891,000   1,109,000    1,108,000   \n",
       "\n",
       "   TOTAL_VALUE  REAL_PROFIT  UNREAL_PROFIT  PROFIT  HIGHWATERMARK  DRAWDOWN  \n",
       "0   10,000,000            0              0       0     10,000,000         0  \n",
       "1    9,999,000            0         -1,000  -1,000     10,000,000     1,000  "
      ]
     },
     "execution_count": 20,
     "metadata": {},
     "output_type": "execute_result"
    }
   ],
   "source": [
    "df_result6\n"
   ]
  },
  {
   "cell_type": "code",
   "execution_count": 21,
   "id": "be8d4406",
   "metadata": {
    "execution": {
     "iopub.execute_input": "2023-08-21T07:49:55.932862Z",
     "iopub.status.busy": "2023-08-21T07:49:55.932476Z",
     "iopub.status.idle": "2023-08-21T07:49:55.940658Z",
     "shell.execute_reply": "2023-08-21T07:49:55.940122Z"
    },
    "papermill": {
     "duration": 0.032325,
     "end_time": "2023-08-21T07:49:55.942671",
     "exception": false,
     "start_time": "2023-08-21T07:49:55.910346",
     "status": "completed"
    },
    "tags": []
   },
   "outputs": [
    {
     "data": {
      "text/html": [
       "<div>\n",
       "<style scoped>\n",
       "    .dataframe tbody tr th:only-of-type {\n",
       "        vertical-align: middle;\n",
       "    }\n",
       "\n",
       "    .dataframe tbody tr th {\n",
       "        vertical-align: top;\n",
       "    }\n",
       "\n",
       "    .dataframe thead th {\n",
       "        text-align: right;\n",
       "    }\n",
       "</style>\n",
       "<table border=\"1\" class=\"dataframe\">\n",
       "  <thead>\n",
       "    <tr style=\"text-align: right;\">\n",
       "      <th></th>\n",
       "      <th>DATE</th>\n",
       "      <th>SYMBOL</th>\n",
       "      <th>QTY</th>\n",
       "      <th>TRADE_PRICE</th>\n",
       "      <th>HIST_VALUE</th>\n",
       "      <th>FEE</th>\n",
       "      <th>NOT_DELETE</th>\n",
       "    </tr>\n",
       "  </thead>\n",
       "  <tbody>\n",
       "    <tr>\n",
       "      <th>0</th>\n",
       "      <td>2023-01-02</td>\n",
       "      <td>005930</td>\n",
       "      <td>10</td>\n",
       "      <td>55,500</td>\n",
       "      <td>555,000</td>\n",
       "      <td>0</td>\n",
       "      <td>True</td>\n",
       "    </tr>\n",
       "    <tr>\n",
       "      <th>1</th>\n",
       "      <td>2023-01-03</td>\n",
       "      <td>005930</td>\n",
       "      <td>10</td>\n",
       "      <td>55,400</td>\n",
       "      <td>554,000</td>\n",
       "      <td>0</td>\n",
       "      <td>True</td>\n",
       "    </tr>\n",
       "  </tbody>\n",
       "</table>\n",
       "</div>"
      ],
      "text/plain": [
       "        DATE  SYMBOL  QTY  TRADE_PRICE  HIST_VALUE  FEE  NOT_DELETE\n",
       "0 2023-01-02  005930   10       55,500     555,000    0        True\n",
       "1 2023-01-03  005930   10       55,400     554,000    0        True"
      ]
     },
     "execution_count": 21,
     "metadata": {},
     "output_type": "execute_result"
    }
   ],
   "source": [
    "df_position6\n"
   ]
  },
  {
   "cell_type": "markdown",
   "id": "1b6fc36c",
   "metadata": {
    "papermill": {
     "duration": 0.019418,
     "end_time": "2023-08-21T07:49:55.983305",
     "exception": false,
     "start_time": "2023-08-21T07:49:55.963887",
     "status": "completed"
    },
    "tags": []
   },
   "source": [
    "이렇게 계산한 `df_result` 및 `df_position` 데이터프레임을 새로운 주문 정보와 함께 `backtest_update_stock_daily` 함수에 넣어주면 백테스트 결과가 추가로 갱신됩니다.\n",
    "\n",
    "이 때 `backtest_update_stock_daily` 함수에는 다음과 같은 인수를 주어야 합니다.\n",
    "\n",
    "- `symbol`: 종목 단축코드 문자열\n",
    "- `order`: 해당일의 주문 수량\n",
    "- `date`: 매매일\n",
    "- `df_result`: 과거의 백테스트 결과 데이터프레임\n",
    "- `df_position`: 과거의 백테스트 포지션 데이터프레임\n"
   ]
  },
  {
   "cell_type": "code",
   "execution_count": 22,
   "id": "3bb4957a",
   "metadata": {
    "execution": {
     "iopub.execute_input": "2023-08-21T07:49:56.022109Z",
     "iopub.status.busy": "2023-08-21T07:49:56.021840Z",
     "iopub.status.idle": "2023-08-21T07:49:56.091397Z",
     "shell.execute_reply": "2023-08-21T07:49:56.090753Z"
    },
    "papermill": {
     "duration": 0.091151,
     "end_time": "2023-08-21T07:49:56.093161",
     "exception": false,
     "start_time": "2023-08-21T07:49:56.002010",
     "status": "completed"
    },
    "tags": []
   },
   "outputs": [
    {
     "name": "stderr",
     "output_type": "stream",
     "text": [
      "[2023-01-04] 종목: 005930, 주문전 보유수량:     20 주문수량:    -15, 매매수량:    -15, 주문후 보유수량:      5\n"
     ]
    }
   ],
   "source": [
    "df_result7, df_position7 = kq.backtest_update_stock_daily(\n",
    "    \"005930\", \n",
    "    -15, \n",
    "    \"2023-01-04\", \n",
    "    df_result6, \n",
    "    df_position6,\n",
    ")\n"
   ]
  },
  {
   "cell_type": "code",
   "execution_count": 23,
   "id": "1774c1b6",
   "metadata": {
    "execution": {
     "iopub.execute_input": "2023-08-21T07:49:56.135767Z",
     "iopub.status.busy": "2023-08-21T07:49:56.135502Z",
     "iopub.status.idle": "2023-08-21T07:49:56.150381Z",
     "shell.execute_reply": "2023-08-21T07:49:56.149752Z"
    },
    "papermill": {
     "duration": 0.037683,
     "end_time": "2023-08-21T07:49:56.152221",
     "exception": false,
     "start_time": "2023-08-21T07:49:56.114538",
     "status": "completed"
    },
    "tags": []
   },
   "outputs": [
    {
     "data": {
      "text/html": [
       "<div>\n",
       "<style scoped>\n",
       "    .dataframe tbody tr th:only-of-type {\n",
       "        vertical-align: middle;\n",
       "    }\n",
       "\n",
       "    .dataframe tbody tr th {\n",
       "        vertical-align: top;\n",
       "    }\n",
       "\n",
       "    .dataframe thead th {\n",
       "        text-align: right;\n",
       "    }\n",
       "</style>\n",
       "<table border=\"1\" class=\"dataframe\">\n",
       "  <thead>\n",
       "    <tr style=\"text-align: right;\">\n",
       "      <th></th>\n",
       "      <th>DATE</th>\n",
       "      <th>SYMBOL</th>\n",
       "      <th>PRICE</th>\n",
       "      <th>ORDER</th>\n",
       "      <th>QTY</th>\n",
       "      <th>TRADE_PRICE</th>\n",
       "      <th>POSITION</th>\n",
       "      <th>AVG_PRICE</th>\n",
       "      <th>FEE</th>\n",
       "      <th>TRADE_TAX</th>\n",
       "      <th>SLIPPAGE</th>\n",
       "      <th>CASHFLOW</th>\n",
       "      <th>CASH</th>\n",
       "      <th>HIST_VALUE</th>\n",
       "      <th>STOCK_VALUE</th>\n",
       "      <th>TOTAL_VALUE</th>\n",
       "      <th>REAL_PROFIT</th>\n",
       "      <th>UNREAL_PROFIT</th>\n",
       "      <th>PROFIT</th>\n",
       "      <th>HIGHWATERMARK</th>\n",
       "      <th>DRAWDOWN</th>\n",
       "    </tr>\n",
       "  </thead>\n",
       "  <tbody>\n",
       "    <tr>\n",
       "      <th>0</th>\n",
       "      <td>2023-01-02</td>\n",
       "      <td>005930</td>\n",
       "      <td>55,500</td>\n",
       "      <td>10</td>\n",
       "      <td>10</td>\n",
       "      <td>55,500</td>\n",
       "      <td>10</td>\n",
       "      <td>55,500.0000</td>\n",
       "      <td>0</td>\n",
       "      <td>0</td>\n",
       "      <td>0</td>\n",
       "      <td>-555,000</td>\n",
       "      <td>9,445,000</td>\n",
       "      <td>555,000</td>\n",
       "      <td>555,000</td>\n",
       "      <td>10,000,000</td>\n",
       "      <td>0</td>\n",
       "      <td>0</td>\n",
       "      <td>0</td>\n",
       "      <td>10,000,000</td>\n",
       "      <td>0</td>\n",
       "    </tr>\n",
       "    <tr>\n",
       "      <th>1</th>\n",
       "      <td>2023-01-03</td>\n",
       "      <td>005930</td>\n",
       "      <td>55,400</td>\n",
       "      <td>10</td>\n",
       "      <td>10</td>\n",
       "      <td>55,400</td>\n",
       "      <td>20</td>\n",
       "      <td>55,450.0000</td>\n",
       "      <td>0</td>\n",
       "      <td>0</td>\n",
       "      <td>0</td>\n",
       "      <td>-554,000</td>\n",
       "      <td>8,891,000</td>\n",
       "      <td>1,109,000</td>\n",
       "      <td>1,108,000</td>\n",
       "      <td>9,999,000</td>\n",
       "      <td>0</td>\n",
       "      <td>-1,000</td>\n",
       "      <td>-1,000</td>\n",
       "      <td>10,000,000</td>\n",
       "      <td>1,000</td>\n",
       "    </tr>\n",
       "    <tr>\n",
       "      <th>2</th>\n",
       "      <td>2023-01-04</td>\n",
       "      <td>005930</td>\n",
       "      <td>57,800</td>\n",
       "      <td>-15</td>\n",
       "      <td>-15</td>\n",
       "      <td>57,800</td>\n",
       "      <td>5</td>\n",
       "      <td>55,400.0000</td>\n",
       "      <td>0</td>\n",
       "      <td>0</td>\n",
       "      <td>0</td>\n",
       "      <td>867,000</td>\n",
       "      <td>9,758,000</td>\n",
       "      <td>277,000</td>\n",
       "      <td>289,000</td>\n",
       "      <td>10,047,000</td>\n",
       "      <td>35,000</td>\n",
       "      <td>12,000</td>\n",
       "      <td>47,000</td>\n",
       "      <td>10,047,000</td>\n",
       "      <td>0</td>\n",
       "    </tr>\n",
       "  </tbody>\n",
       "</table>\n",
       "</div>"
      ],
      "text/plain": [
       "        DATE  SYMBOL   PRICE  ORDER  QTY  TRADE_PRICE  POSITION   AVG_PRICE  \\\n",
       "0 2023-01-02  005930  55,500     10   10       55,500        10 55,500.0000   \n",
       "1 2023-01-03  005930  55,400     10   10       55,400        20 55,450.0000   \n",
       "2 2023-01-04  005930  57,800    -15  -15       57,800         5 55,400.0000   \n",
       "\n",
       "   FEE  TRADE_TAX  SLIPPAGE  CASHFLOW       CASH  HIST_VALUE  STOCK_VALUE  \\\n",
       "0    0          0         0  -555,000  9,445,000     555,000      555,000   \n",
       "1    0          0         0  -554,000  8,891,000   1,109,000    1,108,000   \n",
       "2    0          0         0   867,000  9,758,000     277,000      289,000   \n",
       "\n",
       "   TOTAL_VALUE  REAL_PROFIT  UNREAL_PROFIT  PROFIT  HIGHWATERMARK  DRAWDOWN  \n",
       "0   10,000,000            0              0       0     10,000,000         0  \n",
       "1    9,999,000            0         -1,000  -1,000     10,000,000     1,000  \n",
       "2   10,047,000       35,000         12,000  47,000     10,047,000         0  "
      ]
     },
     "execution_count": 23,
     "metadata": {},
     "output_type": "execute_result"
    }
   ],
   "source": [
    "df_result7\n"
   ]
  },
  {
   "cell_type": "code",
   "execution_count": 24,
   "id": "1ff1be25",
   "metadata": {
    "execution": {
     "iopub.execute_input": "2023-08-21T07:49:56.266000Z",
     "iopub.status.busy": "2023-08-21T07:49:56.265553Z",
     "iopub.status.idle": "2023-08-21T07:49:56.278539Z",
     "shell.execute_reply": "2023-08-21T07:49:56.277518Z"
    },
    "papermill": {
     "duration": 0.101203,
     "end_time": "2023-08-21T07:49:56.284875",
     "exception": false,
     "start_time": "2023-08-21T07:49:56.183672",
     "status": "completed"
    },
    "tags": []
   },
   "outputs": [
    {
     "data": {
      "text/html": [
       "<div>\n",
       "<style scoped>\n",
       "    .dataframe tbody tr th:only-of-type {\n",
       "        vertical-align: middle;\n",
       "    }\n",
       "\n",
       "    .dataframe tbody tr th {\n",
       "        vertical-align: top;\n",
       "    }\n",
       "\n",
       "    .dataframe thead th {\n",
       "        text-align: right;\n",
       "    }\n",
       "</style>\n",
       "<table border=\"1\" class=\"dataframe\">\n",
       "  <thead>\n",
       "    <tr style=\"text-align: right;\">\n",
       "      <th></th>\n",
       "      <th>DATE</th>\n",
       "      <th>SYMBOL</th>\n",
       "      <th>QTY</th>\n",
       "      <th>TRADE_PRICE</th>\n",
       "      <th>HIST_VALUE</th>\n",
       "      <th>FEE</th>\n",
       "      <th>NOT_DELETE</th>\n",
       "    </tr>\n",
       "  </thead>\n",
       "  <tbody>\n",
       "    <tr>\n",
       "      <th>0</th>\n",
       "      <td>2023-01-03</td>\n",
       "      <td>005930</td>\n",
       "      <td>5</td>\n",
       "      <td>55,400</td>\n",
       "      <td>831,000</td>\n",
       "      <td>0</td>\n",
       "      <td>True</td>\n",
       "    </tr>\n",
       "  </tbody>\n",
       "</table>\n",
       "</div>"
      ],
      "text/plain": [
       "        DATE  SYMBOL  QTY  TRADE_PRICE  HIST_VALUE  FEE  NOT_DELETE\n",
       "0 2023-01-03  005930    5       55,400     831,000    0        True"
      ]
     },
     "execution_count": 24,
     "metadata": {},
     "output_type": "execute_result"
    }
   ],
   "source": [
    "df_position7\n"
   ]
  },
  {
   "cell_type": "markdown",
   "id": "4a5f4a59",
   "metadata": {
    "papermill": {
     "duration": 0.023765,
     "end_time": "2023-08-21T07:49:56.351318",
     "exception": false,
     "start_time": "2023-08-21T07:49:56.327553",
     "status": "completed"
    },
    "tags": []
   },
   "source": [
    "## 5.11 전략 함수를 사용한 백테스트"
   ]
  },
  {
   "cell_type": "markdown",
   "id": "0371ac4f",
   "metadata": {},
   "source": [
    "`backtest_stock_daily` 함수의 `order` 인수는 실제 주문정보가 담긴 데이터프레임 이외에도 주문정보를 생성할 수 있는 전략 함수를 받을 수도 있습니다. \n",
    "\n",
    "`order` 인수로 넣을 수 있는 함수는 반드시 다음과 같은 인수를 가져야 합니다.\n",
    "\n",
    "- `symbol`: 종목단축코드\n",
    "- `date`: datetime.date 형식의 날짜 정보\n",
    "- `df_result`: 백테스트 결과 데이터프레임\n",
    "- `df_position`: 백테스트 포지션 데이터프레임\n",
    "- `logger`: 로거 객체\n",
    "\n",
    "다음 예제 코드는 주가가 2 매매일 전보다 3% 이상 상승하면 매수하고 일단 매매한 주식의 손익 절대값이 +/- 3% 이상이면 매도하는 전략을 함수로 구현한 것입니다."
   ]
  },
  {
   "cell_type": "code",
   "execution_count": 25,
   "id": "9335127f",
   "metadata": {},
   "outputs": [],
   "source": [
    "import pandas as pd\n",
    "import datetime as dt\n",
    "import logging\n",
    "\n",
    "def trade_func(\n",
    "    symbol: str,\n",
    "    date: dt.date,\n",
    "    df_result: pd.DataFrame,\n",
    "    df_position: pd.DataFrame,\n",
    "    logger: logging.Logger,\n",
    ") -> int:\n",
    "    \n",
    "    # 보유주식이 없는 경우\n",
    "    if len(df_position) == 0:\n",
    "        \n",
    "        # 2일간 주가 수익률 계산\n",
    "        start_date = date - dt.timedelta(days=10) \n",
    "        price = kq.daily_stock(symbol, start_date, date).CLOSE\n",
    "        price_cur = price.iloc[-1]\n",
    "        price_2daysago = price.iloc[-3]\n",
    "        return_2days = price_cur / price_2daysago - 1\n",
    "\n",
    "        if return_2days > 0.03:\n",
    "            return 1\n",
    "        else:\n",
    "            return 0\n",
    "        \n",
    "    # 보유주식이 있는 경우\n",
    "    else:\n",
    "        \n",
    "        # 수익률 계산\n",
    "        trade_price = df_position.iloc[-1].TRADE_PRICE\n",
    "        profit = df_result.iloc[-1].PROFIT\n",
    "        profit_pct = profit / trade_price\n",
    "        \n",
    "        if abs(profit_pct) > 0.03:\n",
    "            return -df_position.iloc[-1].QTY\n",
    "        else:\n",
    "            return 0\n",
    "    \n",
    "\n"
   ]
  },
  {
   "cell_type": "markdown",
   "id": "6e9b4c03",
   "metadata": {},
   "source": [
    "백테스트 결과는 다음과 같습니다."
   ]
  },
  {
   "cell_type": "code",
   "execution_count": 26,
   "id": "99a975db",
   "metadata": {},
   "outputs": [
    {
     "name": "stderr",
     "output_type": "stream",
     "text": [
      "[2023-01-04] 종목: 005930, 주문전 보유수량:      0 주문수량:      1, 매매수량:      1, 주문후 보유수량:      1\n",
      "[2023-01-10] 종목: 005930, 주문전 보유수량:      1 주문수량:     -1, 매매수량:     -1, 주문후 보유수량:      0\n",
      "[2023-01-25] 종목: 005930, 주문전 보유수량:      0 주문수량:      1, 매매수량:      1, 주문후 보유수량:      1\n",
      "[2023-01-26] 종목: 005930, 주문전 보유수량:      1 주문수량:     -1, 매매수량:     -1, 주문후 보유수량:      0\n"
     ]
    }
   ],
   "source": [
    "df_result8 = kq.backtest_stock_daily(\n",
    "    \"005930\", \n",
    "    trade_func,\n",
    "    \"2023-01-02\", \n",
    "    \"2023-01-31\", \n",
    "    init_cash=100_000,\n",
    ")"
   ]
  },
  {
   "cell_type": "code",
   "execution_count": 27,
   "id": "cab9509c",
   "metadata": {},
   "outputs": [
    {
     "data": {
      "application/vnd.plotly.v1+json": {
       "config": {
        "displaylogo": false,
        "modeBarButtonsToRemove": [
         "resetScale2d",
         "lasso2d",
         "zoomIn2d",
         "zoomOut2d",
         "select2d"
        ],
        "plotlyServerURL": "https://plot.ly",
        "responsive": true
       },
       "data": [
        {
         "marker": {
          "color": "#000000"
         },
         "mode": "lines",
         "name": "가격",
         "type": "scatter",
         "x": [
          "2023-01-02T00:00:00",
          "2023-01-03T00:00:00",
          "2023-01-04T00:00:00",
          "2023-01-05T00:00:00",
          "2023-01-06T00:00:00",
          "2023-01-09T00:00:00",
          "2023-01-10T00:00:00",
          "2023-01-11T00:00:00",
          "2023-01-12T00:00:00",
          "2023-01-13T00:00:00",
          "2023-01-16T00:00:00",
          "2023-01-17T00:00:00",
          "2023-01-18T00:00:00",
          "2023-01-19T00:00:00",
          "2023-01-20T00:00:00",
          "2023-01-25T00:00:00",
          "2023-01-26T00:00:00",
          "2023-01-27T00:00:00",
          "2023-01-30T00:00:00",
          "2023-01-31T00:00:00"
         ],
         "xaxis": "x5",
         "y": [
          55500,
          55400,
          57800,
          58200,
          59000,
          60700,
          60400,
          60500,
          60500,
          60800,
          61100,
          61000,
          60400,
          61500,
          61800,
          63400,
          63900,
          64600,
          63300,
          61000
         ],
         "yaxis": "y"
        },
        {
         "marker": {
          "color": "#DC143C",
          "line": {
           "color": "white",
           "width": 1
          },
          "size": 12,
          "symbol": "triangle-up"
         },
         "mode": "markers",
         "name": "매수",
         "type": "scatter",
         "x": [
          "2023-01-04T00:00:00",
          "2023-01-25T00:00:00"
         ],
         "xaxis": "x5",
         "y": [
          57800,
          63400
         ],
         "yaxis": "y"
        },
        {
         "marker": {
          "color": "#00008B",
          "line": {
           "color": "white",
           "width": 1
          },
          "size": 12,
          "symbol": "triangle-down"
         },
         "mode": "markers",
         "name": "매도",
         "type": "scatter",
         "x": [
          "2023-01-10T00:00:00",
          "2023-01-26T00:00:00"
         ],
         "xaxis": "x5",
         "y": [
          60400,
          63900
         ],
         "yaxis": "y"
        },
        {
         "fill": "tozeroy",
         "fillcolor": "lightgray",
         "line": {
          "color": "#000000",
          "shape": "hv"
         },
         "mode": "lines",
         "name": "잔고수량",
         "type": "scatter",
         "x": [
          "2023-01-02T00:00:00",
          "2023-01-03T00:00:00",
          "2023-01-04T00:00:00",
          "2023-01-05T00:00:00",
          "2023-01-06T00:00:00",
          "2023-01-09T00:00:00",
          "2023-01-10T00:00:00",
          "2023-01-11T00:00:00",
          "2023-01-12T00:00:00",
          "2023-01-13T00:00:00",
          "2023-01-16T00:00:00",
          "2023-01-17T00:00:00",
          "2023-01-18T00:00:00",
          "2023-01-19T00:00:00",
          "2023-01-20T00:00:00",
          "2023-01-25T00:00:00",
          "2023-01-26T00:00:00",
          "2023-01-27T00:00:00",
          "2023-01-30T00:00:00",
          "2023-01-31T00:00:00"
         ],
         "xaxis": "x5",
         "y": [
          0,
          0,
          1,
          1,
          1,
          1,
          0,
          0,
          0,
          0,
          0,
          0,
          0,
          0,
          0,
          1,
          0,
          0,
          0,
          0
         ],
         "yaxis": "y2"
        },
        {
         "line": {
          "color": "#000000",
          "shape": "hv"
         },
         "mode": "lines",
         "name": "잔고가치",
         "type": "scatter",
         "x": [
          "2023-01-02T00:00:00",
          "2023-01-03T00:00:00",
          "2023-01-04T00:00:00",
          "2023-01-05T00:00:00",
          "2023-01-06T00:00:00",
          "2023-01-09T00:00:00",
          "2023-01-10T00:00:00",
          "2023-01-11T00:00:00",
          "2023-01-12T00:00:00",
          "2023-01-13T00:00:00",
          "2023-01-16T00:00:00",
          "2023-01-17T00:00:00",
          "2023-01-18T00:00:00",
          "2023-01-19T00:00:00",
          "2023-01-20T00:00:00",
          "2023-01-25T00:00:00",
          "2023-01-26T00:00:00",
          "2023-01-27T00:00:00",
          "2023-01-30T00:00:00",
          "2023-01-31T00:00:00"
         ],
         "xaxis": "x5",
         "y": [
          null,
          null,
          57800,
          58200,
          59000,
          60700,
          null,
          null,
          null,
          null,
          null,
          null,
          null,
          null,
          null,
          63400,
          null,
          null,
          null,
          null
         ],
         "yaxis": "y3"
        },
        {
         "cliponaxis": false,
         "marker": {
          "color": [
           "#00008B",
           "#00008B",
           "#00008B",
           "#00008B",
           "#00008B",
           "#00008B",
           "#DC143C",
           "#00008B",
           "#00008B",
           "#00008B",
           "#00008B",
           "#00008B",
           "#00008B",
           "#00008B",
           "#00008B",
           "#00008B",
           "#DC143C",
           "#00008B",
           "#00008B",
           "#00008B"
          ]
         },
         "name": "실현손익",
         "text": [
          "",
          "",
          "",
          "",
          "",
          "",
          "2,600",
          "",
          "",
          "",
          "",
          "",
          "",
          "",
          "",
          "",
          "500",
          "",
          "",
          ""
         ],
         "textposition": "outside",
         "type": "bar",
         "width": 432000000,
         "x": [
          "2023-01-02T00:00:00",
          "2023-01-03T00:00:00",
          "2023-01-04T00:00:00",
          "2023-01-05T00:00:00",
          "2023-01-06T00:00:00",
          "2023-01-09T00:00:00",
          "2023-01-10T00:00:00",
          "2023-01-11T00:00:00",
          "2023-01-12T00:00:00",
          "2023-01-13T00:00:00",
          "2023-01-16T00:00:00",
          "2023-01-17T00:00:00",
          "2023-01-18T00:00:00",
          "2023-01-19T00:00:00",
          "2023-01-20T00:00:00",
          "2023-01-25T00:00:00",
          "2023-01-26T00:00:00",
          "2023-01-27T00:00:00",
          "2023-01-30T00:00:00",
          "2023-01-31T00:00:00"
         ],
         "xaxis": "x5",
         "y": [
          0,
          0,
          0,
          0,
          0,
          0,
          2600,
          0,
          0,
          0,
          0,
          0,
          0,
          0,
          0,
          0,
          500,
          0,
          0,
          0
         ],
         "yaxis": "y4"
        },
        {
         "line": {
          "color": "#000000",
          "shape": "hv"
         },
         "mode": "lines",
         "name": "총자산가치",
         "type": "scatter",
         "x": [
          "2023-01-02T00:00:00",
          "2023-01-03T00:00:00",
          "2023-01-04T00:00:00",
          "2023-01-05T00:00:00",
          "2023-01-06T00:00:00",
          "2023-01-09T00:00:00",
          "2023-01-10T00:00:00",
          "2023-01-11T00:00:00",
          "2023-01-12T00:00:00",
          "2023-01-13T00:00:00",
          "2023-01-16T00:00:00",
          "2023-01-17T00:00:00",
          "2023-01-18T00:00:00",
          "2023-01-19T00:00:00",
          "2023-01-20T00:00:00",
          "2023-01-25T00:00:00",
          "2023-01-26T00:00:00",
          "2023-01-27T00:00:00",
          "2023-01-30T00:00:00",
          "2023-01-31T00:00:00"
         ],
         "xaxis": "x5",
         "y": [
          100000,
          100000,
          100000,
          100400,
          101200,
          102900,
          102600,
          102600,
          102600,
          102600,
          102600,
          102600,
          102600,
          102600,
          102600,
          102600,
          103100,
          103100,
          103100,
          103100
         ],
         "yaxis": "y5"
        },
        {
         "line": {
          "color": "#DC143C",
          "dash": "dash",
          "shape": "hv"
         },
         "mode": "lines",
         "name": "최고자산가치",
         "type": "scatter",
         "x": [
          "2023-01-02T00:00:00",
          "2023-01-03T00:00:00",
          "2023-01-04T00:00:00",
          "2023-01-05T00:00:00",
          "2023-01-06T00:00:00",
          "2023-01-09T00:00:00",
          "2023-01-10T00:00:00",
          "2023-01-11T00:00:00",
          "2023-01-12T00:00:00",
          "2023-01-13T00:00:00",
          "2023-01-16T00:00:00",
          "2023-01-17T00:00:00",
          "2023-01-18T00:00:00",
          "2023-01-19T00:00:00",
          "2023-01-20T00:00:00",
          "2023-01-25T00:00:00",
          "2023-01-26T00:00:00",
          "2023-01-27T00:00:00",
          "2023-01-30T00:00:00",
          "2023-01-31T00:00:00"
         ],
         "xaxis": "x5",
         "y": [
          100000,
          100000,
          100000,
          100400,
          101200,
          102900,
          102900,
          102900,
          102900,
          102900,
          102900,
          102900,
          102900,
          102900,
          102900,
          102900,
          103100,
          103100,
          103100,
          103100
         ],
         "yaxis": "y5"
        },
        {
         "base": [
          100000
         ],
         "cliponaxis": false,
         "marker": {
          "color": [
           "#DC143C"
          ]
         },
         "name": "최종손익",
         "text": [
          "최종수익: 3,100"
         ],
         "textposition": "outside",
         "type": "bar",
         "width": 864000000,
         "x": [
          "2023-01-31T00:00:00"
         ],
         "xaxis": "x5",
         "y": [
          3100
         ],
         "yaxis": "y5"
        },
        {
         "cliponaxis": false,
         "marker": {
          "color": [
           "#DC143C",
           "#00008B"
          ],
          "line": {
           "color": "white",
           "width": 1
          },
          "size": 12,
          "symbol": [
           "triangle-up",
           "triangle-down"
          ]
         },
         "mode": "markers+text",
         "name": "",
         "text": [
          "최고자산가치: 103,100",
          "MDD: -300"
         ],
         "textposition": [
          "top center",
          "bottom center"
         ],
         "type": "scatter",
         "x": [
          "2023-01-26T00:00:00",
          "2023-01-10T00:00:00"
         ],
         "xaxis": "x5",
         "y": [
          103100,
          102800
         ],
         "yaxis": "y5"
        }
       ],
       "layout": {
        "annotations": [
         {
          "font": {
           "size": 16
          },
          "showarrow": false,
          "text": "가격",
          "x": 0.5,
          "xanchor": "center",
          "xref": "paper",
          "y": 1,
          "yanchor": "bottom",
          "yref": "paper"
         },
         {
          "font": {
           "size": 16
          },
          "showarrow": false,
          "text": "잔고수량",
          "x": 0.5,
          "xanchor": "center",
          "xref": "paper",
          "y": 0.79,
          "yanchor": "bottom",
          "yref": "paper"
         },
         {
          "font": {
           "size": 16
          },
          "showarrow": false,
          "text": "잔고가치",
          "x": 0.5,
          "xanchor": "center",
          "xref": "paper",
          "y": 0.66,
          "yanchor": "bottom",
          "yref": "paper"
         },
         {
          "font": {
           "size": 16
          },
          "showarrow": false,
          "text": "실현손익",
          "x": 0.5,
          "xanchor": "center",
          "xref": "paper",
          "y": 0.45,
          "yanchor": "bottom",
          "yref": "paper"
         },
         {
          "font": {
           "size": 16
          },
          "showarrow": false,
          "text": "총자산가치",
          "x": 0.5,
          "xanchor": "center",
          "xref": "paper",
          "y": 0.24,
          "yanchor": "bottom",
          "yref": "paper"
         }
        ],
        "height": 800,
        "hovermode": "x unified",
        "margin": {
         "b": 25,
         "l": 25,
         "r": 25,
         "t": 80
        },
        "showlegend": false,
        "template": {
         "data": {
          "bar": [
           {
            "error_x": {
             "color": "#2a3f5f"
            },
            "error_y": {
             "color": "#2a3f5f"
            },
            "marker": {
             "line": {
              "color": "#E5ECF6",
              "width": 0.5
             },
             "pattern": {
              "fillmode": "overlay",
              "size": 10,
              "solidity": 0.2
             }
            },
            "type": "bar"
           }
          ],
          "barpolar": [
           {
            "marker": {
             "line": {
              "color": "#E5ECF6",
              "width": 0.5
             },
             "pattern": {
              "fillmode": "overlay",
              "size": 10,
              "solidity": 0.2
             }
            },
            "type": "barpolar"
           }
          ],
          "carpet": [
           {
            "aaxis": {
             "endlinecolor": "#2a3f5f",
             "gridcolor": "white",
             "linecolor": "white",
             "minorgridcolor": "white",
             "startlinecolor": "#2a3f5f"
            },
            "baxis": {
             "endlinecolor": "#2a3f5f",
             "gridcolor": "white",
             "linecolor": "white",
             "minorgridcolor": "white",
             "startlinecolor": "#2a3f5f"
            },
            "type": "carpet"
           }
          ],
          "choropleth": [
           {
            "colorbar": {
             "outlinewidth": 0,
             "ticks": ""
            },
            "type": "choropleth"
           }
          ],
          "contour": [
           {
            "colorbar": {
             "outlinewidth": 0,
             "ticks": ""
            },
            "colorscale": [
             [
              0,
              "#0d0887"
             ],
             [
              0.1111111111111111,
              "#46039f"
             ],
             [
              0.2222222222222222,
              "#7201a8"
             ],
             [
              0.3333333333333333,
              "#9c179e"
             ],
             [
              0.4444444444444444,
              "#bd3786"
             ],
             [
              0.5555555555555556,
              "#d8576b"
             ],
             [
              0.6666666666666666,
              "#ed7953"
             ],
             [
              0.7777777777777778,
              "#fb9f3a"
             ],
             [
              0.8888888888888888,
              "#fdca26"
             ],
             [
              1,
              "#f0f921"
             ]
            ],
            "type": "contour"
           }
          ],
          "contourcarpet": [
           {
            "colorbar": {
             "outlinewidth": 0,
             "ticks": ""
            },
            "type": "contourcarpet"
           }
          ],
          "heatmap": [
           {
            "colorbar": {
             "outlinewidth": 0,
             "ticks": ""
            },
            "colorscale": [
             [
              0,
              "#0d0887"
             ],
             [
              0.1111111111111111,
              "#46039f"
             ],
             [
              0.2222222222222222,
              "#7201a8"
             ],
             [
              0.3333333333333333,
              "#9c179e"
             ],
             [
              0.4444444444444444,
              "#bd3786"
             ],
             [
              0.5555555555555556,
              "#d8576b"
             ],
             [
              0.6666666666666666,
              "#ed7953"
             ],
             [
              0.7777777777777778,
              "#fb9f3a"
             ],
             [
              0.8888888888888888,
              "#fdca26"
             ],
             [
              1,
              "#f0f921"
             ]
            ],
            "type": "heatmap"
           }
          ],
          "heatmapgl": [
           {
            "colorbar": {
             "outlinewidth": 0,
             "ticks": ""
            },
            "colorscale": [
             [
              0,
              "#0d0887"
             ],
             [
              0.1111111111111111,
              "#46039f"
             ],
             [
              0.2222222222222222,
              "#7201a8"
             ],
             [
              0.3333333333333333,
              "#9c179e"
             ],
             [
              0.4444444444444444,
              "#bd3786"
             ],
             [
              0.5555555555555556,
              "#d8576b"
             ],
             [
              0.6666666666666666,
              "#ed7953"
             ],
             [
              0.7777777777777778,
              "#fb9f3a"
             ],
             [
              0.8888888888888888,
              "#fdca26"
             ],
             [
              1,
              "#f0f921"
             ]
            ],
            "type": "heatmapgl"
           }
          ],
          "histogram": [
           {
            "marker": {
             "pattern": {
              "fillmode": "overlay",
              "size": 10,
              "solidity": 0.2
             }
            },
            "type": "histogram"
           }
          ],
          "histogram2d": [
           {
            "colorbar": {
             "outlinewidth": 0,
             "ticks": ""
            },
            "colorscale": [
             [
              0,
              "#0d0887"
             ],
             [
              0.1111111111111111,
              "#46039f"
             ],
             [
              0.2222222222222222,
              "#7201a8"
             ],
             [
              0.3333333333333333,
              "#9c179e"
             ],
             [
              0.4444444444444444,
              "#bd3786"
             ],
             [
              0.5555555555555556,
              "#d8576b"
             ],
             [
              0.6666666666666666,
              "#ed7953"
             ],
             [
              0.7777777777777778,
              "#fb9f3a"
             ],
             [
              0.8888888888888888,
              "#fdca26"
             ],
             [
              1,
              "#f0f921"
             ]
            ],
            "type": "histogram2d"
           }
          ],
          "histogram2dcontour": [
           {
            "colorbar": {
             "outlinewidth": 0,
             "ticks": ""
            },
            "colorscale": [
             [
              0,
              "#0d0887"
             ],
             [
              0.1111111111111111,
              "#46039f"
             ],
             [
              0.2222222222222222,
              "#7201a8"
             ],
             [
              0.3333333333333333,
              "#9c179e"
             ],
             [
              0.4444444444444444,
              "#bd3786"
             ],
             [
              0.5555555555555556,
              "#d8576b"
             ],
             [
              0.6666666666666666,
              "#ed7953"
             ],
             [
              0.7777777777777778,
              "#fb9f3a"
             ],
             [
              0.8888888888888888,
              "#fdca26"
             ],
             [
              1,
              "#f0f921"
             ]
            ],
            "type": "histogram2dcontour"
           }
          ],
          "mesh3d": [
           {
            "colorbar": {
             "outlinewidth": 0,
             "ticks": ""
            },
            "type": "mesh3d"
           }
          ],
          "parcoords": [
           {
            "line": {
             "colorbar": {
              "outlinewidth": 0,
              "ticks": ""
             }
            },
            "type": "parcoords"
           }
          ],
          "pie": [
           {
            "automargin": true,
            "type": "pie"
           }
          ],
          "scatter": [
           {
            "fillpattern": {
             "fillmode": "overlay",
             "size": 10,
             "solidity": 0.2
            },
            "type": "scatter"
           }
          ],
          "scatter3d": [
           {
            "line": {
             "colorbar": {
              "outlinewidth": 0,
              "ticks": ""
             }
            },
            "marker": {
             "colorbar": {
              "outlinewidth": 0,
              "ticks": ""
             }
            },
            "type": "scatter3d"
           }
          ],
          "scattercarpet": [
           {
            "marker": {
             "colorbar": {
              "outlinewidth": 0,
              "ticks": ""
             }
            },
            "type": "scattercarpet"
           }
          ],
          "scattergeo": [
           {
            "marker": {
             "colorbar": {
              "outlinewidth": 0,
              "ticks": ""
             }
            },
            "type": "scattergeo"
           }
          ],
          "scattergl": [
           {
            "marker": {
             "colorbar": {
              "outlinewidth": 0,
              "ticks": ""
             }
            },
            "type": "scattergl"
           }
          ],
          "scattermapbox": [
           {
            "marker": {
             "colorbar": {
              "outlinewidth": 0,
              "ticks": ""
             }
            },
            "type": "scattermapbox"
           }
          ],
          "scatterpolar": [
           {
            "marker": {
             "colorbar": {
              "outlinewidth": 0,
              "ticks": ""
             }
            },
            "type": "scatterpolar"
           }
          ],
          "scatterpolargl": [
           {
            "marker": {
             "colorbar": {
              "outlinewidth": 0,
              "ticks": ""
             }
            },
            "type": "scatterpolargl"
           }
          ],
          "scatterternary": [
           {
            "marker": {
             "colorbar": {
              "outlinewidth": 0,
              "ticks": ""
             }
            },
            "type": "scatterternary"
           }
          ],
          "surface": [
           {
            "colorbar": {
             "outlinewidth": 0,
             "ticks": ""
            },
            "colorscale": [
             [
              0,
              "#0d0887"
             ],
             [
              0.1111111111111111,
              "#46039f"
             ],
             [
              0.2222222222222222,
              "#7201a8"
             ],
             [
              0.3333333333333333,
              "#9c179e"
             ],
             [
              0.4444444444444444,
              "#bd3786"
             ],
             [
              0.5555555555555556,
              "#d8576b"
             ],
             [
              0.6666666666666666,
              "#ed7953"
             ],
             [
              0.7777777777777778,
              "#fb9f3a"
             ],
             [
              0.8888888888888888,
              "#fdca26"
             ],
             [
              1,
              "#f0f921"
             ]
            ],
            "type": "surface"
           }
          ],
          "table": [
           {
            "cells": {
             "fill": {
              "color": "#EBF0F8"
             },
             "line": {
              "color": "white"
             }
            },
            "header": {
             "fill": {
              "color": "#C8D4E3"
             },
             "line": {
              "color": "white"
             }
            },
            "type": "table"
           }
          ]
         },
         "layout": {
          "annotationdefaults": {
           "arrowcolor": "#2a3f5f",
           "arrowhead": 0,
           "arrowwidth": 1
          },
          "autotypenumbers": "strict",
          "coloraxis": {
           "colorbar": {
            "outlinewidth": 0,
            "ticks": ""
           }
          },
          "colorscale": {
           "diverging": [
            [
             0,
             "#8e0152"
            ],
            [
             0.1,
             "#c51b7d"
            ],
            [
             0.2,
             "#de77ae"
            ],
            [
             0.3,
             "#f1b6da"
            ],
            [
             0.4,
             "#fde0ef"
            ],
            [
             0.5,
             "#f7f7f7"
            ],
            [
             0.6,
             "#e6f5d0"
            ],
            [
             0.7,
             "#b8e186"
            ],
            [
             0.8,
             "#7fbc41"
            ],
            [
             0.9,
             "#4d9221"
            ],
            [
             1,
             "#276419"
            ]
           ],
           "sequential": [
            [
             0,
             "#0d0887"
            ],
            [
             0.1111111111111111,
             "#46039f"
            ],
            [
             0.2222222222222222,
             "#7201a8"
            ],
            [
             0.3333333333333333,
             "#9c179e"
            ],
            [
             0.4444444444444444,
             "#bd3786"
            ],
            [
             0.5555555555555556,
             "#d8576b"
            ],
            [
             0.6666666666666666,
             "#ed7953"
            ],
            [
             0.7777777777777778,
             "#fb9f3a"
            ],
            [
             0.8888888888888888,
             "#fdca26"
            ],
            [
             1,
             "#f0f921"
            ]
           ],
           "sequentialminus": [
            [
             0,
             "#0d0887"
            ],
            [
             0.1111111111111111,
             "#46039f"
            ],
            [
             0.2222222222222222,
             "#7201a8"
            ],
            [
             0.3333333333333333,
             "#9c179e"
            ],
            [
             0.4444444444444444,
             "#bd3786"
            ],
            [
             0.5555555555555556,
             "#d8576b"
            ],
            [
             0.6666666666666666,
             "#ed7953"
            ],
            [
             0.7777777777777778,
             "#fb9f3a"
            ],
            [
             0.8888888888888888,
             "#fdca26"
            ],
            [
             1,
             "#f0f921"
            ]
           ]
          },
          "colorway": [
           "#636efa",
           "#EF553B",
           "#00cc96",
           "#ab63fa",
           "#FFA15A",
           "#19d3f3",
           "#FF6692",
           "#B6E880",
           "#FF97FF",
           "#FECB52"
          ],
          "font": {
           "color": "#2a3f5f"
          },
          "geo": {
           "bgcolor": "white",
           "lakecolor": "white",
           "landcolor": "#E5ECF6",
           "showlakes": true,
           "showland": true,
           "subunitcolor": "white"
          },
          "hoverlabel": {
           "align": "left"
          },
          "hovermode": "closest",
          "mapbox": {
           "style": "light"
          },
          "paper_bgcolor": "white",
          "plot_bgcolor": "#E5ECF6",
          "polar": {
           "angularaxis": {
            "gridcolor": "white",
            "linecolor": "white",
            "ticks": ""
           },
           "bgcolor": "#E5ECF6",
           "radialaxis": {
            "gridcolor": "white",
            "linecolor": "white",
            "ticks": ""
           }
          },
          "scene": {
           "xaxis": {
            "backgroundcolor": "#E5ECF6",
            "gridcolor": "white",
            "gridwidth": 2,
            "linecolor": "white",
            "showbackground": true,
            "ticks": "",
            "zerolinecolor": "white"
           },
           "yaxis": {
            "backgroundcolor": "#E5ECF6",
            "gridcolor": "white",
            "gridwidth": 2,
            "linecolor": "white",
            "showbackground": true,
            "ticks": "",
            "zerolinecolor": "white"
           },
           "zaxis": {
            "backgroundcolor": "#E5ECF6",
            "gridcolor": "white",
            "gridwidth": 2,
            "linecolor": "white",
            "showbackground": true,
            "ticks": "",
            "zerolinecolor": "white"
           }
          },
          "shapedefaults": {
           "line": {
            "color": "#2a3f5f"
           }
          },
          "ternary": {
           "aaxis": {
            "gridcolor": "white",
            "linecolor": "white",
            "ticks": ""
           },
           "baxis": {
            "gridcolor": "white",
            "linecolor": "white",
            "ticks": ""
           },
           "bgcolor": "#E5ECF6",
           "caxis": {
            "gridcolor": "white",
            "linecolor": "white",
            "ticks": ""
           }
          },
          "title": {
           "x": 0.05
          },
          "xaxis": {
           "automargin": true,
           "gridcolor": "white",
           "linecolor": "white",
           "ticks": "",
           "title": {
            "standoff": 15
           },
           "zerolinecolor": "white",
           "zerolinewidth": 2
          },
          "yaxis": {
           "automargin": true,
           "gridcolor": "white",
           "linecolor": "white",
           "ticks": "",
           "title": {
            "standoff": 15
           },
           "zerolinecolor": "white",
           "zerolinewidth": 2
          }
         }
        },
        "title": {
         "text": "백테스트 결과: 005930, 2023-01-02~2023-01-31",
         "x": 0.5,
         "y": 0.98
        },
        "uniformtext": {
         "minsize": 12,
         "mode": "show"
        },
        "xaxis": {
         "anchor": "y",
         "domain": [
          0,
          1
         ],
         "matches": "x5",
         "showticklabels": false
        },
        "xaxis2": {
         "anchor": "y2",
         "domain": [
          0,
          1
         ],
         "matches": "x5",
         "showticklabels": false
        },
        "xaxis3": {
         "anchor": "y3",
         "domain": [
          0,
          1
         ],
         "matches": "x5",
         "showticklabels": false
        },
        "xaxis4": {
         "anchor": "y4",
         "domain": [
          0,
          1
         ],
         "matches": "x5",
         "showticklabels": false
        },
        "xaxis5": {
         "anchor": "y5",
         "domain": [
          0,
          1
         ],
         "hoverformat": "%Y-%m-%d",
         "showticklabels": true,
         "tickformat": "%Y-%m-%d"
        },
        "yaxis": {
         "anchor": "x",
         "domain": [
          0.8400000000000001,
          1
         ],
         "tickformat": ",d"
        },
        "yaxis2": {
         "anchor": "x2",
         "domain": [
          0.7100000000000001,
          0.79
         ],
         "dtick": "L1"
        },
        "yaxis3": {
         "anchor": "x3",
         "domain": [
          0.5,
          0.66
         ],
         "tickformat": ",d"
        },
        "yaxis4": {
         "anchor": "x4",
         "domain": [
          0.29,
          0.45
         ],
         "tickformat": ",d"
        },
        "yaxis5": {
         "anchor": "x5",
         "domain": [
          0,
          0.24
         ],
         "tickformat": ",d"
        }
       }
      },
      "text/html": [
       "<div>                            <div id=\"b86fe836-26f0-4a94-b403-c3dd90a462d7\" class=\"plotly-graph-div\" style=\"height:800px; width:100%;\"></div>            <script type=\"text/javascript\">                require([\"plotly\"], function(Plotly) {                    window.PLOTLYENV=window.PLOTLYENV || {};                                    if (document.getElementById(\"b86fe836-26f0-4a94-b403-c3dd90a462d7\")) {                    Plotly.newPlot(                        \"b86fe836-26f0-4a94-b403-c3dd90a462d7\",                        [{\"marker\":{\"color\":\"#000000\"},\"mode\":\"lines\",\"name\":\"\\uac00\\uaca9\",\"x\":[\"2023-01-02T00:00:00\",\"2023-01-03T00:00:00\",\"2023-01-04T00:00:00\",\"2023-01-05T00:00:00\",\"2023-01-06T00:00:00\",\"2023-01-09T00:00:00\",\"2023-01-10T00:00:00\",\"2023-01-11T00:00:00\",\"2023-01-12T00:00:00\",\"2023-01-13T00:00:00\",\"2023-01-16T00:00:00\",\"2023-01-17T00:00:00\",\"2023-01-18T00:00:00\",\"2023-01-19T00:00:00\",\"2023-01-20T00:00:00\",\"2023-01-25T00:00:00\",\"2023-01-26T00:00:00\",\"2023-01-27T00:00:00\",\"2023-01-30T00:00:00\",\"2023-01-31T00:00:00\"],\"y\":[55500,55400,57800,58200,59000,60700,60400,60500,60500,60800,61100,61000,60400,61500,61800,63400,63900,64600,63300,61000],\"type\":\"scatter\",\"xaxis\":\"x5\",\"yaxis\":\"y\"},{\"marker\":{\"color\":\"#DC143C\",\"line\":{\"color\":\"white\",\"width\":1},\"size\":12,\"symbol\":\"triangle-up\"},\"mode\":\"markers\",\"name\":\"\\ub9e4\\uc218\",\"x\":[\"2023-01-04T00:00:00\",\"2023-01-25T00:00:00\"],\"y\":[57800,63400],\"type\":\"scatter\",\"xaxis\":\"x5\",\"yaxis\":\"y\"},{\"marker\":{\"color\":\"#00008B\",\"line\":{\"color\":\"white\",\"width\":1},\"size\":12,\"symbol\":\"triangle-down\"},\"mode\":\"markers\",\"name\":\"\\ub9e4\\ub3c4\",\"x\":[\"2023-01-10T00:00:00\",\"2023-01-26T00:00:00\"],\"y\":[60400,63900],\"type\":\"scatter\",\"xaxis\":\"x5\",\"yaxis\":\"y\"},{\"fill\":\"tozeroy\",\"fillcolor\":\"lightgray\",\"line\":{\"color\":\"#000000\",\"shape\":\"hv\"},\"mode\":\"lines\",\"name\":\"\\uc794\\uace0\\uc218\\ub7c9\",\"x\":[\"2023-01-02T00:00:00\",\"2023-01-03T00:00:00\",\"2023-01-04T00:00:00\",\"2023-01-05T00:00:00\",\"2023-01-06T00:00:00\",\"2023-01-09T00:00:00\",\"2023-01-10T00:00:00\",\"2023-01-11T00:00:00\",\"2023-01-12T00:00:00\",\"2023-01-13T00:00:00\",\"2023-01-16T00:00:00\",\"2023-01-17T00:00:00\",\"2023-01-18T00:00:00\",\"2023-01-19T00:00:00\",\"2023-01-20T00:00:00\",\"2023-01-25T00:00:00\",\"2023-01-26T00:00:00\",\"2023-01-27T00:00:00\",\"2023-01-30T00:00:00\",\"2023-01-31T00:00:00\"],\"y\":[0,0,1,1,1,1,0,0,0,0,0,0,0,0,0,1,0,0,0,0],\"type\":\"scatter\",\"xaxis\":\"x5\",\"yaxis\":\"y2\"},{\"line\":{\"color\":\"#000000\",\"shape\":\"hv\"},\"mode\":\"lines\",\"name\":\"\\uc794\\uace0\\uac00\\uce58\",\"x\":[\"2023-01-02T00:00:00\",\"2023-01-03T00:00:00\",\"2023-01-04T00:00:00\",\"2023-01-05T00:00:00\",\"2023-01-06T00:00:00\",\"2023-01-09T00:00:00\",\"2023-01-10T00:00:00\",\"2023-01-11T00:00:00\",\"2023-01-12T00:00:00\",\"2023-01-13T00:00:00\",\"2023-01-16T00:00:00\",\"2023-01-17T00:00:00\",\"2023-01-18T00:00:00\",\"2023-01-19T00:00:00\",\"2023-01-20T00:00:00\",\"2023-01-25T00:00:00\",\"2023-01-26T00:00:00\",\"2023-01-27T00:00:00\",\"2023-01-30T00:00:00\",\"2023-01-31T00:00:00\"],\"y\":[null,null,57800.0,58200.0,59000.0,60700.0,null,null,null,null,null,null,null,null,null,63400.0,null,null,null,null],\"type\":\"scatter\",\"xaxis\":\"x5\",\"yaxis\":\"y3\"},{\"cliponaxis\":false,\"marker\":{\"color\":[\"#00008B\",\"#00008B\",\"#00008B\",\"#00008B\",\"#00008B\",\"#00008B\",\"#DC143C\",\"#00008B\",\"#00008B\",\"#00008B\",\"#00008B\",\"#00008B\",\"#00008B\",\"#00008B\",\"#00008B\",\"#00008B\",\"#DC143C\",\"#00008B\",\"#00008B\",\"#00008B\"]},\"name\":\"\\uc2e4\\ud604\\uc190\\uc775\",\"text\":[\"\",\"\",\"\",\"\",\"\",\"\",\"2,600\",\"\",\"\",\"\",\"\",\"\",\"\",\"\",\"\",\"\",\"500\",\"\",\"\",\"\"],\"textposition\":\"outside\",\"width\":432000000,\"x\":[\"2023-01-02T00:00:00\",\"2023-01-03T00:00:00\",\"2023-01-04T00:00:00\",\"2023-01-05T00:00:00\",\"2023-01-06T00:00:00\",\"2023-01-09T00:00:00\",\"2023-01-10T00:00:00\",\"2023-01-11T00:00:00\",\"2023-01-12T00:00:00\",\"2023-01-13T00:00:00\",\"2023-01-16T00:00:00\",\"2023-01-17T00:00:00\",\"2023-01-18T00:00:00\",\"2023-01-19T00:00:00\",\"2023-01-20T00:00:00\",\"2023-01-25T00:00:00\",\"2023-01-26T00:00:00\",\"2023-01-27T00:00:00\",\"2023-01-30T00:00:00\",\"2023-01-31T00:00:00\"],\"y\":[0,0,0,0,0,0,2600,0,0,0,0,0,0,0,0,0,500,0,0,0],\"type\":\"bar\",\"xaxis\":\"x5\",\"yaxis\":\"y4\"},{\"line\":{\"color\":\"#000000\",\"shape\":\"hv\"},\"mode\":\"lines\",\"name\":\"\\ucd1d\\uc790\\uc0b0\\uac00\\uce58\",\"x\":[\"2023-01-02T00:00:00\",\"2023-01-03T00:00:00\",\"2023-01-04T00:00:00\",\"2023-01-05T00:00:00\",\"2023-01-06T00:00:00\",\"2023-01-09T00:00:00\",\"2023-01-10T00:00:00\",\"2023-01-11T00:00:00\",\"2023-01-12T00:00:00\",\"2023-01-13T00:00:00\",\"2023-01-16T00:00:00\",\"2023-01-17T00:00:00\",\"2023-01-18T00:00:00\",\"2023-01-19T00:00:00\",\"2023-01-20T00:00:00\",\"2023-01-25T00:00:00\",\"2023-01-26T00:00:00\",\"2023-01-27T00:00:00\",\"2023-01-30T00:00:00\",\"2023-01-31T00:00:00\"],\"y\":[100000,100000,100000,100400,101200,102900,102600,102600,102600,102600,102600,102600,102600,102600,102600,102600,103100,103100,103100,103100],\"type\":\"scatter\",\"xaxis\":\"x5\",\"yaxis\":\"y5\"},{\"line\":{\"color\":\"#DC143C\",\"dash\":\"dash\",\"shape\":\"hv\"},\"mode\":\"lines\",\"name\":\"\\ucd5c\\uace0\\uc790\\uc0b0\\uac00\\uce58\",\"x\":[\"2023-01-02T00:00:00\",\"2023-01-03T00:00:00\",\"2023-01-04T00:00:00\",\"2023-01-05T00:00:00\",\"2023-01-06T00:00:00\",\"2023-01-09T00:00:00\",\"2023-01-10T00:00:00\",\"2023-01-11T00:00:00\",\"2023-01-12T00:00:00\",\"2023-01-13T00:00:00\",\"2023-01-16T00:00:00\",\"2023-01-17T00:00:00\",\"2023-01-18T00:00:00\",\"2023-01-19T00:00:00\",\"2023-01-20T00:00:00\",\"2023-01-25T00:00:00\",\"2023-01-26T00:00:00\",\"2023-01-27T00:00:00\",\"2023-01-30T00:00:00\",\"2023-01-31T00:00:00\"],\"y\":[100000,100000,100000,100400,101200,102900,102900,102900,102900,102900,102900,102900,102900,102900,102900,102900,103100,103100,103100,103100],\"type\":\"scatter\",\"xaxis\":\"x5\",\"yaxis\":\"y5\"},{\"base\":[100000],\"cliponaxis\":false,\"marker\":{\"color\":[\"#DC143C\"]},\"name\":\"\\ucd5c\\uc885\\uc190\\uc775\",\"text\":[\"\\ucd5c\\uc885\\uc218\\uc775: 3,100\"],\"textposition\":\"outside\",\"width\":864000000,\"x\":[\"2023-01-31T00:00:00\"],\"y\":[3100],\"type\":\"bar\",\"xaxis\":\"x5\",\"yaxis\":\"y5\"},{\"cliponaxis\":false,\"marker\":{\"color\":[\"#DC143C\",\"#00008B\"],\"line\":{\"color\":\"white\",\"width\":1},\"size\":12,\"symbol\":[\"triangle-up\",\"triangle-down\"]},\"mode\":\"markers+text\",\"name\":\"\",\"text\":[\"\\ucd5c\\uace0\\uc790\\uc0b0\\uac00\\uce58: 103,100\",\"MDD: -300\"],\"textposition\":[\"top center\",\"bottom center\"],\"x\":[\"2023-01-26T00:00:00\",\"2023-01-10T00:00:00\"],\"y\":[103100,102800],\"type\":\"scatter\",\"xaxis\":\"x5\",\"yaxis\":\"y5\"}],                        {\"template\":{\"data\":{\"histogram2dcontour\":[{\"type\":\"histogram2dcontour\",\"colorbar\":{\"outlinewidth\":0,\"ticks\":\"\"},\"colorscale\":[[0.0,\"#0d0887\"],[0.1111111111111111,\"#46039f\"],[0.2222222222222222,\"#7201a8\"],[0.3333333333333333,\"#9c179e\"],[0.4444444444444444,\"#bd3786\"],[0.5555555555555556,\"#d8576b\"],[0.6666666666666666,\"#ed7953\"],[0.7777777777777778,\"#fb9f3a\"],[0.8888888888888888,\"#fdca26\"],[1.0,\"#f0f921\"]]}],\"choropleth\":[{\"type\":\"choropleth\",\"colorbar\":{\"outlinewidth\":0,\"ticks\":\"\"}}],\"histogram2d\":[{\"type\":\"histogram2d\",\"colorbar\":{\"outlinewidth\":0,\"ticks\":\"\"},\"colorscale\":[[0.0,\"#0d0887\"],[0.1111111111111111,\"#46039f\"],[0.2222222222222222,\"#7201a8\"],[0.3333333333333333,\"#9c179e\"],[0.4444444444444444,\"#bd3786\"],[0.5555555555555556,\"#d8576b\"],[0.6666666666666666,\"#ed7953\"],[0.7777777777777778,\"#fb9f3a\"],[0.8888888888888888,\"#fdca26\"],[1.0,\"#f0f921\"]]}],\"heatmap\":[{\"type\":\"heatmap\",\"colorbar\":{\"outlinewidth\":0,\"ticks\":\"\"},\"colorscale\":[[0.0,\"#0d0887\"],[0.1111111111111111,\"#46039f\"],[0.2222222222222222,\"#7201a8\"],[0.3333333333333333,\"#9c179e\"],[0.4444444444444444,\"#bd3786\"],[0.5555555555555556,\"#d8576b\"],[0.6666666666666666,\"#ed7953\"],[0.7777777777777778,\"#fb9f3a\"],[0.8888888888888888,\"#fdca26\"],[1.0,\"#f0f921\"]]}],\"heatmapgl\":[{\"type\":\"heatmapgl\",\"colorbar\":{\"outlinewidth\":0,\"ticks\":\"\"},\"colorscale\":[[0.0,\"#0d0887\"],[0.1111111111111111,\"#46039f\"],[0.2222222222222222,\"#7201a8\"],[0.3333333333333333,\"#9c179e\"],[0.4444444444444444,\"#bd3786\"],[0.5555555555555556,\"#d8576b\"],[0.6666666666666666,\"#ed7953\"],[0.7777777777777778,\"#fb9f3a\"],[0.8888888888888888,\"#fdca26\"],[1.0,\"#f0f921\"]]}],\"contourcarpet\":[{\"type\":\"contourcarpet\",\"colorbar\":{\"outlinewidth\":0,\"ticks\":\"\"}}],\"contour\":[{\"type\":\"contour\",\"colorbar\":{\"outlinewidth\":0,\"ticks\":\"\"},\"colorscale\":[[0.0,\"#0d0887\"],[0.1111111111111111,\"#46039f\"],[0.2222222222222222,\"#7201a8\"],[0.3333333333333333,\"#9c179e\"],[0.4444444444444444,\"#bd3786\"],[0.5555555555555556,\"#d8576b\"],[0.6666666666666666,\"#ed7953\"],[0.7777777777777778,\"#fb9f3a\"],[0.8888888888888888,\"#fdca26\"],[1.0,\"#f0f921\"]]}],\"surface\":[{\"type\":\"surface\",\"colorbar\":{\"outlinewidth\":0,\"ticks\":\"\"},\"colorscale\":[[0.0,\"#0d0887\"],[0.1111111111111111,\"#46039f\"],[0.2222222222222222,\"#7201a8\"],[0.3333333333333333,\"#9c179e\"],[0.4444444444444444,\"#bd3786\"],[0.5555555555555556,\"#d8576b\"],[0.6666666666666666,\"#ed7953\"],[0.7777777777777778,\"#fb9f3a\"],[0.8888888888888888,\"#fdca26\"],[1.0,\"#f0f921\"]]}],\"mesh3d\":[{\"type\":\"mesh3d\",\"colorbar\":{\"outlinewidth\":0,\"ticks\":\"\"}}],\"scatter\":[{\"fillpattern\":{\"fillmode\":\"overlay\",\"size\":10,\"solidity\":0.2},\"type\":\"scatter\"}],\"parcoords\":[{\"type\":\"parcoords\",\"line\":{\"colorbar\":{\"outlinewidth\":0,\"ticks\":\"\"}}}],\"scatterpolargl\":[{\"type\":\"scatterpolargl\",\"marker\":{\"colorbar\":{\"outlinewidth\":0,\"ticks\":\"\"}}}],\"bar\":[{\"error_x\":{\"color\":\"#2a3f5f\"},\"error_y\":{\"color\":\"#2a3f5f\"},\"marker\":{\"line\":{\"color\":\"#E5ECF6\",\"width\":0.5},\"pattern\":{\"fillmode\":\"overlay\",\"size\":10,\"solidity\":0.2}},\"type\":\"bar\"}],\"scattergeo\":[{\"type\":\"scattergeo\",\"marker\":{\"colorbar\":{\"outlinewidth\":0,\"ticks\":\"\"}}}],\"scatterpolar\":[{\"type\":\"scatterpolar\",\"marker\":{\"colorbar\":{\"outlinewidth\":0,\"ticks\":\"\"}}}],\"histogram\":[{\"marker\":{\"pattern\":{\"fillmode\":\"overlay\",\"size\":10,\"solidity\":0.2}},\"type\":\"histogram\"}],\"scattergl\":[{\"type\":\"scattergl\",\"marker\":{\"colorbar\":{\"outlinewidth\":0,\"ticks\":\"\"}}}],\"scatter3d\":[{\"type\":\"scatter3d\",\"line\":{\"colorbar\":{\"outlinewidth\":0,\"ticks\":\"\"}},\"marker\":{\"colorbar\":{\"outlinewidth\":0,\"ticks\":\"\"}}}],\"scattermapbox\":[{\"type\":\"scattermapbox\",\"marker\":{\"colorbar\":{\"outlinewidth\":0,\"ticks\":\"\"}}}],\"scatterternary\":[{\"type\":\"scatterternary\",\"marker\":{\"colorbar\":{\"outlinewidth\":0,\"ticks\":\"\"}}}],\"scattercarpet\":[{\"type\":\"scattercarpet\",\"marker\":{\"colorbar\":{\"outlinewidth\":0,\"ticks\":\"\"}}}],\"carpet\":[{\"aaxis\":{\"endlinecolor\":\"#2a3f5f\",\"gridcolor\":\"white\",\"linecolor\":\"white\",\"minorgridcolor\":\"white\",\"startlinecolor\":\"#2a3f5f\"},\"baxis\":{\"endlinecolor\":\"#2a3f5f\",\"gridcolor\":\"white\",\"linecolor\":\"white\",\"minorgridcolor\":\"white\",\"startlinecolor\":\"#2a3f5f\"},\"type\":\"carpet\"}],\"table\":[{\"cells\":{\"fill\":{\"color\":\"#EBF0F8\"},\"line\":{\"color\":\"white\"}},\"header\":{\"fill\":{\"color\":\"#C8D4E3\"},\"line\":{\"color\":\"white\"}},\"type\":\"table\"}],\"barpolar\":[{\"marker\":{\"line\":{\"color\":\"#E5ECF6\",\"width\":0.5},\"pattern\":{\"fillmode\":\"overlay\",\"size\":10,\"solidity\":0.2}},\"type\":\"barpolar\"}],\"pie\":[{\"automargin\":true,\"type\":\"pie\"}]},\"layout\":{\"autotypenumbers\":\"strict\",\"colorway\":[\"#636efa\",\"#EF553B\",\"#00cc96\",\"#ab63fa\",\"#FFA15A\",\"#19d3f3\",\"#FF6692\",\"#B6E880\",\"#FF97FF\",\"#FECB52\"],\"font\":{\"color\":\"#2a3f5f\"},\"hovermode\":\"closest\",\"hoverlabel\":{\"align\":\"left\"},\"paper_bgcolor\":\"white\",\"plot_bgcolor\":\"#E5ECF6\",\"polar\":{\"bgcolor\":\"#E5ECF6\",\"angularaxis\":{\"gridcolor\":\"white\",\"linecolor\":\"white\",\"ticks\":\"\"},\"radialaxis\":{\"gridcolor\":\"white\",\"linecolor\":\"white\",\"ticks\":\"\"}},\"ternary\":{\"bgcolor\":\"#E5ECF6\",\"aaxis\":{\"gridcolor\":\"white\",\"linecolor\":\"white\",\"ticks\":\"\"},\"baxis\":{\"gridcolor\":\"white\",\"linecolor\":\"white\",\"ticks\":\"\"},\"caxis\":{\"gridcolor\":\"white\",\"linecolor\":\"white\",\"ticks\":\"\"}},\"coloraxis\":{\"colorbar\":{\"outlinewidth\":0,\"ticks\":\"\"}},\"colorscale\":{\"sequential\":[[0.0,\"#0d0887\"],[0.1111111111111111,\"#46039f\"],[0.2222222222222222,\"#7201a8\"],[0.3333333333333333,\"#9c179e\"],[0.4444444444444444,\"#bd3786\"],[0.5555555555555556,\"#d8576b\"],[0.6666666666666666,\"#ed7953\"],[0.7777777777777778,\"#fb9f3a\"],[0.8888888888888888,\"#fdca26\"],[1.0,\"#f0f921\"]],\"sequentialminus\":[[0.0,\"#0d0887\"],[0.1111111111111111,\"#46039f\"],[0.2222222222222222,\"#7201a8\"],[0.3333333333333333,\"#9c179e\"],[0.4444444444444444,\"#bd3786\"],[0.5555555555555556,\"#d8576b\"],[0.6666666666666666,\"#ed7953\"],[0.7777777777777778,\"#fb9f3a\"],[0.8888888888888888,\"#fdca26\"],[1.0,\"#f0f921\"]],\"diverging\":[[0,\"#8e0152\"],[0.1,\"#c51b7d\"],[0.2,\"#de77ae\"],[0.3,\"#f1b6da\"],[0.4,\"#fde0ef\"],[0.5,\"#f7f7f7\"],[0.6,\"#e6f5d0\"],[0.7,\"#b8e186\"],[0.8,\"#7fbc41\"],[0.9,\"#4d9221\"],[1,\"#276419\"]]},\"xaxis\":{\"gridcolor\":\"white\",\"linecolor\":\"white\",\"ticks\":\"\",\"title\":{\"standoff\":15},\"zerolinecolor\":\"white\",\"automargin\":true,\"zerolinewidth\":2},\"yaxis\":{\"gridcolor\":\"white\",\"linecolor\":\"white\",\"ticks\":\"\",\"title\":{\"standoff\":15},\"zerolinecolor\":\"white\",\"automargin\":true,\"zerolinewidth\":2},\"scene\":{\"xaxis\":{\"backgroundcolor\":\"#E5ECF6\",\"gridcolor\":\"white\",\"linecolor\":\"white\",\"showbackground\":true,\"ticks\":\"\",\"zerolinecolor\":\"white\",\"gridwidth\":2},\"yaxis\":{\"backgroundcolor\":\"#E5ECF6\",\"gridcolor\":\"white\",\"linecolor\":\"white\",\"showbackground\":true,\"ticks\":\"\",\"zerolinecolor\":\"white\",\"gridwidth\":2},\"zaxis\":{\"backgroundcolor\":\"#E5ECF6\",\"gridcolor\":\"white\",\"linecolor\":\"white\",\"showbackground\":true,\"ticks\":\"\",\"zerolinecolor\":\"white\",\"gridwidth\":2}},\"shapedefaults\":{\"line\":{\"color\":\"#2a3f5f\"}},\"annotationdefaults\":{\"arrowcolor\":\"#2a3f5f\",\"arrowhead\":0,\"arrowwidth\":1},\"geo\":{\"bgcolor\":\"white\",\"landcolor\":\"#E5ECF6\",\"subunitcolor\":\"white\",\"showland\":true,\"showlakes\":true,\"lakecolor\":\"white\"},\"title\":{\"x\":0.05},\"mapbox\":{\"style\":\"light\"}}},\"xaxis\":{\"anchor\":\"y\",\"domain\":[0.0,1.0],\"matches\":\"x5\",\"showticklabels\":false},\"yaxis\":{\"anchor\":\"x\",\"domain\":[0.8400000000000001,1.0],\"tickformat\":\",d\"},\"xaxis2\":{\"anchor\":\"y2\",\"domain\":[0.0,1.0],\"matches\":\"x5\",\"showticklabels\":false},\"yaxis2\":{\"anchor\":\"x2\",\"domain\":[0.7100000000000001,0.79],\"dtick\":\"L1\"},\"xaxis3\":{\"anchor\":\"y3\",\"domain\":[0.0,1.0],\"matches\":\"x5\",\"showticklabels\":false},\"yaxis3\":{\"anchor\":\"x3\",\"domain\":[0.5,0.66],\"tickformat\":\",d\"},\"xaxis4\":{\"anchor\":\"y4\",\"domain\":[0.0,1.0],\"matches\":\"x5\",\"showticklabels\":false},\"yaxis4\":{\"anchor\":\"x4\",\"domain\":[0.29,0.45],\"tickformat\":\",d\"},\"xaxis5\":{\"anchor\":\"y5\",\"domain\":[0.0,1.0],\"hoverformat\":\"%Y-%m-%d\",\"showticklabels\":true,\"tickformat\":\"%Y-%m-%d\"},\"yaxis5\":{\"anchor\":\"x5\",\"domain\":[0.0,0.24],\"tickformat\":\",d\"},\"annotations\":[{\"font\":{\"size\":16},\"showarrow\":false,\"text\":\"\\uac00\\uaca9\",\"x\":0.5,\"xanchor\":\"center\",\"xref\":\"paper\",\"y\":1.0,\"yanchor\":\"bottom\",\"yref\":\"paper\"},{\"font\":{\"size\":16},\"showarrow\":false,\"text\":\"\\uc794\\uace0\\uc218\\ub7c9\",\"x\":0.5,\"xanchor\":\"center\",\"xref\":\"paper\",\"y\":0.79,\"yanchor\":\"bottom\",\"yref\":\"paper\"},{\"font\":{\"size\":16},\"showarrow\":false,\"text\":\"\\uc794\\uace0\\uac00\\uce58\",\"x\":0.5,\"xanchor\":\"center\",\"xref\":\"paper\",\"y\":0.66,\"yanchor\":\"bottom\",\"yref\":\"paper\"},{\"font\":{\"size\":16},\"showarrow\":false,\"text\":\"\\uc2e4\\ud604\\uc190\\uc775\",\"x\":0.5,\"xanchor\":\"center\",\"xref\":\"paper\",\"y\":0.45,\"yanchor\":\"bottom\",\"yref\":\"paper\"},{\"font\":{\"size\":16},\"showarrow\":false,\"text\":\"\\ucd1d\\uc790\\uc0b0\\uac00\\uce58\",\"x\":0.5,\"xanchor\":\"center\",\"xref\":\"paper\",\"y\":0.24,\"yanchor\":\"bottom\",\"yref\":\"paper\"}],\"margin\":{\"b\":25,\"l\":25,\"r\":25,\"t\":80},\"title\":{\"text\":\"\\ubc31\\ud14c\\uc2a4\\ud2b8 \\uacb0\\uacfc: 005930, 2023-01-02~2023-01-31\",\"x\":0.5,\"y\":0.98},\"uniformtext\":{\"minsize\":12,\"mode\":\"show\"},\"height\":800,\"hovermode\":\"x unified\",\"showlegend\":false},                        {\"modeBarButtonsToRemove\": [\"resetScale2d\", \"lasso2d\", \"zoomIn2d\", \"zoomOut2d\", \"select2d\"], \"displaylogo\": false, \"responsive\": true}                    ).then(function(){\n",
       "                            \n",
       "var gd = document.getElementById('b86fe836-26f0-4a94-b403-c3dd90a462d7');\n",
       "var x = new MutationObserver(function (mutations, observer) {{\n",
       "        var display = window.getComputedStyle(gd).display;\n",
       "        if (!display || display === 'none') {{\n",
       "            console.log([gd, 'removed!']);\n",
       "            Plotly.purge(gd);\n",
       "            observer.disconnect();\n",
       "        }}\n",
       "}});\n",
       "\n",
       "// Listen for the removal of the full notebook cells\n",
       "var notebookContainer = gd.closest('#notebook-container');\n",
       "if (notebookContainer) {{\n",
       "    x.observe(notebookContainer, {childList: true});\n",
       "}}\n",
       "\n",
       "// Listen for the clearing of the current output cell\n",
       "var outputEl = gd.closest('.output');\n",
       "if (outputEl) {{\n",
       "    x.observe(outputEl, {childList: true});\n",
       "}}\n",
       "\n",
       "                        })                };                });            </script>        </div>"
      ]
     },
     "metadata": {},
     "output_type": "display_data"
    }
   ],
   "source": [
    "kq.backtest_plot_stock_daily(df_result8)\n"
   ]
  },
  {
   "cell_type": "markdown",
   "id": "ec0bd2f6",
   "metadata": {},
   "source": [
    "## 5.12 전략 함수를 사용한 포워드테스트"
   ]
  },
  {
   "cell_type": "markdown",
   "id": "fed10825",
   "metadata": {},
   "source": [
    "전략함수를 사용하여 포워드테스트를 하는 경우에는 \n",
    "전략 함수 객체를 `backtest_update_stock_daily` 함수에 바로 넣을 수 없으므로\n",
    "사용자가 전략함수를 실행하여 주문 수량을 계산한 뒤 이 값을 넣어야 합니다.\n",
    "\n",
    "일단 전략함수를 인수로 넣고 백테스트를 수행합니다. 이 때 `return_logger` 인수를 True로 넣으면  전략함수에 넣을 로거 객체를 반환합니다.\n"
   ]
  },
  {
   "cell_type": "code",
   "execution_count": 28,
   "id": "f5467033",
   "metadata": {},
   "outputs": [],
   "source": [
    "df_result9, df_position9, logger = kq.backtest_stock_daily(\n",
    "    \"005930\",\n",
    "    trade_func, \n",
    "    \"2023-01-02\",\n",
    "    \"2023-01-03\",\n",
    "    init_cash=100_000, \n",
    "    return_position=True,\n",
    "    return_logger=True,\n",
    ")"
   ]
  },
  {
   "cell_type": "markdown",
   "id": "cc74e2d8",
   "metadata": {},
   "source": [
    "다음으로 사용자가 직접 매매수량을 계산합니다."
   ]
  },
  {
   "cell_type": "code",
   "execution_count": 29,
   "id": "651a7b23",
   "metadata": {},
   "outputs": [
    {
     "data": {
      "text/plain": [
       "1"
      ]
     },
     "execution_count": 29,
     "metadata": {},
     "output_type": "execute_result"
    }
   ],
   "source": [
    "from dateutil.parser import parse\n",
    "\n",
    "date = parse(\"2023-01-04\")\n",
    "order_qty = trade_func(\n",
    "    \"005930\", \n",
    "    date, \n",
    "    df_result9, \n",
    "    df_position9, \n",
    "    logger,\n",
    ")\n",
    "\n",
    "order_qty"
   ]
  },
  {
   "cell_type": "markdown",
   "id": "19b7f008",
   "metadata": {},
   "source": [
    "계산한 매매수량과 과거 백테스트 데이터프레임을 `backtest_update_stock_daily` 함수에 입력하여 포워드테스트를 수행합니다."
   ]
  },
  {
   "cell_type": "code",
   "execution_count": 30,
   "id": "22c412b5",
   "metadata": {},
   "outputs": [
    {
     "name": "stderr",
     "output_type": "stream",
     "text": [
      "[2023-01-04] 종목: 005930, 주문전 보유수량:      0 주문수량:      1, 매매수량:      1, 주문후 보유수량:      1\n"
     ]
    }
   ],
   "source": [
    "\n",
    "df_result10, df_position10 = kq.backtest_update_stock_daily(\n",
    "    \"005930\",\n",
    "    order_qty,\n",
    "    date,\n",
    "    df_result9,\n",
    "    df_position9,\n",
    ")\n"
   ]
  },
  {
   "cell_type": "markdown",
   "id": "8afc3cb4",
   "metadata": {},
   "source": [
    "앞서 수행한 백테스트와 동일한 결과가 나오는 것을 확인할 수 있습니다."
   ]
  },
  {
   "cell_type": "code",
   "execution_count": 31,
   "id": "b81670d4",
   "metadata": {},
   "outputs": [
    {
     "data": {
      "text/plain": [
       "True"
      ]
     },
     "execution_count": 31,
     "metadata": {},
     "output_type": "execute_result"
    }
   ],
   "source": [
    "df_result8.iloc[:3].equals(df_result10)"
   ]
  },
  {
   "cell_type": "markdown",
   "id": "fd1dddd7",
   "metadata": {},
   "source": [
    "같은 방식으로 매일 포워드테스트를 진행할 수 있습니다."
   ]
  },
  {
   "cell_type": "markdown",
   "id": "c1d61f45",
   "metadata": {},
   "source": []
  }
 ],
 "metadata": {
  "kernelspec": {
   "display_name": "base",
   "language": "python",
   "name": "python3"
  },
  "language_info": {
   "codemirror_mode": {
    "name": "ipython",
    "version": 3
   },
   "file_extension": ".py",
   "mimetype": "text/x-python",
   "name": "python",
   "nbconvert_exporter": "python",
   "pygments_lexer": "ipython3",
   "version": "3.10.10"
  },
  "papermill": {
   "default_parameters": {},
   "duration": 8.670039,
   "end_time": "2023-08-21T07:49:56.893370",
   "environment_variables": {},
   "exception": null,
   "input_path": "docs/tutorials/tutorial04.ipynb",
   "output_path": "docs/tutorials/tutorial04.ipynb",
   "parameters": {},
   "start_time": "2023-08-21T07:49:48.223331",
   "version": "2.4.0"
  }
 },
 "nbformat": 4,
 "nbformat_minor": 5
}
