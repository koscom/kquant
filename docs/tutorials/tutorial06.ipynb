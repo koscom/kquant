{
 "cells": [
  {
   "cell_type": "markdown",
   "metadata": {},
   "source": [
    "# 튜토리얼 6 - 포트폴리오 백테스트"
   ]
  },
  {
   "cell_type": "markdown",
   "metadata": {},
   "source": [
    "본 튜토리얼에서는 개별 주식이 아닌 복수의 주식 즉, 포트폴리오(portfolio)을 대상으로 백테스트하는 법을 설명합니다."
   ]
  },
  {
   "cell_type": "code",
   "execution_count": 1,
   "metadata": {},
   "outputs": [],
   "source": [
    "import kquant as kq"
   ]
  },
  {
   "cell_type": "markdown",
   "metadata": {},
   "source": [
    "## 6.1 백테스트용 입력정보 준비"
   ]
  },
  {
   "cell_type": "markdown",
   "metadata": {},
   "source": [
    "포트폴리오 백테스트를 하기 위해서는 날짜별 주식 주문 정보가 담긴 pandas 데이터프레임 `df_order`을 준비해야 합니다. \n",
    "`df_order`은 다음과 같은 3개의 열을 가져야 합니다.\n",
    "\n",
    "- `DATE`: 주문하는 주식의 날짜 정보 리스트. 중복된 날짜가 있으면 안되고 pandas `to_datetime` 함수로 변환가능한 `\"2023-01-01` 형식 등의 - `SYMBOL`: 주문하는 주식의 종목 단축코드. 모든 행에 대해 동일한 값을 가져야 함\n",
    "문자열 \n",
    "- `ORDER`: 주문하는 주식의 수량 리스트. 정수만 가능하며 양수인 경우 매수, 음수인 경우 매도로 처리함\n",
    "\n",
    "\n",
    "예를 들어 다음과 같이 2023년 1월 2일에 삼성전자 주식 10주와 SK하이닉스 주식 20주를 매수하고 11일에 삼성전자를 전량 매도, 18일에 SK하이닉스를 전량 매도하는 주문정보를 만들 수 있습니다."
   ]
  },
  {
   "cell_type": "code",
   "execution_count": 2,
   "metadata": {},
   "outputs": [
    {
     "data": {
      "text/html": [
       "<div>\n",
       "<style scoped>\n",
       "    .dataframe tbody tr th:only-of-type {\n",
       "        vertical-align: middle;\n",
       "    }\n",
       "\n",
       "    .dataframe tbody tr th {\n",
       "        vertical-align: top;\n",
       "    }\n",
       "\n",
       "    .dataframe thead th {\n",
       "        text-align: right;\n",
       "    }\n",
       "</style>\n",
       "<table border=\"1\" class=\"dataframe\">\n",
       "  <thead>\n",
       "    <tr style=\"text-align: right;\">\n",
       "      <th></th>\n",
       "      <th>DATE</th>\n",
       "      <th>SYMBOL</th>\n",
       "      <th>ORDER</th>\n",
       "    </tr>\n",
       "  </thead>\n",
       "  <tbody>\n",
       "    <tr>\n",
       "      <th>0</th>\n",
       "      <td>2023-01-02</td>\n",
       "      <td>005930</td>\n",
       "      <td>10</td>\n",
       "    </tr>\n",
       "    <tr>\n",
       "      <th>1</th>\n",
       "      <td>2023-01-02</td>\n",
       "      <td>000660</td>\n",
       "      <td>20</td>\n",
       "    </tr>\n",
       "    <tr>\n",
       "      <th>2</th>\n",
       "      <td>2023-01-11</td>\n",
       "      <td>005930</td>\n",
       "      <td>-10</td>\n",
       "    </tr>\n",
       "    <tr>\n",
       "      <th>3</th>\n",
       "      <td>2023-01-18</td>\n",
       "      <td>000660</td>\n",
       "      <td>-20</td>\n",
       "    </tr>\n",
       "  </tbody>\n",
       "</table>\n",
       "</div>"
      ],
      "text/plain": [
       "         DATE  SYMBOL  ORDER\n",
       "0  2023-01-02  005930     10\n",
       "1  2023-01-02  000660     20\n",
       "2  2023-01-11  005930    -10\n",
       "3  2023-01-18  000660    -20"
      ]
     },
     "execution_count": 2,
     "metadata": {},
     "output_type": "execute_result"
    }
   ],
   "source": [
    "import pandas as pd\n",
    "\n",
    "df_order = pd.DataFrame({\n",
    "    \"DATE\": [\"2023-01-02\", \"2023-01-02\", \"2023-01-11\", \"2023-01-18\"],\n",
    "    \"SYMBOL\": [\"005930\", \"000660\", \"005930\", \"000660\"],\n",
    "    \"ORDER\": [10, 20, -10, -20]\n",
    "})\n",
    "\n",
    "df_order\n"
   ]
  },
  {
   "cell_type": "markdown",
   "metadata": {},
   "source": [
    "## 6.2 백테스트 실시"
   ]
  },
  {
   "cell_type": "markdown",
   "metadata": {},
   "source": [
    "포트폴리오 주문 정보 데이터프레임이 준비되면 `backtest_stock_port_daily` 함수를 사용하여 포트폴리오 매매 백테스트를 할 수 있습니다. \n",
    "\n",
    "`backtest_stock_port_daily` 함수는 기본적으로 다음과 같은 입력 인수를 받습니다.\n",
    "\n",
    "- `order`: 날짜별 주식 주문 정보가 담긴 pandas 데이터프레임.\n",
    "- `start_date` (옵션): 백테스트 시작 날짜 정보. 입력하지 않으면 `df_order` 데이터프레임의 첫 날짜를 사용.\n",
    "- `end_date` (옵션): 백테스트 시작 날짜 정보. 입력하지 않으면 `df_order` 데이터프레임의 마지막 날짜를 사용.\n",
    "- `init_cash` (옵션): 초기보유 현금. 반드시 이름있는 인수(named parameter) 형태로 입력해야 함.\n",
    "\n",
    "`backtest_stock_port_daily` 함수에 `df_order` 데이터프레임을 입력하여 실행하면 백테스트를 수행하고 결과를 담은 `df_result` 데이터프레임을 출력합니다."
   ]
  },
  {
   "cell_type": "code",
   "execution_count": 3,
   "metadata": {},
   "outputs": [
    {
     "name": "stderr",
     "output_type": "stream",
     "text": [
      "[2023-01-02] 종목: 005930, 주문전 보유수량:      0 주문수량:     10, 매매수량:     10, 주문후 보유수량:     10\n",
      "[2023-01-02] 종목: 000660, 주문전 보유수량:      0 주문수량:     20, 매매수량:     20, 주문후 보유수량:     20\n",
      "[2023-01-11] 종목: 005930, 주문전 보유수량:     10 주문수량:    -10, 매매수량:    -10, 주문후 보유수량:      0\n",
      "[2023-01-18] 종목: 000660, 주문전 보유수량:     20 주문수량:    -20, 매매수량:    -20, 주문후 보유수량:      0\n"
     ]
    }
   ],
   "source": [
    "dict_df_result = kq.backtest_stock_port_daily(\n",
    "    df_order,\n",
    "    init_cash=10_000_000,\n",
    ")"
   ]
  },
  {
   "cell_type": "markdown",
   "metadata": {},
   "source": [
    "## 6.3 백테스트 결과 정보"
   ]
  },
  {
   "cell_type": "markdown",
   "metadata": {},
   "source": [
    "포트폴리오 백테스트의 경우에는 개별주식 백테스트와 달리 백테스트 대상이 되는 모든 종목의 결과 데이터프레임 값(value)으로 가지고 해당 종목의 단축코드 문자열을 키(key)로 가지는 딕셔너리를 반환합니다."
   ]
  },
  {
   "cell_type": "code",
   "execution_count": 4,
   "metadata": {},
   "outputs": [
    {
     "data": {
      "text/plain": [
       "dict_keys(['005930', '000660', 'TOTAL'])"
      ]
     },
     "execution_count": 4,
     "metadata": {},
     "output_type": "execute_result"
    }
   ],
   "source": [
    "dict_df_result.keys()"
   ]
  },
  {
   "cell_type": "markdown",
   "metadata": {},
   "source": [
    "각 종목의 백테스트 결과 데이터프레임은 개별 종목 백테스트에서 출력되는 데이터프레임과 동일합니다.\n",
    "\n",
    "다만 개별 종목 매매시 보유 현금을 0으로 가정하고 별도의 현금계좌로부터 융자하여 매매하는 것을 가정하므로 현금이 음수가 될 수 있습니다."
   ]
  },
  {
   "cell_type": "code",
   "execution_count": 5,
   "metadata": {},
   "outputs": [
    {
     "data": {
      "text/html": [
       "<div>\n",
       "<style scoped>\n",
       "    .dataframe tbody tr th:only-of-type {\n",
       "        vertical-align: middle;\n",
       "    }\n",
       "\n",
       "    .dataframe tbody tr th {\n",
       "        vertical-align: top;\n",
       "    }\n",
       "\n",
       "    .dataframe thead th {\n",
       "        text-align: right;\n",
       "    }\n",
       "</style>\n",
       "<table border=\"1\" class=\"dataframe\">\n",
       "  <thead>\n",
       "    <tr style=\"text-align: right;\">\n",
       "      <th></th>\n",
       "      <th>DATE</th>\n",
       "      <th>SYMBOL</th>\n",
       "      <th>PRICE</th>\n",
       "      <th>ORDER</th>\n",
       "      <th>QTY</th>\n",
       "      <th>TRADE_PRICE</th>\n",
       "      <th>POSITION</th>\n",
       "      <th>AVG_PRICE</th>\n",
       "      <th>FEE</th>\n",
       "      <th>TRADE_TAX</th>\n",
       "      <th>SLIPPAGE</th>\n",
       "      <th>CASHFLOW</th>\n",
       "      <th>CASH</th>\n",
       "      <th>HIST_VALUE</th>\n",
       "      <th>STOCK_VALUE</th>\n",
       "      <th>TOTAL_VALUE</th>\n",
       "      <th>REAL_PROFIT</th>\n",
       "      <th>UNREAL_PROFIT</th>\n",
       "      <th>PROFIT</th>\n",
       "      <th>HIGHWATERMARK</th>\n",
       "      <th>DRAWDOWN</th>\n",
       "    </tr>\n",
       "  </thead>\n",
       "  <tbody>\n",
       "    <tr>\n",
       "      <th>0</th>\n",
       "      <td>2023-01-02</td>\n",
       "      <td>005930</td>\n",
       "      <td>55,500</td>\n",
       "      <td>10</td>\n",
       "      <td>10</td>\n",
       "      <td>55,500</td>\n",
       "      <td>10</td>\n",
       "      <td>55,500.0000</td>\n",
       "      <td>0</td>\n",
       "      <td>0</td>\n",
       "      <td>0</td>\n",
       "      <td>-555,000</td>\n",
       "      <td>-555,000</td>\n",
       "      <td>555,000</td>\n",
       "      <td>555,000</td>\n",
       "      <td>0</td>\n",
       "      <td>0</td>\n",
       "      <td>0</td>\n",
       "      <td>0</td>\n",
       "      <td>0</td>\n",
       "      <td>0</td>\n",
       "    </tr>\n",
       "    <tr>\n",
       "      <th>1</th>\n",
       "      <td>2023-01-03</td>\n",
       "      <td>005930</td>\n",
       "      <td>55,400</td>\n",
       "      <td>0</td>\n",
       "      <td>0</td>\n",
       "      <td>0</td>\n",
       "      <td>10</td>\n",
       "      <td>55,500.0000</td>\n",
       "      <td>0</td>\n",
       "      <td>0</td>\n",
       "      <td>0</td>\n",
       "      <td>0</td>\n",
       "      <td>-555,000</td>\n",
       "      <td>555,000</td>\n",
       "      <td>554,000</td>\n",
       "      <td>-1,000</td>\n",
       "      <td>0</td>\n",
       "      <td>-1,000</td>\n",
       "      <td>-1,000</td>\n",
       "      <td>0</td>\n",
       "      <td>1,000</td>\n",
       "    </tr>\n",
       "    <tr>\n",
       "      <th>2</th>\n",
       "      <td>2023-01-04</td>\n",
       "      <td>005930</td>\n",
       "      <td>57,800</td>\n",
       "      <td>0</td>\n",
       "      <td>0</td>\n",
       "      <td>0</td>\n",
       "      <td>10</td>\n",
       "      <td>55,500.0000</td>\n",
       "      <td>0</td>\n",
       "      <td>0</td>\n",
       "      <td>0</td>\n",
       "      <td>0</td>\n",
       "      <td>-555,000</td>\n",
       "      <td>555,000</td>\n",
       "      <td>578,000</td>\n",
       "      <td>23,000</td>\n",
       "      <td>0</td>\n",
       "      <td>23,000</td>\n",
       "      <td>23,000</td>\n",
       "      <td>23,000</td>\n",
       "      <td>0</td>\n",
       "    </tr>\n",
       "    <tr>\n",
       "      <th>3</th>\n",
       "      <td>2023-01-05</td>\n",
       "      <td>005930</td>\n",
       "      <td>58,200</td>\n",
       "      <td>0</td>\n",
       "      <td>0</td>\n",
       "      <td>0</td>\n",
       "      <td>10</td>\n",
       "      <td>55,500.0000</td>\n",
       "      <td>0</td>\n",
       "      <td>0</td>\n",
       "      <td>0</td>\n",
       "      <td>0</td>\n",
       "      <td>-555,000</td>\n",
       "      <td>555,000</td>\n",
       "      <td>582,000</td>\n",
       "      <td>27,000</td>\n",
       "      <td>0</td>\n",
       "      <td>27,000</td>\n",
       "      <td>27,000</td>\n",
       "      <td>27,000</td>\n",
       "      <td>0</td>\n",
       "    </tr>\n",
       "    <tr>\n",
       "      <th>4</th>\n",
       "      <td>2023-01-06</td>\n",
       "      <td>005930</td>\n",
       "      <td>59,000</td>\n",
       "      <td>0</td>\n",
       "      <td>0</td>\n",
       "      <td>0</td>\n",
       "      <td>10</td>\n",
       "      <td>55,500.0000</td>\n",
       "      <td>0</td>\n",
       "      <td>0</td>\n",
       "      <td>0</td>\n",
       "      <td>0</td>\n",
       "      <td>-555,000</td>\n",
       "      <td>555,000</td>\n",
       "      <td>590,000</td>\n",
       "      <td>35,000</td>\n",
       "      <td>0</td>\n",
       "      <td>35,000</td>\n",
       "      <td>35,000</td>\n",
       "      <td>35,000</td>\n",
       "      <td>0</td>\n",
       "    </tr>\n",
       "    <tr>\n",
       "      <th>5</th>\n",
       "      <td>2023-01-09</td>\n",
       "      <td>005930</td>\n",
       "      <td>60,700</td>\n",
       "      <td>0</td>\n",
       "      <td>0</td>\n",
       "      <td>0</td>\n",
       "      <td>10</td>\n",
       "      <td>55,500.0000</td>\n",
       "      <td>0</td>\n",
       "      <td>0</td>\n",
       "      <td>0</td>\n",
       "      <td>0</td>\n",
       "      <td>-555,000</td>\n",
       "      <td>555,000</td>\n",
       "      <td>607,000</td>\n",
       "      <td>52,000</td>\n",
       "      <td>0</td>\n",
       "      <td>52,000</td>\n",
       "      <td>52,000</td>\n",
       "      <td>52,000</td>\n",
       "      <td>0</td>\n",
       "    </tr>\n",
       "    <tr>\n",
       "      <th>6</th>\n",
       "      <td>2023-01-10</td>\n",
       "      <td>005930</td>\n",
       "      <td>60,400</td>\n",
       "      <td>0</td>\n",
       "      <td>0</td>\n",
       "      <td>0</td>\n",
       "      <td>10</td>\n",
       "      <td>55,500.0000</td>\n",
       "      <td>0</td>\n",
       "      <td>0</td>\n",
       "      <td>0</td>\n",
       "      <td>0</td>\n",
       "      <td>-555,000</td>\n",
       "      <td>555,000</td>\n",
       "      <td>604,000</td>\n",
       "      <td>49,000</td>\n",
       "      <td>0</td>\n",
       "      <td>49,000</td>\n",
       "      <td>49,000</td>\n",
       "      <td>52,000</td>\n",
       "      <td>3,000</td>\n",
       "    </tr>\n",
       "    <tr>\n",
       "      <th>7</th>\n",
       "      <td>2023-01-11</td>\n",
       "      <td>005930</td>\n",
       "      <td>60,500</td>\n",
       "      <td>-10</td>\n",
       "      <td>-10</td>\n",
       "      <td>60,500</td>\n",
       "      <td>0</td>\n",
       "      <td>0.0000</td>\n",
       "      <td>0</td>\n",
       "      <td>0</td>\n",
       "      <td>0</td>\n",
       "      <td>605,000</td>\n",
       "      <td>50,000</td>\n",
       "      <td>0</td>\n",
       "      <td>0</td>\n",
       "      <td>50,000</td>\n",
       "      <td>50,000</td>\n",
       "      <td>0</td>\n",
       "      <td>50,000</td>\n",
       "      <td>52,000</td>\n",
       "      <td>2,000</td>\n",
       "    </tr>\n",
       "    <tr>\n",
       "      <th>8</th>\n",
       "      <td>2023-01-12</td>\n",
       "      <td>005930</td>\n",
       "      <td>60,500</td>\n",
       "      <td>0</td>\n",
       "      <td>0</td>\n",
       "      <td>0</td>\n",
       "      <td>0</td>\n",
       "      <td>0.0000</td>\n",
       "      <td>0</td>\n",
       "      <td>0</td>\n",
       "      <td>0</td>\n",
       "      <td>0</td>\n",
       "      <td>50,000</td>\n",
       "      <td>0</td>\n",
       "      <td>0</td>\n",
       "      <td>50,000</td>\n",
       "      <td>0</td>\n",
       "      <td>0</td>\n",
       "      <td>50,000</td>\n",
       "      <td>52,000</td>\n",
       "      <td>2,000</td>\n",
       "    </tr>\n",
       "    <tr>\n",
       "      <th>9</th>\n",
       "      <td>2023-01-13</td>\n",
       "      <td>005930</td>\n",
       "      <td>60,800</td>\n",
       "      <td>0</td>\n",
       "      <td>0</td>\n",
       "      <td>0</td>\n",
       "      <td>0</td>\n",
       "      <td>0.0000</td>\n",
       "      <td>0</td>\n",
       "      <td>0</td>\n",
       "      <td>0</td>\n",
       "      <td>0</td>\n",
       "      <td>50,000</td>\n",
       "      <td>0</td>\n",
       "      <td>0</td>\n",
       "      <td>50,000</td>\n",
       "      <td>0</td>\n",
       "      <td>0</td>\n",
       "      <td>50,000</td>\n",
       "      <td>52,000</td>\n",
       "      <td>2,000</td>\n",
       "    </tr>\n",
       "    <tr>\n",
       "      <th>10</th>\n",
       "      <td>2023-01-16</td>\n",
       "      <td>005930</td>\n",
       "      <td>61,100</td>\n",
       "      <td>0</td>\n",
       "      <td>0</td>\n",
       "      <td>0</td>\n",
       "      <td>0</td>\n",
       "      <td>0.0000</td>\n",
       "      <td>0</td>\n",
       "      <td>0</td>\n",
       "      <td>0</td>\n",
       "      <td>0</td>\n",
       "      <td>50,000</td>\n",
       "      <td>0</td>\n",
       "      <td>0</td>\n",
       "      <td>50,000</td>\n",
       "      <td>0</td>\n",
       "      <td>0</td>\n",
       "      <td>50,000</td>\n",
       "      <td>52,000</td>\n",
       "      <td>2,000</td>\n",
       "    </tr>\n",
       "    <tr>\n",
       "      <th>11</th>\n",
       "      <td>2023-01-17</td>\n",
       "      <td>005930</td>\n",
       "      <td>61,000</td>\n",
       "      <td>0</td>\n",
       "      <td>0</td>\n",
       "      <td>0</td>\n",
       "      <td>0</td>\n",
       "      <td>0.0000</td>\n",
       "      <td>0</td>\n",
       "      <td>0</td>\n",
       "      <td>0</td>\n",
       "      <td>0</td>\n",
       "      <td>50,000</td>\n",
       "      <td>0</td>\n",
       "      <td>0</td>\n",
       "      <td>50,000</td>\n",
       "      <td>0</td>\n",
       "      <td>0</td>\n",
       "      <td>50,000</td>\n",
       "      <td>52,000</td>\n",
       "      <td>2,000</td>\n",
       "    </tr>\n",
       "    <tr>\n",
       "      <th>12</th>\n",
       "      <td>2023-01-18</td>\n",
       "      <td>005930</td>\n",
       "      <td>60,400</td>\n",
       "      <td>0</td>\n",
       "      <td>0</td>\n",
       "      <td>0</td>\n",
       "      <td>0</td>\n",
       "      <td>0.0000</td>\n",
       "      <td>0</td>\n",
       "      <td>0</td>\n",
       "      <td>0</td>\n",
       "      <td>0</td>\n",
       "      <td>50,000</td>\n",
       "      <td>0</td>\n",
       "      <td>0</td>\n",
       "      <td>50,000</td>\n",
       "      <td>0</td>\n",
       "      <td>0</td>\n",
       "      <td>50,000</td>\n",
       "      <td>52,000</td>\n",
       "      <td>2,000</td>\n",
       "    </tr>\n",
       "  </tbody>\n",
       "</table>\n",
       "</div>"
      ],
      "text/plain": [
       "         DATE  SYMBOL   PRICE  ORDER  QTY  TRADE_PRICE  POSITION   AVG_PRICE  \\\n",
       "0  2023-01-02  005930  55,500     10   10       55,500        10 55,500.0000   \n",
       "1  2023-01-03  005930  55,400      0    0            0        10 55,500.0000   \n",
       "2  2023-01-04  005930  57,800      0    0            0        10 55,500.0000   \n",
       "3  2023-01-05  005930  58,200      0    0            0        10 55,500.0000   \n",
       "4  2023-01-06  005930  59,000      0    0            0        10 55,500.0000   \n",
       "5  2023-01-09  005930  60,700      0    0            0        10 55,500.0000   \n",
       "6  2023-01-10  005930  60,400      0    0            0        10 55,500.0000   \n",
       "7  2023-01-11  005930  60,500    -10  -10       60,500         0      0.0000   \n",
       "8  2023-01-12  005930  60,500      0    0            0         0      0.0000   \n",
       "9  2023-01-13  005930  60,800      0    0            0         0      0.0000   \n",
       "10 2023-01-16  005930  61,100      0    0            0         0      0.0000   \n",
       "11 2023-01-17  005930  61,000      0    0            0         0      0.0000   \n",
       "12 2023-01-18  005930  60,400      0    0            0         0      0.0000   \n",
       "\n",
       "    FEE  TRADE_TAX  SLIPPAGE  CASHFLOW      CASH  HIST_VALUE  STOCK_VALUE  \\\n",
       "0     0          0         0  -555,000  -555,000     555,000      555,000   \n",
       "1     0          0         0         0  -555,000     555,000      554,000   \n",
       "2     0          0         0         0  -555,000     555,000      578,000   \n",
       "3     0          0         0         0  -555,000     555,000      582,000   \n",
       "4     0          0         0         0  -555,000     555,000      590,000   \n",
       "5     0          0         0         0  -555,000     555,000      607,000   \n",
       "6     0          0         0         0  -555,000     555,000      604,000   \n",
       "7     0          0         0   605,000    50,000           0            0   \n",
       "8     0          0         0         0    50,000           0            0   \n",
       "9     0          0         0         0    50,000           0            0   \n",
       "10    0          0         0         0    50,000           0            0   \n",
       "11    0          0         0         0    50,000           0            0   \n",
       "12    0          0         0         0    50,000           0            0   \n",
       "\n",
       "    TOTAL_VALUE  REAL_PROFIT  UNREAL_PROFIT  PROFIT  HIGHWATERMARK  DRAWDOWN  \n",
       "0             0            0              0       0              0         0  \n",
       "1        -1,000            0         -1,000  -1,000              0     1,000  \n",
       "2        23,000            0         23,000  23,000         23,000         0  \n",
       "3        27,000            0         27,000  27,000         27,000         0  \n",
       "4        35,000            0         35,000  35,000         35,000         0  \n",
       "5        52,000            0         52,000  52,000         52,000         0  \n",
       "6        49,000            0         49,000  49,000         52,000     3,000  \n",
       "7        50,000       50,000              0  50,000         52,000     2,000  \n",
       "8        50,000            0              0  50,000         52,000     2,000  \n",
       "9        50,000            0              0  50,000         52,000     2,000  \n",
       "10       50,000            0              0  50,000         52,000     2,000  \n",
       "11       50,000            0              0  50,000         52,000     2,000  \n",
       "12       50,000            0              0  50,000         52,000     2,000  "
      ]
     },
     "execution_count": 5,
     "metadata": {},
     "output_type": "execute_result"
    }
   ],
   "source": [
    "df_result_005930 = dict_df_result[\"005930\"]\n",
    "df_result_005930\n"
   ]
  },
  {
   "cell_type": "code",
   "execution_count": 6,
   "metadata": {},
   "outputs": [
    {
     "data": {
      "text/html": [
       "        <script type=\"text/javascript\">\n",
       "        window.PlotlyConfig = {MathJaxConfig: 'local'};\n",
       "        if (window.MathJax && window.MathJax.Hub && window.MathJax.Hub.Config) {window.MathJax.Hub.Config({SVG: {font: \"STIX-Web\"}});}\n",
       "        if (typeof require !== 'undefined') {\n",
       "        require.undef(\"plotly\");\n",
       "        requirejs.config({\n",
       "            paths: {\n",
       "                'plotly': ['https://cdn.plot.ly/plotly-2.25.2.min']\n",
       "            }\n",
       "        });\n",
       "        require(['plotly'], function(Plotly) {\n",
       "            window._Plotly = Plotly;\n",
       "        });\n",
       "        }\n",
       "        </script>\n",
       "        "
      ]
     },
     "metadata": {},
     "output_type": "display_data"
    },
    {
     "data": {
      "application/vnd.plotly.v1+json": {
       "config": {
        "displaylogo": false,
        "modeBarButtonsToRemove": [
         "resetScale2d",
         "lasso2d",
         "zoomIn2d",
         "zoomOut2d",
         "select2d"
        ],
        "plotlyServerURL": "https://plot.ly"
       },
       "data": [
        {
         "marker": {
          "color": "#000000"
         },
         "mode": "lines",
         "name": "가격",
         "type": "scatter",
         "x": [
          "2023-01-02T00:00:00",
          "2023-01-03T00:00:00",
          "2023-01-04T00:00:00",
          "2023-01-05T00:00:00",
          "2023-01-06T00:00:00",
          "2023-01-09T00:00:00",
          "2023-01-10T00:00:00",
          "2023-01-11T00:00:00",
          "2023-01-12T00:00:00",
          "2023-01-13T00:00:00",
          "2023-01-16T00:00:00",
          "2023-01-17T00:00:00",
          "2023-01-18T00:00:00"
         ],
         "xaxis": "x5",
         "y": [
          55500,
          55400,
          57800,
          58200,
          59000,
          60700,
          60400,
          60500,
          60500,
          60800,
          61100,
          61000,
          60400
         ],
         "yaxis": "y"
        },
        {
         "marker": {
          "color": "#DC143C",
          "line": {
           "color": "white",
           "width": 1
          },
          "size": 12,
          "symbol": "triangle-up"
         },
         "mode": "markers",
         "name": "매수",
         "type": "scatter",
         "x": [
          "2023-01-02T00:00:00"
         ],
         "xaxis": "x5",
         "y": [
          55500
         ],
         "yaxis": "y"
        },
        {
         "marker": {
          "color": "#00008B",
          "line": {
           "color": "white",
           "width": 1
          },
          "size": 12,
          "symbol": "triangle-down"
         },
         "mode": "markers",
         "name": "매도",
         "type": "scatter",
         "x": [
          "2023-01-11T00:00:00"
         ],
         "xaxis": "x5",
         "y": [
          60500
         ],
         "yaxis": "y"
        },
        {
         "fill": "tozeroy",
         "fillcolor": "lightgray",
         "line": {
          "color": "#000000",
          "shape": "hv"
         },
         "mode": "lines",
         "name": "잔고수량",
         "type": "scatter",
         "x": [
          "2023-01-02T00:00:00",
          "2023-01-03T00:00:00",
          "2023-01-04T00:00:00",
          "2023-01-05T00:00:00",
          "2023-01-06T00:00:00",
          "2023-01-09T00:00:00",
          "2023-01-10T00:00:00",
          "2023-01-11T00:00:00",
          "2023-01-12T00:00:00",
          "2023-01-13T00:00:00",
          "2023-01-16T00:00:00",
          "2023-01-17T00:00:00",
          "2023-01-18T00:00:00"
         ],
         "xaxis": "x5",
         "y": [
          10,
          10,
          10,
          10,
          10,
          10,
          10,
          0,
          0,
          0,
          0,
          0,
          0
         ],
         "yaxis": "y2"
        },
        {
         "line": {
          "color": "#000000",
          "shape": "hv"
         },
         "mode": "lines",
         "name": "잔고가치",
         "type": "scatter",
         "x": [
          "2023-01-02T00:00:00",
          "2023-01-03T00:00:00",
          "2023-01-04T00:00:00",
          "2023-01-05T00:00:00",
          "2023-01-06T00:00:00",
          "2023-01-09T00:00:00",
          "2023-01-10T00:00:00",
          "2023-01-11T00:00:00",
          "2023-01-12T00:00:00",
          "2023-01-13T00:00:00",
          "2023-01-16T00:00:00",
          "2023-01-17T00:00:00",
          "2023-01-18T00:00:00"
         ],
         "xaxis": "x5",
         "y": [
          555000,
          554000,
          578000,
          582000,
          590000,
          607000,
          604000,
          null,
          null,
          null,
          null,
          null,
          null
         ],
         "yaxis": "y3"
        },
        {
         "cliponaxis": false,
         "marker": {
          "color": [
           "#00008B",
           "#00008B",
           "#00008B",
           "#00008B",
           "#00008B",
           "#00008B",
           "#00008B",
           "#DC143C",
           "#00008B",
           "#00008B",
           "#00008B",
           "#00008B",
           "#00008B"
          ]
         },
         "name": "실현손익",
         "text": [
          "",
          "",
          "",
          "",
          "",
          "",
          "",
          "50,000",
          "",
          "",
          "",
          "",
          ""
         ],
         "textposition": "outside",
         "type": "bar",
         "width": 432000000,
         "x": [
          "2023-01-02T00:00:00",
          "2023-01-03T00:00:00",
          "2023-01-04T00:00:00",
          "2023-01-05T00:00:00",
          "2023-01-06T00:00:00",
          "2023-01-09T00:00:00",
          "2023-01-10T00:00:00",
          "2023-01-11T00:00:00",
          "2023-01-12T00:00:00",
          "2023-01-13T00:00:00",
          "2023-01-16T00:00:00",
          "2023-01-17T00:00:00",
          "2023-01-18T00:00:00"
         ],
         "xaxis": "x5",
         "y": [
          0,
          0,
          0,
          0,
          0,
          0,
          0,
          50000,
          0,
          0,
          0,
          0,
          0
         ],
         "yaxis": "y4"
        },
        {
         "line": {
          "color": "#000000",
          "shape": "hv"
         },
         "mode": "lines",
         "name": "총자산가치",
         "type": "scatter",
         "x": [
          "2023-01-02T00:00:00",
          "2023-01-03T00:00:00",
          "2023-01-04T00:00:00",
          "2023-01-05T00:00:00",
          "2023-01-06T00:00:00",
          "2023-01-09T00:00:00",
          "2023-01-10T00:00:00",
          "2023-01-11T00:00:00",
          "2023-01-12T00:00:00",
          "2023-01-13T00:00:00",
          "2023-01-16T00:00:00",
          "2023-01-17T00:00:00",
          "2023-01-18T00:00:00"
         ],
         "xaxis": "x5",
         "y": [
          0,
          -1000,
          23000,
          27000,
          35000,
          52000,
          49000,
          50000,
          50000,
          50000,
          50000,
          50000,
          50000
         ],
         "yaxis": "y5"
        },
        {
         "line": {
          "color": "#DC143C",
          "dash": "dash",
          "shape": "hv"
         },
         "mode": "lines",
         "name": "최고자산가치",
         "type": "scatter",
         "x": [
          "2023-01-02T00:00:00",
          "2023-01-03T00:00:00",
          "2023-01-04T00:00:00",
          "2023-01-05T00:00:00",
          "2023-01-06T00:00:00",
          "2023-01-09T00:00:00",
          "2023-01-10T00:00:00",
          "2023-01-11T00:00:00",
          "2023-01-12T00:00:00",
          "2023-01-13T00:00:00",
          "2023-01-16T00:00:00",
          "2023-01-17T00:00:00",
          "2023-01-18T00:00:00"
         ],
         "xaxis": "x5",
         "y": [
          0,
          0,
          23000,
          27000,
          35000,
          52000,
          52000,
          52000,
          52000,
          52000,
          52000,
          52000,
          52000
         ],
         "yaxis": "y5"
        },
        {
         "base": [
          0
         ],
         "cliponaxis": false,
         "marker": {
          "color": [
           "#DC143C"
          ]
         },
         "name": "최종손익",
         "text": [
          "최종수익: 50,000"
         ],
         "textposition": "outside",
         "type": "bar",
         "width": 864000000,
         "x": [
          "2023-01-18T00:00:00"
         ],
         "xaxis": "x5",
         "y": [
          50000
         ],
         "yaxis": "y5"
        },
        {
         "cliponaxis": false,
         "marker": {
          "color": [
           "#DC143C",
           "#00008B"
          ],
          "line": {
           "color": "white",
           "width": 1
          },
          "size": 12,
          "symbol": [
           "triangle-up",
           "triangle-down"
          ]
         },
         "mode": "markers+text",
         "name": "",
         "text": [
          "최고자산가치: 52,000",
          "MDD: -3,000"
         ],
         "textposition": [
          "top center",
          "bottom center"
         ],
         "type": "scatter",
         "x": [
          "2023-01-09T00:00:00",
          "2023-01-10T00:00:00"
         ],
         "xaxis": "x5",
         "y": [
          52000,
          49000
         ],
         "yaxis": "y5"
        }
       ],
       "layout": {
        "annotations": [
         {
          "font": {
           "size": 16
          },
          "showarrow": false,
          "text": "가격",
          "x": 0.5,
          "xanchor": "center",
          "xref": "paper",
          "y": 1,
          "yanchor": "bottom",
          "yref": "paper"
         },
         {
          "font": {
           "size": 16
          },
          "showarrow": false,
          "text": "잔고수량",
          "x": 0.5,
          "xanchor": "center",
          "xref": "paper",
          "y": 0.79,
          "yanchor": "bottom",
          "yref": "paper"
         },
         {
          "font": {
           "size": 16
          },
          "showarrow": false,
          "text": "잔고가치",
          "x": 0.5,
          "xanchor": "center",
          "xref": "paper",
          "y": 0.66,
          "yanchor": "bottom",
          "yref": "paper"
         },
         {
          "font": {
           "size": 16
          },
          "showarrow": false,
          "text": "실현손익",
          "x": 0.5,
          "xanchor": "center",
          "xref": "paper",
          "y": 0.45,
          "yanchor": "bottom",
          "yref": "paper"
         },
         {
          "font": {
           "size": 16
          },
          "showarrow": false,
          "text": "총자산가치",
          "x": 0.5,
          "xanchor": "center",
          "xref": "paper",
          "y": 0.24,
          "yanchor": "bottom",
          "yref": "paper"
         }
        ],
        "height": 800,
        "hovermode": "x unified",
        "margin": {
         "b": 25,
         "l": 25,
         "r": 25,
         "t": 80
        },
        "showlegend": false,
        "template": {
         "data": {
          "bar": [
           {
            "error_x": {
             "color": "#2a3f5f"
            },
            "error_y": {
             "color": "#2a3f5f"
            },
            "marker": {
             "line": {
              "color": "#E5ECF6",
              "width": 0.5
             },
             "pattern": {
              "fillmode": "overlay",
              "size": 10,
              "solidity": 0.2
             }
            },
            "type": "bar"
           }
          ],
          "barpolar": [
           {
            "marker": {
             "line": {
              "color": "#E5ECF6",
              "width": 0.5
             },
             "pattern": {
              "fillmode": "overlay",
              "size": 10,
              "solidity": 0.2
             }
            },
            "type": "barpolar"
           }
          ],
          "carpet": [
           {
            "aaxis": {
             "endlinecolor": "#2a3f5f",
             "gridcolor": "white",
             "linecolor": "white",
             "minorgridcolor": "white",
             "startlinecolor": "#2a3f5f"
            },
            "baxis": {
             "endlinecolor": "#2a3f5f",
             "gridcolor": "white",
             "linecolor": "white",
             "minorgridcolor": "white",
             "startlinecolor": "#2a3f5f"
            },
            "type": "carpet"
           }
          ],
          "choropleth": [
           {
            "colorbar": {
             "outlinewidth": 0,
             "ticks": ""
            },
            "type": "choropleth"
           }
          ],
          "contour": [
           {
            "colorbar": {
             "outlinewidth": 0,
             "ticks": ""
            },
            "colorscale": [
             [
              0,
              "#0d0887"
             ],
             [
              0.1111111111111111,
              "#46039f"
             ],
             [
              0.2222222222222222,
              "#7201a8"
             ],
             [
              0.3333333333333333,
              "#9c179e"
             ],
             [
              0.4444444444444444,
              "#bd3786"
             ],
             [
              0.5555555555555556,
              "#d8576b"
             ],
             [
              0.6666666666666666,
              "#ed7953"
             ],
             [
              0.7777777777777778,
              "#fb9f3a"
             ],
             [
              0.8888888888888888,
              "#fdca26"
             ],
             [
              1,
              "#f0f921"
             ]
            ],
            "type": "contour"
           }
          ],
          "contourcarpet": [
           {
            "colorbar": {
             "outlinewidth": 0,
             "ticks": ""
            },
            "type": "contourcarpet"
           }
          ],
          "heatmap": [
           {
            "colorbar": {
             "outlinewidth": 0,
             "ticks": ""
            },
            "colorscale": [
             [
              0,
              "#0d0887"
             ],
             [
              0.1111111111111111,
              "#46039f"
             ],
             [
              0.2222222222222222,
              "#7201a8"
             ],
             [
              0.3333333333333333,
              "#9c179e"
             ],
             [
              0.4444444444444444,
              "#bd3786"
             ],
             [
              0.5555555555555556,
              "#d8576b"
             ],
             [
              0.6666666666666666,
              "#ed7953"
             ],
             [
              0.7777777777777778,
              "#fb9f3a"
             ],
             [
              0.8888888888888888,
              "#fdca26"
             ],
             [
              1,
              "#f0f921"
             ]
            ],
            "type": "heatmap"
           }
          ],
          "heatmapgl": [
           {
            "colorbar": {
             "outlinewidth": 0,
             "ticks": ""
            },
            "colorscale": [
             [
              0,
              "#0d0887"
             ],
             [
              0.1111111111111111,
              "#46039f"
             ],
             [
              0.2222222222222222,
              "#7201a8"
             ],
             [
              0.3333333333333333,
              "#9c179e"
             ],
             [
              0.4444444444444444,
              "#bd3786"
             ],
             [
              0.5555555555555556,
              "#d8576b"
             ],
             [
              0.6666666666666666,
              "#ed7953"
             ],
             [
              0.7777777777777778,
              "#fb9f3a"
             ],
             [
              0.8888888888888888,
              "#fdca26"
             ],
             [
              1,
              "#f0f921"
             ]
            ],
            "type": "heatmapgl"
           }
          ],
          "histogram": [
           {
            "marker": {
             "pattern": {
              "fillmode": "overlay",
              "size": 10,
              "solidity": 0.2
             }
            },
            "type": "histogram"
           }
          ],
          "histogram2d": [
           {
            "colorbar": {
             "outlinewidth": 0,
             "ticks": ""
            },
            "colorscale": [
             [
              0,
              "#0d0887"
             ],
             [
              0.1111111111111111,
              "#46039f"
             ],
             [
              0.2222222222222222,
              "#7201a8"
             ],
             [
              0.3333333333333333,
              "#9c179e"
             ],
             [
              0.4444444444444444,
              "#bd3786"
             ],
             [
              0.5555555555555556,
              "#d8576b"
             ],
             [
              0.6666666666666666,
              "#ed7953"
             ],
             [
              0.7777777777777778,
              "#fb9f3a"
             ],
             [
              0.8888888888888888,
              "#fdca26"
             ],
             [
              1,
              "#f0f921"
             ]
            ],
            "type": "histogram2d"
           }
          ],
          "histogram2dcontour": [
           {
            "colorbar": {
             "outlinewidth": 0,
             "ticks": ""
            },
            "colorscale": [
             [
              0,
              "#0d0887"
             ],
             [
              0.1111111111111111,
              "#46039f"
             ],
             [
              0.2222222222222222,
              "#7201a8"
             ],
             [
              0.3333333333333333,
              "#9c179e"
             ],
             [
              0.4444444444444444,
              "#bd3786"
             ],
             [
              0.5555555555555556,
              "#d8576b"
             ],
             [
              0.6666666666666666,
              "#ed7953"
             ],
             [
              0.7777777777777778,
              "#fb9f3a"
             ],
             [
              0.8888888888888888,
              "#fdca26"
             ],
             [
              1,
              "#f0f921"
             ]
            ],
            "type": "histogram2dcontour"
           }
          ],
          "mesh3d": [
           {
            "colorbar": {
             "outlinewidth": 0,
             "ticks": ""
            },
            "type": "mesh3d"
           }
          ],
          "parcoords": [
           {
            "line": {
             "colorbar": {
              "outlinewidth": 0,
              "ticks": ""
             }
            },
            "type": "parcoords"
           }
          ],
          "pie": [
           {
            "automargin": true,
            "type": "pie"
           }
          ],
          "scatter": [
           {
            "fillpattern": {
             "fillmode": "overlay",
             "size": 10,
             "solidity": 0.2
            },
            "type": "scatter"
           }
          ],
          "scatter3d": [
           {
            "line": {
             "colorbar": {
              "outlinewidth": 0,
              "ticks": ""
             }
            },
            "marker": {
             "colorbar": {
              "outlinewidth": 0,
              "ticks": ""
             }
            },
            "type": "scatter3d"
           }
          ],
          "scattercarpet": [
           {
            "marker": {
             "colorbar": {
              "outlinewidth": 0,
              "ticks": ""
             }
            },
            "type": "scattercarpet"
           }
          ],
          "scattergeo": [
           {
            "marker": {
             "colorbar": {
              "outlinewidth": 0,
              "ticks": ""
             }
            },
            "type": "scattergeo"
           }
          ],
          "scattergl": [
           {
            "marker": {
             "colorbar": {
              "outlinewidth": 0,
              "ticks": ""
             }
            },
            "type": "scattergl"
           }
          ],
          "scattermapbox": [
           {
            "marker": {
             "colorbar": {
              "outlinewidth": 0,
              "ticks": ""
             }
            },
            "type": "scattermapbox"
           }
          ],
          "scatterpolar": [
           {
            "marker": {
             "colorbar": {
              "outlinewidth": 0,
              "ticks": ""
             }
            },
            "type": "scatterpolar"
           }
          ],
          "scatterpolargl": [
           {
            "marker": {
             "colorbar": {
              "outlinewidth": 0,
              "ticks": ""
             }
            },
            "type": "scatterpolargl"
           }
          ],
          "scatterternary": [
           {
            "marker": {
             "colorbar": {
              "outlinewidth": 0,
              "ticks": ""
             }
            },
            "type": "scatterternary"
           }
          ],
          "surface": [
           {
            "colorbar": {
             "outlinewidth": 0,
             "ticks": ""
            },
            "colorscale": [
             [
              0,
              "#0d0887"
             ],
             [
              0.1111111111111111,
              "#46039f"
             ],
             [
              0.2222222222222222,
              "#7201a8"
             ],
             [
              0.3333333333333333,
              "#9c179e"
             ],
             [
              0.4444444444444444,
              "#bd3786"
             ],
             [
              0.5555555555555556,
              "#d8576b"
             ],
             [
              0.6666666666666666,
              "#ed7953"
             ],
             [
              0.7777777777777778,
              "#fb9f3a"
             ],
             [
              0.8888888888888888,
              "#fdca26"
             ],
             [
              1,
              "#f0f921"
             ]
            ],
            "type": "surface"
           }
          ],
          "table": [
           {
            "cells": {
             "fill": {
              "color": "#EBF0F8"
             },
             "line": {
              "color": "white"
             }
            },
            "header": {
             "fill": {
              "color": "#C8D4E3"
             },
             "line": {
              "color": "white"
             }
            },
            "type": "table"
           }
          ]
         },
         "layout": {
          "annotationdefaults": {
           "arrowcolor": "#2a3f5f",
           "arrowhead": 0,
           "arrowwidth": 1
          },
          "autotypenumbers": "strict",
          "coloraxis": {
           "colorbar": {
            "outlinewidth": 0,
            "ticks": ""
           }
          },
          "colorscale": {
           "diverging": [
            [
             0,
             "#8e0152"
            ],
            [
             0.1,
             "#c51b7d"
            ],
            [
             0.2,
             "#de77ae"
            ],
            [
             0.3,
             "#f1b6da"
            ],
            [
             0.4,
             "#fde0ef"
            ],
            [
             0.5,
             "#f7f7f7"
            ],
            [
             0.6,
             "#e6f5d0"
            ],
            [
             0.7,
             "#b8e186"
            ],
            [
             0.8,
             "#7fbc41"
            ],
            [
             0.9,
             "#4d9221"
            ],
            [
             1,
             "#276419"
            ]
           ],
           "sequential": [
            [
             0,
             "#0d0887"
            ],
            [
             0.1111111111111111,
             "#46039f"
            ],
            [
             0.2222222222222222,
             "#7201a8"
            ],
            [
             0.3333333333333333,
             "#9c179e"
            ],
            [
             0.4444444444444444,
             "#bd3786"
            ],
            [
             0.5555555555555556,
             "#d8576b"
            ],
            [
             0.6666666666666666,
             "#ed7953"
            ],
            [
             0.7777777777777778,
             "#fb9f3a"
            ],
            [
             0.8888888888888888,
             "#fdca26"
            ],
            [
             1,
             "#f0f921"
            ]
           ],
           "sequentialminus": [
            [
             0,
             "#0d0887"
            ],
            [
             0.1111111111111111,
             "#46039f"
            ],
            [
             0.2222222222222222,
             "#7201a8"
            ],
            [
             0.3333333333333333,
             "#9c179e"
            ],
            [
             0.4444444444444444,
             "#bd3786"
            ],
            [
             0.5555555555555556,
             "#d8576b"
            ],
            [
             0.6666666666666666,
             "#ed7953"
            ],
            [
             0.7777777777777778,
             "#fb9f3a"
            ],
            [
             0.8888888888888888,
             "#fdca26"
            ],
            [
             1,
             "#f0f921"
            ]
           ]
          },
          "colorway": [
           "#636efa",
           "#EF553B",
           "#00cc96",
           "#ab63fa",
           "#FFA15A",
           "#19d3f3",
           "#FF6692",
           "#B6E880",
           "#FF97FF",
           "#FECB52"
          ],
          "font": {
           "color": "#2a3f5f"
          },
          "geo": {
           "bgcolor": "white",
           "lakecolor": "white",
           "landcolor": "#E5ECF6",
           "showlakes": true,
           "showland": true,
           "subunitcolor": "white"
          },
          "hoverlabel": {
           "align": "left"
          },
          "hovermode": "closest",
          "mapbox": {
           "style": "light"
          },
          "paper_bgcolor": "white",
          "plot_bgcolor": "#E5ECF6",
          "polar": {
           "angularaxis": {
            "gridcolor": "white",
            "linecolor": "white",
            "ticks": ""
           },
           "bgcolor": "#E5ECF6",
           "radialaxis": {
            "gridcolor": "white",
            "linecolor": "white",
            "ticks": ""
           }
          },
          "scene": {
           "xaxis": {
            "backgroundcolor": "#E5ECF6",
            "gridcolor": "white",
            "gridwidth": 2,
            "linecolor": "white",
            "showbackground": true,
            "ticks": "",
            "zerolinecolor": "white"
           },
           "yaxis": {
            "backgroundcolor": "#E5ECF6",
            "gridcolor": "white",
            "gridwidth": 2,
            "linecolor": "white",
            "showbackground": true,
            "ticks": "",
            "zerolinecolor": "white"
           },
           "zaxis": {
            "backgroundcolor": "#E5ECF6",
            "gridcolor": "white",
            "gridwidth": 2,
            "linecolor": "white",
            "showbackground": true,
            "ticks": "",
            "zerolinecolor": "white"
           }
          },
          "shapedefaults": {
           "line": {
            "color": "#2a3f5f"
           }
          },
          "ternary": {
           "aaxis": {
            "gridcolor": "white",
            "linecolor": "white",
            "ticks": ""
           },
           "baxis": {
            "gridcolor": "white",
            "linecolor": "white",
            "ticks": ""
           },
           "bgcolor": "#E5ECF6",
           "caxis": {
            "gridcolor": "white",
            "linecolor": "white",
            "ticks": ""
           }
          },
          "title": {
           "x": 0.05
          },
          "xaxis": {
           "automargin": true,
           "gridcolor": "white",
           "linecolor": "white",
           "ticks": "",
           "title": {
            "standoff": 15
           },
           "zerolinecolor": "white",
           "zerolinewidth": 2
          },
          "yaxis": {
           "automargin": true,
           "gridcolor": "white",
           "linecolor": "white",
           "ticks": "",
           "title": {
            "standoff": 15
           },
           "zerolinecolor": "white",
           "zerolinewidth": 2
          }
         }
        },
        "title": {
         "text": "백테스트 결과: 005930, 2023-01-02~2023-01-18",
         "x": 0.5,
         "y": 0.98
        },
        "uniformtext": {
         "minsize": 12,
         "mode": "show"
        },
        "xaxis": {
         "anchor": "y",
         "domain": [
          0,
          1
         ],
         "matches": "x5",
         "showticklabels": false
        },
        "xaxis2": {
         "anchor": "y2",
         "domain": [
          0,
          1
         ],
         "matches": "x5",
         "showticklabels": false
        },
        "xaxis3": {
         "anchor": "y3",
         "domain": [
          0,
          1
         ],
         "matches": "x5",
         "showticklabels": false
        },
        "xaxis4": {
         "anchor": "y4",
         "domain": [
          0,
          1
         ],
         "matches": "x5",
         "showticklabels": false
        },
        "xaxis5": {
         "anchor": "y5",
         "domain": [
          0,
          1
         ],
         "hoverformat": "%Y-%m-%d",
         "showticklabels": true,
         "tickformat": "%Y-%m-%d"
        },
        "yaxis": {
         "anchor": "x",
         "domain": [
          0.8400000000000001,
          1
         ],
         "tickformat": ",d"
        },
        "yaxis2": {
         "anchor": "x2",
         "domain": [
          0.7100000000000001,
          0.79
         ],
         "dtick": "L1"
        },
        "yaxis3": {
         "anchor": "x3",
         "domain": [
          0.5,
          0.66
         ],
         "tickformat": ",d"
        },
        "yaxis4": {
         "anchor": "x4",
         "domain": [
          0.29,
          0.45
         ],
         "tickformat": ",d"
        },
        "yaxis5": {
         "anchor": "x5",
         "domain": [
          0,
          0.24
         ],
         "tickformat": ",d"
        }
       }
      },
      "text/html": [
       "<div>                            <div id=\"6b65b59f-e3d8-4f5e-89a4-9a3661ce3f5d\" class=\"plotly-graph-div\" style=\"height:800px; width:100%;\"></div>            <script type=\"text/javascript\">                require([\"plotly\"], function(Plotly) {                    window.PLOTLYENV=window.PLOTLYENV || {};                                    if (document.getElementById(\"6b65b59f-e3d8-4f5e-89a4-9a3661ce3f5d\")) {                    Plotly.newPlot(                        \"6b65b59f-e3d8-4f5e-89a4-9a3661ce3f5d\",                        [{\"marker\":{\"color\":\"#000000\"},\"mode\":\"lines\",\"name\":\"\\uac00\\uaca9\",\"x\":[\"2023-01-02T00:00:00\",\"2023-01-03T00:00:00\",\"2023-01-04T00:00:00\",\"2023-01-05T00:00:00\",\"2023-01-06T00:00:00\",\"2023-01-09T00:00:00\",\"2023-01-10T00:00:00\",\"2023-01-11T00:00:00\",\"2023-01-12T00:00:00\",\"2023-01-13T00:00:00\",\"2023-01-16T00:00:00\",\"2023-01-17T00:00:00\",\"2023-01-18T00:00:00\"],\"y\":[55500,55400,57800,58200,59000,60700,60400,60500,60500,60800,61100,61000,60400],\"type\":\"scatter\",\"xaxis\":\"x5\",\"yaxis\":\"y\"},{\"marker\":{\"color\":\"#DC143C\",\"line\":{\"color\":\"white\",\"width\":1},\"size\":12,\"symbol\":\"triangle-up\"},\"mode\":\"markers\",\"name\":\"\\ub9e4\\uc218\",\"x\":[\"2023-01-02T00:00:00\"],\"y\":[55500],\"type\":\"scatter\",\"xaxis\":\"x5\",\"yaxis\":\"y\"},{\"marker\":{\"color\":\"#00008B\",\"line\":{\"color\":\"white\",\"width\":1},\"size\":12,\"symbol\":\"triangle-down\"},\"mode\":\"markers\",\"name\":\"\\ub9e4\\ub3c4\",\"x\":[\"2023-01-11T00:00:00\"],\"y\":[60500],\"type\":\"scatter\",\"xaxis\":\"x5\",\"yaxis\":\"y\"},{\"fill\":\"tozeroy\",\"fillcolor\":\"lightgray\",\"line\":{\"color\":\"#000000\",\"shape\":\"hv\"},\"mode\":\"lines\",\"name\":\"\\uc794\\uace0\\uc218\\ub7c9\",\"x\":[\"2023-01-02T00:00:00\",\"2023-01-03T00:00:00\",\"2023-01-04T00:00:00\",\"2023-01-05T00:00:00\",\"2023-01-06T00:00:00\",\"2023-01-09T00:00:00\",\"2023-01-10T00:00:00\",\"2023-01-11T00:00:00\",\"2023-01-12T00:00:00\",\"2023-01-13T00:00:00\",\"2023-01-16T00:00:00\",\"2023-01-17T00:00:00\",\"2023-01-18T00:00:00\"],\"y\":[10,10,10,10,10,10,10,0,0,0,0,0,0],\"type\":\"scatter\",\"xaxis\":\"x5\",\"yaxis\":\"y2\"},{\"line\":{\"color\":\"#000000\",\"shape\":\"hv\"},\"mode\":\"lines\",\"name\":\"\\uc794\\uace0\\uac00\\uce58\",\"x\":[\"2023-01-02T00:00:00\",\"2023-01-03T00:00:00\",\"2023-01-04T00:00:00\",\"2023-01-05T00:00:00\",\"2023-01-06T00:00:00\",\"2023-01-09T00:00:00\",\"2023-01-10T00:00:00\",\"2023-01-11T00:00:00\",\"2023-01-12T00:00:00\",\"2023-01-13T00:00:00\",\"2023-01-16T00:00:00\",\"2023-01-17T00:00:00\",\"2023-01-18T00:00:00\"],\"y\":[555000.0,554000.0,578000.0,582000.0,590000.0,607000.0,604000.0,null,null,null,null,null,null],\"type\":\"scatter\",\"xaxis\":\"x5\",\"yaxis\":\"y3\"},{\"cliponaxis\":false,\"marker\":{\"color\":[\"#00008B\",\"#00008B\",\"#00008B\",\"#00008B\",\"#00008B\",\"#00008B\",\"#00008B\",\"#DC143C\",\"#00008B\",\"#00008B\",\"#00008B\",\"#00008B\",\"#00008B\"]},\"name\":\"\\uc2e4\\ud604\\uc190\\uc775\",\"text\":[\"\",\"\",\"\",\"\",\"\",\"\",\"\",\"50,000\",\"\",\"\",\"\",\"\",\"\"],\"textposition\":\"outside\",\"width\":432000000,\"x\":[\"2023-01-02T00:00:00\",\"2023-01-03T00:00:00\",\"2023-01-04T00:00:00\",\"2023-01-05T00:00:00\",\"2023-01-06T00:00:00\",\"2023-01-09T00:00:00\",\"2023-01-10T00:00:00\",\"2023-01-11T00:00:00\",\"2023-01-12T00:00:00\",\"2023-01-13T00:00:00\",\"2023-01-16T00:00:00\",\"2023-01-17T00:00:00\",\"2023-01-18T00:00:00\"],\"y\":[0,0,0,0,0,0,0,50000,0,0,0,0,0],\"type\":\"bar\",\"xaxis\":\"x5\",\"yaxis\":\"y4\"},{\"line\":{\"color\":\"#000000\",\"shape\":\"hv\"},\"mode\":\"lines\",\"name\":\"\\ucd1d\\uc790\\uc0b0\\uac00\\uce58\",\"x\":[\"2023-01-02T00:00:00\",\"2023-01-03T00:00:00\",\"2023-01-04T00:00:00\",\"2023-01-05T00:00:00\",\"2023-01-06T00:00:00\",\"2023-01-09T00:00:00\",\"2023-01-10T00:00:00\",\"2023-01-11T00:00:00\",\"2023-01-12T00:00:00\",\"2023-01-13T00:00:00\",\"2023-01-16T00:00:00\",\"2023-01-17T00:00:00\",\"2023-01-18T00:00:00\"],\"y\":[0,-1000,23000,27000,35000,52000,49000,50000,50000,50000,50000,50000,50000],\"type\":\"scatter\",\"xaxis\":\"x5\",\"yaxis\":\"y5\"},{\"line\":{\"color\":\"#DC143C\",\"dash\":\"dash\",\"shape\":\"hv\"},\"mode\":\"lines\",\"name\":\"\\ucd5c\\uace0\\uc790\\uc0b0\\uac00\\uce58\",\"x\":[\"2023-01-02T00:00:00\",\"2023-01-03T00:00:00\",\"2023-01-04T00:00:00\",\"2023-01-05T00:00:00\",\"2023-01-06T00:00:00\",\"2023-01-09T00:00:00\",\"2023-01-10T00:00:00\",\"2023-01-11T00:00:00\",\"2023-01-12T00:00:00\",\"2023-01-13T00:00:00\",\"2023-01-16T00:00:00\",\"2023-01-17T00:00:00\",\"2023-01-18T00:00:00\"],\"y\":[0,0,23000,27000,35000,52000,52000,52000,52000,52000,52000,52000,52000],\"type\":\"scatter\",\"xaxis\":\"x5\",\"yaxis\":\"y5\"},{\"base\":[0],\"cliponaxis\":false,\"marker\":{\"color\":[\"#DC143C\"]},\"name\":\"\\ucd5c\\uc885\\uc190\\uc775\",\"text\":[\"\\ucd5c\\uc885\\uc218\\uc775: 50,000\"],\"textposition\":\"outside\",\"width\":864000000,\"x\":[\"2023-01-18T00:00:00\"],\"y\":[50000],\"type\":\"bar\",\"xaxis\":\"x5\",\"yaxis\":\"y5\"},{\"cliponaxis\":false,\"marker\":{\"color\":[\"#DC143C\",\"#00008B\"],\"line\":{\"color\":\"white\",\"width\":1},\"size\":12,\"symbol\":[\"triangle-up\",\"triangle-down\"]},\"mode\":\"markers+text\",\"name\":\"\",\"text\":[\"\\ucd5c\\uace0\\uc790\\uc0b0\\uac00\\uce58: 52,000\",\"MDD: -3,000\"],\"textposition\":[\"top center\",\"bottom center\"],\"x\":[\"2023-01-09T00:00:00\",\"2023-01-10T00:00:00\"],\"y\":[52000,49000],\"type\":\"scatter\",\"xaxis\":\"x5\",\"yaxis\":\"y5\"}],                        {\"template\":{\"data\":{\"histogram2dcontour\":[{\"type\":\"histogram2dcontour\",\"colorbar\":{\"outlinewidth\":0,\"ticks\":\"\"},\"colorscale\":[[0.0,\"#0d0887\"],[0.1111111111111111,\"#46039f\"],[0.2222222222222222,\"#7201a8\"],[0.3333333333333333,\"#9c179e\"],[0.4444444444444444,\"#bd3786\"],[0.5555555555555556,\"#d8576b\"],[0.6666666666666666,\"#ed7953\"],[0.7777777777777778,\"#fb9f3a\"],[0.8888888888888888,\"#fdca26\"],[1.0,\"#f0f921\"]]}],\"choropleth\":[{\"type\":\"choropleth\",\"colorbar\":{\"outlinewidth\":0,\"ticks\":\"\"}}],\"histogram2d\":[{\"type\":\"histogram2d\",\"colorbar\":{\"outlinewidth\":0,\"ticks\":\"\"},\"colorscale\":[[0.0,\"#0d0887\"],[0.1111111111111111,\"#46039f\"],[0.2222222222222222,\"#7201a8\"],[0.3333333333333333,\"#9c179e\"],[0.4444444444444444,\"#bd3786\"],[0.5555555555555556,\"#d8576b\"],[0.6666666666666666,\"#ed7953\"],[0.7777777777777778,\"#fb9f3a\"],[0.8888888888888888,\"#fdca26\"],[1.0,\"#f0f921\"]]}],\"heatmap\":[{\"type\":\"heatmap\",\"colorbar\":{\"outlinewidth\":0,\"ticks\":\"\"},\"colorscale\":[[0.0,\"#0d0887\"],[0.1111111111111111,\"#46039f\"],[0.2222222222222222,\"#7201a8\"],[0.3333333333333333,\"#9c179e\"],[0.4444444444444444,\"#bd3786\"],[0.5555555555555556,\"#d8576b\"],[0.6666666666666666,\"#ed7953\"],[0.7777777777777778,\"#fb9f3a\"],[0.8888888888888888,\"#fdca26\"],[1.0,\"#f0f921\"]]}],\"heatmapgl\":[{\"type\":\"heatmapgl\",\"colorbar\":{\"outlinewidth\":0,\"ticks\":\"\"},\"colorscale\":[[0.0,\"#0d0887\"],[0.1111111111111111,\"#46039f\"],[0.2222222222222222,\"#7201a8\"],[0.3333333333333333,\"#9c179e\"],[0.4444444444444444,\"#bd3786\"],[0.5555555555555556,\"#d8576b\"],[0.6666666666666666,\"#ed7953\"],[0.7777777777777778,\"#fb9f3a\"],[0.8888888888888888,\"#fdca26\"],[1.0,\"#f0f921\"]]}],\"contourcarpet\":[{\"type\":\"contourcarpet\",\"colorbar\":{\"outlinewidth\":0,\"ticks\":\"\"}}],\"contour\":[{\"type\":\"contour\",\"colorbar\":{\"outlinewidth\":0,\"ticks\":\"\"},\"colorscale\":[[0.0,\"#0d0887\"],[0.1111111111111111,\"#46039f\"],[0.2222222222222222,\"#7201a8\"],[0.3333333333333333,\"#9c179e\"],[0.4444444444444444,\"#bd3786\"],[0.5555555555555556,\"#d8576b\"],[0.6666666666666666,\"#ed7953\"],[0.7777777777777778,\"#fb9f3a\"],[0.8888888888888888,\"#fdca26\"],[1.0,\"#f0f921\"]]}],\"surface\":[{\"type\":\"surface\",\"colorbar\":{\"outlinewidth\":0,\"ticks\":\"\"},\"colorscale\":[[0.0,\"#0d0887\"],[0.1111111111111111,\"#46039f\"],[0.2222222222222222,\"#7201a8\"],[0.3333333333333333,\"#9c179e\"],[0.4444444444444444,\"#bd3786\"],[0.5555555555555556,\"#d8576b\"],[0.6666666666666666,\"#ed7953\"],[0.7777777777777778,\"#fb9f3a\"],[0.8888888888888888,\"#fdca26\"],[1.0,\"#f0f921\"]]}],\"mesh3d\":[{\"type\":\"mesh3d\",\"colorbar\":{\"outlinewidth\":0,\"ticks\":\"\"}}],\"scatter\":[{\"fillpattern\":{\"fillmode\":\"overlay\",\"size\":10,\"solidity\":0.2},\"type\":\"scatter\"}],\"parcoords\":[{\"type\":\"parcoords\",\"line\":{\"colorbar\":{\"outlinewidth\":0,\"ticks\":\"\"}}}],\"scatterpolargl\":[{\"type\":\"scatterpolargl\",\"marker\":{\"colorbar\":{\"outlinewidth\":0,\"ticks\":\"\"}}}],\"bar\":[{\"error_x\":{\"color\":\"#2a3f5f\"},\"error_y\":{\"color\":\"#2a3f5f\"},\"marker\":{\"line\":{\"color\":\"#E5ECF6\",\"width\":0.5},\"pattern\":{\"fillmode\":\"overlay\",\"size\":10,\"solidity\":0.2}},\"type\":\"bar\"}],\"scattergeo\":[{\"type\":\"scattergeo\",\"marker\":{\"colorbar\":{\"outlinewidth\":0,\"ticks\":\"\"}}}],\"scatterpolar\":[{\"type\":\"scatterpolar\",\"marker\":{\"colorbar\":{\"outlinewidth\":0,\"ticks\":\"\"}}}],\"histogram\":[{\"marker\":{\"pattern\":{\"fillmode\":\"overlay\",\"size\":10,\"solidity\":0.2}},\"type\":\"histogram\"}],\"scattergl\":[{\"type\":\"scattergl\",\"marker\":{\"colorbar\":{\"outlinewidth\":0,\"ticks\":\"\"}}}],\"scatter3d\":[{\"type\":\"scatter3d\",\"line\":{\"colorbar\":{\"outlinewidth\":0,\"ticks\":\"\"}},\"marker\":{\"colorbar\":{\"outlinewidth\":0,\"ticks\":\"\"}}}],\"scattermapbox\":[{\"type\":\"scattermapbox\",\"marker\":{\"colorbar\":{\"outlinewidth\":0,\"ticks\":\"\"}}}],\"scatterternary\":[{\"type\":\"scatterternary\",\"marker\":{\"colorbar\":{\"outlinewidth\":0,\"ticks\":\"\"}}}],\"scattercarpet\":[{\"type\":\"scattercarpet\",\"marker\":{\"colorbar\":{\"outlinewidth\":0,\"ticks\":\"\"}}}],\"carpet\":[{\"aaxis\":{\"endlinecolor\":\"#2a3f5f\",\"gridcolor\":\"white\",\"linecolor\":\"white\",\"minorgridcolor\":\"white\",\"startlinecolor\":\"#2a3f5f\"},\"baxis\":{\"endlinecolor\":\"#2a3f5f\",\"gridcolor\":\"white\",\"linecolor\":\"white\",\"minorgridcolor\":\"white\",\"startlinecolor\":\"#2a3f5f\"},\"type\":\"carpet\"}],\"table\":[{\"cells\":{\"fill\":{\"color\":\"#EBF0F8\"},\"line\":{\"color\":\"white\"}},\"header\":{\"fill\":{\"color\":\"#C8D4E3\"},\"line\":{\"color\":\"white\"}},\"type\":\"table\"}],\"barpolar\":[{\"marker\":{\"line\":{\"color\":\"#E5ECF6\",\"width\":0.5},\"pattern\":{\"fillmode\":\"overlay\",\"size\":10,\"solidity\":0.2}},\"type\":\"barpolar\"}],\"pie\":[{\"automargin\":true,\"type\":\"pie\"}]},\"layout\":{\"autotypenumbers\":\"strict\",\"colorway\":[\"#636efa\",\"#EF553B\",\"#00cc96\",\"#ab63fa\",\"#FFA15A\",\"#19d3f3\",\"#FF6692\",\"#B6E880\",\"#FF97FF\",\"#FECB52\"],\"font\":{\"color\":\"#2a3f5f\"},\"hovermode\":\"closest\",\"hoverlabel\":{\"align\":\"left\"},\"paper_bgcolor\":\"white\",\"plot_bgcolor\":\"#E5ECF6\",\"polar\":{\"bgcolor\":\"#E5ECF6\",\"angularaxis\":{\"gridcolor\":\"white\",\"linecolor\":\"white\",\"ticks\":\"\"},\"radialaxis\":{\"gridcolor\":\"white\",\"linecolor\":\"white\",\"ticks\":\"\"}},\"ternary\":{\"bgcolor\":\"#E5ECF6\",\"aaxis\":{\"gridcolor\":\"white\",\"linecolor\":\"white\",\"ticks\":\"\"},\"baxis\":{\"gridcolor\":\"white\",\"linecolor\":\"white\",\"ticks\":\"\"},\"caxis\":{\"gridcolor\":\"white\",\"linecolor\":\"white\",\"ticks\":\"\"}},\"coloraxis\":{\"colorbar\":{\"outlinewidth\":0,\"ticks\":\"\"}},\"colorscale\":{\"sequential\":[[0.0,\"#0d0887\"],[0.1111111111111111,\"#46039f\"],[0.2222222222222222,\"#7201a8\"],[0.3333333333333333,\"#9c179e\"],[0.4444444444444444,\"#bd3786\"],[0.5555555555555556,\"#d8576b\"],[0.6666666666666666,\"#ed7953\"],[0.7777777777777778,\"#fb9f3a\"],[0.8888888888888888,\"#fdca26\"],[1.0,\"#f0f921\"]],\"sequentialminus\":[[0.0,\"#0d0887\"],[0.1111111111111111,\"#46039f\"],[0.2222222222222222,\"#7201a8\"],[0.3333333333333333,\"#9c179e\"],[0.4444444444444444,\"#bd3786\"],[0.5555555555555556,\"#d8576b\"],[0.6666666666666666,\"#ed7953\"],[0.7777777777777778,\"#fb9f3a\"],[0.8888888888888888,\"#fdca26\"],[1.0,\"#f0f921\"]],\"diverging\":[[0,\"#8e0152\"],[0.1,\"#c51b7d\"],[0.2,\"#de77ae\"],[0.3,\"#f1b6da\"],[0.4,\"#fde0ef\"],[0.5,\"#f7f7f7\"],[0.6,\"#e6f5d0\"],[0.7,\"#b8e186\"],[0.8,\"#7fbc41\"],[0.9,\"#4d9221\"],[1,\"#276419\"]]},\"xaxis\":{\"gridcolor\":\"white\",\"linecolor\":\"white\",\"ticks\":\"\",\"title\":{\"standoff\":15},\"zerolinecolor\":\"white\",\"automargin\":true,\"zerolinewidth\":2},\"yaxis\":{\"gridcolor\":\"white\",\"linecolor\":\"white\",\"ticks\":\"\",\"title\":{\"standoff\":15},\"zerolinecolor\":\"white\",\"automargin\":true,\"zerolinewidth\":2},\"scene\":{\"xaxis\":{\"backgroundcolor\":\"#E5ECF6\",\"gridcolor\":\"white\",\"linecolor\":\"white\",\"showbackground\":true,\"ticks\":\"\",\"zerolinecolor\":\"white\",\"gridwidth\":2},\"yaxis\":{\"backgroundcolor\":\"#E5ECF6\",\"gridcolor\":\"white\",\"linecolor\":\"white\",\"showbackground\":true,\"ticks\":\"\",\"zerolinecolor\":\"white\",\"gridwidth\":2},\"zaxis\":{\"backgroundcolor\":\"#E5ECF6\",\"gridcolor\":\"white\",\"linecolor\":\"white\",\"showbackground\":true,\"ticks\":\"\",\"zerolinecolor\":\"white\",\"gridwidth\":2}},\"shapedefaults\":{\"line\":{\"color\":\"#2a3f5f\"}},\"annotationdefaults\":{\"arrowcolor\":\"#2a3f5f\",\"arrowhead\":0,\"arrowwidth\":1},\"geo\":{\"bgcolor\":\"white\",\"landcolor\":\"#E5ECF6\",\"subunitcolor\":\"white\",\"showland\":true,\"showlakes\":true,\"lakecolor\":\"white\"},\"title\":{\"x\":0.05},\"mapbox\":{\"style\":\"light\"}}},\"xaxis\":{\"anchor\":\"y\",\"domain\":[0.0,1.0],\"matches\":\"x5\",\"showticklabels\":false},\"yaxis\":{\"anchor\":\"x\",\"domain\":[0.8400000000000001,1.0],\"tickformat\":\",d\"},\"xaxis2\":{\"anchor\":\"y2\",\"domain\":[0.0,1.0],\"matches\":\"x5\",\"showticklabels\":false},\"yaxis2\":{\"anchor\":\"x2\",\"domain\":[0.7100000000000001,0.79],\"dtick\":\"L1\"},\"xaxis3\":{\"anchor\":\"y3\",\"domain\":[0.0,1.0],\"matches\":\"x5\",\"showticklabels\":false},\"yaxis3\":{\"anchor\":\"x3\",\"domain\":[0.5,0.66],\"tickformat\":\",d\"},\"xaxis4\":{\"anchor\":\"y4\",\"domain\":[0.0,1.0],\"matches\":\"x5\",\"showticklabels\":false},\"yaxis4\":{\"anchor\":\"x4\",\"domain\":[0.29,0.45],\"tickformat\":\",d\"},\"xaxis5\":{\"anchor\":\"y5\",\"domain\":[0.0,1.0],\"hoverformat\":\"%Y-%m-%d\",\"showticklabels\":true,\"tickformat\":\"%Y-%m-%d\"},\"yaxis5\":{\"anchor\":\"x5\",\"domain\":[0.0,0.24],\"tickformat\":\",d\"},\"annotations\":[{\"font\":{\"size\":16},\"showarrow\":false,\"text\":\"\\uac00\\uaca9\",\"x\":0.5,\"xanchor\":\"center\",\"xref\":\"paper\",\"y\":1.0,\"yanchor\":\"bottom\",\"yref\":\"paper\"},{\"font\":{\"size\":16},\"showarrow\":false,\"text\":\"\\uc794\\uace0\\uc218\\ub7c9\",\"x\":0.5,\"xanchor\":\"center\",\"xref\":\"paper\",\"y\":0.79,\"yanchor\":\"bottom\",\"yref\":\"paper\"},{\"font\":{\"size\":16},\"showarrow\":false,\"text\":\"\\uc794\\uace0\\uac00\\uce58\",\"x\":0.5,\"xanchor\":\"center\",\"xref\":\"paper\",\"y\":0.66,\"yanchor\":\"bottom\",\"yref\":\"paper\"},{\"font\":{\"size\":16},\"showarrow\":false,\"text\":\"\\uc2e4\\ud604\\uc190\\uc775\",\"x\":0.5,\"xanchor\":\"center\",\"xref\":\"paper\",\"y\":0.45,\"yanchor\":\"bottom\",\"yref\":\"paper\"},{\"font\":{\"size\":16},\"showarrow\":false,\"text\":\"\\ucd1d\\uc790\\uc0b0\\uac00\\uce58\",\"x\":0.5,\"xanchor\":\"center\",\"xref\":\"paper\",\"y\":0.24,\"yanchor\":\"bottom\",\"yref\":\"paper\"}],\"margin\":{\"b\":25,\"l\":25,\"r\":25,\"t\":80},\"title\":{\"text\":\"\\ubc31\\ud14c\\uc2a4\\ud2b8 \\uacb0\\uacfc: 005930, 2023-01-02~2023-01-18\",\"x\":0.5,\"y\":0.98},\"uniformtext\":{\"minsize\":12,\"mode\":\"show\"},\"height\":800,\"hovermode\":\"x unified\",\"showlegend\":false},                        {\"modeBarButtonsToRemove\": [\"resetScale2d\", \"lasso2d\", \"zoomIn2d\", \"zoomOut2d\", \"select2d\"], \"displaylogo\": false, \"responsive\": true}                    ).then(function(){\n",
       "                            \n",
       "var gd = document.getElementById('6b65b59f-e3d8-4f5e-89a4-9a3661ce3f5d');\n",
       "var x = new MutationObserver(function (mutations, observer) {{\n",
       "        var display = window.getComputedStyle(gd).display;\n",
       "        if (!display || display === 'none') {{\n",
       "            console.log([gd, 'removed!']);\n",
       "            Plotly.purge(gd);\n",
       "            observer.disconnect();\n",
       "        }}\n",
       "}});\n",
       "\n",
       "// Listen for the removal of the full notebook cells\n",
       "var notebookContainer = gd.closest('#notebook-container');\n",
       "if (notebookContainer) {{\n",
       "    x.observe(notebookContainer, {childList: true});\n",
       "}}\n",
       "\n",
       "// Listen for the clearing of the current output cell\n",
       "var outputEl = gd.closest('.output');\n",
       "if (outputEl) {{\n",
       "    x.observe(outputEl, {childList: true});\n",
       "}}\n",
       "\n",
       "                        })                };                });            </script>        </div>"
      ]
     },
     "metadata": {},
     "output_type": "display_data"
    }
   ],
   "source": [
    "kq.backtest_plot_stock_daily(df_result_005930)\n"
   ]
  },
  {
   "cell_type": "code",
   "execution_count": 7,
   "metadata": {},
   "outputs": [
    {
     "data": {
      "text/html": [
       "<div>\n",
       "<style scoped>\n",
       "    .dataframe tbody tr th:only-of-type {\n",
       "        vertical-align: middle;\n",
       "    }\n",
       "\n",
       "    .dataframe tbody tr th {\n",
       "        vertical-align: top;\n",
       "    }\n",
       "\n",
       "    .dataframe thead th {\n",
       "        text-align: right;\n",
       "    }\n",
       "</style>\n",
       "<table border=\"1\" class=\"dataframe\">\n",
       "  <thead>\n",
       "    <tr style=\"text-align: right;\">\n",
       "      <th></th>\n",
       "      <th>DATE</th>\n",
       "      <th>SYMBOL</th>\n",
       "      <th>PRICE</th>\n",
       "      <th>ORDER</th>\n",
       "      <th>QTY</th>\n",
       "      <th>TRADE_PRICE</th>\n",
       "      <th>POSITION</th>\n",
       "      <th>AVG_PRICE</th>\n",
       "      <th>FEE</th>\n",
       "      <th>TRADE_TAX</th>\n",
       "      <th>SLIPPAGE</th>\n",
       "      <th>CASHFLOW</th>\n",
       "      <th>CASH</th>\n",
       "      <th>HIST_VALUE</th>\n",
       "      <th>STOCK_VALUE</th>\n",
       "      <th>TOTAL_VALUE</th>\n",
       "      <th>REAL_PROFIT</th>\n",
       "      <th>UNREAL_PROFIT</th>\n",
       "      <th>PROFIT</th>\n",
       "      <th>HIGHWATERMARK</th>\n",
       "      <th>DRAWDOWN</th>\n",
       "    </tr>\n",
       "  </thead>\n",
       "  <tbody>\n",
       "    <tr>\n",
       "      <th>0</th>\n",
       "      <td>2023-01-02</td>\n",
       "      <td>000660</td>\n",
       "      <td>75,700</td>\n",
       "      <td>20</td>\n",
       "      <td>20</td>\n",
       "      <td>75,700</td>\n",
       "      <td>20</td>\n",
       "      <td>75,700.0000</td>\n",
       "      <td>0</td>\n",
       "      <td>0</td>\n",
       "      <td>0</td>\n",
       "      <td>-1,514,000</td>\n",
       "      <td>-1,514,000</td>\n",
       "      <td>1,514,000</td>\n",
       "      <td>1,514,000</td>\n",
       "      <td>0</td>\n",
       "      <td>0</td>\n",
       "      <td>0</td>\n",
       "      <td>0</td>\n",
       "      <td>0</td>\n",
       "      <td>0</td>\n",
       "    </tr>\n",
       "    <tr>\n",
       "      <th>1</th>\n",
       "      <td>2023-01-03</td>\n",
       "      <td>000660</td>\n",
       "      <td>75,600</td>\n",
       "      <td>0</td>\n",
       "      <td>0</td>\n",
       "      <td>0</td>\n",
       "      <td>20</td>\n",
       "      <td>75,700.0000</td>\n",
       "      <td>0</td>\n",
       "      <td>0</td>\n",
       "      <td>0</td>\n",
       "      <td>0</td>\n",
       "      <td>-1,514,000</td>\n",
       "      <td>1,514,000</td>\n",
       "      <td>1,512,000</td>\n",
       "      <td>-2,000</td>\n",
       "      <td>0</td>\n",
       "      <td>-2,000</td>\n",
       "      <td>-2,000</td>\n",
       "      <td>0</td>\n",
       "      <td>2,000</td>\n",
       "    </tr>\n",
       "    <tr>\n",
       "      <th>2</th>\n",
       "      <td>2023-01-04</td>\n",
       "      <td>000660</td>\n",
       "      <td>81,000</td>\n",
       "      <td>0</td>\n",
       "      <td>0</td>\n",
       "      <td>0</td>\n",
       "      <td>20</td>\n",
       "      <td>75,700.0000</td>\n",
       "      <td>0</td>\n",
       "      <td>0</td>\n",
       "      <td>0</td>\n",
       "      <td>0</td>\n",
       "      <td>-1,514,000</td>\n",
       "      <td>1,514,000</td>\n",
       "      <td>1,620,000</td>\n",
       "      <td>106,000</td>\n",
       "      <td>0</td>\n",
       "      <td>106,000</td>\n",
       "      <td>106,000</td>\n",
       "      <td>106,000</td>\n",
       "      <td>0</td>\n",
       "    </tr>\n",
       "    <tr>\n",
       "      <th>3</th>\n",
       "      <td>2023-01-05</td>\n",
       "      <td>000660</td>\n",
       "      <td>81,400</td>\n",
       "      <td>0</td>\n",
       "      <td>0</td>\n",
       "      <td>0</td>\n",
       "      <td>20</td>\n",
       "      <td>75,700.0000</td>\n",
       "      <td>0</td>\n",
       "      <td>0</td>\n",
       "      <td>0</td>\n",
       "      <td>0</td>\n",
       "      <td>-1,514,000</td>\n",
       "      <td>1,514,000</td>\n",
       "      <td>1,628,000</td>\n",
       "      <td>114,000</td>\n",
       "      <td>0</td>\n",
       "      <td>114,000</td>\n",
       "      <td>114,000</td>\n",
       "      <td>114,000</td>\n",
       "      <td>0</td>\n",
       "    </tr>\n",
       "    <tr>\n",
       "      <th>4</th>\n",
       "      <td>2023-01-06</td>\n",
       "      <td>000660</td>\n",
       "      <td>83,100</td>\n",
       "      <td>0</td>\n",
       "      <td>0</td>\n",
       "      <td>0</td>\n",
       "      <td>20</td>\n",
       "      <td>75,700.0000</td>\n",
       "      <td>0</td>\n",
       "      <td>0</td>\n",
       "      <td>0</td>\n",
       "      <td>0</td>\n",
       "      <td>-1,514,000</td>\n",
       "      <td>1,514,000</td>\n",
       "      <td>1,662,000</td>\n",
       "      <td>148,000</td>\n",
       "      <td>0</td>\n",
       "      <td>148,000</td>\n",
       "      <td>148,000</td>\n",
       "      <td>148,000</td>\n",
       "      <td>0</td>\n",
       "    </tr>\n",
       "    <tr>\n",
       "      <th>5</th>\n",
       "      <td>2023-01-09</td>\n",
       "      <td>000660</td>\n",
       "      <td>86,000</td>\n",
       "      <td>0</td>\n",
       "      <td>0</td>\n",
       "      <td>0</td>\n",
       "      <td>20</td>\n",
       "      <td>75,700.0000</td>\n",
       "      <td>0</td>\n",
       "      <td>0</td>\n",
       "      <td>0</td>\n",
       "      <td>0</td>\n",
       "      <td>-1,514,000</td>\n",
       "      <td>1,514,000</td>\n",
       "      <td>1,720,000</td>\n",
       "      <td>206,000</td>\n",
       "      <td>0</td>\n",
       "      <td>206,000</td>\n",
       "      <td>206,000</td>\n",
       "      <td>206,000</td>\n",
       "      <td>0</td>\n",
       "    </tr>\n",
       "    <tr>\n",
       "      <th>6</th>\n",
       "      <td>2023-01-10</td>\n",
       "      <td>000660</td>\n",
       "      <td>86,500</td>\n",
       "      <td>0</td>\n",
       "      <td>0</td>\n",
       "      <td>0</td>\n",
       "      <td>20</td>\n",
       "      <td>75,700.0000</td>\n",
       "      <td>0</td>\n",
       "      <td>0</td>\n",
       "      <td>0</td>\n",
       "      <td>0</td>\n",
       "      <td>-1,514,000</td>\n",
       "      <td>1,514,000</td>\n",
       "      <td>1,730,000</td>\n",
       "      <td>216,000</td>\n",
       "      <td>0</td>\n",
       "      <td>216,000</td>\n",
       "      <td>216,000</td>\n",
       "      <td>216,000</td>\n",
       "      <td>0</td>\n",
       "    </tr>\n",
       "    <tr>\n",
       "      <th>7</th>\n",
       "      <td>2023-01-11</td>\n",
       "      <td>000660</td>\n",
       "      <td>87,300</td>\n",
       "      <td>0</td>\n",
       "      <td>0</td>\n",
       "      <td>0</td>\n",
       "      <td>20</td>\n",
       "      <td>75,700.0000</td>\n",
       "      <td>0</td>\n",
       "      <td>0</td>\n",
       "      <td>0</td>\n",
       "      <td>0</td>\n",
       "      <td>-1,514,000</td>\n",
       "      <td>1,514,000</td>\n",
       "      <td>1,746,000</td>\n",
       "      <td>232,000</td>\n",
       "      <td>0</td>\n",
       "      <td>232,000</td>\n",
       "      <td>232,000</td>\n",
       "      <td>232,000</td>\n",
       "      <td>0</td>\n",
       "    </tr>\n",
       "    <tr>\n",
       "      <th>8</th>\n",
       "      <td>2023-01-12</td>\n",
       "      <td>000660</td>\n",
       "      <td>86,800</td>\n",
       "      <td>0</td>\n",
       "      <td>0</td>\n",
       "      <td>0</td>\n",
       "      <td>20</td>\n",
       "      <td>75,700.0000</td>\n",
       "      <td>0</td>\n",
       "      <td>0</td>\n",
       "      <td>0</td>\n",
       "      <td>0</td>\n",
       "      <td>-1,514,000</td>\n",
       "      <td>1,514,000</td>\n",
       "      <td>1,736,000</td>\n",
       "      <td>222,000</td>\n",
       "      <td>0</td>\n",
       "      <td>222,000</td>\n",
       "      <td>222,000</td>\n",
       "      <td>232,000</td>\n",
       "      <td>10,000</td>\n",
       "    </tr>\n",
       "    <tr>\n",
       "      <th>9</th>\n",
       "      <td>2023-01-13</td>\n",
       "      <td>000660</td>\n",
       "      <td>85,700</td>\n",
       "      <td>0</td>\n",
       "      <td>0</td>\n",
       "      <td>0</td>\n",
       "      <td>20</td>\n",
       "      <td>75,700.0000</td>\n",
       "      <td>0</td>\n",
       "      <td>0</td>\n",
       "      <td>0</td>\n",
       "      <td>0</td>\n",
       "      <td>-1,514,000</td>\n",
       "      <td>1,514,000</td>\n",
       "      <td>1,714,000</td>\n",
       "      <td>200,000</td>\n",
       "      <td>0</td>\n",
       "      <td>200,000</td>\n",
       "      <td>200,000</td>\n",
       "      <td>232,000</td>\n",
       "      <td>32,000</td>\n",
       "    </tr>\n",
       "    <tr>\n",
       "      <th>10</th>\n",
       "      <td>2023-01-16</td>\n",
       "      <td>000660</td>\n",
       "      <td>85,800</td>\n",
       "      <td>0</td>\n",
       "      <td>0</td>\n",
       "      <td>0</td>\n",
       "      <td>20</td>\n",
       "      <td>75,700.0000</td>\n",
       "      <td>0</td>\n",
       "      <td>0</td>\n",
       "      <td>0</td>\n",
       "      <td>0</td>\n",
       "      <td>-1,514,000</td>\n",
       "      <td>1,514,000</td>\n",
       "      <td>1,716,000</td>\n",
       "      <td>202,000</td>\n",
       "      <td>0</td>\n",
       "      <td>202,000</td>\n",
       "      <td>202,000</td>\n",
       "      <td>232,000</td>\n",
       "      <td>30,000</td>\n",
       "    </tr>\n",
       "    <tr>\n",
       "      <th>11</th>\n",
       "      <td>2023-01-17</td>\n",
       "      <td>000660</td>\n",
       "      <td>86,000</td>\n",
       "      <td>0</td>\n",
       "      <td>0</td>\n",
       "      <td>0</td>\n",
       "      <td>20</td>\n",
       "      <td>75,700.0000</td>\n",
       "      <td>0</td>\n",
       "      <td>0</td>\n",
       "      <td>0</td>\n",
       "      <td>0</td>\n",
       "      <td>-1,514,000</td>\n",
       "      <td>1,514,000</td>\n",
       "      <td>1,720,000</td>\n",
       "      <td>206,000</td>\n",
       "      <td>0</td>\n",
       "      <td>206,000</td>\n",
       "      <td>206,000</td>\n",
       "      <td>232,000</td>\n",
       "      <td>26,000</td>\n",
       "    </tr>\n",
       "    <tr>\n",
       "      <th>12</th>\n",
       "      <td>2023-01-18</td>\n",
       "      <td>000660</td>\n",
       "      <td>85,100</td>\n",
       "      <td>-20</td>\n",
       "      <td>-20</td>\n",
       "      <td>85,100</td>\n",
       "      <td>0</td>\n",
       "      <td>0.0000</td>\n",
       "      <td>0</td>\n",
       "      <td>0</td>\n",
       "      <td>0</td>\n",
       "      <td>1,702,000</td>\n",
       "      <td>188,000</td>\n",
       "      <td>0</td>\n",
       "      <td>0</td>\n",
       "      <td>188,000</td>\n",
       "      <td>188,000</td>\n",
       "      <td>0</td>\n",
       "      <td>188,000</td>\n",
       "      <td>232,000</td>\n",
       "      <td>44,000</td>\n",
       "    </tr>\n",
       "  </tbody>\n",
       "</table>\n",
       "</div>"
      ],
      "text/plain": [
       "         DATE  SYMBOL   PRICE  ORDER  QTY  TRADE_PRICE  POSITION   AVG_PRICE  \\\n",
       "0  2023-01-02  000660  75,700     20   20       75,700        20 75,700.0000   \n",
       "1  2023-01-03  000660  75,600      0    0            0        20 75,700.0000   \n",
       "2  2023-01-04  000660  81,000      0    0            0        20 75,700.0000   \n",
       "3  2023-01-05  000660  81,400      0    0            0        20 75,700.0000   \n",
       "4  2023-01-06  000660  83,100      0    0            0        20 75,700.0000   \n",
       "5  2023-01-09  000660  86,000      0    0            0        20 75,700.0000   \n",
       "6  2023-01-10  000660  86,500      0    0            0        20 75,700.0000   \n",
       "7  2023-01-11  000660  87,300      0    0            0        20 75,700.0000   \n",
       "8  2023-01-12  000660  86,800      0    0            0        20 75,700.0000   \n",
       "9  2023-01-13  000660  85,700      0    0            0        20 75,700.0000   \n",
       "10 2023-01-16  000660  85,800      0    0            0        20 75,700.0000   \n",
       "11 2023-01-17  000660  86,000      0    0            0        20 75,700.0000   \n",
       "12 2023-01-18  000660  85,100    -20  -20       85,100         0      0.0000   \n",
       "\n",
       "    FEE  TRADE_TAX  SLIPPAGE    CASHFLOW        CASH  HIST_VALUE  STOCK_VALUE  \\\n",
       "0     0          0         0  -1,514,000  -1,514,000   1,514,000    1,514,000   \n",
       "1     0          0         0           0  -1,514,000   1,514,000    1,512,000   \n",
       "2     0          0         0           0  -1,514,000   1,514,000    1,620,000   \n",
       "3     0          0         0           0  -1,514,000   1,514,000    1,628,000   \n",
       "4     0          0         0           0  -1,514,000   1,514,000    1,662,000   \n",
       "5     0          0         0           0  -1,514,000   1,514,000    1,720,000   \n",
       "6     0          0         0           0  -1,514,000   1,514,000    1,730,000   \n",
       "7     0          0         0           0  -1,514,000   1,514,000    1,746,000   \n",
       "8     0          0         0           0  -1,514,000   1,514,000    1,736,000   \n",
       "9     0          0         0           0  -1,514,000   1,514,000    1,714,000   \n",
       "10    0          0         0           0  -1,514,000   1,514,000    1,716,000   \n",
       "11    0          0         0           0  -1,514,000   1,514,000    1,720,000   \n",
       "12    0          0         0   1,702,000     188,000           0            0   \n",
       "\n",
       "    TOTAL_VALUE  REAL_PROFIT  UNREAL_PROFIT   PROFIT  HIGHWATERMARK  DRAWDOWN  \n",
       "0             0            0              0        0              0         0  \n",
       "1        -2,000            0         -2,000   -2,000              0     2,000  \n",
       "2       106,000            0        106,000  106,000        106,000         0  \n",
       "3       114,000            0        114,000  114,000        114,000         0  \n",
       "4       148,000            0        148,000  148,000        148,000         0  \n",
       "5       206,000            0        206,000  206,000        206,000         0  \n",
       "6       216,000            0        216,000  216,000        216,000         0  \n",
       "7       232,000            0        232,000  232,000        232,000         0  \n",
       "8       222,000            0        222,000  222,000        232,000    10,000  \n",
       "9       200,000            0        200,000  200,000        232,000    32,000  \n",
       "10      202,000            0        202,000  202,000        232,000    30,000  \n",
       "11      206,000            0        206,000  206,000        232,000    26,000  \n",
       "12      188,000      188,000              0  188,000        232,000    44,000  "
      ]
     },
     "execution_count": 7,
     "metadata": {},
     "output_type": "execute_result"
    }
   ],
   "source": [
    "df_result_000660 = dict_df_result[\"000660\"]\n",
    "df_result_000660\n"
   ]
  },
  {
   "cell_type": "code",
   "execution_count": 8,
   "metadata": {},
   "outputs": [
    {
     "data": {
      "application/vnd.plotly.v1+json": {
       "config": {
        "displaylogo": false,
        "modeBarButtonsToRemove": [
         "resetScale2d",
         "lasso2d",
         "zoomIn2d",
         "zoomOut2d",
         "select2d"
        ],
        "plotlyServerURL": "https://plot.ly",
        "responsive": true
       },
       "data": [
        {
         "marker": {
          "color": "#000000"
         },
         "mode": "lines",
         "name": "가격",
         "type": "scatter",
         "x": [
          "2023-01-02T00:00:00",
          "2023-01-03T00:00:00",
          "2023-01-04T00:00:00",
          "2023-01-05T00:00:00",
          "2023-01-06T00:00:00",
          "2023-01-09T00:00:00",
          "2023-01-10T00:00:00",
          "2023-01-11T00:00:00",
          "2023-01-12T00:00:00",
          "2023-01-13T00:00:00",
          "2023-01-16T00:00:00",
          "2023-01-17T00:00:00",
          "2023-01-18T00:00:00"
         ],
         "xaxis": "x5",
         "y": [
          75700,
          75600,
          81000,
          81400,
          83100,
          86000,
          86500,
          87300,
          86800,
          85700,
          85800,
          86000,
          85100
         ],
         "yaxis": "y"
        },
        {
         "marker": {
          "color": "#DC143C",
          "line": {
           "color": "white",
           "width": 1
          },
          "size": 12,
          "symbol": "triangle-up"
         },
         "mode": "markers",
         "name": "매수",
         "type": "scatter",
         "x": [
          "2023-01-02T00:00:00"
         ],
         "xaxis": "x5",
         "y": [
          75700
         ],
         "yaxis": "y"
        },
        {
         "marker": {
          "color": "#00008B",
          "line": {
           "color": "white",
           "width": 1
          },
          "size": 12,
          "symbol": "triangle-down"
         },
         "mode": "markers",
         "name": "매도",
         "type": "scatter",
         "x": [
          "2023-01-18T00:00:00"
         ],
         "xaxis": "x5",
         "y": [
          85100
         ],
         "yaxis": "y"
        },
        {
         "fill": "tozeroy",
         "fillcolor": "lightgray",
         "line": {
          "color": "#000000",
          "shape": "hv"
         },
         "mode": "lines",
         "name": "잔고수량",
         "type": "scatter",
         "x": [
          "2023-01-02T00:00:00",
          "2023-01-03T00:00:00",
          "2023-01-04T00:00:00",
          "2023-01-05T00:00:00",
          "2023-01-06T00:00:00",
          "2023-01-09T00:00:00",
          "2023-01-10T00:00:00",
          "2023-01-11T00:00:00",
          "2023-01-12T00:00:00",
          "2023-01-13T00:00:00",
          "2023-01-16T00:00:00",
          "2023-01-17T00:00:00",
          "2023-01-18T00:00:00"
         ],
         "xaxis": "x5",
         "y": [
          20,
          20,
          20,
          20,
          20,
          20,
          20,
          20,
          20,
          20,
          20,
          20,
          0
         ],
         "yaxis": "y2"
        },
        {
         "line": {
          "color": "#000000",
          "shape": "hv"
         },
         "mode": "lines",
         "name": "잔고가치",
         "type": "scatter",
         "x": [
          "2023-01-02T00:00:00",
          "2023-01-03T00:00:00",
          "2023-01-04T00:00:00",
          "2023-01-05T00:00:00",
          "2023-01-06T00:00:00",
          "2023-01-09T00:00:00",
          "2023-01-10T00:00:00",
          "2023-01-11T00:00:00",
          "2023-01-12T00:00:00",
          "2023-01-13T00:00:00",
          "2023-01-16T00:00:00",
          "2023-01-17T00:00:00",
          "2023-01-18T00:00:00"
         ],
         "xaxis": "x5",
         "y": [
          1514000,
          1512000,
          1620000,
          1628000,
          1662000,
          1720000,
          1730000,
          1746000,
          1736000,
          1714000,
          1716000,
          1720000,
          null
         ],
         "yaxis": "y3"
        },
        {
         "cliponaxis": false,
         "marker": {
          "color": [
           "#00008B",
           "#00008B",
           "#00008B",
           "#00008B",
           "#00008B",
           "#00008B",
           "#00008B",
           "#00008B",
           "#00008B",
           "#00008B",
           "#00008B",
           "#00008B",
           "#DC143C"
          ]
         },
         "name": "실현손익",
         "text": [
          "",
          "",
          "",
          "",
          "",
          "",
          "",
          "",
          "",
          "",
          "",
          "",
          "188,000"
         ],
         "textposition": "outside",
         "type": "bar",
         "width": 432000000,
         "x": [
          "2023-01-02T00:00:00",
          "2023-01-03T00:00:00",
          "2023-01-04T00:00:00",
          "2023-01-05T00:00:00",
          "2023-01-06T00:00:00",
          "2023-01-09T00:00:00",
          "2023-01-10T00:00:00",
          "2023-01-11T00:00:00",
          "2023-01-12T00:00:00",
          "2023-01-13T00:00:00",
          "2023-01-16T00:00:00",
          "2023-01-17T00:00:00",
          "2023-01-18T00:00:00"
         ],
         "xaxis": "x5",
         "y": [
          0,
          0,
          0,
          0,
          0,
          0,
          0,
          0,
          0,
          0,
          0,
          0,
          188000
         ],
         "yaxis": "y4"
        },
        {
         "line": {
          "color": "#000000",
          "shape": "hv"
         },
         "mode": "lines",
         "name": "총자산가치",
         "type": "scatter",
         "x": [
          "2023-01-02T00:00:00",
          "2023-01-03T00:00:00",
          "2023-01-04T00:00:00",
          "2023-01-05T00:00:00",
          "2023-01-06T00:00:00",
          "2023-01-09T00:00:00",
          "2023-01-10T00:00:00",
          "2023-01-11T00:00:00",
          "2023-01-12T00:00:00",
          "2023-01-13T00:00:00",
          "2023-01-16T00:00:00",
          "2023-01-17T00:00:00",
          "2023-01-18T00:00:00"
         ],
         "xaxis": "x5",
         "y": [
          0,
          -2000,
          106000,
          114000,
          148000,
          206000,
          216000,
          232000,
          222000,
          200000,
          202000,
          206000,
          188000
         ],
         "yaxis": "y5"
        },
        {
         "line": {
          "color": "#DC143C",
          "dash": "dash",
          "shape": "hv"
         },
         "mode": "lines",
         "name": "최고자산가치",
         "type": "scatter",
         "x": [
          "2023-01-02T00:00:00",
          "2023-01-03T00:00:00",
          "2023-01-04T00:00:00",
          "2023-01-05T00:00:00",
          "2023-01-06T00:00:00",
          "2023-01-09T00:00:00",
          "2023-01-10T00:00:00",
          "2023-01-11T00:00:00",
          "2023-01-12T00:00:00",
          "2023-01-13T00:00:00",
          "2023-01-16T00:00:00",
          "2023-01-17T00:00:00",
          "2023-01-18T00:00:00"
         ],
         "xaxis": "x5",
         "y": [
          0,
          0,
          106000,
          114000,
          148000,
          206000,
          216000,
          232000,
          232000,
          232000,
          232000,
          232000,
          232000
         ],
         "yaxis": "y5"
        },
        {
         "base": [
          0
         ],
         "cliponaxis": false,
         "marker": {
          "color": [
           "#DC143C"
          ]
         },
         "name": "최종손익",
         "text": [
          "최종수익: 188,000"
         ],
         "textposition": "outside",
         "type": "bar",
         "width": 864000000,
         "x": [
          "2023-01-18T00:00:00"
         ],
         "xaxis": "x5",
         "y": [
          188000
         ],
         "yaxis": "y5"
        },
        {
         "cliponaxis": false,
         "marker": {
          "color": [
           "#DC143C",
           "#00008B"
          ],
          "line": {
           "color": "white",
           "width": 1
          },
          "size": 12,
          "symbol": [
           "triangle-up",
           "triangle-down"
          ]
         },
         "mode": "markers+text",
         "name": "",
         "text": [
          "최고자산가치: 232,000",
          "MDD: -44,000"
         ],
         "textposition": [
          "top center",
          "bottom center"
         ],
         "type": "scatter",
         "x": [
          "2023-01-11T00:00:00",
          "2023-01-18T00:00:00"
         ],
         "xaxis": "x5",
         "y": [
          232000,
          188000
         ],
         "yaxis": "y5"
        }
       ],
       "layout": {
        "annotations": [
         {
          "font": {
           "size": 16
          },
          "showarrow": false,
          "text": "가격",
          "x": 0.5,
          "xanchor": "center",
          "xref": "paper",
          "y": 1,
          "yanchor": "bottom",
          "yref": "paper"
         },
         {
          "font": {
           "size": 16
          },
          "showarrow": false,
          "text": "잔고수량",
          "x": 0.5,
          "xanchor": "center",
          "xref": "paper",
          "y": 0.79,
          "yanchor": "bottom",
          "yref": "paper"
         },
         {
          "font": {
           "size": 16
          },
          "showarrow": false,
          "text": "잔고가치",
          "x": 0.5,
          "xanchor": "center",
          "xref": "paper",
          "y": 0.66,
          "yanchor": "bottom",
          "yref": "paper"
         },
         {
          "font": {
           "size": 16
          },
          "showarrow": false,
          "text": "실현손익",
          "x": 0.5,
          "xanchor": "center",
          "xref": "paper",
          "y": 0.45,
          "yanchor": "bottom",
          "yref": "paper"
         },
         {
          "font": {
           "size": 16
          },
          "showarrow": false,
          "text": "총자산가치",
          "x": 0.5,
          "xanchor": "center",
          "xref": "paper",
          "y": 0.24,
          "yanchor": "bottom",
          "yref": "paper"
         }
        ],
        "height": 800,
        "hovermode": "x unified",
        "margin": {
         "b": 25,
         "l": 25,
         "r": 25,
         "t": 80
        },
        "showlegend": false,
        "template": {
         "data": {
          "bar": [
           {
            "error_x": {
             "color": "#2a3f5f"
            },
            "error_y": {
             "color": "#2a3f5f"
            },
            "marker": {
             "line": {
              "color": "#E5ECF6",
              "width": 0.5
             },
             "pattern": {
              "fillmode": "overlay",
              "size": 10,
              "solidity": 0.2
             }
            },
            "type": "bar"
           }
          ],
          "barpolar": [
           {
            "marker": {
             "line": {
              "color": "#E5ECF6",
              "width": 0.5
             },
             "pattern": {
              "fillmode": "overlay",
              "size": 10,
              "solidity": 0.2
             }
            },
            "type": "barpolar"
           }
          ],
          "carpet": [
           {
            "aaxis": {
             "endlinecolor": "#2a3f5f",
             "gridcolor": "white",
             "linecolor": "white",
             "minorgridcolor": "white",
             "startlinecolor": "#2a3f5f"
            },
            "baxis": {
             "endlinecolor": "#2a3f5f",
             "gridcolor": "white",
             "linecolor": "white",
             "minorgridcolor": "white",
             "startlinecolor": "#2a3f5f"
            },
            "type": "carpet"
           }
          ],
          "choropleth": [
           {
            "colorbar": {
             "outlinewidth": 0,
             "ticks": ""
            },
            "type": "choropleth"
           }
          ],
          "contour": [
           {
            "colorbar": {
             "outlinewidth": 0,
             "ticks": ""
            },
            "colorscale": [
             [
              0,
              "#0d0887"
             ],
             [
              0.1111111111111111,
              "#46039f"
             ],
             [
              0.2222222222222222,
              "#7201a8"
             ],
             [
              0.3333333333333333,
              "#9c179e"
             ],
             [
              0.4444444444444444,
              "#bd3786"
             ],
             [
              0.5555555555555556,
              "#d8576b"
             ],
             [
              0.6666666666666666,
              "#ed7953"
             ],
             [
              0.7777777777777778,
              "#fb9f3a"
             ],
             [
              0.8888888888888888,
              "#fdca26"
             ],
             [
              1,
              "#f0f921"
             ]
            ],
            "type": "contour"
           }
          ],
          "contourcarpet": [
           {
            "colorbar": {
             "outlinewidth": 0,
             "ticks": ""
            },
            "type": "contourcarpet"
           }
          ],
          "heatmap": [
           {
            "colorbar": {
             "outlinewidth": 0,
             "ticks": ""
            },
            "colorscale": [
             [
              0,
              "#0d0887"
             ],
             [
              0.1111111111111111,
              "#46039f"
             ],
             [
              0.2222222222222222,
              "#7201a8"
             ],
             [
              0.3333333333333333,
              "#9c179e"
             ],
             [
              0.4444444444444444,
              "#bd3786"
             ],
             [
              0.5555555555555556,
              "#d8576b"
             ],
             [
              0.6666666666666666,
              "#ed7953"
             ],
             [
              0.7777777777777778,
              "#fb9f3a"
             ],
             [
              0.8888888888888888,
              "#fdca26"
             ],
             [
              1,
              "#f0f921"
             ]
            ],
            "type": "heatmap"
           }
          ],
          "heatmapgl": [
           {
            "colorbar": {
             "outlinewidth": 0,
             "ticks": ""
            },
            "colorscale": [
             [
              0,
              "#0d0887"
             ],
             [
              0.1111111111111111,
              "#46039f"
             ],
             [
              0.2222222222222222,
              "#7201a8"
             ],
             [
              0.3333333333333333,
              "#9c179e"
             ],
             [
              0.4444444444444444,
              "#bd3786"
             ],
             [
              0.5555555555555556,
              "#d8576b"
             ],
             [
              0.6666666666666666,
              "#ed7953"
             ],
             [
              0.7777777777777778,
              "#fb9f3a"
             ],
             [
              0.8888888888888888,
              "#fdca26"
             ],
             [
              1,
              "#f0f921"
             ]
            ],
            "type": "heatmapgl"
           }
          ],
          "histogram": [
           {
            "marker": {
             "pattern": {
              "fillmode": "overlay",
              "size": 10,
              "solidity": 0.2
             }
            },
            "type": "histogram"
           }
          ],
          "histogram2d": [
           {
            "colorbar": {
             "outlinewidth": 0,
             "ticks": ""
            },
            "colorscale": [
             [
              0,
              "#0d0887"
             ],
             [
              0.1111111111111111,
              "#46039f"
             ],
             [
              0.2222222222222222,
              "#7201a8"
             ],
             [
              0.3333333333333333,
              "#9c179e"
             ],
             [
              0.4444444444444444,
              "#bd3786"
             ],
             [
              0.5555555555555556,
              "#d8576b"
             ],
             [
              0.6666666666666666,
              "#ed7953"
             ],
             [
              0.7777777777777778,
              "#fb9f3a"
             ],
             [
              0.8888888888888888,
              "#fdca26"
             ],
             [
              1,
              "#f0f921"
             ]
            ],
            "type": "histogram2d"
           }
          ],
          "histogram2dcontour": [
           {
            "colorbar": {
             "outlinewidth": 0,
             "ticks": ""
            },
            "colorscale": [
             [
              0,
              "#0d0887"
             ],
             [
              0.1111111111111111,
              "#46039f"
             ],
             [
              0.2222222222222222,
              "#7201a8"
             ],
             [
              0.3333333333333333,
              "#9c179e"
             ],
             [
              0.4444444444444444,
              "#bd3786"
             ],
             [
              0.5555555555555556,
              "#d8576b"
             ],
             [
              0.6666666666666666,
              "#ed7953"
             ],
             [
              0.7777777777777778,
              "#fb9f3a"
             ],
             [
              0.8888888888888888,
              "#fdca26"
             ],
             [
              1,
              "#f0f921"
             ]
            ],
            "type": "histogram2dcontour"
           }
          ],
          "mesh3d": [
           {
            "colorbar": {
             "outlinewidth": 0,
             "ticks": ""
            },
            "type": "mesh3d"
           }
          ],
          "parcoords": [
           {
            "line": {
             "colorbar": {
              "outlinewidth": 0,
              "ticks": ""
             }
            },
            "type": "parcoords"
           }
          ],
          "pie": [
           {
            "automargin": true,
            "type": "pie"
           }
          ],
          "scatter": [
           {
            "fillpattern": {
             "fillmode": "overlay",
             "size": 10,
             "solidity": 0.2
            },
            "type": "scatter"
           }
          ],
          "scatter3d": [
           {
            "line": {
             "colorbar": {
              "outlinewidth": 0,
              "ticks": ""
             }
            },
            "marker": {
             "colorbar": {
              "outlinewidth": 0,
              "ticks": ""
             }
            },
            "type": "scatter3d"
           }
          ],
          "scattercarpet": [
           {
            "marker": {
             "colorbar": {
              "outlinewidth": 0,
              "ticks": ""
             }
            },
            "type": "scattercarpet"
           }
          ],
          "scattergeo": [
           {
            "marker": {
             "colorbar": {
              "outlinewidth": 0,
              "ticks": ""
             }
            },
            "type": "scattergeo"
           }
          ],
          "scattergl": [
           {
            "marker": {
             "colorbar": {
              "outlinewidth": 0,
              "ticks": ""
             }
            },
            "type": "scattergl"
           }
          ],
          "scattermapbox": [
           {
            "marker": {
             "colorbar": {
              "outlinewidth": 0,
              "ticks": ""
             }
            },
            "type": "scattermapbox"
           }
          ],
          "scatterpolar": [
           {
            "marker": {
             "colorbar": {
              "outlinewidth": 0,
              "ticks": ""
             }
            },
            "type": "scatterpolar"
           }
          ],
          "scatterpolargl": [
           {
            "marker": {
             "colorbar": {
              "outlinewidth": 0,
              "ticks": ""
             }
            },
            "type": "scatterpolargl"
           }
          ],
          "scatterternary": [
           {
            "marker": {
             "colorbar": {
              "outlinewidth": 0,
              "ticks": ""
             }
            },
            "type": "scatterternary"
           }
          ],
          "surface": [
           {
            "colorbar": {
             "outlinewidth": 0,
             "ticks": ""
            },
            "colorscale": [
             [
              0,
              "#0d0887"
             ],
             [
              0.1111111111111111,
              "#46039f"
             ],
             [
              0.2222222222222222,
              "#7201a8"
             ],
             [
              0.3333333333333333,
              "#9c179e"
             ],
             [
              0.4444444444444444,
              "#bd3786"
             ],
             [
              0.5555555555555556,
              "#d8576b"
             ],
             [
              0.6666666666666666,
              "#ed7953"
             ],
             [
              0.7777777777777778,
              "#fb9f3a"
             ],
             [
              0.8888888888888888,
              "#fdca26"
             ],
             [
              1,
              "#f0f921"
             ]
            ],
            "type": "surface"
           }
          ],
          "table": [
           {
            "cells": {
             "fill": {
              "color": "#EBF0F8"
             },
             "line": {
              "color": "white"
             }
            },
            "header": {
             "fill": {
              "color": "#C8D4E3"
             },
             "line": {
              "color": "white"
             }
            },
            "type": "table"
           }
          ]
         },
         "layout": {
          "annotationdefaults": {
           "arrowcolor": "#2a3f5f",
           "arrowhead": 0,
           "arrowwidth": 1
          },
          "autotypenumbers": "strict",
          "coloraxis": {
           "colorbar": {
            "outlinewidth": 0,
            "ticks": ""
           }
          },
          "colorscale": {
           "diverging": [
            [
             0,
             "#8e0152"
            ],
            [
             0.1,
             "#c51b7d"
            ],
            [
             0.2,
             "#de77ae"
            ],
            [
             0.3,
             "#f1b6da"
            ],
            [
             0.4,
             "#fde0ef"
            ],
            [
             0.5,
             "#f7f7f7"
            ],
            [
             0.6,
             "#e6f5d0"
            ],
            [
             0.7,
             "#b8e186"
            ],
            [
             0.8,
             "#7fbc41"
            ],
            [
             0.9,
             "#4d9221"
            ],
            [
             1,
             "#276419"
            ]
           ],
           "sequential": [
            [
             0,
             "#0d0887"
            ],
            [
             0.1111111111111111,
             "#46039f"
            ],
            [
             0.2222222222222222,
             "#7201a8"
            ],
            [
             0.3333333333333333,
             "#9c179e"
            ],
            [
             0.4444444444444444,
             "#bd3786"
            ],
            [
             0.5555555555555556,
             "#d8576b"
            ],
            [
             0.6666666666666666,
             "#ed7953"
            ],
            [
             0.7777777777777778,
             "#fb9f3a"
            ],
            [
             0.8888888888888888,
             "#fdca26"
            ],
            [
             1,
             "#f0f921"
            ]
           ],
           "sequentialminus": [
            [
             0,
             "#0d0887"
            ],
            [
             0.1111111111111111,
             "#46039f"
            ],
            [
             0.2222222222222222,
             "#7201a8"
            ],
            [
             0.3333333333333333,
             "#9c179e"
            ],
            [
             0.4444444444444444,
             "#bd3786"
            ],
            [
             0.5555555555555556,
             "#d8576b"
            ],
            [
             0.6666666666666666,
             "#ed7953"
            ],
            [
             0.7777777777777778,
             "#fb9f3a"
            ],
            [
             0.8888888888888888,
             "#fdca26"
            ],
            [
             1,
             "#f0f921"
            ]
           ]
          },
          "colorway": [
           "#636efa",
           "#EF553B",
           "#00cc96",
           "#ab63fa",
           "#FFA15A",
           "#19d3f3",
           "#FF6692",
           "#B6E880",
           "#FF97FF",
           "#FECB52"
          ],
          "font": {
           "color": "#2a3f5f"
          },
          "geo": {
           "bgcolor": "white",
           "lakecolor": "white",
           "landcolor": "#E5ECF6",
           "showlakes": true,
           "showland": true,
           "subunitcolor": "white"
          },
          "hoverlabel": {
           "align": "left"
          },
          "hovermode": "closest",
          "mapbox": {
           "style": "light"
          },
          "paper_bgcolor": "white",
          "plot_bgcolor": "#E5ECF6",
          "polar": {
           "angularaxis": {
            "gridcolor": "white",
            "linecolor": "white",
            "ticks": ""
           },
           "bgcolor": "#E5ECF6",
           "radialaxis": {
            "gridcolor": "white",
            "linecolor": "white",
            "ticks": ""
           }
          },
          "scene": {
           "xaxis": {
            "backgroundcolor": "#E5ECF6",
            "gridcolor": "white",
            "gridwidth": 2,
            "linecolor": "white",
            "showbackground": true,
            "ticks": "",
            "zerolinecolor": "white"
           },
           "yaxis": {
            "backgroundcolor": "#E5ECF6",
            "gridcolor": "white",
            "gridwidth": 2,
            "linecolor": "white",
            "showbackground": true,
            "ticks": "",
            "zerolinecolor": "white"
           },
           "zaxis": {
            "backgroundcolor": "#E5ECF6",
            "gridcolor": "white",
            "gridwidth": 2,
            "linecolor": "white",
            "showbackground": true,
            "ticks": "",
            "zerolinecolor": "white"
           }
          },
          "shapedefaults": {
           "line": {
            "color": "#2a3f5f"
           }
          },
          "ternary": {
           "aaxis": {
            "gridcolor": "white",
            "linecolor": "white",
            "ticks": ""
           },
           "baxis": {
            "gridcolor": "white",
            "linecolor": "white",
            "ticks": ""
           },
           "bgcolor": "#E5ECF6",
           "caxis": {
            "gridcolor": "white",
            "linecolor": "white",
            "ticks": ""
           }
          },
          "title": {
           "x": 0.05
          },
          "xaxis": {
           "automargin": true,
           "gridcolor": "white",
           "linecolor": "white",
           "ticks": "",
           "title": {
            "standoff": 15
           },
           "zerolinecolor": "white",
           "zerolinewidth": 2
          },
          "yaxis": {
           "automargin": true,
           "gridcolor": "white",
           "linecolor": "white",
           "ticks": "",
           "title": {
            "standoff": 15
           },
           "zerolinecolor": "white",
           "zerolinewidth": 2
          }
         }
        },
        "title": {
         "text": "백테스트 결과: 000660, 2023-01-02~2023-01-18",
         "x": 0.5,
         "y": 0.98
        },
        "uniformtext": {
         "minsize": 12,
         "mode": "show"
        },
        "xaxis": {
         "anchor": "y",
         "domain": [
          0,
          1
         ],
         "matches": "x5",
         "showticklabels": false
        },
        "xaxis2": {
         "anchor": "y2",
         "domain": [
          0,
          1
         ],
         "matches": "x5",
         "showticklabels": false
        },
        "xaxis3": {
         "anchor": "y3",
         "domain": [
          0,
          1
         ],
         "matches": "x5",
         "showticklabels": false
        },
        "xaxis4": {
         "anchor": "y4",
         "domain": [
          0,
          1
         ],
         "matches": "x5",
         "showticklabels": false
        },
        "xaxis5": {
         "anchor": "y5",
         "domain": [
          0,
          1
         ],
         "hoverformat": "%Y-%m-%d",
         "showticklabels": true,
         "tickformat": "%Y-%m-%d"
        },
        "yaxis": {
         "anchor": "x",
         "domain": [
          0.8400000000000001,
          1
         ],
         "tickformat": ",d"
        },
        "yaxis2": {
         "anchor": "x2",
         "domain": [
          0.7100000000000001,
          0.79
         ],
         "dtick": "L1"
        },
        "yaxis3": {
         "anchor": "x3",
         "domain": [
          0.5,
          0.66
         ],
         "tickformat": ",d"
        },
        "yaxis4": {
         "anchor": "x4",
         "domain": [
          0.29,
          0.45
         ],
         "tickformat": ",d"
        },
        "yaxis5": {
         "anchor": "x5",
         "domain": [
          0,
          0.24
         ],
         "tickformat": ",d"
        }
       }
      },
      "text/html": [
       "<div>                            <div id=\"e9094699-7360-43f3-9a68-8b803566e29d\" class=\"plotly-graph-div\" style=\"height:800px; width:100%;\"></div>            <script type=\"text/javascript\">                require([\"plotly\"], function(Plotly) {                    window.PLOTLYENV=window.PLOTLYENV || {};                                    if (document.getElementById(\"e9094699-7360-43f3-9a68-8b803566e29d\")) {                    Plotly.newPlot(                        \"e9094699-7360-43f3-9a68-8b803566e29d\",                        [{\"marker\":{\"color\":\"#000000\"},\"mode\":\"lines\",\"name\":\"\\uac00\\uaca9\",\"x\":[\"2023-01-02T00:00:00\",\"2023-01-03T00:00:00\",\"2023-01-04T00:00:00\",\"2023-01-05T00:00:00\",\"2023-01-06T00:00:00\",\"2023-01-09T00:00:00\",\"2023-01-10T00:00:00\",\"2023-01-11T00:00:00\",\"2023-01-12T00:00:00\",\"2023-01-13T00:00:00\",\"2023-01-16T00:00:00\",\"2023-01-17T00:00:00\",\"2023-01-18T00:00:00\"],\"y\":[75700,75600,81000,81400,83100,86000,86500,87300,86800,85700,85800,86000,85100],\"type\":\"scatter\",\"xaxis\":\"x5\",\"yaxis\":\"y\"},{\"marker\":{\"color\":\"#DC143C\",\"line\":{\"color\":\"white\",\"width\":1},\"size\":12,\"symbol\":\"triangle-up\"},\"mode\":\"markers\",\"name\":\"\\ub9e4\\uc218\",\"x\":[\"2023-01-02T00:00:00\"],\"y\":[75700],\"type\":\"scatter\",\"xaxis\":\"x5\",\"yaxis\":\"y\"},{\"marker\":{\"color\":\"#00008B\",\"line\":{\"color\":\"white\",\"width\":1},\"size\":12,\"symbol\":\"triangle-down\"},\"mode\":\"markers\",\"name\":\"\\ub9e4\\ub3c4\",\"x\":[\"2023-01-18T00:00:00\"],\"y\":[85100],\"type\":\"scatter\",\"xaxis\":\"x5\",\"yaxis\":\"y\"},{\"fill\":\"tozeroy\",\"fillcolor\":\"lightgray\",\"line\":{\"color\":\"#000000\",\"shape\":\"hv\"},\"mode\":\"lines\",\"name\":\"\\uc794\\uace0\\uc218\\ub7c9\",\"x\":[\"2023-01-02T00:00:00\",\"2023-01-03T00:00:00\",\"2023-01-04T00:00:00\",\"2023-01-05T00:00:00\",\"2023-01-06T00:00:00\",\"2023-01-09T00:00:00\",\"2023-01-10T00:00:00\",\"2023-01-11T00:00:00\",\"2023-01-12T00:00:00\",\"2023-01-13T00:00:00\",\"2023-01-16T00:00:00\",\"2023-01-17T00:00:00\",\"2023-01-18T00:00:00\"],\"y\":[20,20,20,20,20,20,20,20,20,20,20,20,0],\"type\":\"scatter\",\"xaxis\":\"x5\",\"yaxis\":\"y2\"},{\"line\":{\"color\":\"#000000\",\"shape\":\"hv\"},\"mode\":\"lines\",\"name\":\"\\uc794\\uace0\\uac00\\uce58\",\"x\":[\"2023-01-02T00:00:00\",\"2023-01-03T00:00:00\",\"2023-01-04T00:00:00\",\"2023-01-05T00:00:00\",\"2023-01-06T00:00:00\",\"2023-01-09T00:00:00\",\"2023-01-10T00:00:00\",\"2023-01-11T00:00:00\",\"2023-01-12T00:00:00\",\"2023-01-13T00:00:00\",\"2023-01-16T00:00:00\",\"2023-01-17T00:00:00\",\"2023-01-18T00:00:00\"],\"y\":[1514000.0,1512000.0,1620000.0,1628000.0,1662000.0,1720000.0,1730000.0,1746000.0,1736000.0,1714000.0,1716000.0,1720000.0,null],\"type\":\"scatter\",\"xaxis\":\"x5\",\"yaxis\":\"y3\"},{\"cliponaxis\":false,\"marker\":{\"color\":[\"#00008B\",\"#00008B\",\"#00008B\",\"#00008B\",\"#00008B\",\"#00008B\",\"#00008B\",\"#00008B\",\"#00008B\",\"#00008B\",\"#00008B\",\"#00008B\",\"#DC143C\"]},\"name\":\"\\uc2e4\\ud604\\uc190\\uc775\",\"text\":[\"\",\"\",\"\",\"\",\"\",\"\",\"\",\"\",\"\",\"\",\"\",\"\",\"188,000\"],\"textposition\":\"outside\",\"width\":432000000,\"x\":[\"2023-01-02T00:00:00\",\"2023-01-03T00:00:00\",\"2023-01-04T00:00:00\",\"2023-01-05T00:00:00\",\"2023-01-06T00:00:00\",\"2023-01-09T00:00:00\",\"2023-01-10T00:00:00\",\"2023-01-11T00:00:00\",\"2023-01-12T00:00:00\",\"2023-01-13T00:00:00\",\"2023-01-16T00:00:00\",\"2023-01-17T00:00:00\",\"2023-01-18T00:00:00\"],\"y\":[0,0,0,0,0,0,0,0,0,0,0,0,188000],\"type\":\"bar\",\"xaxis\":\"x5\",\"yaxis\":\"y4\"},{\"line\":{\"color\":\"#000000\",\"shape\":\"hv\"},\"mode\":\"lines\",\"name\":\"\\ucd1d\\uc790\\uc0b0\\uac00\\uce58\",\"x\":[\"2023-01-02T00:00:00\",\"2023-01-03T00:00:00\",\"2023-01-04T00:00:00\",\"2023-01-05T00:00:00\",\"2023-01-06T00:00:00\",\"2023-01-09T00:00:00\",\"2023-01-10T00:00:00\",\"2023-01-11T00:00:00\",\"2023-01-12T00:00:00\",\"2023-01-13T00:00:00\",\"2023-01-16T00:00:00\",\"2023-01-17T00:00:00\",\"2023-01-18T00:00:00\"],\"y\":[0,-2000,106000,114000,148000,206000,216000,232000,222000,200000,202000,206000,188000],\"type\":\"scatter\",\"xaxis\":\"x5\",\"yaxis\":\"y5\"},{\"line\":{\"color\":\"#DC143C\",\"dash\":\"dash\",\"shape\":\"hv\"},\"mode\":\"lines\",\"name\":\"\\ucd5c\\uace0\\uc790\\uc0b0\\uac00\\uce58\",\"x\":[\"2023-01-02T00:00:00\",\"2023-01-03T00:00:00\",\"2023-01-04T00:00:00\",\"2023-01-05T00:00:00\",\"2023-01-06T00:00:00\",\"2023-01-09T00:00:00\",\"2023-01-10T00:00:00\",\"2023-01-11T00:00:00\",\"2023-01-12T00:00:00\",\"2023-01-13T00:00:00\",\"2023-01-16T00:00:00\",\"2023-01-17T00:00:00\",\"2023-01-18T00:00:00\"],\"y\":[0,0,106000,114000,148000,206000,216000,232000,232000,232000,232000,232000,232000],\"type\":\"scatter\",\"xaxis\":\"x5\",\"yaxis\":\"y5\"},{\"base\":[0],\"cliponaxis\":false,\"marker\":{\"color\":[\"#DC143C\"]},\"name\":\"\\ucd5c\\uc885\\uc190\\uc775\",\"text\":[\"\\ucd5c\\uc885\\uc218\\uc775: 188,000\"],\"textposition\":\"outside\",\"width\":864000000,\"x\":[\"2023-01-18T00:00:00\"],\"y\":[188000],\"type\":\"bar\",\"xaxis\":\"x5\",\"yaxis\":\"y5\"},{\"cliponaxis\":false,\"marker\":{\"color\":[\"#DC143C\",\"#00008B\"],\"line\":{\"color\":\"white\",\"width\":1},\"size\":12,\"symbol\":[\"triangle-up\",\"triangle-down\"]},\"mode\":\"markers+text\",\"name\":\"\",\"text\":[\"\\ucd5c\\uace0\\uc790\\uc0b0\\uac00\\uce58: 232,000\",\"MDD: -44,000\"],\"textposition\":[\"top center\",\"bottom center\"],\"x\":[\"2023-01-11T00:00:00\",\"2023-01-18T00:00:00\"],\"y\":[232000,188000],\"type\":\"scatter\",\"xaxis\":\"x5\",\"yaxis\":\"y5\"}],                        {\"template\":{\"data\":{\"histogram2dcontour\":[{\"type\":\"histogram2dcontour\",\"colorbar\":{\"outlinewidth\":0,\"ticks\":\"\"},\"colorscale\":[[0.0,\"#0d0887\"],[0.1111111111111111,\"#46039f\"],[0.2222222222222222,\"#7201a8\"],[0.3333333333333333,\"#9c179e\"],[0.4444444444444444,\"#bd3786\"],[0.5555555555555556,\"#d8576b\"],[0.6666666666666666,\"#ed7953\"],[0.7777777777777778,\"#fb9f3a\"],[0.8888888888888888,\"#fdca26\"],[1.0,\"#f0f921\"]]}],\"choropleth\":[{\"type\":\"choropleth\",\"colorbar\":{\"outlinewidth\":0,\"ticks\":\"\"}}],\"histogram2d\":[{\"type\":\"histogram2d\",\"colorbar\":{\"outlinewidth\":0,\"ticks\":\"\"},\"colorscale\":[[0.0,\"#0d0887\"],[0.1111111111111111,\"#46039f\"],[0.2222222222222222,\"#7201a8\"],[0.3333333333333333,\"#9c179e\"],[0.4444444444444444,\"#bd3786\"],[0.5555555555555556,\"#d8576b\"],[0.6666666666666666,\"#ed7953\"],[0.7777777777777778,\"#fb9f3a\"],[0.8888888888888888,\"#fdca26\"],[1.0,\"#f0f921\"]]}],\"heatmap\":[{\"type\":\"heatmap\",\"colorbar\":{\"outlinewidth\":0,\"ticks\":\"\"},\"colorscale\":[[0.0,\"#0d0887\"],[0.1111111111111111,\"#46039f\"],[0.2222222222222222,\"#7201a8\"],[0.3333333333333333,\"#9c179e\"],[0.4444444444444444,\"#bd3786\"],[0.5555555555555556,\"#d8576b\"],[0.6666666666666666,\"#ed7953\"],[0.7777777777777778,\"#fb9f3a\"],[0.8888888888888888,\"#fdca26\"],[1.0,\"#f0f921\"]]}],\"heatmapgl\":[{\"type\":\"heatmapgl\",\"colorbar\":{\"outlinewidth\":0,\"ticks\":\"\"},\"colorscale\":[[0.0,\"#0d0887\"],[0.1111111111111111,\"#46039f\"],[0.2222222222222222,\"#7201a8\"],[0.3333333333333333,\"#9c179e\"],[0.4444444444444444,\"#bd3786\"],[0.5555555555555556,\"#d8576b\"],[0.6666666666666666,\"#ed7953\"],[0.7777777777777778,\"#fb9f3a\"],[0.8888888888888888,\"#fdca26\"],[1.0,\"#f0f921\"]]}],\"contourcarpet\":[{\"type\":\"contourcarpet\",\"colorbar\":{\"outlinewidth\":0,\"ticks\":\"\"}}],\"contour\":[{\"type\":\"contour\",\"colorbar\":{\"outlinewidth\":0,\"ticks\":\"\"},\"colorscale\":[[0.0,\"#0d0887\"],[0.1111111111111111,\"#46039f\"],[0.2222222222222222,\"#7201a8\"],[0.3333333333333333,\"#9c179e\"],[0.4444444444444444,\"#bd3786\"],[0.5555555555555556,\"#d8576b\"],[0.6666666666666666,\"#ed7953\"],[0.7777777777777778,\"#fb9f3a\"],[0.8888888888888888,\"#fdca26\"],[1.0,\"#f0f921\"]]}],\"surface\":[{\"type\":\"surface\",\"colorbar\":{\"outlinewidth\":0,\"ticks\":\"\"},\"colorscale\":[[0.0,\"#0d0887\"],[0.1111111111111111,\"#46039f\"],[0.2222222222222222,\"#7201a8\"],[0.3333333333333333,\"#9c179e\"],[0.4444444444444444,\"#bd3786\"],[0.5555555555555556,\"#d8576b\"],[0.6666666666666666,\"#ed7953\"],[0.7777777777777778,\"#fb9f3a\"],[0.8888888888888888,\"#fdca26\"],[1.0,\"#f0f921\"]]}],\"mesh3d\":[{\"type\":\"mesh3d\",\"colorbar\":{\"outlinewidth\":0,\"ticks\":\"\"}}],\"scatter\":[{\"fillpattern\":{\"fillmode\":\"overlay\",\"size\":10,\"solidity\":0.2},\"type\":\"scatter\"}],\"parcoords\":[{\"type\":\"parcoords\",\"line\":{\"colorbar\":{\"outlinewidth\":0,\"ticks\":\"\"}}}],\"scatterpolargl\":[{\"type\":\"scatterpolargl\",\"marker\":{\"colorbar\":{\"outlinewidth\":0,\"ticks\":\"\"}}}],\"bar\":[{\"error_x\":{\"color\":\"#2a3f5f\"},\"error_y\":{\"color\":\"#2a3f5f\"},\"marker\":{\"line\":{\"color\":\"#E5ECF6\",\"width\":0.5},\"pattern\":{\"fillmode\":\"overlay\",\"size\":10,\"solidity\":0.2}},\"type\":\"bar\"}],\"scattergeo\":[{\"type\":\"scattergeo\",\"marker\":{\"colorbar\":{\"outlinewidth\":0,\"ticks\":\"\"}}}],\"scatterpolar\":[{\"type\":\"scatterpolar\",\"marker\":{\"colorbar\":{\"outlinewidth\":0,\"ticks\":\"\"}}}],\"histogram\":[{\"marker\":{\"pattern\":{\"fillmode\":\"overlay\",\"size\":10,\"solidity\":0.2}},\"type\":\"histogram\"}],\"scattergl\":[{\"type\":\"scattergl\",\"marker\":{\"colorbar\":{\"outlinewidth\":0,\"ticks\":\"\"}}}],\"scatter3d\":[{\"type\":\"scatter3d\",\"line\":{\"colorbar\":{\"outlinewidth\":0,\"ticks\":\"\"}},\"marker\":{\"colorbar\":{\"outlinewidth\":0,\"ticks\":\"\"}}}],\"scattermapbox\":[{\"type\":\"scattermapbox\",\"marker\":{\"colorbar\":{\"outlinewidth\":0,\"ticks\":\"\"}}}],\"scatterternary\":[{\"type\":\"scatterternary\",\"marker\":{\"colorbar\":{\"outlinewidth\":0,\"ticks\":\"\"}}}],\"scattercarpet\":[{\"type\":\"scattercarpet\",\"marker\":{\"colorbar\":{\"outlinewidth\":0,\"ticks\":\"\"}}}],\"carpet\":[{\"aaxis\":{\"endlinecolor\":\"#2a3f5f\",\"gridcolor\":\"white\",\"linecolor\":\"white\",\"minorgridcolor\":\"white\",\"startlinecolor\":\"#2a3f5f\"},\"baxis\":{\"endlinecolor\":\"#2a3f5f\",\"gridcolor\":\"white\",\"linecolor\":\"white\",\"minorgridcolor\":\"white\",\"startlinecolor\":\"#2a3f5f\"},\"type\":\"carpet\"}],\"table\":[{\"cells\":{\"fill\":{\"color\":\"#EBF0F8\"},\"line\":{\"color\":\"white\"}},\"header\":{\"fill\":{\"color\":\"#C8D4E3\"},\"line\":{\"color\":\"white\"}},\"type\":\"table\"}],\"barpolar\":[{\"marker\":{\"line\":{\"color\":\"#E5ECF6\",\"width\":0.5},\"pattern\":{\"fillmode\":\"overlay\",\"size\":10,\"solidity\":0.2}},\"type\":\"barpolar\"}],\"pie\":[{\"automargin\":true,\"type\":\"pie\"}]},\"layout\":{\"autotypenumbers\":\"strict\",\"colorway\":[\"#636efa\",\"#EF553B\",\"#00cc96\",\"#ab63fa\",\"#FFA15A\",\"#19d3f3\",\"#FF6692\",\"#B6E880\",\"#FF97FF\",\"#FECB52\"],\"font\":{\"color\":\"#2a3f5f\"},\"hovermode\":\"closest\",\"hoverlabel\":{\"align\":\"left\"},\"paper_bgcolor\":\"white\",\"plot_bgcolor\":\"#E5ECF6\",\"polar\":{\"bgcolor\":\"#E5ECF6\",\"angularaxis\":{\"gridcolor\":\"white\",\"linecolor\":\"white\",\"ticks\":\"\"},\"radialaxis\":{\"gridcolor\":\"white\",\"linecolor\":\"white\",\"ticks\":\"\"}},\"ternary\":{\"bgcolor\":\"#E5ECF6\",\"aaxis\":{\"gridcolor\":\"white\",\"linecolor\":\"white\",\"ticks\":\"\"},\"baxis\":{\"gridcolor\":\"white\",\"linecolor\":\"white\",\"ticks\":\"\"},\"caxis\":{\"gridcolor\":\"white\",\"linecolor\":\"white\",\"ticks\":\"\"}},\"coloraxis\":{\"colorbar\":{\"outlinewidth\":0,\"ticks\":\"\"}},\"colorscale\":{\"sequential\":[[0.0,\"#0d0887\"],[0.1111111111111111,\"#46039f\"],[0.2222222222222222,\"#7201a8\"],[0.3333333333333333,\"#9c179e\"],[0.4444444444444444,\"#bd3786\"],[0.5555555555555556,\"#d8576b\"],[0.6666666666666666,\"#ed7953\"],[0.7777777777777778,\"#fb9f3a\"],[0.8888888888888888,\"#fdca26\"],[1.0,\"#f0f921\"]],\"sequentialminus\":[[0.0,\"#0d0887\"],[0.1111111111111111,\"#46039f\"],[0.2222222222222222,\"#7201a8\"],[0.3333333333333333,\"#9c179e\"],[0.4444444444444444,\"#bd3786\"],[0.5555555555555556,\"#d8576b\"],[0.6666666666666666,\"#ed7953\"],[0.7777777777777778,\"#fb9f3a\"],[0.8888888888888888,\"#fdca26\"],[1.0,\"#f0f921\"]],\"diverging\":[[0,\"#8e0152\"],[0.1,\"#c51b7d\"],[0.2,\"#de77ae\"],[0.3,\"#f1b6da\"],[0.4,\"#fde0ef\"],[0.5,\"#f7f7f7\"],[0.6,\"#e6f5d0\"],[0.7,\"#b8e186\"],[0.8,\"#7fbc41\"],[0.9,\"#4d9221\"],[1,\"#276419\"]]},\"xaxis\":{\"gridcolor\":\"white\",\"linecolor\":\"white\",\"ticks\":\"\",\"title\":{\"standoff\":15},\"zerolinecolor\":\"white\",\"automargin\":true,\"zerolinewidth\":2},\"yaxis\":{\"gridcolor\":\"white\",\"linecolor\":\"white\",\"ticks\":\"\",\"title\":{\"standoff\":15},\"zerolinecolor\":\"white\",\"automargin\":true,\"zerolinewidth\":2},\"scene\":{\"xaxis\":{\"backgroundcolor\":\"#E5ECF6\",\"gridcolor\":\"white\",\"linecolor\":\"white\",\"showbackground\":true,\"ticks\":\"\",\"zerolinecolor\":\"white\",\"gridwidth\":2},\"yaxis\":{\"backgroundcolor\":\"#E5ECF6\",\"gridcolor\":\"white\",\"linecolor\":\"white\",\"showbackground\":true,\"ticks\":\"\",\"zerolinecolor\":\"white\",\"gridwidth\":2},\"zaxis\":{\"backgroundcolor\":\"#E5ECF6\",\"gridcolor\":\"white\",\"linecolor\":\"white\",\"showbackground\":true,\"ticks\":\"\",\"zerolinecolor\":\"white\",\"gridwidth\":2}},\"shapedefaults\":{\"line\":{\"color\":\"#2a3f5f\"}},\"annotationdefaults\":{\"arrowcolor\":\"#2a3f5f\",\"arrowhead\":0,\"arrowwidth\":1},\"geo\":{\"bgcolor\":\"white\",\"landcolor\":\"#E5ECF6\",\"subunitcolor\":\"white\",\"showland\":true,\"showlakes\":true,\"lakecolor\":\"white\"},\"title\":{\"x\":0.05},\"mapbox\":{\"style\":\"light\"}}},\"xaxis\":{\"anchor\":\"y\",\"domain\":[0.0,1.0],\"matches\":\"x5\",\"showticklabels\":false},\"yaxis\":{\"anchor\":\"x\",\"domain\":[0.8400000000000001,1.0],\"tickformat\":\",d\"},\"xaxis2\":{\"anchor\":\"y2\",\"domain\":[0.0,1.0],\"matches\":\"x5\",\"showticklabels\":false},\"yaxis2\":{\"anchor\":\"x2\",\"domain\":[0.7100000000000001,0.79],\"dtick\":\"L1\"},\"xaxis3\":{\"anchor\":\"y3\",\"domain\":[0.0,1.0],\"matches\":\"x5\",\"showticklabels\":false},\"yaxis3\":{\"anchor\":\"x3\",\"domain\":[0.5,0.66],\"tickformat\":\",d\"},\"xaxis4\":{\"anchor\":\"y4\",\"domain\":[0.0,1.0],\"matches\":\"x5\",\"showticklabels\":false},\"yaxis4\":{\"anchor\":\"x4\",\"domain\":[0.29,0.45],\"tickformat\":\",d\"},\"xaxis5\":{\"anchor\":\"y5\",\"domain\":[0.0,1.0],\"hoverformat\":\"%Y-%m-%d\",\"showticklabels\":true,\"tickformat\":\"%Y-%m-%d\"},\"yaxis5\":{\"anchor\":\"x5\",\"domain\":[0.0,0.24],\"tickformat\":\",d\"},\"annotations\":[{\"font\":{\"size\":16},\"showarrow\":false,\"text\":\"\\uac00\\uaca9\",\"x\":0.5,\"xanchor\":\"center\",\"xref\":\"paper\",\"y\":1.0,\"yanchor\":\"bottom\",\"yref\":\"paper\"},{\"font\":{\"size\":16},\"showarrow\":false,\"text\":\"\\uc794\\uace0\\uc218\\ub7c9\",\"x\":0.5,\"xanchor\":\"center\",\"xref\":\"paper\",\"y\":0.79,\"yanchor\":\"bottom\",\"yref\":\"paper\"},{\"font\":{\"size\":16},\"showarrow\":false,\"text\":\"\\uc794\\uace0\\uac00\\uce58\",\"x\":0.5,\"xanchor\":\"center\",\"xref\":\"paper\",\"y\":0.66,\"yanchor\":\"bottom\",\"yref\":\"paper\"},{\"font\":{\"size\":16},\"showarrow\":false,\"text\":\"\\uc2e4\\ud604\\uc190\\uc775\",\"x\":0.5,\"xanchor\":\"center\",\"xref\":\"paper\",\"y\":0.45,\"yanchor\":\"bottom\",\"yref\":\"paper\"},{\"font\":{\"size\":16},\"showarrow\":false,\"text\":\"\\ucd1d\\uc790\\uc0b0\\uac00\\uce58\",\"x\":0.5,\"xanchor\":\"center\",\"xref\":\"paper\",\"y\":0.24,\"yanchor\":\"bottom\",\"yref\":\"paper\"}],\"margin\":{\"b\":25,\"l\":25,\"r\":25,\"t\":80},\"title\":{\"text\":\"\\ubc31\\ud14c\\uc2a4\\ud2b8 \\uacb0\\uacfc: 000660, 2023-01-02~2023-01-18\",\"x\":0.5,\"y\":0.98},\"uniformtext\":{\"minsize\":12,\"mode\":\"show\"},\"height\":800,\"hovermode\":\"x unified\",\"showlegend\":false},                        {\"modeBarButtonsToRemove\": [\"resetScale2d\", \"lasso2d\", \"zoomIn2d\", \"zoomOut2d\", \"select2d\"], \"displaylogo\": false, \"responsive\": true}                    ).then(function(){\n",
       "                            \n",
       "var gd = document.getElementById('e9094699-7360-43f3-9a68-8b803566e29d');\n",
       "var x = new MutationObserver(function (mutations, observer) {{\n",
       "        var display = window.getComputedStyle(gd).display;\n",
       "        if (!display || display === 'none') {{\n",
       "            console.log([gd, 'removed!']);\n",
       "            Plotly.purge(gd);\n",
       "            observer.disconnect();\n",
       "        }}\n",
       "}});\n",
       "\n",
       "// Listen for the removal of the full notebook cells\n",
       "var notebookContainer = gd.closest('#notebook-container');\n",
       "if (notebookContainer) {{\n",
       "    x.observe(notebookContainer, {childList: true});\n",
       "}}\n",
       "\n",
       "// Listen for the clearing of the current output cell\n",
       "var outputEl = gd.closest('.output');\n",
       "if (outputEl) {{\n",
       "    x.observe(outputEl, {childList: true});\n",
       "}}\n",
       "\n",
       "                        })                };                });            </script>        </div>"
      ]
     },
     "metadata": {},
     "output_type": "display_data"
    }
   ],
   "source": [
    "kq.backtest_plot_stock_daily(df_result_000660)"
   ]
  },
  {
   "cell_type": "markdown",
   "metadata": {},
   "source": [
    "실제 현금 및 수익률 등의 총합은 `\"TOTAL\"`이라는 키에 해당하는 백테스트 결과 데이터프레임에 저장됩니다."
   ]
  },
  {
   "cell_type": "code",
   "execution_count": 9,
   "metadata": {},
   "outputs": [
    {
     "data": {
      "text/html": [
       "<div>\n",
       "<style scoped>\n",
       "    .dataframe tbody tr th:only-of-type {\n",
       "        vertical-align: middle;\n",
       "    }\n",
       "\n",
       "    .dataframe tbody tr th {\n",
       "        vertical-align: top;\n",
       "    }\n",
       "\n",
       "    .dataframe thead th {\n",
       "        text-align: right;\n",
       "    }\n",
       "</style>\n",
       "<table border=\"1\" class=\"dataframe\">\n",
       "  <thead>\n",
       "    <tr style=\"text-align: right;\">\n",
       "      <th></th>\n",
       "      <th>DATE</th>\n",
       "      <th>SYMBOL</th>\n",
       "      <th>PRICE</th>\n",
       "      <th>ORDER</th>\n",
       "      <th>QTY</th>\n",
       "      <th>TRADE_PRICE</th>\n",
       "      <th>POSITION</th>\n",
       "      <th>AVG_PRICE</th>\n",
       "      <th>FEE</th>\n",
       "      <th>TRADE_TAX</th>\n",
       "      <th>SLIPPAGE</th>\n",
       "      <th>CASHFLOW</th>\n",
       "      <th>CASH</th>\n",
       "      <th>HIST_VALUE</th>\n",
       "      <th>STOCK_VALUE</th>\n",
       "      <th>TOTAL_VALUE</th>\n",
       "      <th>REAL_PROFIT</th>\n",
       "      <th>UNREAL_PROFIT</th>\n",
       "      <th>PROFIT</th>\n",
       "      <th>HIGHWATERMARK</th>\n",
       "      <th>DRAWDOWN</th>\n",
       "    </tr>\n",
       "  </thead>\n",
       "  <tbody>\n",
       "    <tr>\n",
       "      <th>0</th>\n",
       "      <td>2023-01-02</td>\n",
       "      <td>TOTAL</td>\n",
       "      <td>0</td>\n",
       "      <td>0</td>\n",
       "      <td>0</td>\n",
       "      <td>0</td>\n",
       "      <td>30</td>\n",
       "      <td>0.0000</td>\n",
       "      <td>0</td>\n",
       "      <td>0</td>\n",
       "      <td>0</td>\n",
       "      <td>-2,069,000</td>\n",
       "      <td>7,931,000</td>\n",
       "      <td>2,069,000</td>\n",
       "      <td>2,069,000</td>\n",
       "      <td>10,000,000</td>\n",
       "      <td>0</td>\n",
       "      <td>0</td>\n",
       "      <td>0</td>\n",
       "      <td>10,000,000</td>\n",
       "      <td>0</td>\n",
       "    </tr>\n",
       "    <tr>\n",
       "      <th>1</th>\n",
       "      <td>2023-01-03</td>\n",
       "      <td>TOTAL</td>\n",
       "      <td>0</td>\n",
       "      <td>0</td>\n",
       "      <td>0</td>\n",
       "      <td>0</td>\n",
       "      <td>30</td>\n",
       "      <td>0.0000</td>\n",
       "      <td>0</td>\n",
       "      <td>0</td>\n",
       "      <td>0</td>\n",
       "      <td>0</td>\n",
       "      <td>7,931,000</td>\n",
       "      <td>2,069,000</td>\n",
       "      <td>2,066,000</td>\n",
       "      <td>9,997,000</td>\n",
       "      <td>0</td>\n",
       "      <td>-3,000</td>\n",
       "      <td>-3,000</td>\n",
       "      <td>10,000,000</td>\n",
       "      <td>3,000</td>\n",
       "    </tr>\n",
       "    <tr>\n",
       "      <th>2</th>\n",
       "      <td>2023-01-04</td>\n",
       "      <td>TOTAL</td>\n",
       "      <td>0</td>\n",
       "      <td>0</td>\n",
       "      <td>0</td>\n",
       "      <td>0</td>\n",
       "      <td>30</td>\n",
       "      <td>0.0000</td>\n",
       "      <td>0</td>\n",
       "      <td>0</td>\n",
       "      <td>0</td>\n",
       "      <td>0</td>\n",
       "      <td>7,931,000</td>\n",
       "      <td>2,069,000</td>\n",
       "      <td>2,198,000</td>\n",
       "      <td>10,129,000</td>\n",
       "      <td>0</td>\n",
       "      <td>129,000</td>\n",
       "      <td>129,000</td>\n",
       "      <td>10,129,000</td>\n",
       "      <td>0</td>\n",
       "    </tr>\n",
       "    <tr>\n",
       "      <th>3</th>\n",
       "      <td>2023-01-05</td>\n",
       "      <td>TOTAL</td>\n",
       "      <td>0</td>\n",
       "      <td>0</td>\n",
       "      <td>0</td>\n",
       "      <td>0</td>\n",
       "      <td>30</td>\n",
       "      <td>0.0000</td>\n",
       "      <td>0</td>\n",
       "      <td>0</td>\n",
       "      <td>0</td>\n",
       "      <td>0</td>\n",
       "      <td>7,931,000</td>\n",
       "      <td>2,069,000</td>\n",
       "      <td>2,210,000</td>\n",
       "      <td>10,141,000</td>\n",
       "      <td>0</td>\n",
       "      <td>141,000</td>\n",
       "      <td>141,000</td>\n",
       "      <td>10,141,000</td>\n",
       "      <td>0</td>\n",
       "    </tr>\n",
       "    <tr>\n",
       "      <th>4</th>\n",
       "      <td>2023-01-06</td>\n",
       "      <td>TOTAL</td>\n",
       "      <td>0</td>\n",
       "      <td>0</td>\n",
       "      <td>0</td>\n",
       "      <td>0</td>\n",
       "      <td>30</td>\n",
       "      <td>0.0000</td>\n",
       "      <td>0</td>\n",
       "      <td>0</td>\n",
       "      <td>0</td>\n",
       "      <td>0</td>\n",
       "      <td>7,931,000</td>\n",
       "      <td>2,069,000</td>\n",
       "      <td>2,252,000</td>\n",
       "      <td>10,183,000</td>\n",
       "      <td>0</td>\n",
       "      <td>183,000</td>\n",
       "      <td>183,000</td>\n",
       "      <td>10,183,000</td>\n",
       "      <td>0</td>\n",
       "    </tr>\n",
       "    <tr>\n",
       "      <th>5</th>\n",
       "      <td>2023-01-09</td>\n",
       "      <td>TOTAL</td>\n",
       "      <td>0</td>\n",
       "      <td>0</td>\n",
       "      <td>0</td>\n",
       "      <td>0</td>\n",
       "      <td>30</td>\n",
       "      <td>0.0000</td>\n",
       "      <td>0</td>\n",
       "      <td>0</td>\n",
       "      <td>0</td>\n",
       "      <td>0</td>\n",
       "      <td>7,931,000</td>\n",
       "      <td>2,069,000</td>\n",
       "      <td>2,327,000</td>\n",
       "      <td>10,258,000</td>\n",
       "      <td>0</td>\n",
       "      <td>258,000</td>\n",
       "      <td>258,000</td>\n",
       "      <td>10,258,000</td>\n",
       "      <td>0</td>\n",
       "    </tr>\n",
       "    <tr>\n",
       "      <th>6</th>\n",
       "      <td>2023-01-10</td>\n",
       "      <td>TOTAL</td>\n",
       "      <td>0</td>\n",
       "      <td>0</td>\n",
       "      <td>0</td>\n",
       "      <td>0</td>\n",
       "      <td>30</td>\n",
       "      <td>0.0000</td>\n",
       "      <td>0</td>\n",
       "      <td>0</td>\n",
       "      <td>0</td>\n",
       "      <td>0</td>\n",
       "      <td>7,931,000</td>\n",
       "      <td>2,069,000</td>\n",
       "      <td>2,334,000</td>\n",
       "      <td>10,265,000</td>\n",
       "      <td>0</td>\n",
       "      <td>265,000</td>\n",
       "      <td>265,000</td>\n",
       "      <td>10,265,000</td>\n",
       "      <td>0</td>\n",
       "    </tr>\n",
       "    <tr>\n",
       "      <th>7</th>\n",
       "      <td>2023-01-11</td>\n",
       "      <td>TOTAL</td>\n",
       "      <td>0</td>\n",
       "      <td>0</td>\n",
       "      <td>0</td>\n",
       "      <td>0</td>\n",
       "      <td>20</td>\n",
       "      <td>0.0000</td>\n",
       "      <td>0</td>\n",
       "      <td>0</td>\n",
       "      <td>0</td>\n",
       "      <td>605,000</td>\n",
       "      <td>8,536,000</td>\n",
       "      <td>1,514,000</td>\n",
       "      <td>1,746,000</td>\n",
       "      <td>10,282,000</td>\n",
       "      <td>50,000</td>\n",
       "      <td>232,000</td>\n",
       "      <td>282,000</td>\n",
       "      <td>10,282,000</td>\n",
       "      <td>0</td>\n",
       "    </tr>\n",
       "    <tr>\n",
       "      <th>8</th>\n",
       "      <td>2023-01-12</td>\n",
       "      <td>TOTAL</td>\n",
       "      <td>0</td>\n",
       "      <td>0</td>\n",
       "      <td>0</td>\n",
       "      <td>0</td>\n",
       "      <td>20</td>\n",
       "      <td>0.0000</td>\n",
       "      <td>0</td>\n",
       "      <td>0</td>\n",
       "      <td>0</td>\n",
       "      <td>0</td>\n",
       "      <td>8,536,000</td>\n",
       "      <td>1,514,000</td>\n",
       "      <td>1,736,000</td>\n",
       "      <td>10,272,000</td>\n",
       "      <td>0</td>\n",
       "      <td>222,000</td>\n",
       "      <td>272,000</td>\n",
       "      <td>10,282,000</td>\n",
       "      <td>10,000</td>\n",
       "    </tr>\n",
       "    <tr>\n",
       "      <th>9</th>\n",
       "      <td>2023-01-13</td>\n",
       "      <td>TOTAL</td>\n",
       "      <td>0</td>\n",
       "      <td>0</td>\n",
       "      <td>0</td>\n",
       "      <td>0</td>\n",
       "      <td>20</td>\n",
       "      <td>0.0000</td>\n",
       "      <td>0</td>\n",
       "      <td>0</td>\n",
       "      <td>0</td>\n",
       "      <td>0</td>\n",
       "      <td>8,536,000</td>\n",
       "      <td>1,514,000</td>\n",
       "      <td>1,714,000</td>\n",
       "      <td>10,250,000</td>\n",
       "      <td>0</td>\n",
       "      <td>200,000</td>\n",
       "      <td>250,000</td>\n",
       "      <td>10,282,000</td>\n",
       "      <td>32,000</td>\n",
       "    </tr>\n",
       "    <tr>\n",
       "      <th>10</th>\n",
       "      <td>2023-01-16</td>\n",
       "      <td>TOTAL</td>\n",
       "      <td>0</td>\n",
       "      <td>0</td>\n",
       "      <td>0</td>\n",
       "      <td>0</td>\n",
       "      <td>20</td>\n",
       "      <td>0.0000</td>\n",
       "      <td>0</td>\n",
       "      <td>0</td>\n",
       "      <td>0</td>\n",
       "      <td>0</td>\n",
       "      <td>8,536,000</td>\n",
       "      <td>1,514,000</td>\n",
       "      <td>1,716,000</td>\n",
       "      <td>10,252,000</td>\n",
       "      <td>0</td>\n",
       "      <td>202,000</td>\n",
       "      <td>252,000</td>\n",
       "      <td>10,282,000</td>\n",
       "      <td>30,000</td>\n",
       "    </tr>\n",
       "    <tr>\n",
       "      <th>11</th>\n",
       "      <td>2023-01-17</td>\n",
       "      <td>TOTAL</td>\n",
       "      <td>0</td>\n",
       "      <td>0</td>\n",
       "      <td>0</td>\n",
       "      <td>0</td>\n",
       "      <td>20</td>\n",
       "      <td>0.0000</td>\n",
       "      <td>0</td>\n",
       "      <td>0</td>\n",
       "      <td>0</td>\n",
       "      <td>0</td>\n",
       "      <td>8,536,000</td>\n",
       "      <td>1,514,000</td>\n",
       "      <td>1,720,000</td>\n",
       "      <td>10,256,000</td>\n",
       "      <td>0</td>\n",
       "      <td>206,000</td>\n",
       "      <td>256,000</td>\n",
       "      <td>10,282,000</td>\n",
       "      <td>26,000</td>\n",
       "    </tr>\n",
       "    <tr>\n",
       "      <th>12</th>\n",
       "      <td>2023-01-18</td>\n",
       "      <td>TOTAL</td>\n",
       "      <td>0</td>\n",
       "      <td>0</td>\n",
       "      <td>0</td>\n",
       "      <td>0</td>\n",
       "      <td>0</td>\n",
       "      <td>0.0000</td>\n",
       "      <td>0</td>\n",
       "      <td>0</td>\n",
       "      <td>0</td>\n",
       "      <td>1,702,000</td>\n",
       "      <td>10,238,000</td>\n",
       "      <td>0</td>\n",
       "      <td>0</td>\n",
       "      <td>10,238,000</td>\n",
       "      <td>188,000</td>\n",
       "      <td>0</td>\n",
       "      <td>238,000</td>\n",
       "      <td>10,282,000</td>\n",
       "      <td>44,000</td>\n",
       "    </tr>\n",
       "  </tbody>\n",
       "</table>\n",
       "</div>"
      ],
      "text/plain": [
       "         DATE SYMBOL  PRICE  ORDER  QTY  TRADE_PRICE  POSITION  AVG_PRICE  \\\n",
       "0  2023-01-02  TOTAL      0      0    0            0        30     0.0000   \n",
       "1  2023-01-03  TOTAL      0      0    0            0        30     0.0000   \n",
       "2  2023-01-04  TOTAL      0      0    0            0        30     0.0000   \n",
       "3  2023-01-05  TOTAL      0      0    0            0        30     0.0000   \n",
       "4  2023-01-06  TOTAL      0      0    0            0        30     0.0000   \n",
       "5  2023-01-09  TOTAL      0      0    0            0        30     0.0000   \n",
       "6  2023-01-10  TOTAL      0      0    0            0        30     0.0000   \n",
       "7  2023-01-11  TOTAL      0      0    0            0        20     0.0000   \n",
       "8  2023-01-12  TOTAL      0      0    0            0        20     0.0000   \n",
       "9  2023-01-13  TOTAL      0      0    0            0        20     0.0000   \n",
       "10 2023-01-16  TOTAL      0      0    0            0        20     0.0000   \n",
       "11 2023-01-17  TOTAL      0      0    0            0        20     0.0000   \n",
       "12 2023-01-18  TOTAL      0      0    0            0         0     0.0000   \n",
       "\n",
       "    FEE  TRADE_TAX  SLIPPAGE    CASHFLOW        CASH  HIST_VALUE  STOCK_VALUE  \\\n",
       "0     0          0         0  -2,069,000   7,931,000   2,069,000    2,069,000   \n",
       "1     0          0         0           0   7,931,000   2,069,000    2,066,000   \n",
       "2     0          0         0           0   7,931,000   2,069,000    2,198,000   \n",
       "3     0          0         0           0   7,931,000   2,069,000    2,210,000   \n",
       "4     0          0         0           0   7,931,000   2,069,000    2,252,000   \n",
       "5     0          0         0           0   7,931,000   2,069,000    2,327,000   \n",
       "6     0          0         0           0   7,931,000   2,069,000    2,334,000   \n",
       "7     0          0         0     605,000   8,536,000   1,514,000    1,746,000   \n",
       "8     0          0         0           0   8,536,000   1,514,000    1,736,000   \n",
       "9     0          0         0           0   8,536,000   1,514,000    1,714,000   \n",
       "10    0          0         0           0   8,536,000   1,514,000    1,716,000   \n",
       "11    0          0         0           0   8,536,000   1,514,000    1,720,000   \n",
       "12    0          0         0   1,702,000  10,238,000           0            0   \n",
       "\n",
       "    TOTAL_VALUE  REAL_PROFIT  UNREAL_PROFIT   PROFIT  HIGHWATERMARK  DRAWDOWN  \n",
       "0    10,000,000            0              0        0     10,000,000         0  \n",
       "1     9,997,000            0         -3,000   -3,000     10,000,000     3,000  \n",
       "2    10,129,000            0        129,000  129,000     10,129,000         0  \n",
       "3    10,141,000            0        141,000  141,000     10,141,000         0  \n",
       "4    10,183,000            0        183,000  183,000     10,183,000         0  \n",
       "5    10,258,000            0        258,000  258,000     10,258,000         0  \n",
       "6    10,265,000            0        265,000  265,000     10,265,000         0  \n",
       "7    10,282,000       50,000        232,000  282,000     10,282,000         0  \n",
       "8    10,272,000            0        222,000  272,000     10,282,000    10,000  \n",
       "9    10,250,000            0        200,000  250,000     10,282,000    32,000  \n",
       "10   10,252,000            0        202,000  252,000     10,282,000    30,000  \n",
       "11   10,256,000            0        206,000  256,000     10,282,000    26,000  \n",
       "12   10,238,000      188,000              0  238,000     10,282,000    44,000  "
      ]
     },
     "execution_count": 9,
     "metadata": {},
     "output_type": "execute_result"
    }
   ],
   "source": [
    "df_result_total = dict_df_result[\"TOTAL\"]\n",
    "df_result_total"
   ]
  },
  {
   "cell_type": "code",
   "execution_count": 10,
   "metadata": {},
   "outputs": [
    {
     "data": {
      "application/vnd.plotly.v1+json": {
       "config": {
        "displaylogo": false,
        "modeBarButtonsToRemove": [
         "resetScale2d",
         "lasso2d",
         "zoomIn2d",
         "zoomOut2d",
         "select2d"
        ],
        "plotlyServerURL": "https://plot.ly",
        "responsive": true
       },
       "data": [
        {
         "line": {
          "color": "#000000",
          "shape": "hv"
         },
         "mode": "lines",
         "name": "잔고가치",
         "type": "scatter",
         "x": [
          "2023-01-02T00:00:00",
          "2023-01-03T00:00:00",
          "2023-01-04T00:00:00",
          "2023-01-05T00:00:00",
          "2023-01-06T00:00:00",
          "2023-01-09T00:00:00",
          "2023-01-10T00:00:00",
          "2023-01-11T00:00:00",
          "2023-01-12T00:00:00",
          "2023-01-13T00:00:00",
          "2023-01-16T00:00:00",
          "2023-01-17T00:00:00",
          "2023-01-18T00:00:00"
         ],
         "xaxis": "x3",
         "y": [
          2069000,
          2066000,
          2198000,
          2210000,
          2252000,
          2327000,
          2334000,
          1746000,
          1736000,
          1714000,
          1716000,
          1720000,
          null
         ],
         "yaxis": "y"
        },
        {
         "cliponaxis": false,
         "marker": {
          "color": [
           "#00008B",
           "#00008B",
           "#00008B",
           "#00008B",
           "#00008B",
           "#00008B",
           "#00008B",
           "#DC143C",
           "#00008B",
           "#00008B",
           "#00008B",
           "#00008B",
           "#DC143C"
          ]
         },
         "name": "실현손익",
         "text": [
          "",
          "",
          "",
          "",
          "",
          "",
          "",
          "50,000",
          "",
          "",
          "",
          "",
          "188,000"
         ],
         "textposition": "outside",
         "type": "bar",
         "width": 432000000,
         "x": [
          "2023-01-02T00:00:00",
          "2023-01-03T00:00:00",
          "2023-01-04T00:00:00",
          "2023-01-05T00:00:00",
          "2023-01-06T00:00:00",
          "2023-01-09T00:00:00",
          "2023-01-10T00:00:00",
          "2023-01-11T00:00:00",
          "2023-01-12T00:00:00",
          "2023-01-13T00:00:00",
          "2023-01-16T00:00:00",
          "2023-01-17T00:00:00",
          "2023-01-18T00:00:00"
         ],
         "xaxis": "x3",
         "y": [
          0,
          0,
          0,
          0,
          0,
          0,
          0,
          50000,
          0,
          0,
          0,
          0,
          188000
         ],
         "yaxis": "y2"
        },
        {
         "line": {
          "color": "#000000",
          "shape": "hv"
         },
         "mode": "lines",
         "name": "총자산가치",
         "type": "scatter",
         "x": [
          "2023-01-02T00:00:00",
          "2023-01-03T00:00:00",
          "2023-01-04T00:00:00",
          "2023-01-05T00:00:00",
          "2023-01-06T00:00:00",
          "2023-01-09T00:00:00",
          "2023-01-10T00:00:00",
          "2023-01-11T00:00:00",
          "2023-01-12T00:00:00",
          "2023-01-13T00:00:00",
          "2023-01-16T00:00:00",
          "2023-01-17T00:00:00",
          "2023-01-18T00:00:00"
         ],
         "xaxis": "x3",
         "y": [
          10000000,
          9997000,
          10129000,
          10141000,
          10183000,
          10258000,
          10265000,
          10282000,
          10272000,
          10250000,
          10252000,
          10256000,
          10238000
         ],
         "yaxis": "y3"
        },
        {
         "line": {
          "color": "#DC143C",
          "dash": "dash",
          "shape": "hv"
         },
         "mode": "lines",
         "name": "최고자산가치",
         "type": "scatter",
         "x": [
          "2023-01-02T00:00:00",
          "2023-01-03T00:00:00",
          "2023-01-04T00:00:00",
          "2023-01-05T00:00:00",
          "2023-01-06T00:00:00",
          "2023-01-09T00:00:00",
          "2023-01-10T00:00:00",
          "2023-01-11T00:00:00",
          "2023-01-12T00:00:00",
          "2023-01-13T00:00:00",
          "2023-01-16T00:00:00",
          "2023-01-17T00:00:00",
          "2023-01-18T00:00:00"
         ],
         "xaxis": "x3",
         "y": [
          10000000,
          10000000,
          10129000,
          10141000,
          10183000,
          10258000,
          10265000,
          10282000,
          10282000,
          10282000,
          10282000,
          10282000,
          10282000
         ],
         "yaxis": "y3"
        },
        {
         "base": [
          10000000
         ],
         "cliponaxis": false,
         "marker": {
          "color": [
           "#DC143C"
          ]
         },
         "name": "최종손익",
         "text": [
          "최종수익: 238,000"
         ],
         "textposition": "outside",
         "type": "bar",
         "width": 864000000,
         "x": [
          "2023-01-18T00:00:00"
         ],
         "xaxis": "x3",
         "y": [
          238000
         ],
         "yaxis": "y3"
        },
        {
         "cliponaxis": false,
         "marker": {
          "color": [
           "#DC143C",
           "#00008B"
          ],
          "line": {
           "color": "white",
           "width": 1
          },
          "size": 12,
          "symbol": [
           "triangle-up",
           "triangle-down"
          ]
         },
         "mode": "markers+text",
         "name": "",
         "text": [
          "최고자산가치: 10,282,000",
          "MDD: -44,000"
         ],
         "textposition": [
          "top center",
          "bottom center"
         ],
         "type": "scatter",
         "x": [
          "2023-01-11T00:00:00",
          "2023-01-18T00:00:00"
         ],
         "xaxis": "x3",
         "y": [
          10282000,
          10238000
         ],
         "yaxis": "y3"
        }
       ],
       "layout": {
        "annotations": [
         {
          "font": {
           "size": 16
          },
          "showarrow": false,
          "text": "잔고가치",
          "x": 0.5,
          "xanchor": "center",
          "xref": "paper",
          "y": 1,
          "yanchor": "bottom",
          "yref": "paper"
         },
         {
          "font": {
           "size": 16
          },
          "showarrow": false,
          "text": "실현손익",
          "x": 0.5,
          "xanchor": "center",
          "xref": "paper",
          "y": 0.68,
          "yanchor": "bottom",
          "yref": "paper"
         },
         {
          "font": {
           "size": 16
          },
          "showarrow": false,
          "text": "총자산가치",
          "x": 0.5,
          "xanchor": "center",
          "xref": "paper",
          "y": 0.36000000000000004,
          "yanchor": "bottom",
          "yref": "paper"
         }
        ],
        "height": 800,
        "hovermode": "x unified",
        "margin": {
         "b": 25,
         "l": 25,
         "r": 25,
         "t": 80
        },
        "showlegend": false,
        "template": {
         "data": {
          "bar": [
           {
            "error_x": {
             "color": "#2a3f5f"
            },
            "error_y": {
             "color": "#2a3f5f"
            },
            "marker": {
             "line": {
              "color": "#E5ECF6",
              "width": 0.5
             },
             "pattern": {
              "fillmode": "overlay",
              "size": 10,
              "solidity": 0.2
             }
            },
            "type": "bar"
           }
          ],
          "barpolar": [
           {
            "marker": {
             "line": {
              "color": "#E5ECF6",
              "width": 0.5
             },
             "pattern": {
              "fillmode": "overlay",
              "size": 10,
              "solidity": 0.2
             }
            },
            "type": "barpolar"
           }
          ],
          "carpet": [
           {
            "aaxis": {
             "endlinecolor": "#2a3f5f",
             "gridcolor": "white",
             "linecolor": "white",
             "minorgridcolor": "white",
             "startlinecolor": "#2a3f5f"
            },
            "baxis": {
             "endlinecolor": "#2a3f5f",
             "gridcolor": "white",
             "linecolor": "white",
             "minorgridcolor": "white",
             "startlinecolor": "#2a3f5f"
            },
            "type": "carpet"
           }
          ],
          "choropleth": [
           {
            "colorbar": {
             "outlinewidth": 0,
             "ticks": ""
            },
            "type": "choropleth"
           }
          ],
          "contour": [
           {
            "colorbar": {
             "outlinewidth": 0,
             "ticks": ""
            },
            "colorscale": [
             [
              0,
              "#0d0887"
             ],
             [
              0.1111111111111111,
              "#46039f"
             ],
             [
              0.2222222222222222,
              "#7201a8"
             ],
             [
              0.3333333333333333,
              "#9c179e"
             ],
             [
              0.4444444444444444,
              "#bd3786"
             ],
             [
              0.5555555555555556,
              "#d8576b"
             ],
             [
              0.6666666666666666,
              "#ed7953"
             ],
             [
              0.7777777777777778,
              "#fb9f3a"
             ],
             [
              0.8888888888888888,
              "#fdca26"
             ],
             [
              1,
              "#f0f921"
             ]
            ],
            "type": "contour"
           }
          ],
          "contourcarpet": [
           {
            "colorbar": {
             "outlinewidth": 0,
             "ticks": ""
            },
            "type": "contourcarpet"
           }
          ],
          "heatmap": [
           {
            "colorbar": {
             "outlinewidth": 0,
             "ticks": ""
            },
            "colorscale": [
             [
              0,
              "#0d0887"
             ],
             [
              0.1111111111111111,
              "#46039f"
             ],
             [
              0.2222222222222222,
              "#7201a8"
             ],
             [
              0.3333333333333333,
              "#9c179e"
             ],
             [
              0.4444444444444444,
              "#bd3786"
             ],
             [
              0.5555555555555556,
              "#d8576b"
             ],
             [
              0.6666666666666666,
              "#ed7953"
             ],
             [
              0.7777777777777778,
              "#fb9f3a"
             ],
             [
              0.8888888888888888,
              "#fdca26"
             ],
             [
              1,
              "#f0f921"
             ]
            ],
            "type": "heatmap"
           }
          ],
          "heatmapgl": [
           {
            "colorbar": {
             "outlinewidth": 0,
             "ticks": ""
            },
            "colorscale": [
             [
              0,
              "#0d0887"
             ],
             [
              0.1111111111111111,
              "#46039f"
             ],
             [
              0.2222222222222222,
              "#7201a8"
             ],
             [
              0.3333333333333333,
              "#9c179e"
             ],
             [
              0.4444444444444444,
              "#bd3786"
             ],
             [
              0.5555555555555556,
              "#d8576b"
             ],
             [
              0.6666666666666666,
              "#ed7953"
             ],
             [
              0.7777777777777778,
              "#fb9f3a"
             ],
             [
              0.8888888888888888,
              "#fdca26"
             ],
             [
              1,
              "#f0f921"
             ]
            ],
            "type": "heatmapgl"
           }
          ],
          "histogram": [
           {
            "marker": {
             "pattern": {
              "fillmode": "overlay",
              "size": 10,
              "solidity": 0.2
             }
            },
            "type": "histogram"
           }
          ],
          "histogram2d": [
           {
            "colorbar": {
             "outlinewidth": 0,
             "ticks": ""
            },
            "colorscale": [
             [
              0,
              "#0d0887"
             ],
             [
              0.1111111111111111,
              "#46039f"
             ],
             [
              0.2222222222222222,
              "#7201a8"
             ],
             [
              0.3333333333333333,
              "#9c179e"
             ],
             [
              0.4444444444444444,
              "#bd3786"
             ],
             [
              0.5555555555555556,
              "#d8576b"
             ],
             [
              0.6666666666666666,
              "#ed7953"
             ],
             [
              0.7777777777777778,
              "#fb9f3a"
             ],
             [
              0.8888888888888888,
              "#fdca26"
             ],
             [
              1,
              "#f0f921"
             ]
            ],
            "type": "histogram2d"
           }
          ],
          "histogram2dcontour": [
           {
            "colorbar": {
             "outlinewidth": 0,
             "ticks": ""
            },
            "colorscale": [
             [
              0,
              "#0d0887"
             ],
             [
              0.1111111111111111,
              "#46039f"
             ],
             [
              0.2222222222222222,
              "#7201a8"
             ],
             [
              0.3333333333333333,
              "#9c179e"
             ],
             [
              0.4444444444444444,
              "#bd3786"
             ],
             [
              0.5555555555555556,
              "#d8576b"
             ],
             [
              0.6666666666666666,
              "#ed7953"
             ],
             [
              0.7777777777777778,
              "#fb9f3a"
             ],
             [
              0.8888888888888888,
              "#fdca26"
             ],
             [
              1,
              "#f0f921"
             ]
            ],
            "type": "histogram2dcontour"
           }
          ],
          "mesh3d": [
           {
            "colorbar": {
             "outlinewidth": 0,
             "ticks": ""
            },
            "type": "mesh3d"
           }
          ],
          "parcoords": [
           {
            "line": {
             "colorbar": {
              "outlinewidth": 0,
              "ticks": ""
             }
            },
            "type": "parcoords"
           }
          ],
          "pie": [
           {
            "automargin": true,
            "type": "pie"
           }
          ],
          "scatter": [
           {
            "fillpattern": {
             "fillmode": "overlay",
             "size": 10,
             "solidity": 0.2
            },
            "type": "scatter"
           }
          ],
          "scatter3d": [
           {
            "line": {
             "colorbar": {
              "outlinewidth": 0,
              "ticks": ""
             }
            },
            "marker": {
             "colorbar": {
              "outlinewidth": 0,
              "ticks": ""
             }
            },
            "type": "scatter3d"
           }
          ],
          "scattercarpet": [
           {
            "marker": {
             "colorbar": {
              "outlinewidth": 0,
              "ticks": ""
             }
            },
            "type": "scattercarpet"
           }
          ],
          "scattergeo": [
           {
            "marker": {
             "colorbar": {
              "outlinewidth": 0,
              "ticks": ""
             }
            },
            "type": "scattergeo"
           }
          ],
          "scattergl": [
           {
            "marker": {
             "colorbar": {
              "outlinewidth": 0,
              "ticks": ""
             }
            },
            "type": "scattergl"
           }
          ],
          "scattermapbox": [
           {
            "marker": {
             "colorbar": {
              "outlinewidth": 0,
              "ticks": ""
             }
            },
            "type": "scattermapbox"
           }
          ],
          "scatterpolar": [
           {
            "marker": {
             "colorbar": {
              "outlinewidth": 0,
              "ticks": ""
             }
            },
            "type": "scatterpolar"
           }
          ],
          "scatterpolargl": [
           {
            "marker": {
             "colorbar": {
              "outlinewidth": 0,
              "ticks": ""
             }
            },
            "type": "scatterpolargl"
           }
          ],
          "scatterternary": [
           {
            "marker": {
             "colorbar": {
              "outlinewidth": 0,
              "ticks": ""
             }
            },
            "type": "scatterternary"
           }
          ],
          "surface": [
           {
            "colorbar": {
             "outlinewidth": 0,
             "ticks": ""
            },
            "colorscale": [
             [
              0,
              "#0d0887"
             ],
             [
              0.1111111111111111,
              "#46039f"
             ],
             [
              0.2222222222222222,
              "#7201a8"
             ],
             [
              0.3333333333333333,
              "#9c179e"
             ],
             [
              0.4444444444444444,
              "#bd3786"
             ],
             [
              0.5555555555555556,
              "#d8576b"
             ],
             [
              0.6666666666666666,
              "#ed7953"
             ],
             [
              0.7777777777777778,
              "#fb9f3a"
             ],
             [
              0.8888888888888888,
              "#fdca26"
             ],
             [
              1,
              "#f0f921"
             ]
            ],
            "type": "surface"
           }
          ],
          "table": [
           {
            "cells": {
             "fill": {
              "color": "#EBF0F8"
             },
             "line": {
              "color": "white"
             }
            },
            "header": {
             "fill": {
              "color": "#C8D4E3"
             },
             "line": {
              "color": "white"
             }
            },
            "type": "table"
           }
          ]
         },
         "layout": {
          "annotationdefaults": {
           "arrowcolor": "#2a3f5f",
           "arrowhead": 0,
           "arrowwidth": 1
          },
          "autotypenumbers": "strict",
          "coloraxis": {
           "colorbar": {
            "outlinewidth": 0,
            "ticks": ""
           }
          },
          "colorscale": {
           "diverging": [
            [
             0,
             "#8e0152"
            ],
            [
             0.1,
             "#c51b7d"
            ],
            [
             0.2,
             "#de77ae"
            ],
            [
             0.3,
             "#f1b6da"
            ],
            [
             0.4,
             "#fde0ef"
            ],
            [
             0.5,
             "#f7f7f7"
            ],
            [
             0.6,
             "#e6f5d0"
            ],
            [
             0.7,
             "#b8e186"
            ],
            [
             0.8,
             "#7fbc41"
            ],
            [
             0.9,
             "#4d9221"
            ],
            [
             1,
             "#276419"
            ]
           ],
           "sequential": [
            [
             0,
             "#0d0887"
            ],
            [
             0.1111111111111111,
             "#46039f"
            ],
            [
             0.2222222222222222,
             "#7201a8"
            ],
            [
             0.3333333333333333,
             "#9c179e"
            ],
            [
             0.4444444444444444,
             "#bd3786"
            ],
            [
             0.5555555555555556,
             "#d8576b"
            ],
            [
             0.6666666666666666,
             "#ed7953"
            ],
            [
             0.7777777777777778,
             "#fb9f3a"
            ],
            [
             0.8888888888888888,
             "#fdca26"
            ],
            [
             1,
             "#f0f921"
            ]
           ],
           "sequentialminus": [
            [
             0,
             "#0d0887"
            ],
            [
             0.1111111111111111,
             "#46039f"
            ],
            [
             0.2222222222222222,
             "#7201a8"
            ],
            [
             0.3333333333333333,
             "#9c179e"
            ],
            [
             0.4444444444444444,
             "#bd3786"
            ],
            [
             0.5555555555555556,
             "#d8576b"
            ],
            [
             0.6666666666666666,
             "#ed7953"
            ],
            [
             0.7777777777777778,
             "#fb9f3a"
            ],
            [
             0.8888888888888888,
             "#fdca26"
            ],
            [
             1,
             "#f0f921"
            ]
           ]
          },
          "colorway": [
           "#636efa",
           "#EF553B",
           "#00cc96",
           "#ab63fa",
           "#FFA15A",
           "#19d3f3",
           "#FF6692",
           "#B6E880",
           "#FF97FF",
           "#FECB52"
          ],
          "font": {
           "color": "#2a3f5f"
          },
          "geo": {
           "bgcolor": "white",
           "lakecolor": "white",
           "landcolor": "#E5ECF6",
           "showlakes": true,
           "showland": true,
           "subunitcolor": "white"
          },
          "hoverlabel": {
           "align": "left"
          },
          "hovermode": "closest",
          "mapbox": {
           "style": "light"
          },
          "paper_bgcolor": "white",
          "plot_bgcolor": "#E5ECF6",
          "polar": {
           "angularaxis": {
            "gridcolor": "white",
            "linecolor": "white",
            "ticks": ""
           },
           "bgcolor": "#E5ECF6",
           "radialaxis": {
            "gridcolor": "white",
            "linecolor": "white",
            "ticks": ""
           }
          },
          "scene": {
           "xaxis": {
            "backgroundcolor": "#E5ECF6",
            "gridcolor": "white",
            "gridwidth": 2,
            "linecolor": "white",
            "showbackground": true,
            "ticks": "",
            "zerolinecolor": "white"
           },
           "yaxis": {
            "backgroundcolor": "#E5ECF6",
            "gridcolor": "white",
            "gridwidth": 2,
            "linecolor": "white",
            "showbackground": true,
            "ticks": "",
            "zerolinecolor": "white"
           },
           "zaxis": {
            "backgroundcolor": "#E5ECF6",
            "gridcolor": "white",
            "gridwidth": 2,
            "linecolor": "white",
            "showbackground": true,
            "ticks": "",
            "zerolinecolor": "white"
           }
          },
          "shapedefaults": {
           "line": {
            "color": "#2a3f5f"
           }
          },
          "ternary": {
           "aaxis": {
            "gridcolor": "white",
            "linecolor": "white",
            "ticks": ""
           },
           "baxis": {
            "gridcolor": "white",
            "linecolor": "white",
            "ticks": ""
           },
           "bgcolor": "#E5ECF6",
           "caxis": {
            "gridcolor": "white",
            "linecolor": "white",
            "ticks": ""
           }
          },
          "title": {
           "x": 0.05
          },
          "xaxis": {
           "automargin": true,
           "gridcolor": "white",
           "linecolor": "white",
           "ticks": "",
           "title": {
            "standoff": 15
           },
           "zerolinecolor": "white",
           "zerolinewidth": 2
          },
          "yaxis": {
           "automargin": true,
           "gridcolor": "white",
           "linecolor": "white",
           "ticks": "",
           "title": {
            "standoff": 15
           },
           "zerolinecolor": "white",
           "zerolinewidth": 2
          }
         }
        },
        "title": {
         "text": "백테스트 결과: TOTAL, 2023-01-02~2023-01-18",
         "x": 0.5,
         "y": 0.98
        },
        "uniformtext": {
         "minsize": 12,
         "mode": "show"
        },
        "xaxis": {
         "anchor": "y",
         "domain": [
          0,
          1
         ],
         "matches": "x3",
         "showticklabels": false
        },
        "xaxis2": {
         "anchor": "y2",
         "domain": [
          0,
          1
         ],
         "matches": "x3",
         "showticklabels": false
        },
        "xaxis3": {
         "anchor": "y3",
         "domain": [
          0,
          1
         ],
         "hoverformat": "%Y-%m-%d",
         "showticklabels": true,
         "tickformat": "%Y-%m-%d"
        },
        "yaxis": {
         "anchor": "x",
         "domain": [
          0.7300000000000001,
          1
         ],
         "tickformat": ",d"
        },
        "yaxis2": {
         "anchor": "x2",
         "domain": [
          0.41000000000000003,
          0.68
         ],
         "tickformat": ",d"
        },
        "yaxis3": {
         "anchor": "x3",
         "domain": [
          0,
          0.36000000000000004
         ],
         "tickformat": ",d"
        }
       }
      },
      "text/html": [
       "<div>                            <div id=\"7a7fda19-8420-4345-9496-4d8445441f11\" class=\"plotly-graph-div\" style=\"height:800px; width:100%;\"></div>            <script type=\"text/javascript\">                require([\"plotly\"], function(Plotly) {                    window.PLOTLYENV=window.PLOTLYENV || {};                                    if (document.getElementById(\"7a7fda19-8420-4345-9496-4d8445441f11\")) {                    Plotly.newPlot(                        \"7a7fda19-8420-4345-9496-4d8445441f11\",                        [{\"line\":{\"color\":\"#000000\",\"shape\":\"hv\"},\"mode\":\"lines\",\"name\":\"\\uc794\\uace0\\uac00\\uce58\",\"x\":[\"2023-01-02T00:00:00\",\"2023-01-03T00:00:00\",\"2023-01-04T00:00:00\",\"2023-01-05T00:00:00\",\"2023-01-06T00:00:00\",\"2023-01-09T00:00:00\",\"2023-01-10T00:00:00\",\"2023-01-11T00:00:00\",\"2023-01-12T00:00:00\",\"2023-01-13T00:00:00\",\"2023-01-16T00:00:00\",\"2023-01-17T00:00:00\",\"2023-01-18T00:00:00\"],\"y\":[2069000.0,2066000.0,2198000.0,2210000.0,2252000.0,2327000.0,2334000.0,1746000.0,1736000.0,1714000.0,1716000.0,1720000.0,null],\"type\":\"scatter\",\"xaxis\":\"x3\",\"yaxis\":\"y\"},{\"cliponaxis\":false,\"marker\":{\"color\":[\"#00008B\",\"#00008B\",\"#00008B\",\"#00008B\",\"#00008B\",\"#00008B\",\"#00008B\",\"#DC143C\",\"#00008B\",\"#00008B\",\"#00008B\",\"#00008B\",\"#DC143C\"]},\"name\":\"\\uc2e4\\ud604\\uc190\\uc775\",\"text\":[\"\",\"\",\"\",\"\",\"\",\"\",\"\",\"50,000\",\"\",\"\",\"\",\"\",\"188,000\"],\"textposition\":\"outside\",\"width\":432000000,\"x\":[\"2023-01-02T00:00:00\",\"2023-01-03T00:00:00\",\"2023-01-04T00:00:00\",\"2023-01-05T00:00:00\",\"2023-01-06T00:00:00\",\"2023-01-09T00:00:00\",\"2023-01-10T00:00:00\",\"2023-01-11T00:00:00\",\"2023-01-12T00:00:00\",\"2023-01-13T00:00:00\",\"2023-01-16T00:00:00\",\"2023-01-17T00:00:00\",\"2023-01-18T00:00:00\"],\"y\":[0,0,0,0,0,0,0,50000,0,0,0,0,188000],\"type\":\"bar\",\"xaxis\":\"x3\",\"yaxis\":\"y2\"},{\"line\":{\"color\":\"#000000\",\"shape\":\"hv\"},\"mode\":\"lines\",\"name\":\"\\ucd1d\\uc790\\uc0b0\\uac00\\uce58\",\"x\":[\"2023-01-02T00:00:00\",\"2023-01-03T00:00:00\",\"2023-01-04T00:00:00\",\"2023-01-05T00:00:00\",\"2023-01-06T00:00:00\",\"2023-01-09T00:00:00\",\"2023-01-10T00:00:00\",\"2023-01-11T00:00:00\",\"2023-01-12T00:00:00\",\"2023-01-13T00:00:00\",\"2023-01-16T00:00:00\",\"2023-01-17T00:00:00\",\"2023-01-18T00:00:00\"],\"y\":[10000000,9997000,10129000,10141000,10183000,10258000,10265000,10282000,10272000,10250000,10252000,10256000,10238000],\"type\":\"scatter\",\"xaxis\":\"x3\",\"yaxis\":\"y3\"},{\"line\":{\"color\":\"#DC143C\",\"dash\":\"dash\",\"shape\":\"hv\"},\"mode\":\"lines\",\"name\":\"\\ucd5c\\uace0\\uc790\\uc0b0\\uac00\\uce58\",\"x\":[\"2023-01-02T00:00:00\",\"2023-01-03T00:00:00\",\"2023-01-04T00:00:00\",\"2023-01-05T00:00:00\",\"2023-01-06T00:00:00\",\"2023-01-09T00:00:00\",\"2023-01-10T00:00:00\",\"2023-01-11T00:00:00\",\"2023-01-12T00:00:00\",\"2023-01-13T00:00:00\",\"2023-01-16T00:00:00\",\"2023-01-17T00:00:00\",\"2023-01-18T00:00:00\"],\"y\":[10000000,10000000,10129000,10141000,10183000,10258000,10265000,10282000,10282000,10282000,10282000,10282000,10282000],\"type\":\"scatter\",\"xaxis\":\"x3\",\"yaxis\":\"y3\"},{\"base\":[10000000],\"cliponaxis\":false,\"marker\":{\"color\":[\"#DC143C\"]},\"name\":\"\\ucd5c\\uc885\\uc190\\uc775\",\"text\":[\"\\ucd5c\\uc885\\uc218\\uc775: 238,000\"],\"textposition\":\"outside\",\"width\":864000000,\"x\":[\"2023-01-18T00:00:00\"],\"y\":[238000],\"type\":\"bar\",\"xaxis\":\"x3\",\"yaxis\":\"y3\"},{\"cliponaxis\":false,\"marker\":{\"color\":[\"#DC143C\",\"#00008B\"],\"line\":{\"color\":\"white\",\"width\":1},\"size\":12,\"symbol\":[\"triangle-up\",\"triangle-down\"]},\"mode\":\"markers+text\",\"name\":\"\",\"text\":[\"\\ucd5c\\uace0\\uc790\\uc0b0\\uac00\\uce58: 10,282,000\",\"MDD: -44,000\"],\"textposition\":[\"top center\",\"bottom center\"],\"x\":[\"2023-01-11T00:00:00\",\"2023-01-18T00:00:00\"],\"y\":[10282000,10238000],\"type\":\"scatter\",\"xaxis\":\"x3\",\"yaxis\":\"y3\"}],                        {\"template\":{\"data\":{\"histogram2dcontour\":[{\"type\":\"histogram2dcontour\",\"colorbar\":{\"outlinewidth\":0,\"ticks\":\"\"},\"colorscale\":[[0.0,\"#0d0887\"],[0.1111111111111111,\"#46039f\"],[0.2222222222222222,\"#7201a8\"],[0.3333333333333333,\"#9c179e\"],[0.4444444444444444,\"#bd3786\"],[0.5555555555555556,\"#d8576b\"],[0.6666666666666666,\"#ed7953\"],[0.7777777777777778,\"#fb9f3a\"],[0.8888888888888888,\"#fdca26\"],[1.0,\"#f0f921\"]]}],\"choropleth\":[{\"type\":\"choropleth\",\"colorbar\":{\"outlinewidth\":0,\"ticks\":\"\"}}],\"histogram2d\":[{\"type\":\"histogram2d\",\"colorbar\":{\"outlinewidth\":0,\"ticks\":\"\"},\"colorscale\":[[0.0,\"#0d0887\"],[0.1111111111111111,\"#46039f\"],[0.2222222222222222,\"#7201a8\"],[0.3333333333333333,\"#9c179e\"],[0.4444444444444444,\"#bd3786\"],[0.5555555555555556,\"#d8576b\"],[0.6666666666666666,\"#ed7953\"],[0.7777777777777778,\"#fb9f3a\"],[0.8888888888888888,\"#fdca26\"],[1.0,\"#f0f921\"]]}],\"heatmap\":[{\"type\":\"heatmap\",\"colorbar\":{\"outlinewidth\":0,\"ticks\":\"\"},\"colorscale\":[[0.0,\"#0d0887\"],[0.1111111111111111,\"#46039f\"],[0.2222222222222222,\"#7201a8\"],[0.3333333333333333,\"#9c179e\"],[0.4444444444444444,\"#bd3786\"],[0.5555555555555556,\"#d8576b\"],[0.6666666666666666,\"#ed7953\"],[0.7777777777777778,\"#fb9f3a\"],[0.8888888888888888,\"#fdca26\"],[1.0,\"#f0f921\"]]}],\"heatmapgl\":[{\"type\":\"heatmapgl\",\"colorbar\":{\"outlinewidth\":0,\"ticks\":\"\"},\"colorscale\":[[0.0,\"#0d0887\"],[0.1111111111111111,\"#46039f\"],[0.2222222222222222,\"#7201a8\"],[0.3333333333333333,\"#9c179e\"],[0.4444444444444444,\"#bd3786\"],[0.5555555555555556,\"#d8576b\"],[0.6666666666666666,\"#ed7953\"],[0.7777777777777778,\"#fb9f3a\"],[0.8888888888888888,\"#fdca26\"],[1.0,\"#f0f921\"]]}],\"contourcarpet\":[{\"type\":\"contourcarpet\",\"colorbar\":{\"outlinewidth\":0,\"ticks\":\"\"}}],\"contour\":[{\"type\":\"contour\",\"colorbar\":{\"outlinewidth\":0,\"ticks\":\"\"},\"colorscale\":[[0.0,\"#0d0887\"],[0.1111111111111111,\"#46039f\"],[0.2222222222222222,\"#7201a8\"],[0.3333333333333333,\"#9c179e\"],[0.4444444444444444,\"#bd3786\"],[0.5555555555555556,\"#d8576b\"],[0.6666666666666666,\"#ed7953\"],[0.7777777777777778,\"#fb9f3a\"],[0.8888888888888888,\"#fdca26\"],[1.0,\"#f0f921\"]]}],\"surface\":[{\"type\":\"surface\",\"colorbar\":{\"outlinewidth\":0,\"ticks\":\"\"},\"colorscale\":[[0.0,\"#0d0887\"],[0.1111111111111111,\"#46039f\"],[0.2222222222222222,\"#7201a8\"],[0.3333333333333333,\"#9c179e\"],[0.4444444444444444,\"#bd3786\"],[0.5555555555555556,\"#d8576b\"],[0.6666666666666666,\"#ed7953\"],[0.7777777777777778,\"#fb9f3a\"],[0.8888888888888888,\"#fdca26\"],[1.0,\"#f0f921\"]]}],\"mesh3d\":[{\"type\":\"mesh3d\",\"colorbar\":{\"outlinewidth\":0,\"ticks\":\"\"}}],\"scatter\":[{\"fillpattern\":{\"fillmode\":\"overlay\",\"size\":10,\"solidity\":0.2},\"type\":\"scatter\"}],\"parcoords\":[{\"type\":\"parcoords\",\"line\":{\"colorbar\":{\"outlinewidth\":0,\"ticks\":\"\"}}}],\"scatterpolargl\":[{\"type\":\"scatterpolargl\",\"marker\":{\"colorbar\":{\"outlinewidth\":0,\"ticks\":\"\"}}}],\"bar\":[{\"error_x\":{\"color\":\"#2a3f5f\"},\"error_y\":{\"color\":\"#2a3f5f\"},\"marker\":{\"line\":{\"color\":\"#E5ECF6\",\"width\":0.5},\"pattern\":{\"fillmode\":\"overlay\",\"size\":10,\"solidity\":0.2}},\"type\":\"bar\"}],\"scattergeo\":[{\"type\":\"scattergeo\",\"marker\":{\"colorbar\":{\"outlinewidth\":0,\"ticks\":\"\"}}}],\"scatterpolar\":[{\"type\":\"scatterpolar\",\"marker\":{\"colorbar\":{\"outlinewidth\":0,\"ticks\":\"\"}}}],\"histogram\":[{\"marker\":{\"pattern\":{\"fillmode\":\"overlay\",\"size\":10,\"solidity\":0.2}},\"type\":\"histogram\"}],\"scattergl\":[{\"type\":\"scattergl\",\"marker\":{\"colorbar\":{\"outlinewidth\":0,\"ticks\":\"\"}}}],\"scatter3d\":[{\"type\":\"scatter3d\",\"line\":{\"colorbar\":{\"outlinewidth\":0,\"ticks\":\"\"}},\"marker\":{\"colorbar\":{\"outlinewidth\":0,\"ticks\":\"\"}}}],\"scattermapbox\":[{\"type\":\"scattermapbox\",\"marker\":{\"colorbar\":{\"outlinewidth\":0,\"ticks\":\"\"}}}],\"scatterternary\":[{\"type\":\"scatterternary\",\"marker\":{\"colorbar\":{\"outlinewidth\":0,\"ticks\":\"\"}}}],\"scattercarpet\":[{\"type\":\"scattercarpet\",\"marker\":{\"colorbar\":{\"outlinewidth\":0,\"ticks\":\"\"}}}],\"carpet\":[{\"aaxis\":{\"endlinecolor\":\"#2a3f5f\",\"gridcolor\":\"white\",\"linecolor\":\"white\",\"minorgridcolor\":\"white\",\"startlinecolor\":\"#2a3f5f\"},\"baxis\":{\"endlinecolor\":\"#2a3f5f\",\"gridcolor\":\"white\",\"linecolor\":\"white\",\"minorgridcolor\":\"white\",\"startlinecolor\":\"#2a3f5f\"},\"type\":\"carpet\"}],\"table\":[{\"cells\":{\"fill\":{\"color\":\"#EBF0F8\"},\"line\":{\"color\":\"white\"}},\"header\":{\"fill\":{\"color\":\"#C8D4E3\"},\"line\":{\"color\":\"white\"}},\"type\":\"table\"}],\"barpolar\":[{\"marker\":{\"line\":{\"color\":\"#E5ECF6\",\"width\":0.5},\"pattern\":{\"fillmode\":\"overlay\",\"size\":10,\"solidity\":0.2}},\"type\":\"barpolar\"}],\"pie\":[{\"automargin\":true,\"type\":\"pie\"}]},\"layout\":{\"autotypenumbers\":\"strict\",\"colorway\":[\"#636efa\",\"#EF553B\",\"#00cc96\",\"#ab63fa\",\"#FFA15A\",\"#19d3f3\",\"#FF6692\",\"#B6E880\",\"#FF97FF\",\"#FECB52\"],\"font\":{\"color\":\"#2a3f5f\"},\"hovermode\":\"closest\",\"hoverlabel\":{\"align\":\"left\"},\"paper_bgcolor\":\"white\",\"plot_bgcolor\":\"#E5ECF6\",\"polar\":{\"bgcolor\":\"#E5ECF6\",\"angularaxis\":{\"gridcolor\":\"white\",\"linecolor\":\"white\",\"ticks\":\"\"},\"radialaxis\":{\"gridcolor\":\"white\",\"linecolor\":\"white\",\"ticks\":\"\"}},\"ternary\":{\"bgcolor\":\"#E5ECF6\",\"aaxis\":{\"gridcolor\":\"white\",\"linecolor\":\"white\",\"ticks\":\"\"},\"baxis\":{\"gridcolor\":\"white\",\"linecolor\":\"white\",\"ticks\":\"\"},\"caxis\":{\"gridcolor\":\"white\",\"linecolor\":\"white\",\"ticks\":\"\"}},\"coloraxis\":{\"colorbar\":{\"outlinewidth\":0,\"ticks\":\"\"}},\"colorscale\":{\"sequential\":[[0.0,\"#0d0887\"],[0.1111111111111111,\"#46039f\"],[0.2222222222222222,\"#7201a8\"],[0.3333333333333333,\"#9c179e\"],[0.4444444444444444,\"#bd3786\"],[0.5555555555555556,\"#d8576b\"],[0.6666666666666666,\"#ed7953\"],[0.7777777777777778,\"#fb9f3a\"],[0.8888888888888888,\"#fdca26\"],[1.0,\"#f0f921\"]],\"sequentialminus\":[[0.0,\"#0d0887\"],[0.1111111111111111,\"#46039f\"],[0.2222222222222222,\"#7201a8\"],[0.3333333333333333,\"#9c179e\"],[0.4444444444444444,\"#bd3786\"],[0.5555555555555556,\"#d8576b\"],[0.6666666666666666,\"#ed7953\"],[0.7777777777777778,\"#fb9f3a\"],[0.8888888888888888,\"#fdca26\"],[1.0,\"#f0f921\"]],\"diverging\":[[0,\"#8e0152\"],[0.1,\"#c51b7d\"],[0.2,\"#de77ae\"],[0.3,\"#f1b6da\"],[0.4,\"#fde0ef\"],[0.5,\"#f7f7f7\"],[0.6,\"#e6f5d0\"],[0.7,\"#b8e186\"],[0.8,\"#7fbc41\"],[0.9,\"#4d9221\"],[1,\"#276419\"]]},\"xaxis\":{\"gridcolor\":\"white\",\"linecolor\":\"white\",\"ticks\":\"\",\"title\":{\"standoff\":15},\"zerolinecolor\":\"white\",\"automargin\":true,\"zerolinewidth\":2},\"yaxis\":{\"gridcolor\":\"white\",\"linecolor\":\"white\",\"ticks\":\"\",\"title\":{\"standoff\":15},\"zerolinecolor\":\"white\",\"automargin\":true,\"zerolinewidth\":2},\"scene\":{\"xaxis\":{\"backgroundcolor\":\"#E5ECF6\",\"gridcolor\":\"white\",\"linecolor\":\"white\",\"showbackground\":true,\"ticks\":\"\",\"zerolinecolor\":\"white\",\"gridwidth\":2},\"yaxis\":{\"backgroundcolor\":\"#E5ECF6\",\"gridcolor\":\"white\",\"linecolor\":\"white\",\"showbackground\":true,\"ticks\":\"\",\"zerolinecolor\":\"white\",\"gridwidth\":2},\"zaxis\":{\"backgroundcolor\":\"#E5ECF6\",\"gridcolor\":\"white\",\"linecolor\":\"white\",\"showbackground\":true,\"ticks\":\"\",\"zerolinecolor\":\"white\",\"gridwidth\":2}},\"shapedefaults\":{\"line\":{\"color\":\"#2a3f5f\"}},\"annotationdefaults\":{\"arrowcolor\":\"#2a3f5f\",\"arrowhead\":0,\"arrowwidth\":1},\"geo\":{\"bgcolor\":\"white\",\"landcolor\":\"#E5ECF6\",\"subunitcolor\":\"white\",\"showland\":true,\"showlakes\":true,\"lakecolor\":\"white\"},\"title\":{\"x\":0.05},\"mapbox\":{\"style\":\"light\"}}},\"xaxis\":{\"anchor\":\"y\",\"domain\":[0.0,1.0],\"matches\":\"x3\",\"showticklabels\":false},\"yaxis\":{\"anchor\":\"x\",\"domain\":[0.7300000000000001,1.0],\"tickformat\":\",d\"},\"xaxis2\":{\"anchor\":\"y2\",\"domain\":[0.0,1.0],\"matches\":\"x3\",\"showticklabels\":false},\"yaxis2\":{\"anchor\":\"x2\",\"domain\":[0.41000000000000003,0.68],\"tickformat\":\",d\"},\"xaxis3\":{\"anchor\":\"y3\",\"domain\":[0.0,1.0],\"hoverformat\":\"%Y-%m-%d\",\"showticklabels\":true,\"tickformat\":\"%Y-%m-%d\"},\"yaxis3\":{\"anchor\":\"x3\",\"domain\":[0.0,0.36000000000000004],\"tickformat\":\",d\"},\"annotations\":[{\"font\":{\"size\":16},\"showarrow\":false,\"text\":\"\\uc794\\uace0\\uac00\\uce58\",\"x\":0.5,\"xanchor\":\"center\",\"xref\":\"paper\",\"y\":1.0,\"yanchor\":\"bottom\",\"yref\":\"paper\"},{\"font\":{\"size\":16},\"showarrow\":false,\"text\":\"\\uc2e4\\ud604\\uc190\\uc775\",\"x\":0.5,\"xanchor\":\"center\",\"xref\":\"paper\",\"y\":0.68,\"yanchor\":\"bottom\",\"yref\":\"paper\"},{\"font\":{\"size\":16},\"showarrow\":false,\"text\":\"\\ucd1d\\uc790\\uc0b0\\uac00\\uce58\",\"x\":0.5,\"xanchor\":\"center\",\"xref\":\"paper\",\"y\":0.36000000000000004,\"yanchor\":\"bottom\",\"yref\":\"paper\"}],\"margin\":{\"b\":25,\"l\":25,\"r\":25,\"t\":80},\"title\":{\"text\":\"\\ubc31\\ud14c\\uc2a4\\ud2b8 \\uacb0\\uacfc: TOTAL, 2023-01-02~2023-01-18\",\"x\":0.5,\"y\":0.98},\"uniformtext\":{\"minsize\":12,\"mode\":\"show\"},\"height\":800,\"hovermode\":\"x unified\",\"showlegend\":false},                        {\"modeBarButtonsToRemove\": [\"resetScale2d\", \"lasso2d\", \"zoomIn2d\", \"zoomOut2d\", \"select2d\"], \"displaylogo\": false, \"responsive\": true}                    ).then(function(){\n",
       "                            \n",
       "var gd = document.getElementById('7a7fda19-8420-4345-9496-4d8445441f11');\n",
       "var x = new MutationObserver(function (mutations, observer) {{\n",
       "        var display = window.getComputedStyle(gd).display;\n",
       "        if (!display || display === 'none') {{\n",
       "            console.log([gd, 'removed!']);\n",
       "            Plotly.purge(gd);\n",
       "            observer.disconnect();\n",
       "        }}\n",
       "}});\n",
       "\n",
       "// Listen for the removal of the full notebook cells\n",
       "var notebookContainer = gd.closest('#notebook-container');\n",
       "if (notebookContainer) {{\n",
       "    x.observe(notebookContainer, {childList: true});\n",
       "}}\n",
       "\n",
       "// Listen for the clearing of the current output cell\n",
       "var outputEl = gd.closest('.output');\n",
       "if (outputEl) {{\n",
       "    x.observe(outputEl, {childList: true});\n",
       "}}\n",
       "\n",
       "                        })                };                });            </script>        </div>"
      ]
     },
     "metadata": {},
     "output_type": "display_data"
    }
   ],
   "source": [
    "kq.backtest_plot_stock_daily(df_result_total)"
   ]
  },
  {
   "cell_type": "markdown",
   "metadata": {},
   "source": [
    "## 6.4 포워드테스트"
   ]
  },
  {
   "cell_type": "markdown",
   "metadata": {},
   "source": [
    "포트폴리오의 경우에도 `backtest_update_stock_port_daily` 함수를 사용하여 개별주식과 마찬가지로 포워드 테스트가 가능합니다.\n",
    "\n",
    "`backtest_update_stock_port_daily` 함수를 사용하기 위해서는 최초 백테스트를 수행할 때 다음 코드와 같이 `return_position` 인수를 `True`로 주어 현재의 주식 보유상태를 저장하는 `dict_df_position` 딕셔너리를 추가로 출력해야 합니다."
   ]
  },
  {
   "cell_type": "code",
   "execution_count": 11,
   "metadata": {},
   "outputs": [
    {
     "name": "stderr",
     "output_type": "stream",
     "text": [
      "[2023-01-02] 종목: 005930, 주문전 보유수량:      0 주문수량:     10, 매매수량:     10, 주문후 보유수량:     10\n",
      "[2023-01-02] 종목: 000660, 주문전 보유수량:      0 주문수량:     20, 매매수량:     20, 주문후 보유수량:     20\n"
     ]
    }
   ],
   "source": [
    "df_order2 = pd.DataFrame({\n",
    "    \"DATE\": [\"2023-01-02\", \"2023-01-02\"],\n",
    "    \"SYMBOL\": [\"005930\", \"000660\"],\n",
    "    \"ORDER\": [10, 20]\n",
    "})\n",
    "\n",
    "dict_df_result2, dict_df_position2 = kq.backtest_stock_port_daily(\n",
    "    df_order2, \n",
    "    init_cash=10_000_000, \n",
    "    return_position=True,\n",
    ")\n"
   ]
  },
  {
   "cell_type": "markdown",
   "metadata": {},
   "source": [
    "이렇게 계산한 `dict_df_result` 및 `dict_df_position` 딕셔너리를 새로운 주문 정보와 함께 `backtest_update_stock_port_daily` 함수에 넣어주면 백테스트 결과가 추가로 갱신됩니다.\n",
    "\n",
    "이 때 `backtest_update_stock_port_daily` 함수에는 다음과 같은 인수를 주어야 합니다.\n",
    "\n",
    "- `symbols_and_orders`: 종목 단축코드 문자열과 매매 수량으로 이루어진 튜플의 리스트\n",
    "- `date`: 매매일\n",
    "- `dict_df_result`: 과거의 백테스트 결과 데이터프레임 딕셔너리\n",
    "- `dict_df_position`: 과거의 백테스트 포지션 데이터프레임 딕셔너리"
   ]
  },
  {
   "cell_type": "code",
   "execution_count": 12,
   "metadata": {},
   "outputs": [
    {
     "name": "stderr",
     "output_type": "stream",
     "text": [
      "[2023-01-11] 종목: 005930, 주문전 보유수량:     10 주문수량:    -10, 매매수량:    -10, 주문후 보유수량:      0\n"
     ]
    }
   ],
   "source": [
    "dict_df_result3, dict_df_position3 = kq.backtest_update_stock_port_daily(\n",
    "    [(\"005930\", -10)],\n",
    "    \"2023-01-11\", \n",
    "    dict_df_result2, \n",
    "    dict_df_position2,\n",
    ")\n"
   ]
  },
  {
   "cell_type": "code",
   "execution_count": 13,
   "metadata": {},
   "outputs": [
    {
     "name": "stderr",
     "output_type": "stream",
     "text": [
      "[2023-01-18] 종목: 000660, 주문전 보유수량:     20 주문수량:    -20, 매매수량:    -20, 주문후 보유수량:      0\n"
     ]
    }
   ],
   "source": [
    "dict_df_result4, dict_df_position4 = kq.backtest_update_stock_port_daily(\n",
    "    [(\"000660\", -20)],\n",
    "    \"2023-01-18\", \n",
    "    dict_df_result3, \n",
    "    dict_df_position3,\n",
    ")\n"
   ]
  },
  {
   "cell_type": "markdown",
   "metadata": {},
   "source": [
    "이렇게 하면 최종적으로 앞의 예제와 동일한 백테스트 결과를 얻을 수 있습니다."
   ]
  },
  {
   "cell_type": "code",
   "execution_count": 14,
   "metadata": {},
   "outputs": [
    {
     "name": "stdout",
     "output_type": "stream",
     "text": [
      "True True True\n"
     ]
    }
   ],
   "source": [
    "print(\n",
    "    dict_df_result[\"005930\"].equals(dict_df_result4[\"005930\"]),\n",
    "    dict_df_result[\"000660\"].equals(dict_df_result4[\"000660\"]),\n",
    "    dict_df_result[\"TOTAL\"].equals(dict_df_result4[\"TOTAL\"])\n",
    ")\n"
   ]
  },
  {
   "cell_type": "markdown",
   "metadata": {},
   "source": [
    "## 6.5 전략 함수를 사용한 백테스트"
   ]
  },
  {
   "cell_type": "markdown",
   "metadata": {},
   "source": [
    "프트폴리오 백테스트 함수의 경우에도 `order` 인수에 실제 주문정보가 담긴 데이터프레임이 아닌 주문정보를 생성할 수 있는 전략 함수를 받을 수도 있습니다. \n",
    "\n",
    "`order` 인수로 넣을 수 있는 함수는 반드시 다음과 같은 인수를 가져야 합니다.\n",
    "\n",
    "- `date`: datetime.date 형식의 날짜 정보\n",
    "- `dict_df_result`: 백테스트 결과 데이터프레임 딕셔너리\n",
    "- `dict_df_position`: 백테스트 포지션 데이터프레임 딕셔너리\n",
    "- `logger`: 로거 객체\n",
    "\n",
    "다음 예제 코드는 특정 주식들을 2023년 1월 2일에 10주식 매수하고 다음으로 찾아오는 수요일 마다 1주씩 추가 매수하는 전략을 구현한 코드입니다."
   ]
  },
  {
   "cell_type": "code",
   "execution_count": 15,
   "metadata": {},
   "outputs": [],
   "source": [
    "import datetime as dt\n",
    "import logging\n",
    "\n",
    "import pandas as pd\n",
    "\n",
    "\n",
    "def trade_func(\n",
    "    date: dt.date,\n",
    "    dict_df_result: dict[str, pd.DataFrame],\n",
    "    dict_df_position: dict[str, pd.DataFrame],\n",
    "    logger: logging.Logger,\n",
    ") -> list[tuple[str, int]]:\n",
    "    r\"\"\"주식매매 지시함수\n",
    "\n",
    "    주식매매 지시함수에 대한 설명\n",
    "\n",
    "    :param dt.date date: 매매일 날짜\n",
    "    :param dict[str, pd.DataFrame] dict_df_result: 매매일까지의 주문 및 체결 정보\n",
    "    :param dict[str, pd.DataFrame] dict_df_position: 매매일의 주식 보유 정보\n",
    "    :param logging.Logger logger: 로거\n",
    "    :return list[tuple[str, int]]: 주식매매 지시\n",
    "    \"\"\"\n",
    "    \n",
    "    # 시가총액 상위 5개 주식\n",
    "    symbols = [\n",
    "        \"005930\",\n",
    "        \"373220\",\n",
    "        \"000660\",\n",
    "        \"207940\",\n",
    "        \"005490\",\n",
    "    ]\n",
    "\n",
    "    if date == dt.date(2023, 1, 2):  # 투자 시작일\n",
    "        # 각 종목을 10주씩 매수\n",
    "        symbols_and_orders = [\n",
    "            (symbols[0], 10),\n",
    "            (symbols[1], 10),\n",
    "            (symbols[2], 10),\n",
    "            (symbols[3], 10),\n",
    "            (symbols[4], 10),\n",
    "        ]\n",
    "    elif date.weekday() == 1:  # 매주 화요일마다\n",
    "        # 각 종목을 추가적으로 1주씩 매수\n",
    "        symbols_and_orders = [\n",
    "            (symbols[0], 1),\n",
    "            (symbols[1], 1),\n",
    "            (symbols[2], 1),\n",
    "            (symbols[3], 1),\n",
    "            (symbols[4], 1),\n",
    "        ]\n",
    "    else:\n",
    "        symbols_and_orders = []\n",
    "\n",
    "    return symbols_and_orders\n"
   ]
  },
  {
   "cell_type": "code",
   "execution_count": 16,
   "metadata": {},
   "outputs": [
    {
     "name": "stderr",
     "output_type": "stream",
     "text": [
      "[2023-01-02] 종목: 005930, 주문전 보유수량:      0 주문수량:     10, 매매수량:     10, 주문후 보유수량:     10\n",
      "[2023-01-02] 종목: 373220, 주문전 보유수량:      0 주문수량:     10, 매매수량:     10, 주문후 보유수량:     10\n",
      "[2023-01-02] 종목: 000660, 주문전 보유수량:      0 주문수량:     10, 매매수량:     10, 주문후 보유수량:     10\n",
      "[2023-01-02] 종목: 207940, 주문전 보유수량:      0 주문수량:     10, 매매수량:     10, 주문후 보유수량:     10\n",
      "[2023-01-02] 종목: 005490, 주문전 보유수량:      0 주문수량:     10, 매매수량:     10, 주문후 보유수량:     10\n",
      "[2023-01-03] 종목: 005930, 주문전 보유수량:     10 주문수량:      1, 매매수량:      1, 주문후 보유수량:     11\n",
      "[2023-01-03] 종목: 373220, 주문전 보유수량:     10 주문수량:      1, 매매수량:      1, 주문후 보유수량:     11\n",
      "[2023-01-03] 종목: 000660, 주문전 보유수량:     10 주문수량:      1, 매매수량:      1, 주문후 보유수량:     11\n",
      "[2023-01-03] 종목: 207940, 주문전 보유수량:     10 주문수량:      1, 매매수량:      1, 주문후 보유수량:     11\n",
      "[2023-01-03] 종목: 005490, 주문전 보유수량:     10 주문수량:      1, 매매수량:      1, 주문후 보유수량:     11\n",
      "[2023-01-10] 종목: 005930, 주문전 보유수량:     11 주문수량:      1, 매매수량:      1, 주문후 보유수량:     12\n",
      "[2023-01-10] 종목: 373220, 주문전 보유수량:     11 주문수량:      1, 매매수량:      1, 주문후 보유수량:     12\n",
      "[2023-01-10] 종목: 000660, 주문전 보유수량:     11 주문수량:      1, 매매수량:      1, 주문후 보유수량:     12\n",
      "[2023-01-10] 종목: 207940, 주문전 보유수량:     11 주문수량:      1, 매매수량:      1, 주문후 보유수량:     12\n",
      "[2023-01-10] 종목: 005490, 주문전 보유수량:     11 주문수량:      1, 매매수량:      1, 주문후 보유수량:     12\n"
     ]
    }
   ],
   "source": [
    "dict_df_result5 = kq.backtest_stock_port_daily(\n",
    "    trade_func,\n",
    "    \"2023-01-02\",\n",
    "    \"2023-01-13\",\n",
    "    init_cash=1_000_000_000,\n",
    ")\n"
   ]
  },
  {
   "cell_type": "markdown",
   "metadata": {},
   "source": [
    "매매 결과는 다음과 같습니다."
   ]
  },
  {
   "cell_type": "code",
   "execution_count": 17,
   "metadata": {},
   "outputs": [
    {
     "data": {
      "text/html": [
       "<div>\n",
       "<style scoped>\n",
       "    .dataframe tbody tr th:only-of-type {\n",
       "        vertical-align: middle;\n",
       "    }\n",
       "\n",
       "    .dataframe tbody tr th {\n",
       "        vertical-align: top;\n",
       "    }\n",
       "\n",
       "    .dataframe thead th {\n",
       "        text-align: right;\n",
       "    }\n",
       "</style>\n",
       "<table border=\"1\" class=\"dataframe\">\n",
       "  <thead>\n",
       "    <tr style=\"text-align: right;\">\n",
       "      <th></th>\n",
       "      <th>DATE</th>\n",
       "      <th>SYMBOL</th>\n",
       "      <th>PRICE</th>\n",
       "      <th>ORDER</th>\n",
       "      <th>QTY</th>\n",
       "      <th>TRADE_PRICE</th>\n",
       "      <th>POSITION</th>\n",
       "      <th>AVG_PRICE</th>\n",
       "      <th>FEE</th>\n",
       "      <th>TRADE_TAX</th>\n",
       "      <th>SLIPPAGE</th>\n",
       "      <th>CASHFLOW</th>\n",
       "      <th>CASH</th>\n",
       "      <th>HIST_VALUE</th>\n",
       "      <th>STOCK_VALUE</th>\n",
       "      <th>TOTAL_VALUE</th>\n",
       "      <th>REAL_PROFIT</th>\n",
       "      <th>UNREAL_PROFIT</th>\n",
       "      <th>PROFIT</th>\n",
       "      <th>HIGHWATERMARK</th>\n",
       "      <th>DRAWDOWN</th>\n",
       "    </tr>\n",
       "  </thead>\n",
       "  <tbody>\n",
       "    <tr>\n",
       "      <th>0</th>\n",
       "      <td>2023-01-02</td>\n",
       "      <td>005930</td>\n",
       "      <td>55,500</td>\n",
       "      <td>10</td>\n",
       "      <td>10</td>\n",
       "      <td>55,500</td>\n",
       "      <td>10</td>\n",
       "      <td>55,500.0000</td>\n",
       "      <td>0</td>\n",
       "      <td>0</td>\n",
       "      <td>0</td>\n",
       "      <td>-555,000</td>\n",
       "      <td>-555,000</td>\n",
       "      <td>555,000</td>\n",
       "      <td>555,000</td>\n",
       "      <td>0</td>\n",
       "      <td>0</td>\n",
       "      <td>0</td>\n",
       "      <td>0</td>\n",
       "      <td>0</td>\n",
       "      <td>0</td>\n",
       "    </tr>\n",
       "    <tr>\n",
       "      <th>1</th>\n",
       "      <td>2023-01-03</td>\n",
       "      <td>005930</td>\n",
       "      <td>55,400</td>\n",
       "      <td>1</td>\n",
       "      <td>1</td>\n",
       "      <td>55,400</td>\n",
       "      <td>11</td>\n",
       "      <td>55,490.9091</td>\n",
       "      <td>0</td>\n",
       "      <td>0</td>\n",
       "      <td>0</td>\n",
       "      <td>-55,400</td>\n",
       "      <td>-610,400</td>\n",
       "      <td>610,400</td>\n",
       "      <td>609,400</td>\n",
       "      <td>-1,000</td>\n",
       "      <td>0</td>\n",
       "      <td>-1,000</td>\n",
       "      <td>-1,000</td>\n",
       "      <td>0</td>\n",
       "      <td>1,000</td>\n",
       "    </tr>\n",
       "    <tr>\n",
       "      <th>2</th>\n",
       "      <td>2023-01-04</td>\n",
       "      <td>005930</td>\n",
       "      <td>57,800</td>\n",
       "      <td>0</td>\n",
       "      <td>0</td>\n",
       "      <td>0</td>\n",
       "      <td>11</td>\n",
       "      <td>55,490.9091</td>\n",
       "      <td>0</td>\n",
       "      <td>0</td>\n",
       "      <td>0</td>\n",
       "      <td>0</td>\n",
       "      <td>-610,400</td>\n",
       "      <td>610,400</td>\n",
       "      <td>635,800</td>\n",
       "      <td>25,400</td>\n",
       "      <td>0</td>\n",
       "      <td>25,400</td>\n",
       "      <td>25,400</td>\n",
       "      <td>25,400</td>\n",
       "      <td>0</td>\n",
       "    </tr>\n",
       "    <tr>\n",
       "      <th>3</th>\n",
       "      <td>2023-01-05</td>\n",
       "      <td>005930</td>\n",
       "      <td>58,200</td>\n",
       "      <td>0</td>\n",
       "      <td>0</td>\n",
       "      <td>0</td>\n",
       "      <td>11</td>\n",
       "      <td>55,490.9091</td>\n",
       "      <td>0</td>\n",
       "      <td>0</td>\n",
       "      <td>0</td>\n",
       "      <td>0</td>\n",
       "      <td>-610,400</td>\n",
       "      <td>610,400</td>\n",
       "      <td>640,200</td>\n",
       "      <td>29,800</td>\n",
       "      <td>0</td>\n",
       "      <td>29,800</td>\n",
       "      <td>29,800</td>\n",
       "      <td>29,800</td>\n",
       "      <td>0</td>\n",
       "    </tr>\n",
       "    <tr>\n",
       "      <th>4</th>\n",
       "      <td>2023-01-06</td>\n",
       "      <td>005930</td>\n",
       "      <td>59,000</td>\n",
       "      <td>0</td>\n",
       "      <td>0</td>\n",
       "      <td>0</td>\n",
       "      <td>11</td>\n",
       "      <td>55,490.9091</td>\n",
       "      <td>0</td>\n",
       "      <td>0</td>\n",
       "      <td>0</td>\n",
       "      <td>0</td>\n",
       "      <td>-610,400</td>\n",
       "      <td>610,400</td>\n",
       "      <td>649,000</td>\n",
       "      <td>38,600</td>\n",
       "      <td>0</td>\n",
       "      <td>38,600</td>\n",
       "      <td>38,600</td>\n",
       "      <td>38,600</td>\n",
       "      <td>0</td>\n",
       "    </tr>\n",
       "    <tr>\n",
       "      <th>5</th>\n",
       "      <td>2023-01-09</td>\n",
       "      <td>005930</td>\n",
       "      <td>60,700</td>\n",
       "      <td>0</td>\n",
       "      <td>0</td>\n",
       "      <td>0</td>\n",
       "      <td>11</td>\n",
       "      <td>55,490.9091</td>\n",
       "      <td>0</td>\n",
       "      <td>0</td>\n",
       "      <td>0</td>\n",
       "      <td>0</td>\n",
       "      <td>-610,400</td>\n",
       "      <td>610,400</td>\n",
       "      <td>667,700</td>\n",
       "      <td>57,300</td>\n",
       "      <td>0</td>\n",
       "      <td>57,300</td>\n",
       "      <td>57,300</td>\n",
       "      <td>57,300</td>\n",
       "      <td>0</td>\n",
       "    </tr>\n",
       "    <tr>\n",
       "      <th>6</th>\n",
       "      <td>2023-01-10</td>\n",
       "      <td>005930</td>\n",
       "      <td>60,400</td>\n",
       "      <td>1</td>\n",
       "      <td>1</td>\n",
       "      <td>60,400</td>\n",
       "      <td>12</td>\n",
       "      <td>55,900.0000</td>\n",
       "      <td>0</td>\n",
       "      <td>0</td>\n",
       "      <td>0</td>\n",
       "      <td>-60,400</td>\n",
       "      <td>-670,800</td>\n",
       "      <td>670,800</td>\n",
       "      <td>724,800</td>\n",
       "      <td>54,000</td>\n",
       "      <td>0</td>\n",
       "      <td>54,000</td>\n",
       "      <td>54,000</td>\n",
       "      <td>57,300</td>\n",
       "      <td>3,300</td>\n",
       "    </tr>\n",
       "    <tr>\n",
       "      <th>7</th>\n",
       "      <td>2023-01-11</td>\n",
       "      <td>005930</td>\n",
       "      <td>60,500</td>\n",
       "      <td>0</td>\n",
       "      <td>0</td>\n",
       "      <td>0</td>\n",
       "      <td>12</td>\n",
       "      <td>55,900.0000</td>\n",
       "      <td>0</td>\n",
       "      <td>0</td>\n",
       "      <td>0</td>\n",
       "      <td>0</td>\n",
       "      <td>-670,800</td>\n",
       "      <td>670,800</td>\n",
       "      <td>726,000</td>\n",
       "      <td>55,200</td>\n",
       "      <td>0</td>\n",
       "      <td>55,200</td>\n",
       "      <td>55,200</td>\n",
       "      <td>57,300</td>\n",
       "      <td>2,100</td>\n",
       "    </tr>\n",
       "    <tr>\n",
       "      <th>8</th>\n",
       "      <td>2023-01-12</td>\n",
       "      <td>005930</td>\n",
       "      <td>60,500</td>\n",
       "      <td>0</td>\n",
       "      <td>0</td>\n",
       "      <td>0</td>\n",
       "      <td>12</td>\n",
       "      <td>55,900.0000</td>\n",
       "      <td>0</td>\n",
       "      <td>0</td>\n",
       "      <td>0</td>\n",
       "      <td>0</td>\n",
       "      <td>-670,800</td>\n",
       "      <td>670,800</td>\n",
       "      <td>726,000</td>\n",
       "      <td>55,200</td>\n",
       "      <td>0</td>\n",
       "      <td>55,200</td>\n",
       "      <td>55,200</td>\n",
       "      <td>57,300</td>\n",
       "      <td>2,100</td>\n",
       "    </tr>\n",
       "    <tr>\n",
       "      <th>9</th>\n",
       "      <td>2023-01-13</td>\n",
       "      <td>005930</td>\n",
       "      <td>60,800</td>\n",
       "      <td>0</td>\n",
       "      <td>0</td>\n",
       "      <td>0</td>\n",
       "      <td>12</td>\n",
       "      <td>55,900.0000</td>\n",
       "      <td>0</td>\n",
       "      <td>0</td>\n",
       "      <td>0</td>\n",
       "      <td>0</td>\n",
       "      <td>-670,800</td>\n",
       "      <td>670,800</td>\n",
       "      <td>729,600</td>\n",
       "      <td>58,800</td>\n",
       "      <td>0</td>\n",
       "      <td>58,800</td>\n",
       "      <td>58,800</td>\n",
       "      <td>58,800</td>\n",
       "      <td>0</td>\n",
       "    </tr>\n",
       "  </tbody>\n",
       "</table>\n",
       "</div>"
      ],
      "text/plain": [
       "        DATE  SYMBOL   PRICE  ORDER  QTY  TRADE_PRICE  POSITION   AVG_PRICE  \\\n",
       "0 2023-01-02  005930  55,500     10   10       55,500        10 55,500.0000   \n",
       "1 2023-01-03  005930  55,400      1    1       55,400        11 55,490.9091   \n",
       "2 2023-01-04  005930  57,800      0    0            0        11 55,490.9091   \n",
       "3 2023-01-05  005930  58,200      0    0            0        11 55,490.9091   \n",
       "4 2023-01-06  005930  59,000      0    0            0        11 55,490.9091   \n",
       "5 2023-01-09  005930  60,700      0    0            0        11 55,490.9091   \n",
       "6 2023-01-10  005930  60,400      1    1       60,400        12 55,900.0000   \n",
       "7 2023-01-11  005930  60,500      0    0            0        12 55,900.0000   \n",
       "8 2023-01-12  005930  60,500      0    0            0        12 55,900.0000   \n",
       "9 2023-01-13  005930  60,800      0    0            0        12 55,900.0000   \n",
       "\n",
       "   FEE  TRADE_TAX  SLIPPAGE  CASHFLOW      CASH  HIST_VALUE  STOCK_VALUE  \\\n",
       "0    0          0         0  -555,000  -555,000     555,000      555,000   \n",
       "1    0          0         0   -55,400  -610,400     610,400      609,400   \n",
       "2    0          0         0         0  -610,400     610,400      635,800   \n",
       "3    0          0         0         0  -610,400     610,400      640,200   \n",
       "4    0          0         0         0  -610,400     610,400      649,000   \n",
       "5    0          0         0         0  -610,400     610,400      667,700   \n",
       "6    0          0         0   -60,400  -670,800     670,800      724,800   \n",
       "7    0          0         0         0  -670,800     670,800      726,000   \n",
       "8    0          0         0         0  -670,800     670,800      726,000   \n",
       "9    0          0         0         0  -670,800     670,800      729,600   \n",
       "\n",
       "   TOTAL_VALUE  REAL_PROFIT  UNREAL_PROFIT  PROFIT  HIGHWATERMARK  DRAWDOWN  \n",
       "0            0            0              0       0              0         0  \n",
       "1       -1,000            0         -1,000  -1,000              0     1,000  \n",
       "2       25,400            0         25,400  25,400         25,400         0  \n",
       "3       29,800            0         29,800  29,800         29,800         0  \n",
       "4       38,600            0         38,600  38,600         38,600         0  \n",
       "5       57,300            0         57,300  57,300         57,300         0  \n",
       "6       54,000            0         54,000  54,000         57,300     3,300  \n",
       "7       55,200            0         55,200  55,200         57,300     2,100  \n",
       "8       55,200            0         55,200  55,200         57,300     2,100  \n",
       "9       58,800            0         58,800  58,800         58,800         0  "
      ]
     },
     "execution_count": 17,
     "metadata": {},
     "output_type": "execute_result"
    }
   ],
   "source": [
    "df_result5_005930 = dict_df_result5[\"005930\"]\n",
    "df_result5_005930\n"
   ]
  },
  {
   "cell_type": "code",
   "execution_count": 18,
   "metadata": {},
   "outputs": [
    {
     "data": {
      "application/vnd.plotly.v1+json": {
       "config": {
        "displaylogo": false,
        "modeBarButtonsToRemove": [
         "resetScale2d",
         "lasso2d",
         "zoomIn2d",
         "zoomOut2d",
         "select2d"
        ],
        "plotlyServerURL": "https://plot.ly",
        "responsive": true
       },
       "data": [
        {
         "marker": {
          "color": "#000000"
         },
         "mode": "lines",
         "name": "가격",
         "type": "scatter",
         "x": [
          "2023-01-02T00:00:00",
          "2023-01-03T00:00:00",
          "2023-01-04T00:00:00",
          "2023-01-05T00:00:00",
          "2023-01-06T00:00:00",
          "2023-01-09T00:00:00",
          "2023-01-10T00:00:00",
          "2023-01-11T00:00:00",
          "2023-01-12T00:00:00",
          "2023-01-13T00:00:00"
         ],
         "xaxis": "x5",
         "y": [
          55500,
          55400,
          57800,
          58200,
          59000,
          60700,
          60400,
          60500,
          60500,
          60800
         ],
         "yaxis": "y"
        },
        {
         "marker": {
          "color": "#DC143C",
          "line": {
           "color": "white",
           "width": 1
          },
          "size": 12,
          "symbol": "triangle-up"
         },
         "mode": "markers",
         "name": "매수",
         "type": "scatter",
         "x": [
          "2023-01-02T00:00:00",
          "2023-01-03T00:00:00",
          "2023-01-10T00:00:00"
         ],
         "xaxis": "x5",
         "y": [
          55500,
          55400,
          60400
         ],
         "yaxis": "y"
        },
        {
         "marker": {
          "color": "#00008B",
          "line": {
           "color": "white",
           "width": 1
          },
          "size": 12,
          "symbol": "triangle-down"
         },
         "mode": "markers",
         "name": "매도",
         "type": "scatter",
         "x": [],
         "xaxis": "x5",
         "y": [],
         "yaxis": "y"
        },
        {
         "fill": "tozeroy",
         "fillcolor": "lightgray",
         "line": {
          "color": "#000000",
          "shape": "hv"
         },
         "mode": "lines",
         "name": "잔고수량",
         "type": "scatter",
         "x": [
          "2023-01-02T00:00:00",
          "2023-01-03T00:00:00",
          "2023-01-04T00:00:00",
          "2023-01-05T00:00:00",
          "2023-01-06T00:00:00",
          "2023-01-09T00:00:00",
          "2023-01-10T00:00:00",
          "2023-01-11T00:00:00",
          "2023-01-12T00:00:00",
          "2023-01-13T00:00:00"
         ],
         "xaxis": "x5",
         "y": [
          10,
          11,
          11,
          11,
          11,
          11,
          12,
          12,
          12,
          12
         ],
         "yaxis": "y2"
        },
        {
         "line": {
          "color": "#000000",
          "shape": "hv"
         },
         "mode": "lines",
         "name": "잔고가치",
         "type": "scatter",
         "x": [
          "2023-01-02T00:00:00",
          "2023-01-03T00:00:00",
          "2023-01-04T00:00:00",
          "2023-01-05T00:00:00",
          "2023-01-06T00:00:00",
          "2023-01-09T00:00:00",
          "2023-01-10T00:00:00",
          "2023-01-11T00:00:00",
          "2023-01-12T00:00:00",
          "2023-01-13T00:00:00"
         ],
         "xaxis": "x5",
         "y": [
          555000,
          609400,
          635800,
          640200,
          649000,
          667700,
          724800,
          726000,
          726000,
          729600
         ],
         "yaxis": "y3"
        },
        {
         "cliponaxis": false,
         "marker": {
          "color": [
           "#00008B",
           "#00008B",
           "#00008B",
           "#00008B",
           "#00008B",
           "#00008B",
           "#00008B",
           "#00008B",
           "#00008B",
           "#00008B"
          ]
         },
         "name": "실현손익",
         "text": [
          "",
          "",
          "",
          "",
          "",
          "",
          "",
          "",
          "",
          ""
         ],
         "textposition": "outside",
         "type": "bar",
         "width": 432000000,
         "x": [
          "2023-01-02T00:00:00",
          "2023-01-03T00:00:00",
          "2023-01-04T00:00:00",
          "2023-01-05T00:00:00",
          "2023-01-06T00:00:00",
          "2023-01-09T00:00:00",
          "2023-01-10T00:00:00",
          "2023-01-11T00:00:00",
          "2023-01-12T00:00:00",
          "2023-01-13T00:00:00"
         ],
         "xaxis": "x5",
         "y": [
          0,
          0,
          0,
          0,
          0,
          0,
          0,
          0,
          0,
          0
         ],
         "yaxis": "y4"
        },
        {
         "line": {
          "color": "#000000",
          "shape": "hv"
         },
         "mode": "lines",
         "name": "총자산가치",
         "type": "scatter",
         "x": [
          "2023-01-02T00:00:00",
          "2023-01-03T00:00:00",
          "2023-01-04T00:00:00",
          "2023-01-05T00:00:00",
          "2023-01-06T00:00:00",
          "2023-01-09T00:00:00",
          "2023-01-10T00:00:00",
          "2023-01-11T00:00:00",
          "2023-01-12T00:00:00",
          "2023-01-13T00:00:00"
         ],
         "xaxis": "x5",
         "y": [
          0,
          -1000,
          25400,
          29800,
          38600,
          57300,
          54000,
          55200,
          55200,
          58800
         ],
         "yaxis": "y5"
        },
        {
         "line": {
          "color": "#DC143C",
          "dash": "dash",
          "shape": "hv"
         },
         "mode": "lines",
         "name": "최고자산가치",
         "type": "scatter",
         "x": [
          "2023-01-02T00:00:00",
          "2023-01-03T00:00:00",
          "2023-01-04T00:00:00",
          "2023-01-05T00:00:00",
          "2023-01-06T00:00:00",
          "2023-01-09T00:00:00",
          "2023-01-10T00:00:00",
          "2023-01-11T00:00:00",
          "2023-01-12T00:00:00",
          "2023-01-13T00:00:00"
         ],
         "xaxis": "x5",
         "y": [
          0,
          0,
          25400,
          29800,
          38600,
          57300,
          57300,
          57300,
          57300,
          58800
         ],
         "yaxis": "y5"
        },
        {
         "base": [
          0
         ],
         "cliponaxis": false,
         "marker": {
          "color": [
           "#DC143C"
          ]
         },
         "name": "최종손익",
         "text": [
          "최종수익: 58,800"
         ],
         "textposition": "outside",
         "type": "bar",
         "width": 864000000,
         "x": [
          "2023-01-13T00:00:00"
         ],
         "xaxis": "x5",
         "y": [
          58800
         ],
         "yaxis": "y5"
        },
        {
         "cliponaxis": false,
         "marker": {
          "color": [
           "#DC143C",
           "#00008B"
          ],
          "line": {
           "color": "white",
           "width": 1
          },
          "size": 12,
          "symbol": [
           "triangle-up",
           "triangle-down"
          ]
         },
         "mode": "markers+text",
         "name": "",
         "text": [
          "최고자산가치: 58,800",
          "MDD: -3,300"
         ],
         "textposition": [
          "top center",
          "bottom center"
         ],
         "type": "scatter",
         "x": [
          "2023-01-13T00:00:00",
          "2023-01-10T00:00:00"
         ],
         "xaxis": "x5",
         "y": [
          58800,
          55500
         ],
         "yaxis": "y5"
        }
       ],
       "layout": {
        "annotations": [
         {
          "font": {
           "size": 16
          },
          "showarrow": false,
          "text": "가격",
          "x": 0.5,
          "xanchor": "center",
          "xref": "paper",
          "y": 1,
          "yanchor": "bottom",
          "yref": "paper"
         },
         {
          "font": {
           "size": 16
          },
          "showarrow": false,
          "text": "잔고수량",
          "x": 0.5,
          "xanchor": "center",
          "xref": "paper",
          "y": 0.79,
          "yanchor": "bottom",
          "yref": "paper"
         },
         {
          "font": {
           "size": 16
          },
          "showarrow": false,
          "text": "잔고가치",
          "x": 0.5,
          "xanchor": "center",
          "xref": "paper",
          "y": 0.66,
          "yanchor": "bottom",
          "yref": "paper"
         },
         {
          "font": {
           "size": 16
          },
          "showarrow": false,
          "text": "실현손익",
          "x": 0.5,
          "xanchor": "center",
          "xref": "paper",
          "y": 0.45,
          "yanchor": "bottom",
          "yref": "paper"
         },
         {
          "font": {
           "size": 16
          },
          "showarrow": false,
          "text": "총자산가치",
          "x": 0.5,
          "xanchor": "center",
          "xref": "paper",
          "y": 0.24,
          "yanchor": "bottom",
          "yref": "paper"
         }
        ],
        "height": 800,
        "hovermode": "x unified",
        "margin": {
         "b": 25,
         "l": 25,
         "r": 25,
         "t": 80
        },
        "showlegend": false,
        "template": {
         "data": {
          "bar": [
           {
            "error_x": {
             "color": "#2a3f5f"
            },
            "error_y": {
             "color": "#2a3f5f"
            },
            "marker": {
             "line": {
              "color": "#E5ECF6",
              "width": 0.5
             },
             "pattern": {
              "fillmode": "overlay",
              "size": 10,
              "solidity": 0.2
             }
            },
            "type": "bar"
           }
          ],
          "barpolar": [
           {
            "marker": {
             "line": {
              "color": "#E5ECF6",
              "width": 0.5
             },
             "pattern": {
              "fillmode": "overlay",
              "size": 10,
              "solidity": 0.2
             }
            },
            "type": "barpolar"
           }
          ],
          "carpet": [
           {
            "aaxis": {
             "endlinecolor": "#2a3f5f",
             "gridcolor": "white",
             "linecolor": "white",
             "minorgridcolor": "white",
             "startlinecolor": "#2a3f5f"
            },
            "baxis": {
             "endlinecolor": "#2a3f5f",
             "gridcolor": "white",
             "linecolor": "white",
             "minorgridcolor": "white",
             "startlinecolor": "#2a3f5f"
            },
            "type": "carpet"
           }
          ],
          "choropleth": [
           {
            "colorbar": {
             "outlinewidth": 0,
             "ticks": ""
            },
            "type": "choropleth"
           }
          ],
          "contour": [
           {
            "colorbar": {
             "outlinewidth": 0,
             "ticks": ""
            },
            "colorscale": [
             [
              0,
              "#0d0887"
             ],
             [
              0.1111111111111111,
              "#46039f"
             ],
             [
              0.2222222222222222,
              "#7201a8"
             ],
             [
              0.3333333333333333,
              "#9c179e"
             ],
             [
              0.4444444444444444,
              "#bd3786"
             ],
             [
              0.5555555555555556,
              "#d8576b"
             ],
             [
              0.6666666666666666,
              "#ed7953"
             ],
             [
              0.7777777777777778,
              "#fb9f3a"
             ],
             [
              0.8888888888888888,
              "#fdca26"
             ],
             [
              1,
              "#f0f921"
             ]
            ],
            "type": "contour"
           }
          ],
          "contourcarpet": [
           {
            "colorbar": {
             "outlinewidth": 0,
             "ticks": ""
            },
            "type": "contourcarpet"
           }
          ],
          "heatmap": [
           {
            "colorbar": {
             "outlinewidth": 0,
             "ticks": ""
            },
            "colorscale": [
             [
              0,
              "#0d0887"
             ],
             [
              0.1111111111111111,
              "#46039f"
             ],
             [
              0.2222222222222222,
              "#7201a8"
             ],
             [
              0.3333333333333333,
              "#9c179e"
             ],
             [
              0.4444444444444444,
              "#bd3786"
             ],
             [
              0.5555555555555556,
              "#d8576b"
             ],
             [
              0.6666666666666666,
              "#ed7953"
             ],
             [
              0.7777777777777778,
              "#fb9f3a"
             ],
             [
              0.8888888888888888,
              "#fdca26"
             ],
             [
              1,
              "#f0f921"
             ]
            ],
            "type": "heatmap"
           }
          ],
          "heatmapgl": [
           {
            "colorbar": {
             "outlinewidth": 0,
             "ticks": ""
            },
            "colorscale": [
             [
              0,
              "#0d0887"
             ],
             [
              0.1111111111111111,
              "#46039f"
             ],
             [
              0.2222222222222222,
              "#7201a8"
             ],
             [
              0.3333333333333333,
              "#9c179e"
             ],
             [
              0.4444444444444444,
              "#bd3786"
             ],
             [
              0.5555555555555556,
              "#d8576b"
             ],
             [
              0.6666666666666666,
              "#ed7953"
             ],
             [
              0.7777777777777778,
              "#fb9f3a"
             ],
             [
              0.8888888888888888,
              "#fdca26"
             ],
             [
              1,
              "#f0f921"
             ]
            ],
            "type": "heatmapgl"
           }
          ],
          "histogram": [
           {
            "marker": {
             "pattern": {
              "fillmode": "overlay",
              "size": 10,
              "solidity": 0.2
             }
            },
            "type": "histogram"
           }
          ],
          "histogram2d": [
           {
            "colorbar": {
             "outlinewidth": 0,
             "ticks": ""
            },
            "colorscale": [
             [
              0,
              "#0d0887"
             ],
             [
              0.1111111111111111,
              "#46039f"
             ],
             [
              0.2222222222222222,
              "#7201a8"
             ],
             [
              0.3333333333333333,
              "#9c179e"
             ],
             [
              0.4444444444444444,
              "#bd3786"
             ],
             [
              0.5555555555555556,
              "#d8576b"
             ],
             [
              0.6666666666666666,
              "#ed7953"
             ],
             [
              0.7777777777777778,
              "#fb9f3a"
             ],
             [
              0.8888888888888888,
              "#fdca26"
             ],
             [
              1,
              "#f0f921"
             ]
            ],
            "type": "histogram2d"
           }
          ],
          "histogram2dcontour": [
           {
            "colorbar": {
             "outlinewidth": 0,
             "ticks": ""
            },
            "colorscale": [
             [
              0,
              "#0d0887"
             ],
             [
              0.1111111111111111,
              "#46039f"
             ],
             [
              0.2222222222222222,
              "#7201a8"
             ],
             [
              0.3333333333333333,
              "#9c179e"
             ],
             [
              0.4444444444444444,
              "#bd3786"
             ],
             [
              0.5555555555555556,
              "#d8576b"
             ],
             [
              0.6666666666666666,
              "#ed7953"
             ],
             [
              0.7777777777777778,
              "#fb9f3a"
             ],
             [
              0.8888888888888888,
              "#fdca26"
             ],
             [
              1,
              "#f0f921"
             ]
            ],
            "type": "histogram2dcontour"
           }
          ],
          "mesh3d": [
           {
            "colorbar": {
             "outlinewidth": 0,
             "ticks": ""
            },
            "type": "mesh3d"
           }
          ],
          "parcoords": [
           {
            "line": {
             "colorbar": {
              "outlinewidth": 0,
              "ticks": ""
             }
            },
            "type": "parcoords"
           }
          ],
          "pie": [
           {
            "automargin": true,
            "type": "pie"
           }
          ],
          "scatter": [
           {
            "fillpattern": {
             "fillmode": "overlay",
             "size": 10,
             "solidity": 0.2
            },
            "type": "scatter"
           }
          ],
          "scatter3d": [
           {
            "line": {
             "colorbar": {
              "outlinewidth": 0,
              "ticks": ""
             }
            },
            "marker": {
             "colorbar": {
              "outlinewidth": 0,
              "ticks": ""
             }
            },
            "type": "scatter3d"
           }
          ],
          "scattercarpet": [
           {
            "marker": {
             "colorbar": {
              "outlinewidth": 0,
              "ticks": ""
             }
            },
            "type": "scattercarpet"
           }
          ],
          "scattergeo": [
           {
            "marker": {
             "colorbar": {
              "outlinewidth": 0,
              "ticks": ""
             }
            },
            "type": "scattergeo"
           }
          ],
          "scattergl": [
           {
            "marker": {
             "colorbar": {
              "outlinewidth": 0,
              "ticks": ""
             }
            },
            "type": "scattergl"
           }
          ],
          "scattermapbox": [
           {
            "marker": {
             "colorbar": {
              "outlinewidth": 0,
              "ticks": ""
             }
            },
            "type": "scattermapbox"
           }
          ],
          "scatterpolar": [
           {
            "marker": {
             "colorbar": {
              "outlinewidth": 0,
              "ticks": ""
             }
            },
            "type": "scatterpolar"
           }
          ],
          "scatterpolargl": [
           {
            "marker": {
             "colorbar": {
              "outlinewidth": 0,
              "ticks": ""
             }
            },
            "type": "scatterpolargl"
           }
          ],
          "scatterternary": [
           {
            "marker": {
             "colorbar": {
              "outlinewidth": 0,
              "ticks": ""
             }
            },
            "type": "scatterternary"
           }
          ],
          "surface": [
           {
            "colorbar": {
             "outlinewidth": 0,
             "ticks": ""
            },
            "colorscale": [
             [
              0,
              "#0d0887"
             ],
             [
              0.1111111111111111,
              "#46039f"
             ],
             [
              0.2222222222222222,
              "#7201a8"
             ],
             [
              0.3333333333333333,
              "#9c179e"
             ],
             [
              0.4444444444444444,
              "#bd3786"
             ],
             [
              0.5555555555555556,
              "#d8576b"
             ],
             [
              0.6666666666666666,
              "#ed7953"
             ],
             [
              0.7777777777777778,
              "#fb9f3a"
             ],
             [
              0.8888888888888888,
              "#fdca26"
             ],
             [
              1,
              "#f0f921"
             ]
            ],
            "type": "surface"
           }
          ],
          "table": [
           {
            "cells": {
             "fill": {
              "color": "#EBF0F8"
             },
             "line": {
              "color": "white"
             }
            },
            "header": {
             "fill": {
              "color": "#C8D4E3"
             },
             "line": {
              "color": "white"
             }
            },
            "type": "table"
           }
          ]
         },
         "layout": {
          "annotationdefaults": {
           "arrowcolor": "#2a3f5f",
           "arrowhead": 0,
           "arrowwidth": 1
          },
          "autotypenumbers": "strict",
          "coloraxis": {
           "colorbar": {
            "outlinewidth": 0,
            "ticks": ""
           }
          },
          "colorscale": {
           "diverging": [
            [
             0,
             "#8e0152"
            ],
            [
             0.1,
             "#c51b7d"
            ],
            [
             0.2,
             "#de77ae"
            ],
            [
             0.3,
             "#f1b6da"
            ],
            [
             0.4,
             "#fde0ef"
            ],
            [
             0.5,
             "#f7f7f7"
            ],
            [
             0.6,
             "#e6f5d0"
            ],
            [
             0.7,
             "#b8e186"
            ],
            [
             0.8,
             "#7fbc41"
            ],
            [
             0.9,
             "#4d9221"
            ],
            [
             1,
             "#276419"
            ]
           ],
           "sequential": [
            [
             0,
             "#0d0887"
            ],
            [
             0.1111111111111111,
             "#46039f"
            ],
            [
             0.2222222222222222,
             "#7201a8"
            ],
            [
             0.3333333333333333,
             "#9c179e"
            ],
            [
             0.4444444444444444,
             "#bd3786"
            ],
            [
             0.5555555555555556,
             "#d8576b"
            ],
            [
             0.6666666666666666,
             "#ed7953"
            ],
            [
             0.7777777777777778,
             "#fb9f3a"
            ],
            [
             0.8888888888888888,
             "#fdca26"
            ],
            [
             1,
             "#f0f921"
            ]
           ],
           "sequentialminus": [
            [
             0,
             "#0d0887"
            ],
            [
             0.1111111111111111,
             "#46039f"
            ],
            [
             0.2222222222222222,
             "#7201a8"
            ],
            [
             0.3333333333333333,
             "#9c179e"
            ],
            [
             0.4444444444444444,
             "#bd3786"
            ],
            [
             0.5555555555555556,
             "#d8576b"
            ],
            [
             0.6666666666666666,
             "#ed7953"
            ],
            [
             0.7777777777777778,
             "#fb9f3a"
            ],
            [
             0.8888888888888888,
             "#fdca26"
            ],
            [
             1,
             "#f0f921"
            ]
           ]
          },
          "colorway": [
           "#636efa",
           "#EF553B",
           "#00cc96",
           "#ab63fa",
           "#FFA15A",
           "#19d3f3",
           "#FF6692",
           "#B6E880",
           "#FF97FF",
           "#FECB52"
          ],
          "font": {
           "color": "#2a3f5f"
          },
          "geo": {
           "bgcolor": "white",
           "lakecolor": "white",
           "landcolor": "#E5ECF6",
           "showlakes": true,
           "showland": true,
           "subunitcolor": "white"
          },
          "hoverlabel": {
           "align": "left"
          },
          "hovermode": "closest",
          "mapbox": {
           "style": "light"
          },
          "paper_bgcolor": "white",
          "plot_bgcolor": "#E5ECF6",
          "polar": {
           "angularaxis": {
            "gridcolor": "white",
            "linecolor": "white",
            "ticks": ""
           },
           "bgcolor": "#E5ECF6",
           "radialaxis": {
            "gridcolor": "white",
            "linecolor": "white",
            "ticks": ""
           }
          },
          "scene": {
           "xaxis": {
            "backgroundcolor": "#E5ECF6",
            "gridcolor": "white",
            "gridwidth": 2,
            "linecolor": "white",
            "showbackground": true,
            "ticks": "",
            "zerolinecolor": "white"
           },
           "yaxis": {
            "backgroundcolor": "#E5ECF6",
            "gridcolor": "white",
            "gridwidth": 2,
            "linecolor": "white",
            "showbackground": true,
            "ticks": "",
            "zerolinecolor": "white"
           },
           "zaxis": {
            "backgroundcolor": "#E5ECF6",
            "gridcolor": "white",
            "gridwidth": 2,
            "linecolor": "white",
            "showbackground": true,
            "ticks": "",
            "zerolinecolor": "white"
           }
          },
          "shapedefaults": {
           "line": {
            "color": "#2a3f5f"
           }
          },
          "ternary": {
           "aaxis": {
            "gridcolor": "white",
            "linecolor": "white",
            "ticks": ""
           },
           "baxis": {
            "gridcolor": "white",
            "linecolor": "white",
            "ticks": ""
           },
           "bgcolor": "#E5ECF6",
           "caxis": {
            "gridcolor": "white",
            "linecolor": "white",
            "ticks": ""
           }
          },
          "title": {
           "x": 0.05
          },
          "xaxis": {
           "automargin": true,
           "gridcolor": "white",
           "linecolor": "white",
           "ticks": "",
           "title": {
            "standoff": 15
           },
           "zerolinecolor": "white",
           "zerolinewidth": 2
          },
          "yaxis": {
           "automargin": true,
           "gridcolor": "white",
           "linecolor": "white",
           "ticks": "",
           "title": {
            "standoff": 15
           },
           "zerolinecolor": "white",
           "zerolinewidth": 2
          }
         }
        },
        "title": {
         "text": "백테스트 결과: 005930, 2023-01-02~2023-01-13",
         "x": 0.5,
         "y": 0.98
        },
        "uniformtext": {
         "minsize": 12,
         "mode": "show"
        },
        "xaxis": {
         "anchor": "y",
         "domain": [
          0,
          1
         ],
         "matches": "x5",
         "showticklabels": false
        },
        "xaxis2": {
         "anchor": "y2",
         "domain": [
          0,
          1
         ],
         "matches": "x5",
         "showticklabels": false
        },
        "xaxis3": {
         "anchor": "y3",
         "domain": [
          0,
          1
         ],
         "matches": "x5",
         "showticklabels": false
        },
        "xaxis4": {
         "anchor": "y4",
         "domain": [
          0,
          1
         ],
         "matches": "x5",
         "showticklabels": false
        },
        "xaxis5": {
         "anchor": "y5",
         "domain": [
          0,
          1
         ],
         "hoverformat": "%Y-%m-%d",
         "showticklabels": true,
         "tickformat": "%Y-%m-%d"
        },
        "yaxis": {
         "anchor": "x",
         "domain": [
          0.8400000000000001,
          1
         ],
         "tickformat": ",d"
        },
        "yaxis2": {
         "anchor": "x2",
         "domain": [
          0.7100000000000001,
          0.79
         ],
         "dtick": "L1"
        },
        "yaxis3": {
         "anchor": "x3",
         "domain": [
          0.5,
          0.66
         ],
         "tickformat": ",d"
        },
        "yaxis4": {
         "anchor": "x4",
         "domain": [
          0.29,
          0.45
         ],
         "tickformat": ",d"
        },
        "yaxis5": {
         "anchor": "x5",
         "domain": [
          0,
          0.24
         ],
         "tickformat": ",d"
        }
       }
      },
      "text/html": [
       "<div>                            <div id=\"5ef5363a-3f66-4ad8-9035-30a4a1182405\" class=\"plotly-graph-div\" style=\"height:800px; width:100%;\"></div>            <script type=\"text/javascript\">                require([\"plotly\"], function(Plotly) {                    window.PLOTLYENV=window.PLOTLYENV || {};                                    if (document.getElementById(\"5ef5363a-3f66-4ad8-9035-30a4a1182405\")) {                    Plotly.newPlot(                        \"5ef5363a-3f66-4ad8-9035-30a4a1182405\",                        [{\"marker\":{\"color\":\"#000000\"},\"mode\":\"lines\",\"name\":\"\\uac00\\uaca9\",\"x\":[\"2023-01-02T00:00:00\",\"2023-01-03T00:00:00\",\"2023-01-04T00:00:00\",\"2023-01-05T00:00:00\",\"2023-01-06T00:00:00\",\"2023-01-09T00:00:00\",\"2023-01-10T00:00:00\",\"2023-01-11T00:00:00\",\"2023-01-12T00:00:00\",\"2023-01-13T00:00:00\"],\"y\":[55500,55400,57800,58200,59000,60700,60400,60500,60500,60800],\"type\":\"scatter\",\"xaxis\":\"x5\",\"yaxis\":\"y\"},{\"marker\":{\"color\":\"#DC143C\",\"line\":{\"color\":\"white\",\"width\":1},\"size\":12,\"symbol\":\"triangle-up\"},\"mode\":\"markers\",\"name\":\"\\ub9e4\\uc218\",\"x\":[\"2023-01-02T00:00:00\",\"2023-01-03T00:00:00\",\"2023-01-10T00:00:00\"],\"y\":[55500,55400,60400],\"type\":\"scatter\",\"xaxis\":\"x5\",\"yaxis\":\"y\"},{\"marker\":{\"color\":\"#00008B\",\"line\":{\"color\":\"white\",\"width\":1},\"size\":12,\"symbol\":\"triangle-down\"},\"mode\":\"markers\",\"name\":\"\\ub9e4\\ub3c4\",\"x\":[],\"y\":[],\"type\":\"scatter\",\"xaxis\":\"x5\",\"yaxis\":\"y\"},{\"fill\":\"tozeroy\",\"fillcolor\":\"lightgray\",\"line\":{\"color\":\"#000000\",\"shape\":\"hv\"},\"mode\":\"lines\",\"name\":\"\\uc794\\uace0\\uc218\\ub7c9\",\"x\":[\"2023-01-02T00:00:00\",\"2023-01-03T00:00:00\",\"2023-01-04T00:00:00\",\"2023-01-05T00:00:00\",\"2023-01-06T00:00:00\",\"2023-01-09T00:00:00\",\"2023-01-10T00:00:00\",\"2023-01-11T00:00:00\",\"2023-01-12T00:00:00\",\"2023-01-13T00:00:00\"],\"y\":[10,11,11,11,11,11,12,12,12,12],\"type\":\"scatter\",\"xaxis\":\"x5\",\"yaxis\":\"y2\"},{\"line\":{\"color\":\"#000000\",\"shape\":\"hv\"},\"mode\":\"lines\",\"name\":\"\\uc794\\uace0\\uac00\\uce58\",\"x\":[\"2023-01-02T00:00:00\",\"2023-01-03T00:00:00\",\"2023-01-04T00:00:00\",\"2023-01-05T00:00:00\",\"2023-01-06T00:00:00\",\"2023-01-09T00:00:00\",\"2023-01-10T00:00:00\",\"2023-01-11T00:00:00\",\"2023-01-12T00:00:00\",\"2023-01-13T00:00:00\"],\"y\":[555000,609400,635800,640200,649000,667700,724800,726000,726000,729600],\"type\":\"scatter\",\"xaxis\":\"x5\",\"yaxis\":\"y3\"},{\"cliponaxis\":false,\"marker\":{\"color\":[\"#00008B\",\"#00008B\",\"#00008B\",\"#00008B\",\"#00008B\",\"#00008B\",\"#00008B\",\"#00008B\",\"#00008B\",\"#00008B\"]},\"name\":\"\\uc2e4\\ud604\\uc190\\uc775\",\"text\":[\"\",\"\",\"\",\"\",\"\",\"\",\"\",\"\",\"\",\"\"],\"textposition\":\"outside\",\"width\":432000000,\"x\":[\"2023-01-02T00:00:00\",\"2023-01-03T00:00:00\",\"2023-01-04T00:00:00\",\"2023-01-05T00:00:00\",\"2023-01-06T00:00:00\",\"2023-01-09T00:00:00\",\"2023-01-10T00:00:00\",\"2023-01-11T00:00:00\",\"2023-01-12T00:00:00\",\"2023-01-13T00:00:00\"],\"y\":[0,0,0,0,0,0,0,0,0,0],\"type\":\"bar\",\"xaxis\":\"x5\",\"yaxis\":\"y4\"},{\"line\":{\"color\":\"#000000\",\"shape\":\"hv\"},\"mode\":\"lines\",\"name\":\"\\ucd1d\\uc790\\uc0b0\\uac00\\uce58\",\"x\":[\"2023-01-02T00:00:00\",\"2023-01-03T00:00:00\",\"2023-01-04T00:00:00\",\"2023-01-05T00:00:00\",\"2023-01-06T00:00:00\",\"2023-01-09T00:00:00\",\"2023-01-10T00:00:00\",\"2023-01-11T00:00:00\",\"2023-01-12T00:00:00\",\"2023-01-13T00:00:00\"],\"y\":[0,-1000,25400,29800,38600,57300,54000,55200,55200,58800],\"type\":\"scatter\",\"xaxis\":\"x5\",\"yaxis\":\"y5\"},{\"line\":{\"color\":\"#DC143C\",\"dash\":\"dash\",\"shape\":\"hv\"},\"mode\":\"lines\",\"name\":\"\\ucd5c\\uace0\\uc790\\uc0b0\\uac00\\uce58\",\"x\":[\"2023-01-02T00:00:00\",\"2023-01-03T00:00:00\",\"2023-01-04T00:00:00\",\"2023-01-05T00:00:00\",\"2023-01-06T00:00:00\",\"2023-01-09T00:00:00\",\"2023-01-10T00:00:00\",\"2023-01-11T00:00:00\",\"2023-01-12T00:00:00\",\"2023-01-13T00:00:00\"],\"y\":[0,0,25400,29800,38600,57300,57300,57300,57300,58800],\"type\":\"scatter\",\"xaxis\":\"x5\",\"yaxis\":\"y5\"},{\"base\":[0],\"cliponaxis\":false,\"marker\":{\"color\":[\"#DC143C\"]},\"name\":\"\\ucd5c\\uc885\\uc190\\uc775\",\"text\":[\"\\ucd5c\\uc885\\uc218\\uc775: 58,800\"],\"textposition\":\"outside\",\"width\":864000000,\"x\":[\"2023-01-13T00:00:00\"],\"y\":[58800],\"type\":\"bar\",\"xaxis\":\"x5\",\"yaxis\":\"y5\"},{\"cliponaxis\":false,\"marker\":{\"color\":[\"#DC143C\",\"#00008B\"],\"line\":{\"color\":\"white\",\"width\":1},\"size\":12,\"symbol\":[\"triangle-up\",\"triangle-down\"]},\"mode\":\"markers+text\",\"name\":\"\",\"text\":[\"\\ucd5c\\uace0\\uc790\\uc0b0\\uac00\\uce58: 58,800\",\"MDD: -3,300\"],\"textposition\":[\"top center\",\"bottom center\"],\"x\":[\"2023-01-13T00:00:00\",\"2023-01-10T00:00:00\"],\"y\":[58800,55500],\"type\":\"scatter\",\"xaxis\":\"x5\",\"yaxis\":\"y5\"}],                        {\"template\":{\"data\":{\"histogram2dcontour\":[{\"type\":\"histogram2dcontour\",\"colorbar\":{\"outlinewidth\":0,\"ticks\":\"\"},\"colorscale\":[[0.0,\"#0d0887\"],[0.1111111111111111,\"#46039f\"],[0.2222222222222222,\"#7201a8\"],[0.3333333333333333,\"#9c179e\"],[0.4444444444444444,\"#bd3786\"],[0.5555555555555556,\"#d8576b\"],[0.6666666666666666,\"#ed7953\"],[0.7777777777777778,\"#fb9f3a\"],[0.8888888888888888,\"#fdca26\"],[1.0,\"#f0f921\"]]}],\"choropleth\":[{\"type\":\"choropleth\",\"colorbar\":{\"outlinewidth\":0,\"ticks\":\"\"}}],\"histogram2d\":[{\"type\":\"histogram2d\",\"colorbar\":{\"outlinewidth\":0,\"ticks\":\"\"},\"colorscale\":[[0.0,\"#0d0887\"],[0.1111111111111111,\"#46039f\"],[0.2222222222222222,\"#7201a8\"],[0.3333333333333333,\"#9c179e\"],[0.4444444444444444,\"#bd3786\"],[0.5555555555555556,\"#d8576b\"],[0.6666666666666666,\"#ed7953\"],[0.7777777777777778,\"#fb9f3a\"],[0.8888888888888888,\"#fdca26\"],[1.0,\"#f0f921\"]]}],\"heatmap\":[{\"type\":\"heatmap\",\"colorbar\":{\"outlinewidth\":0,\"ticks\":\"\"},\"colorscale\":[[0.0,\"#0d0887\"],[0.1111111111111111,\"#46039f\"],[0.2222222222222222,\"#7201a8\"],[0.3333333333333333,\"#9c179e\"],[0.4444444444444444,\"#bd3786\"],[0.5555555555555556,\"#d8576b\"],[0.6666666666666666,\"#ed7953\"],[0.7777777777777778,\"#fb9f3a\"],[0.8888888888888888,\"#fdca26\"],[1.0,\"#f0f921\"]]}],\"heatmapgl\":[{\"type\":\"heatmapgl\",\"colorbar\":{\"outlinewidth\":0,\"ticks\":\"\"},\"colorscale\":[[0.0,\"#0d0887\"],[0.1111111111111111,\"#46039f\"],[0.2222222222222222,\"#7201a8\"],[0.3333333333333333,\"#9c179e\"],[0.4444444444444444,\"#bd3786\"],[0.5555555555555556,\"#d8576b\"],[0.6666666666666666,\"#ed7953\"],[0.7777777777777778,\"#fb9f3a\"],[0.8888888888888888,\"#fdca26\"],[1.0,\"#f0f921\"]]}],\"contourcarpet\":[{\"type\":\"contourcarpet\",\"colorbar\":{\"outlinewidth\":0,\"ticks\":\"\"}}],\"contour\":[{\"type\":\"contour\",\"colorbar\":{\"outlinewidth\":0,\"ticks\":\"\"},\"colorscale\":[[0.0,\"#0d0887\"],[0.1111111111111111,\"#46039f\"],[0.2222222222222222,\"#7201a8\"],[0.3333333333333333,\"#9c179e\"],[0.4444444444444444,\"#bd3786\"],[0.5555555555555556,\"#d8576b\"],[0.6666666666666666,\"#ed7953\"],[0.7777777777777778,\"#fb9f3a\"],[0.8888888888888888,\"#fdca26\"],[1.0,\"#f0f921\"]]}],\"surface\":[{\"type\":\"surface\",\"colorbar\":{\"outlinewidth\":0,\"ticks\":\"\"},\"colorscale\":[[0.0,\"#0d0887\"],[0.1111111111111111,\"#46039f\"],[0.2222222222222222,\"#7201a8\"],[0.3333333333333333,\"#9c179e\"],[0.4444444444444444,\"#bd3786\"],[0.5555555555555556,\"#d8576b\"],[0.6666666666666666,\"#ed7953\"],[0.7777777777777778,\"#fb9f3a\"],[0.8888888888888888,\"#fdca26\"],[1.0,\"#f0f921\"]]}],\"mesh3d\":[{\"type\":\"mesh3d\",\"colorbar\":{\"outlinewidth\":0,\"ticks\":\"\"}}],\"scatter\":[{\"fillpattern\":{\"fillmode\":\"overlay\",\"size\":10,\"solidity\":0.2},\"type\":\"scatter\"}],\"parcoords\":[{\"type\":\"parcoords\",\"line\":{\"colorbar\":{\"outlinewidth\":0,\"ticks\":\"\"}}}],\"scatterpolargl\":[{\"type\":\"scatterpolargl\",\"marker\":{\"colorbar\":{\"outlinewidth\":0,\"ticks\":\"\"}}}],\"bar\":[{\"error_x\":{\"color\":\"#2a3f5f\"},\"error_y\":{\"color\":\"#2a3f5f\"},\"marker\":{\"line\":{\"color\":\"#E5ECF6\",\"width\":0.5},\"pattern\":{\"fillmode\":\"overlay\",\"size\":10,\"solidity\":0.2}},\"type\":\"bar\"}],\"scattergeo\":[{\"type\":\"scattergeo\",\"marker\":{\"colorbar\":{\"outlinewidth\":0,\"ticks\":\"\"}}}],\"scatterpolar\":[{\"type\":\"scatterpolar\",\"marker\":{\"colorbar\":{\"outlinewidth\":0,\"ticks\":\"\"}}}],\"histogram\":[{\"marker\":{\"pattern\":{\"fillmode\":\"overlay\",\"size\":10,\"solidity\":0.2}},\"type\":\"histogram\"}],\"scattergl\":[{\"type\":\"scattergl\",\"marker\":{\"colorbar\":{\"outlinewidth\":0,\"ticks\":\"\"}}}],\"scatter3d\":[{\"type\":\"scatter3d\",\"line\":{\"colorbar\":{\"outlinewidth\":0,\"ticks\":\"\"}},\"marker\":{\"colorbar\":{\"outlinewidth\":0,\"ticks\":\"\"}}}],\"scattermapbox\":[{\"type\":\"scattermapbox\",\"marker\":{\"colorbar\":{\"outlinewidth\":0,\"ticks\":\"\"}}}],\"scatterternary\":[{\"type\":\"scatterternary\",\"marker\":{\"colorbar\":{\"outlinewidth\":0,\"ticks\":\"\"}}}],\"scattercarpet\":[{\"type\":\"scattercarpet\",\"marker\":{\"colorbar\":{\"outlinewidth\":0,\"ticks\":\"\"}}}],\"carpet\":[{\"aaxis\":{\"endlinecolor\":\"#2a3f5f\",\"gridcolor\":\"white\",\"linecolor\":\"white\",\"minorgridcolor\":\"white\",\"startlinecolor\":\"#2a3f5f\"},\"baxis\":{\"endlinecolor\":\"#2a3f5f\",\"gridcolor\":\"white\",\"linecolor\":\"white\",\"minorgridcolor\":\"white\",\"startlinecolor\":\"#2a3f5f\"},\"type\":\"carpet\"}],\"table\":[{\"cells\":{\"fill\":{\"color\":\"#EBF0F8\"},\"line\":{\"color\":\"white\"}},\"header\":{\"fill\":{\"color\":\"#C8D4E3\"},\"line\":{\"color\":\"white\"}},\"type\":\"table\"}],\"barpolar\":[{\"marker\":{\"line\":{\"color\":\"#E5ECF6\",\"width\":0.5},\"pattern\":{\"fillmode\":\"overlay\",\"size\":10,\"solidity\":0.2}},\"type\":\"barpolar\"}],\"pie\":[{\"automargin\":true,\"type\":\"pie\"}]},\"layout\":{\"autotypenumbers\":\"strict\",\"colorway\":[\"#636efa\",\"#EF553B\",\"#00cc96\",\"#ab63fa\",\"#FFA15A\",\"#19d3f3\",\"#FF6692\",\"#B6E880\",\"#FF97FF\",\"#FECB52\"],\"font\":{\"color\":\"#2a3f5f\"},\"hovermode\":\"closest\",\"hoverlabel\":{\"align\":\"left\"},\"paper_bgcolor\":\"white\",\"plot_bgcolor\":\"#E5ECF6\",\"polar\":{\"bgcolor\":\"#E5ECF6\",\"angularaxis\":{\"gridcolor\":\"white\",\"linecolor\":\"white\",\"ticks\":\"\"},\"radialaxis\":{\"gridcolor\":\"white\",\"linecolor\":\"white\",\"ticks\":\"\"}},\"ternary\":{\"bgcolor\":\"#E5ECF6\",\"aaxis\":{\"gridcolor\":\"white\",\"linecolor\":\"white\",\"ticks\":\"\"},\"baxis\":{\"gridcolor\":\"white\",\"linecolor\":\"white\",\"ticks\":\"\"},\"caxis\":{\"gridcolor\":\"white\",\"linecolor\":\"white\",\"ticks\":\"\"}},\"coloraxis\":{\"colorbar\":{\"outlinewidth\":0,\"ticks\":\"\"}},\"colorscale\":{\"sequential\":[[0.0,\"#0d0887\"],[0.1111111111111111,\"#46039f\"],[0.2222222222222222,\"#7201a8\"],[0.3333333333333333,\"#9c179e\"],[0.4444444444444444,\"#bd3786\"],[0.5555555555555556,\"#d8576b\"],[0.6666666666666666,\"#ed7953\"],[0.7777777777777778,\"#fb9f3a\"],[0.8888888888888888,\"#fdca26\"],[1.0,\"#f0f921\"]],\"sequentialminus\":[[0.0,\"#0d0887\"],[0.1111111111111111,\"#46039f\"],[0.2222222222222222,\"#7201a8\"],[0.3333333333333333,\"#9c179e\"],[0.4444444444444444,\"#bd3786\"],[0.5555555555555556,\"#d8576b\"],[0.6666666666666666,\"#ed7953\"],[0.7777777777777778,\"#fb9f3a\"],[0.8888888888888888,\"#fdca26\"],[1.0,\"#f0f921\"]],\"diverging\":[[0,\"#8e0152\"],[0.1,\"#c51b7d\"],[0.2,\"#de77ae\"],[0.3,\"#f1b6da\"],[0.4,\"#fde0ef\"],[0.5,\"#f7f7f7\"],[0.6,\"#e6f5d0\"],[0.7,\"#b8e186\"],[0.8,\"#7fbc41\"],[0.9,\"#4d9221\"],[1,\"#276419\"]]},\"xaxis\":{\"gridcolor\":\"white\",\"linecolor\":\"white\",\"ticks\":\"\",\"title\":{\"standoff\":15},\"zerolinecolor\":\"white\",\"automargin\":true,\"zerolinewidth\":2},\"yaxis\":{\"gridcolor\":\"white\",\"linecolor\":\"white\",\"ticks\":\"\",\"title\":{\"standoff\":15},\"zerolinecolor\":\"white\",\"automargin\":true,\"zerolinewidth\":2},\"scene\":{\"xaxis\":{\"backgroundcolor\":\"#E5ECF6\",\"gridcolor\":\"white\",\"linecolor\":\"white\",\"showbackground\":true,\"ticks\":\"\",\"zerolinecolor\":\"white\",\"gridwidth\":2},\"yaxis\":{\"backgroundcolor\":\"#E5ECF6\",\"gridcolor\":\"white\",\"linecolor\":\"white\",\"showbackground\":true,\"ticks\":\"\",\"zerolinecolor\":\"white\",\"gridwidth\":2},\"zaxis\":{\"backgroundcolor\":\"#E5ECF6\",\"gridcolor\":\"white\",\"linecolor\":\"white\",\"showbackground\":true,\"ticks\":\"\",\"zerolinecolor\":\"white\",\"gridwidth\":2}},\"shapedefaults\":{\"line\":{\"color\":\"#2a3f5f\"}},\"annotationdefaults\":{\"arrowcolor\":\"#2a3f5f\",\"arrowhead\":0,\"arrowwidth\":1},\"geo\":{\"bgcolor\":\"white\",\"landcolor\":\"#E5ECF6\",\"subunitcolor\":\"white\",\"showland\":true,\"showlakes\":true,\"lakecolor\":\"white\"},\"title\":{\"x\":0.05},\"mapbox\":{\"style\":\"light\"}}},\"xaxis\":{\"anchor\":\"y\",\"domain\":[0.0,1.0],\"matches\":\"x5\",\"showticklabels\":false},\"yaxis\":{\"anchor\":\"x\",\"domain\":[0.8400000000000001,1.0],\"tickformat\":\",d\"},\"xaxis2\":{\"anchor\":\"y2\",\"domain\":[0.0,1.0],\"matches\":\"x5\",\"showticklabels\":false},\"yaxis2\":{\"anchor\":\"x2\",\"domain\":[0.7100000000000001,0.79],\"dtick\":\"L1\"},\"xaxis3\":{\"anchor\":\"y3\",\"domain\":[0.0,1.0],\"matches\":\"x5\",\"showticklabels\":false},\"yaxis3\":{\"anchor\":\"x3\",\"domain\":[0.5,0.66],\"tickformat\":\",d\"},\"xaxis4\":{\"anchor\":\"y4\",\"domain\":[0.0,1.0],\"matches\":\"x5\",\"showticklabels\":false},\"yaxis4\":{\"anchor\":\"x4\",\"domain\":[0.29,0.45],\"tickformat\":\",d\"},\"xaxis5\":{\"anchor\":\"y5\",\"domain\":[0.0,1.0],\"hoverformat\":\"%Y-%m-%d\",\"showticklabels\":true,\"tickformat\":\"%Y-%m-%d\"},\"yaxis5\":{\"anchor\":\"x5\",\"domain\":[0.0,0.24],\"tickformat\":\",d\"},\"annotations\":[{\"font\":{\"size\":16},\"showarrow\":false,\"text\":\"\\uac00\\uaca9\",\"x\":0.5,\"xanchor\":\"center\",\"xref\":\"paper\",\"y\":1.0,\"yanchor\":\"bottom\",\"yref\":\"paper\"},{\"font\":{\"size\":16},\"showarrow\":false,\"text\":\"\\uc794\\uace0\\uc218\\ub7c9\",\"x\":0.5,\"xanchor\":\"center\",\"xref\":\"paper\",\"y\":0.79,\"yanchor\":\"bottom\",\"yref\":\"paper\"},{\"font\":{\"size\":16},\"showarrow\":false,\"text\":\"\\uc794\\uace0\\uac00\\uce58\",\"x\":0.5,\"xanchor\":\"center\",\"xref\":\"paper\",\"y\":0.66,\"yanchor\":\"bottom\",\"yref\":\"paper\"},{\"font\":{\"size\":16},\"showarrow\":false,\"text\":\"\\uc2e4\\ud604\\uc190\\uc775\",\"x\":0.5,\"xanchor\":\"center\",\"xref\":\"paper\",\"y\":0.45,\"yanchor\":\"bottom\",\"yref\":\"paper\"},{\"font\":{\"size\":16},\"showarrow\":false,\"text\":\"\\ucd1d\\uc790\\uc0b0\\uac00\\uce58\",\"x\":0.5,\"xanchor\":\"center\",\"xref\":\"paper\",\"y\":0.24,\"yanchor\":\"bottom\",\"yref\":\"paper\"}],\"margin\":{\"b\":25,\"l\":25,\"r\":25,\"t\":80},\"title\":{\"text\":\"\\ubc31\\ud14c\\uc2a4\\ud2b8 \\uacb0\\uacfc: 005930, 2023-01-02~2023-01-13\",\"x\":0.5,\"y\":0.98},\"uniformtext\":{\"minsize\":12,\"mode\":\"show\"},\"height\":800,\"hovermode\":\"x unified\",\"showlegend\":false},                        {\"modeBarButtonsToRemove\": [\"resetScale2d\", \"lasso2d\", \"zoomIn2d\", \"zoomOut2d\", \"select2d\"], \"displaylogo\": false, \"responsive\": true}                    ).then(function(){\n",
       "                            \n",
       "var gd = document.getElementById('5ef5363a-3f66-4ad8-9035-30a4a1182405');\n",
       "var x = new MutationObserver(function (mutations, observer) {{\n",
       "        var display = window.getComputedStyle(gd).display;\n",
       "        if (!display || display === 'none') {{\n",
       "            console.log([gd, 'removed!']);\n",
       "            Plotly.purge(gd);\n",
       "            observer.disconnect();\n",
       "        }}\n",
       "}});\n",
       "\n",
       "// Listen for the removal of the full notebook cells\n",
       "var notebookContainer = gd.closest('#notebook-container');\n",
       "if (notebookContainer) {{\n",
       "    x.observe(notebookContainer, {childList: true});\n",
       "}}\n",
       "\n",
       "// Listen for the clearing of the current output cell\n",
       "var outputEl = gd.closest('.output');\n",
       "if (outputEl) {{\n",
       "    x.observe(outputEl, {childList: true});\n",
       "}}\n",
       "\n",
       "                        })                };                });            </script>        </div>"
      ]
     },
     "metadata": {},
     "output_type": "display_data"
    }
   ],
   "source": [
    "kq.backtest_plot_stock_daily(df_result5_005930)"
   ]
  },
  {
   "cell_type": "code",
   "execution_count": 19,
   "metadata": {},
   "outputs": [
    {
     "data": {
      "text/html": [
       "<div>\n",
       "<style scoped>\n",
       "    .dataframe tbody tr th:only-of-type {\n",
       "        vertical-align: middle;\n",
       "    }\n",
       "\n",
       "    .dataframe tbody tr th {\n",
       "        vertical-align: top;\n",
       "    }\n",
       "\n",
       "    .dataframe thead th {\n",
       "        text-align: right;\n",
       "    }\n",
       "</style>\n",
       "<table border=\"1\" class=\"dataframe\">\n",
       "  <thead>\n",
       "    <tr style=\"text-align: right;\">\n",
       "      <th></th>\n",
       "      <th>DATE</th>\n",
       "      <th>SYMBOL</th>\n",
       "      <th>PRICE</th>\n",
       "      <th>ORDER</th>\n",
       "      <th>QTY</th>\n",
       "      <th>TRADE_PRICE</th>\n",
       "      <th>POSITION</th>\n",
       "      <th>AVG_PRICE</th>\n",
       "      <th>FEE</th>\n",
       "      <th>TRADE_TAX</th>\n",
       "      <th>SLIPPAGE</th>\n",
       "      <th>CASHFLOW</th>\n",
       "      <th>CASH</th>\n",
       "      <th>HIST_VALUE</th>\n",
       "      <th>STOCK_VALUE</th>\n",
       "      <th>TOTAL_VALUE</th>\n",
       "      <th>REAL_PROFIT</th>\n",
       "      <th>UNREAL_PROFIT</th>\n",
       "      <th>PROFIT</th>\n",
       "      <th>HIGHWATERMARK</th>\n",
       "      <th>DRAWDOWN</th>\n",
       "    </tr>\n",
       "  </thead>\n",
       "  <tbody>\n",
       "    <tr>\n",
       "      <th>0</th>\n",
       "      <td>2023-01-02</td>\n",
       "      <td>TOTAL</td>\n",
       "      <td>0</td>\n",
       "      <td>0</td>\n",
       "      <td>0</td>\n",
       "      <td>0</td>\n",
       "      <td>50</td>\n",
       "      <td>0.0000</td>\n",
       "      <td>0</td>\n",
       "      <td>0</td>\n",
       "      <td>0</td>\n",
       "      <td>-16,762,000</td>\n",
       "      <td>983,238,000</td>\n",
       "      <td>16,762,000</td>\n",
       "      <td>16,762,000</td>\n",
       "      <td>1,000,000,000</td>\n",
       "      <td>0</td>\n",
       "      <td>0</td>\n",
       "      <td>0</td>\n",
       "      <td>1,000,000,000</td>\n",
       "      <td>0</td>\n",
       "    </tr>\n",
       "    <tr>\n",
       "      <th>1</th>\n",
       "      <td>2023-01-03</td>\n",
       "      <td>TOTAL</td>\n",
       "      <td>0</td>\n",
       "      <td>0</td>\n",
       "      <td>0</td>\n",
       "      <td>0</td>\n",
       "      <td>55</td>\n",
       "      <td>0.0000</td>\n",
       "      <td>0</td>\n",
       "      <td>0</td>\n",
       "      <td>0</td>\n",
       "      <td>-1,646,500</td>\n",
       "      <td>981,591,500</td>\n",
       "      <td>18,408,500</td>\n",
       "      <td>18,111,500</td>\n",
       "      <td>999,703,000</td>\n",
       "      <td>0</td>\n",
       "      <td>-297,000</td>\n",
       "      <td>-297,000</td>\n",
       "      <td>1,000,000,000</td>\n",
       "      <td>297,000</td>\n",
       "    </tr>\n",
       "    <tr>\n",
       "      <th>2</th>\n",
       "      <td>2023-01-04</td>\n",
       "      <td>TOTAL</td>\n",
       "      <td>0</td>\n",
       "      <td>0</td>\n",
       "      <td>0</td>\n",
       "      <td>0</td>\n",
       "      <td>55</td>\n",
       "      <td>0.0000</td>\n",
       "      <td>0</td>\n",
       "      <td>0</td>\n",
       "      <td>0</td>\n",
       "      <td>0</td>\n",
       "      <td>981,591,500</td>\n",
       "      <td>18,408,500</td>\n",
       "      <td>18,153,300</td>\n",
       "      <td>999,744,800</td>\n",
       "      <td>0</td>\n",
       "      <td>-255,200</td>\n",
       "      <td>-255,200</td>\n",
       "      <td>1,000,000,000</td>\n",
       "      <td>255,200</td>\n",
       "    </tr>\n",
       "    <tr>\n",
       "      <th>3</th>\n",
       "      <td>2023-01-05</td>\n",
       "      <td>TOTAL</td>\n",
       "      <td>0</td>\n",
       "      <td>0</td>\n",
       "      <td>0</td>\n",
       "      <td>0</td>\n",
       "      <td>55</td>\n",
       "      <td>0.0000</td>\n",
       "      <td>0</td>\n",
       "      <td>0</td>\n",
       "      <td>0</td>\n",
       "      <td>0</td>\n",
       "      <td>981,591,500</td>\n",
       "      <td>18,408,500</td>\n",
       "      <td>18,255,600</td>\n",
       "      <td>999,847,100</td>\n",
       "      <td>0</td>\n",
       "      <td>-152,900</td>\n",
       "      <td>-152,900</td>\n",
       "      <td>1,000,000,000</td>\n",
       "      <td>152,900</td>\n",
       "    </tr>\n",
       "    <tr>\n",
       "      <th>4</th>\n",
       "      <td>2023-01-06</td>\n",
       "      <td>TOTAL</td>\n",
       "      <td>0</td>\n",
       "      <td>0</td>\n",
       "      <td>0</td>\n",
       "      <td>0</td>\n",
       "      <td>55</td>\n",
       "      <td>0.0000</td>\n",
       "      <td>0</td>\n",
       "      <td>0</td>\n",
       "      <td>0</td>\n",
       "      <td>0</td>\n",
       "      <td>981,591,500</td>\n",
       "      <td>18,408,500</td>\n",
       "      <td>18,481,100</td>\n",
       "      <td>1,000,072,600</td>\n",
       "      <td>0</td>\n",
       "      <td>72,600</td>\n",
       "      <td>72,600</td>\n",
       "      <td>1,000,072,600</td>\n",
       "      <td>0</td>\n",
       "    </tr>\n",
       "    <tr>\n",
       "      <th>5</th>\n",
       "      <td>2023-01-09</td>\n",
       "      <td>TOTAL</td>\n",
       "      <td>0</td>\n",
       "      <td>0</td>\n",
       "      <td>0</td>\n",
       "      <td>0</td>\n",
       "      <td>55</td>\n",
       "      <td>0.0000</td>\n",
       "      <td>0</td>\n",
       "      <td>0</td>\n",
       "      <td>0</td>\n",
       "      <td>0</td>\n",
       "      <td>981,591,500</td>\n",
       "      <td>18,408,500</td>\n",
       "      <td>18,828,700</td>\n",
       "      <td>1,000,420,200</td>\n",
       "      <td>0</td>\n",
       "      <td>420,200</td>\n",
       "      <td>420,200</td>\n",
       "      <td>1,000,420,200</td>\n",
       "      <td>0</td>\n",
       "    </tr>\n",
       "    <tr>\n",
       "      <th>6</th>\n",
       "      <td>2023-01-10</td>\n",
       "      <td>TOTAL</td>\n",
       "      <td>0</td>\n",
       "      <td>0</td>\n",
       "      <td>0</td>\n",
       "      <td>0</td>\n",
       "      <td>60</td>\n",
       "      <td>0.0000</td>\n",
       "      <td>0</td>\n",
       "      <td>0</td>\n",
       "      <td>0</td>\n",
       "      <td>-1,710,400</td>\n",
       "      <td>979,881,100</td>\n",
       "      <td>20,118,900</td>\n",
       "      <td>20,524,800</td>\n",
       "      <td>1,000,405,900</td>\n",
       "      <td>0</td>\n",
       "      <td>405,900</td>\n",
       "      <td>405,900</td>\n",
       "      <td>1,000,420,200</td>\n",
       "      <td>14,300</td>\n",
       "    </tr>\n",
       "    <tr>\n",
       "      <th>7</th>\n",
       "      <td>2023-01-11</td>\n",
       "      <td>TOTAL</td>\n",
       "      <td>0</td>\n",
       "      <td>0</td>\n",
       "      <td>0</td>\n",
       "      <td>0</td>\n",
       "      <td>60</td>\n",
       "      <td>0.0000</td>\n",
       "      <td>0</td>\n",
       "      <td>0</td>\n",
       "      <td>0</td>\n",
       "      <td>0</td>\n",
       "      <td>979,881,100</td>\n",
       "      <td>20,118,900</td>\n",
       "      <td>20,607,600</td>\n",
       "      <td>1,000,488,700</td>\n",
       "      <td>0</td>\n",
       "      <td>488,700</td>\n",
       "      <td>488,700</td>\n",
       "      <td>1,000,488,700</td>\n",
       "      <td>0</td>\n",
       "    </tr>\n",
       "    <tr>\n",
       "      <th>8</th>\n",
       "      <td>2023-01-12</td>\n",
       "      <td>TOTAL</td>\n",
       "      <td>0</td>\n",
       "      <td>0</td>\n",
       "      <td>0</td>\n",
       "      <td>0</td>\n",
       "      <td>60</td>\n",
       "      <td>0.0000</td>\n",
       "      <td>0</td>\n",
       "      <td>0</td>\n",
       "      <td>0</td>\n",
       "      <td>0</td>\n",
       "      <td>979,881,100</td>\n",
       "      <td>20,118,900</td>\n",
       "      <td>20,727,600</td>\n",
       "      <td>1,000,608,700</td>\n",
       "      <td>0</td>\n",
       "      <td>608,700</td>\n",
       "      <td>608,700</td>\n",
       "      <td>1,000,608,700</td>\n",
       "      <td>0</td>\n",
       "    </tr>\n",
       "    <tr>\n",
       "      <th>9</th>\n",
       "      <td>2023-01-13</td>\n",
       "      <td>TOTAL</td>\n",
       "      <td>0</td>\n",
       "      <td>0</td>\n",
       "      <td>0</td>\n",
       "      <td>0</td>\n",
       "      <td>60</td>\n",
       "      <td>0.0000</td>\n",
       "      <td>0</td>\n",
       "      <td>0</td>\n",
       "      <td>0</td>\n",
       "      <td>0</td>\n",
       "      <td>979,881,100</td>\n",
       "      <td>20,118,900</td>\n",
       "      <td>20,886,000</td>\n",
       "      <td>1,000,767,100</td>\n",
       "      <td>0</td>\n",
       "      <td>767,100</td>\n",
       "      <td>767,100</td>\n",
       "      <td>1,000,767,100</td>\n",
       "      <td>0</td>\n",
       "    </tr>\n",
       "  </tbody>\n",
       "</table>\n",
       "</div>"
      ],
      "text/plain": [
       "        DATE SYMBOL  PRICE  ORDER  QTY  TRADE_PRICE  POSITION  AVG_PRICE  FEE  \\\n",
       "0 2023-01-02  TOTAL      0      0    0            0        50     0.0000    0   \n",
       "1 2023-01-03  TOTAL      0      0    0            0        55     0.0000    0   \n",
       "2 2023-01-04  TOTAL      0      0    0            0        55     0.0000    0   \n",
       "3 2023-01-05  TOTAL      0      0    0            0        55     0.0000    0   \n",
       "4 2023-01-06  TOTAL      0      0    0            0        55     0.0000    0   \n",
       "5 2023-01-09  TOTAL      0      0    0            0        55     0.0000    0   \n",
       "6 2023-01-10  TOTAL      0      0    0            0        60     0.0000    0   \n",
       "7 2023-01-11  TOTAL      0      0    0            0        60     0.0000    0   \n",
       "8 2023-01-12  TOTAL      0      0    0            0        60     0.0000    0   \n",
       "9 2023-01-13  TOTAL      0      0    0            0        60     0.0000    0   \n",
       "\n",
       "   TRADE_TAX  SLIPPAGE     CASHFLOW         CASH  HIST_VALUE  STOCK_VALUE  \\\n",
       "0          0         0  -16,762,000  983,238,000  16,762,000   16,762,000   \n",
       "1          0         0   -1,646,500  981,591,500  18,408,500   18,111,500   \n",
       "2          0         0            0  981,591,500  18,408,500   18,153,300   \n",
       "3          0         0            0  981,591,500  18,408,500   18,255,600   \n",
       "4          0         0            0  981,591,500  18,408,500   18,481,100   \n",
       "5          0         0            0  981,591,500  18,408,500   18,828,700   \n",
       "6          0         0   -1,710,400  979,881,100  20,118,900   20,524,800   \n",
       "7          0         0            0  979,881,100  20,118,900   20,607,600   \n",
       "8          0         0            0  979,881,100  20,118,900   20,727,600   \n",
       "9          0         0            0  979,881,100  20,118,900   20,886,000   \n",
       "\n",
       "     TOTAL_VALUE  REAL_PROFIT  UNREAL_PROFIT    PROFIT  HIGHWATERMARK  \\\n",
       "0  1,000,000,000            0              0         0  1,000,000,000   \n",
       "1    999,703,000            0       -297,000  -297,000  1,000,000,000   \n",
       "2    999,744,800            0       -255,200  -255,200  1,000,000,000   \n",
       "3    999,847,100            0       -152,900  -152,900  1,000,000,000   \n",
       "4  1,000,072,600            0         72,600    72,600  1,000,072,600   \n",
       "5  1,000,420,200            0        420,200   420,200  1,000,420,200   \n",
       "6  1,000,405,900            0        405,900   405,900  1,000,420,200   \n",
       "7  1,000,488,700            0        488,700   488,700  1,000,488,700   \n",
       "8  1,000,608,700            0        608,700   608,700  1,000,608,700   \n",
       "9  1,000,767,100            0        767,100   767,100  1,000,767,100   \n",
       "\n",
       "   DRAWDOWN  \n",
       "0         0  \n",
       "1   297,000  \n",
       "2   255,200  \n",
       "3   152,900  \n",
       "4         0  \n",
       "5         0  \n",
       "6    14,300  \n",
       "7         0  \n",
       "8         0  \n",
       "9         0  "
      ]
     },
     "execution_count": 19,
     "metadata": {},
     "output_type": "execute_result"
    }
   ],
   "source": [
    "df_result5_total = dict_df_result5[\"TOTAL\"]\n",
    "df_result5_total\n"
   ]
  },
  {
   "cell_type": "code",
   "execution_count": 20,
   "metadata": {},
   "outputs": [
    {
     "data": {
      "application/vnd.plotly.v1+json": {
       "config": {
        "displaylogo": false,
        "modeBarButtonsToRemove": [
         "resetScale2d",
         "lasso2d",
         "zoomIn2d",
         "zoomOut2d",
         "select2d"
        ],
        "plotlyServerURL": "https://plot.ly",
        "responsive": true
       },
       "data": [
        {
         "line": {
          "color": "#000000",
          "shape": "hv"
         },
         "mode": "lines",
         "name": "잔고가치",
         "type": "scatter",
         "x": [
          "2023-01-02T00:00:00",
          "2023-01-03T00:00:00",
          "2023-01-04T00:00:00",
          "2023-01-05T00:00:00",
          "2023-01-06T00:00:00",
          "2023-01-09T00:00:00",
          "2023-01-10T00:00:00",
          "2023-01-11T00:00:00",
          "2023-01-12T00:00:00",
          "2023-01-13T00:00:00"
         ],
         "xaxis": "x3",
         "y": [
          16762000,
          18111500,
          18153300,
          18255600,
          18481100,
          18828700,
          20524800,
          20607600,
          20727600,
          20886000
         ],
         "yaxis": "y"
        },
        {
         "cliponaxis": false,
         "marker": {
          "color": [
           "#00008B",
           "#00008B",
           "#00008B",
           "#00008B",
           "#00008B",
           "#00008B",
           "#00008B",
           "#00008B",
           "#00008B",
           "#00008B"
          ]
         },
         "name": "실현손익",
         "text": [
          "",
          "",
          "",
          "",
          "",
          "",
          "",
          "",
          "",
          ""
         ],
         "textposition": "outside",
         "type": "bar",
         "width": 432000000,
         "x": [
          "2023-01-02T00:00:00",
          "2023-01-03T00:00:00",
          "2023-01-04T00:00:00",
          "2023-01-05T00:00:00",
          "2023-01-06T00:00:00",
          "2023-01-09T00:00:00",
          "2023-01-10T00:00:00",
          "2023-01-11T00:00:00",
          "2023-01-12T00:00:00",
          "2023-01-13T00:00:00"
         ],
         "xaxis": "x3",
         "y": [
          0,
          0,
          0,
          0,
          0,
          0,
          0,
          0,
          0,
          0
         ],
         "yaxis": "y2"
        },
        {
         "line": {
          "color": "#000000",
          "shape": "hv"
         },
         "mode": "lines",
         "name": "총자산가치",
         "type": "scatter",
         "x": [
          "2023-01-02T00:00:00",
          "2023-01-03T00:00:00",
          "2023-01-04T00:00:00",
          "2023-01-05T00:00:00",
          "2023-01-06T00:00:00",
          "2023-01-09T00:00:00",
          "2023-01-10T00:00:00",
          "2023-01-11T00:00:00",
          "2023-01-12T00:00:00",
          "2023-01-13T00:00:00"
         ],
         "xaxis": "x3",
         "y": [
          1000000000,
          999703000,
          999744800,
          999847100,
          1000072600,
          1000420200,
          1000405900,
          1000488700,
          1000608700,
          1000767100
         ],
         "yaxis": "y3"
        },
        {
         "line": {
          "color": "#DC143C",
          "dash": "dash",
          "shape": "hv"
         },
         "mode": "lines",
         "name": "최고자산가치",
         "type": "scatter",
         "x": [
          "2023-01-02T00:00:00",
          "2023-01-03T00:00:00",
          "2023-01-04T00:00:00",
          "2023-01-05T00:00:00",
          "2023-01-06T00:00:00",
          "2023-01-09T00:00:00",
          "2023-01-10T00:00:00",
          "2023-01-11T00:00:00",
          "2023-01-12T00:00:00",
          "2023-01-13T00:00:00"
         ],
         "xaxis": "x3",
         "y": [
          1000000000,
          1000000000,
          1000000000,
          1000000000,
          1000072600,
          1000420200,
          1000420200,
          1000488700,
          1000608700,
          1000767100
         ],
         "yaxis": "y3"
        },
        {
         "base": [
          1000000000
         ],
         "cliponaxis": false,
         "marker": {
          "color": [
           "#DC143C"
          ]
         },
         "name": "최종손익",
         "text": [
          "최종수익: 767,100"
         ],
         "textposition": "outside",
         "type": "bar",
         "width": 864000000,
         "x": [
          "2023-01-13T00:00:00"
         ],
         "xaxis": "x3",
         "y": [
          767100
         ],
         "yaxis": "y3"
        },
        {
         "cliponaxis": false,
         "marker": {
          "color": [
           "#DC143C",
           "#00008B"
          ],
          "line": {
           "color": "white",
           "width": 1
          },
          "size": 12,
          "symbol": [
           "triangle-up",
           "triangle-down"
          ]
         },
         "mode": "markers+text",
         "name": "",
         "text": [
          "최고자산가치: 1,000,767,100",
          "MDD: -297,000"
         ],
         "textposition": [
          "top center",
          "bottom center"
         ],
         "type": "scatter",
         "x": [
          "2023-01-13T00:00:00",
          "2023-01-03T00:00:00"
         ],
         "xaxis": "x3",
         "y": [
          1000767100,
          1000470100
         ],
         "yaxis": "y3"
        }
       ],
       "layout": {
        "annotations": [
         {
          "font": {
           "size": 16
          },
          "showarrow": false,
          "text": "잔고가치",
          "x": 0.5,
          "xanchor": "center",
          "xref": "paper",
          "y": 1,
          "yanchor": "bottom",
          "yref": "paper"
         },
         {
          "font": {
           "size": 16
          },
          "showarrow": false,
          "text": "실현손익",
          "x": 0.5,
          "xanchor": "center",
          "xref": "paper",
          "y": 0.68,
          "yanchor": "bottom",
          "yref": "paper"
         },
         {
          "font": {
           "size": 16
          },
          "showarrow": false,
          "text": "총자산가치",
          "x": 0.5,
          "xanchor": "center",
          "xref": "paper",
          "y": 0.36000000000000004,
          "yanchor": "bottom",
          "yref": "paper"
         }
        ],
        "height": 800,
        "hovermode": "x unified",
        "margin": {
         "b": 25,
         "l": 25,
         "r": 25,
         "t": 80
        },
        "showlegend": false,
        "template": {
         "data": {
          "bar": [
           {
            "error_x": {
             "color": "#2a3f5f"
            },
            "error_y": {
             "color": "#2a3f5f"
            },
            "marker": {
             "line": {
              "color": "#E5ECF6",
              "width": 0.5
             },
             "pattern": {
              "fillmode": "overlay",
              "size": 10,
              "solidity": 0.2
             }
            },
            "type": "bar"
           }
          ],
          "barpolar": [
           {
            "marker": {
             "line": {
              "color": "#E5ECF6",
              "width": 0.5
             },
             "pattern": {
              "fillmode": "overlay",
              "size": 10,
              "solidity": 0.2
             }
            },
            "type": "barpolar"
           }
          ],
          "carpet": [
           {
            "aaxis": {
             "endlinecolor": "#2a3f5f",
             "gridcolor": "white",
             "linecolor": "white",
             "minorgridcolor": "white",
             "startlinecolor": "#2a3f5f"
            },
            "baxis": {
             "endlinecolor": "#2a3f5f",
             "gridcolor": "white",
             "linecolor": "white",
             "minorgridcolor": "white",
             "startlinecolor": "#2a3f5f"
            },
            "type": "carpet"
           }
          ],
          "choropleth": [
           {
            "colorbar": {
             "outlinewidth": 0,
             "ticks": ""
            },
            "type": "choropleth"
           }
          ],
          "contour": [
           {
            "colorbar": {
             "outlinewidth": 0,
             "ticks": ""
            },
            "colorscale": [
             [
              0,
              "#0d0887"
             ],
             [
              0.1111111111111111,
              "#46039f"
             ],
             [
              0.2222222222222222,
              "#7201a8"
             ],
             [
              0.3333333333333333,
              "#9c179e"
             ],
             [
              0.4444444444444444,
              "#bd3786"
             ],
             [
              0.5555555555555556,
              "#d8576b"
             ],
             [
              0.6666666666666666,
              "#ed7953"
             ],
             [
              0.7777777777777778,
              "#fb9f3a"
             ],
             [
              0.8888888888888888,
              "#fdca26"
             ],
             [
              1,
              "#f0f921"
             ]
            ],
            "type": "contour"
           }
          ],
          "contourcarpet": [
           {
            "colorbar": {
             "outlinewidth": 0,
             "ticks": ""
            },
            "type": "contourcarpet"
           }
          ],
          "heatmap": [
           {
            "colorbar": {
             "outlinewidth": 0,
             "ticks": ""
            },
            "colorscale": [
             [
              0,
              "#0d0887"
             ],
             [
              0.1111111111111111,
              "#46039f"
             ],
             [
              0.2222222222222222,
              "#7201a8"
             ],
             [
              0.3333333333333333,
              "#9c179e"
             ],
             [
              0.4444444444444444,
              "#bd3786"
             ],
             [
              0.5555555555555556,
              "#d8576b"
             ],
             [
              0.6666666666666666,
              "#ed7953"
             ],
             [
              0.7777777777777778,
              "#fb9f3a"
             ],
             [
              0.8888888888888888,
              "#fdca26"
             ],
             [
              1,
              "#f0f921"
             ]
            ],
            "type": "heatmap"
           }
          ],
          "heatmapgl": [
           {
            "colorbar": {
             "outlinewidth": 0,
             "ticks": ""
            },
            "colorscale": [
             [
              0,
              "#0d0887"
             ],
             [
              0.1111111111111111,
              "#46039f"
             ],
             [
              0.2222222222222222,
              "#7201a8"
             ],
             [
              0.3333333333333333,
              "#9c179e"
             ],
             [
              0.4444444444444444,
              "#bd3786"
             ],
             [
              0.5555555555555556,
              "#d8576b"
             ],
             [
              0.6666666666666666,
              "#ed7953"
             ],
             [
              0.7777777777777778,
              "#fb9f3a"
             ],
             [
              0.8888888888888888,
              "#fdca26"
             ],
             [
              1,
              "#f0f921"
             ]
            ],
            "type": "heatmapgl"
           }
          ],
          "histogram": [
           {
            "marker": {
             "pattern": {
              "fillmode": "overlay",
              "size": 10,
              "solidity": 0.2
             }
            },
            "type": "histogram"
           }
          ],
          "histogram2d": [
           {
            "colorbar": {
             "outlinewidth": 0,
             "ticks": ""
            },
            "colorscale": [
             [
              0,
              "#0d0887"
             ],
             [
              0.1111111111111111,
              "#46039f"
             ],
             [
              0.2222222222222222,
              "#7201a8"
             ],
             [
              0.3333333333333333,
              "#9c179e"
             ],
             [
              0.4444444444444444,
              "#bd3786"
             ],
             [
              0.5555555555555556,
              "#d8576b"
             ],
             [
              0.6666666666666666,
              "#ed7953"
             ],
             [
              0.7777777777777778,
              "#fb9f3a"
             ],
             [
              0.8888888888888888,
              "#fdca26"
             ],
             [
              1,
              "#f0f921"
             ]
            ],
            "type": "histogram2d"
           }
          ],
          "histogram2dcontour": [
           {
            "colorbar": {
             "outlinewidth": 0,
             "ticks": ""
            },
            "colorscale": [
             [
              0,
              "#0d0887"
             ],
             [
              0.1111111111111111,
              "#46039f"
             ],
             [
              0.2222222222222222,
              "#7201a8"
             ],
             [
              0.3333333333333333,
              "#9c179e"
             ],
             [
              0.4444444444444444,
              "#bd3786"
             ],
             [
              0.5555555555555556,
              "#d8576b"
             ],
             [
              0.6666666666666666,
              "#ed7953"
             ],
             [
              0.7777777777777778,
              "#fb9f3a"
             ],
             [
              0.8888888888888888,
              "#fdca26"
             ],
             [
              1,
              "#f0f921"
             ]
            ],
            "type": "histogram2dcontour"
           }
          ],
          "mesh3d": [
           {
            "colorbar": {
             "outlinewidth": 0,
             "ticks": ""
            },
            "type": "mesh3d"
           }
          ],
          "parcoords": [
           {
            "line": {
             "colorbar": {
              "outlinewidth": 0,
              "ticks": ""
             }
            },
            "type": "parcoords"
           }
          ],
          "pie": [
           {
            "automargin": true,
            "type": "pie"
           }
          ],
          "scatter": [
           {
            "fillpattern": {
             "fillmode": "overlay",
             "size": 10,
             "solidity": 0.2
            },
            "type": "scatter"
           }
          ],
          "scatter3d": [
           {
            "line": {
             "colorbar": {
              "outlinewidth": 0,
              "ticks": ""
             }
            },
            "marker": {
             "colorbar": {
              "outlinewidth": 0,
              "ticks": ""
             }
            },
            "type": "scatter3d"
           }
          ],
          "scattercarpet": [
           {
            "marker": {
             "colorbar": {
              "outlinewidth": 0,
              "ticks": ""
             }
            },
            "type": "scattercarpet"
           }
          ],
          "scattergeo": [
           {
            "marker": {
             "colorbar": {
              "outlinewidth": 0,
              "ticks": ""
             }
            },
            "type": "scattergeo"
           }
          ],
          "scattergl": [
           {
            "marker": {
             "colorbar": {
              "outlinewidth": 0,
              "ticks": ""
             }
            },
            "type": "scattergl"
           }
          ],
          "scattermapbox": [
           {
            "marker": {
             "colorbar": {
              "outlinewidth": 0,
              "ticks": ""
             }
            },
            "type": "scattermapbox"
           }
          ],
          "scatterpolar": [
           {
            "marker": {
             "colorbar": {
              "outlinewidth": 0,
              "ticks": ""
             }
            },
            "type": "scatterpolar"
           }
          ],
          "scatterpolargl": [
           {
            "marker": {
             "colorbar": {
              "outlinewidth": 0,
              "ticks": ""
             }
            },
            "type": "scatterpolargl"
           }
          ],
          "scatterternary": [
           {
            "marker": {
             "colorbar": {
              "outlinewidth": 0,
              "ticks": ""
             }
            },
            "type": "scatterternary"
           }
          ],
          "surface": [
           {
            "colorbar": {
             "outlinewidth": 0,
             "ticks": ""
            },
            "colorscale": [
             [
              0,
              "#0d0887"
             ],
             [
              0.1111111111111111,
              "#46039f"
             ],
             [
              0.2222222222222222,
              "#7201a8"
             ],
             [
              0.3333333333333333,
              "#9c179e"
             ],
             [
              0.4444444444444444,
              "#bd3786"
             ],
             [
              0.5555555555555556,
              "#d8576b"
             ],
             [
              0.6666666666666666,
              "#ed7953"
             ],
             [
              0.7777777777777778,
              "#fb9f3a"
             ],
             [
              0.8888888888888888,
              "#fdca26"
             ],
             [
              1,
              "#f0f921"
             ]
            ],
            "type": "surface"
           }
          ],
          "table": [
           {
            "cells": {
             "fill": {
              "color": "#EBF0F8"
             },
             "line": {
              "color": "white"
             }
            },
            "header": {
             "fill": {
              "color": "#C8D4E3"
             },
             "line": {
              "color": "white"
             }
            },
            "type": "table"
           }
          ]
         },
         "layout": {
          "annotationdefaults": {
           "arrowcolor": "#2a3f5f",
           "arrowhead": 0,
           "arrowwidth": 1
          },
          "autotypenumbers": "strict",
          "coloraxis": {
           "colorbar": {
            "outlinewidth": 0,
            "ticks": ""
           }
          },
          "colorscale": {
           "diverging": [
            [
             0,
             "#8e0152"
            ],
            [
             0.1,
             "#c51b7d"
            ],
            [
             0.2,
             "#de77ae"
            ],
            [
             0.3,
             "#f1b6da"
            ],
            [
             0.4,
             "#fde0ef"
            ],
            [
             0.5,
             "#f7f7f7"
            ],
            [
             0.6,
             "#e6f5d0"
            ],
            [
             0.7,
             "#b8e186"
            ],
            [
             0.8,
             "#7fbc41"
            ],
            [
             0.9,
             "#4d9221"
            ],
            [
             1,
             "#276419"
            ]
           ],
           "sequential": [
            [
             0,
             "#0d0887"
            ],
            [
             0.1111111111111111,
             "#46039f"
            ],
            [
             0.2222222222222222,
             "#7201a8"
            ],
            [
             0.3333333333333333,
             "#9c179e"
            ],
            [
             0.4444444444444444,
             "#bd3786"
            ],
            [
             0.5555555555555556,
             "#d8576b"
            ],
            [
             0.6666666666666666,
             "#ed7953"
            ],
            [
             0.7777777777777778,
             "#fb9f3a"
            ],
            [
             0.8888888888888888,
             "#fdca26"
            ],
            [
             1,
             "#f0f921"
            ]
           ],
           "sequentialminus": [
            [
             0,
             "#0d0887"
            ],
            [
             0.1111111111111111,
             "#46039f"
            ],
            [
             0.2222222222222222,
             "#7201a8"
            ],
            [
             0.3333333333333333,
             "#9c179e"
            ],
            [
             0.4444444444444444,
             "#bd3786"
            ],
            [
             0.5555555555555556,
             "#d8576b"
            ],
            [
             0.6666666666666666,
             "#ed7953"
            ],
            [
             0.7777777777777778,
             "#fb9f3a"
            ],
            [
             0.8888888888888888,
             "#fdca26"
            ],
            [
             1,
             "#f0f921"
            ]
           ]
          },
          "colorway": [
           "#636efa",
           "#EF553B",
           "#00cc96",
           "#ab63fa",
           "#FFA15A",
           "#19d3f3",
           "#FF6692",
           "#B6E880",
           "#FF97FF",
           "#FECB52"
          ],
          "font": {
           "color": "#2a3f5f"
          },
          "geo": {
           "bgcolor": "white",
           "lakecolor": "white",
           "landcolor": "#E5ECF6",
           "showlakes": true,
           "showland": true,
           "subunitcolor": "white"
          },
          "hoverlabel": {
           "align": "left"
          },
          "hovermode": "closest",
          "mapbox": {
           "style": "light"
          },
          "paper_bgcolor": "white",
          "plot_bgcolor": "#E5ECF6",
          "polar": {
           "angularaxis": {
            "gridcolor": "white",
            "linecolor": "white",
            "ticks": ""
           },
           "bgcolor": "#E5ECF6",
           "radialaxis": {
            "gridcolor": "white",
            "linecolor": "white",
            "ticks": ""
           }
          },
          "scene": {
           "xaxis": {
            "backgroundcolor": "#E5ECF6",
            "gridcolor": "white",
            "gridwidth": 2,
            "linecolor": "white",
            "showbackground": true,
            "ticks": "",
            "zerolinecolor": "white"
           },
           "yaxis": {
            "backgroundcolor": "#E5ECF6",
            "gridcolor": "white",
            "gridwidth": 2,
            "linecolor": "white",
            "showbackground": true,
            "ticks": "",
            "zerolinecolor": "white"
           },
           "zaxis": {
            "backgroundcolor": "#E5ECF6",
            "gridcolor": "white",
            "gridwidth": 2,
            "linecolor": "white",
            "showbackground": true,
            "ticks": "",
            "zerolinecolor": "white"
           }
          },
          "shapedefaults": {
           "line": {
            "color": "#2a3f5f"
           }
          },
          "ternary": {
           "aaxis": {
            "gridcolor": "white",
            "linecolor": "white",
            "ticks": ""
           },
           "baxis": {
            "gridcolor": "white",
            "linecolor": "white",
            "ticks": ""
           },
           "bgcolor": "#E5ECF6",
           "caxis": {
            "gridcolor": "white",
            "linecolor": "white",
            "ticks": ""
           }
          },
          "title": {
           "x": 0.05
          },
          "xaxis": {
           "automargin": true,
           "gridcolor": "white",
           "linecolor": "white",
           "ticks": "",
           "title": {
            "standoff": 15
           },
           "zerolinecolor": "white",
           "zerolinewidth": 2
          },
          "yaxis": {
           "automargin": true,
           "gridcolor": "white",
           "linecolor": "white",
           "ticks": "",
           "title": {
            "standoff": 15
           },
           "zerolinecolor": "white",
           "zerolinewidth": 2
          }
         }
        },
        "title": {
         "text": "백테스트 결과: TOTAL, 2023-01-02~2023-01-13",
         "x": 0.5,
         "y": 0.98
        },
        "uniformtext": {
         "minsize": 12,
         "mode": "show"
        },
        "xaxis": {
         "anchor": "y",
         "domain": [
          0,
          1
         ],
         "matches": "x3",
         "showticklabels": false
        },
        "xaxis2": {
         "anchor": "y2",
         "domain": [
          0,
          1
         ],
         "matches": "x3",
         "showticklabels": false
        },
        "xaxis3": {
         "anchor": "y3",
         "domain": [
          0,
          1
         ],
         "hoverformat": "%Y-%m-%d",
         "showticklabels": true,
         "tickformat": "%Y-%m-%d"
        },
        "yaxis": {
         "anchor": "x",
         "domain": [
          0.7300000000000001,
          1
         ],
         "tickformat": ",d"
        },
        "yaxis2": {
         "anchor": "x2",
         "domain": [
          0.41000000000000003,
          0.68
         ],
         "tickformat": ",d"
        },
        "yaxis3": {
         "anchor": "x3",
         "domain": [
          0,
          0.36000000000000004
         ],
         "tickformat": ",d"
        }
       }
      },
      "text/html": [
       "<div>                            <div id=\"db06292a-c152-4c9f-908a-f8d14db6ea9d\" class=\"plotly-graph-div\" style=\"height:800px; width:100%;\"></div>            <script type=\"text/javascript\">                require([\"plotly\"], function(Plotly) {                    window.PLOTLYENV=window.PLOTLYENV || {};                                    if (document.getElementById(\"db06292a-c152-4c9f-908a-f8d14db6ea9d\")) {                    Plotly.newPlot(                        \"db06292a-c152-4c9f-908a-f8d14db6ea9d\",                        [{\"line\":{\"color\":\"#000000\",\"shape\":\"hv\"},\"mode\":\"lines\",\"name\":\"\\uc794\\uace0\\uac00\\uce58\",\"x\":[\"2023-01-02T00:00:00\",\"2023-01-03T00:00:00\",\"2023-01-04T00:00:00\",\"2023-01-05T00:00:00\",\"2023-01-06T00:00:00\",\"2023-01-09T00:00:00\",\"2023-01-10T00:00:00\",\"2023-01-11T00:00:00\",\"2023-01-12T00:00:00\",\"2023-01-13T00:00:00\"],\"y\":[16762000,18111500,18153300,18255600,18481100,18828700,20524800,20607600,20727600,20886000],\"type\":\"scatter\",\"xaxis\":\"x3\",\"yaxis\":\"y\"},{\"cliponaxis\":false,\"marker\":{\"color\":[\"#00008B\",\"#00008B\",\"#00008B\",\"#00008B\",\"#00008B\",\"#00008B\",\"#00008B\",\"#00008B\",\"#00008B\",\"#00008B\"]},\"name\":\"\\uc2e4\\ud604\\uc190\\uc775\",\"text\":[\"\",\"\",\"\",\"\",\"\",\"\",\"\",\"\",\"\",\"\"],\"textposition\":\"outside\",\"width\":432000000,\"x\":[\"2023-01-02T00:00:00\",\"2023-01-03T00:00:00\",\"2023-01-04T00:00:00\",\"2023-01-05T00:00:00\",\"2023-01-06T00:00:00\",\"2023-01-09T00:00:00\",\"2023-01-10T00:00:00\",\"2023-01-11T00:00:00\",\"2023-01-12T00:00:00\",\"2023-01-13T00:00:00\"],\"y\":[0,0,0,0,0,0,0,0,0,0],\"type\":\"bar\",\"xaxis\":\"x3\",\"yaxis\":\"y2\"},{\"line\":{\"color\":\"#000000\",\"shape\":\"hv\"},\"mode\":\"lines\",\"name\":\"\\ucd1d\\uc790\\uc0b0\\uac00\\uce58\",\"x\":[\"2023-01-02T00:00:00\",\"2023-01-03T00:00:00\",\"2023-01-04T00:00:00\",\"2023-01-05T00:00:00\",\"2023-01-06T00:00:00\",\"2023-01-09T00:00:00\",\"2023-01-10T00:00:00\",\"2023-01-11T00:00:00\",\"2023-01-12T00:00:00\",\"2023-01-13T00:00:00\"],\"y\":[1000000000,999703000,999744800,999847100,1000072600,1000420200,1000405900,1000488700,1000608700,1000767100],\"type\":\"scatter\",\"xaxis\":\"x3\",\"yaxis\":\"y3\"},{\"line\":{\"color\":\"#DC143C\",\"dash\":\"dash\",\"shape\":\"hv\"},\"mode\":\"lines\",\"name\":\"\\ucd5c\\uace0\\uc790\\uc0b0\\uac00\\uce58\",\"x\":[\"2023-01-02T00:00:00\",\"2023-01-03T00:00:00\",\"2023-01-04T00:00:00\",\"2023-01-05T00:00:00\",\"2023-01-06T00:00:00\",\"2023-01-09T00:00:00\",\"2023-01-10T00:00:00\",\"2023-01-11T00:00:00\",\"2023-01-12T00:00:00\",\"2023-01-13T00:00:00\"],\"y\":[1000000000,1000000000,1000000000,1000000000,1000072600,1000420200,1000420200,1000488700,1000608700,1000767100],\"type\":\"scatter\",\"xaxis\":\"x3\",\"yaxis\":\"y3\"},{\"base\":[1000000000],\"cliponaxis\":false,\"marker\":{\"color\":[\"#DC143C\"]},\"name\":\"\\ucd5c\\uc885\\uc190\\uc775\",\"text\":[\"\\ucd5c\\uc885\\uc218\\uc775: 767,100\"],\"textposition\":\"outside\",\"width\":864000000,\"x\":[\"2023-01-13T00:00:00\"],\"y\":[767100],\"type\":\"bar\",\"xaxis\":\"x3\",\"yaxis\":\"y3\"},{\"cliponaxis\":false,\"marker\":{\"color\":[\"#DC143C\",\"#00008B\"],\"line\":{\"color\":\"white\",\"width\":1},\"size\":12,\"symbol\":[\"triangle-up\",\"triangle-down\"]},\"mode\":\"markers+text\",\"name\":\"\",\"text\":[\"\\ucd5c\\uace0\\uc790\\uc0b0\\uac00\\uce58: 1,000,767,100\",\"MDD: -297,000\"],\"textposition\":[\"top center\",\"bottom center\"],\"x\":[\"2023-01-13T00:00:00\",\"2023-01-03T00:00:00\"],\"y\":[1000767100,1000470100],\"type\":\"scatter\",\"xaxis\":\"x3\",\"yaxis\":\"y3\"}],                        {\"template\":{\"data\":{\"histogram2dcontour\":[{\"type\":\"histogram2dcontour\",\"colorbar\":{\"outlinewidth\":0,\"ticks\":\"\"},\"colorscale\":[[0.0,\"#0d0887\"],[0.1111111111111111,\"#46039f\"],[0.2222222222222222,\"#7201a8\"],[0.3333333333333333,\"#9c179e\"],[0.4444444444444444,\"#bd3786\"],[0.5555555555555556,\"#d8576b\"],[0.6666666666666666,\"#ed7953\"],[0.7777777777777778,\"#fb9f3a\"],[0.8888888888888888,\"#fdca26\"],[1.0,\"#f0f921\"]]}],\"choropleth\":[{\"type\":\"choropleth\",\"colorbar\":{\"outlinewidth\":0,\"ticks\":\"\"}}],\"histogram2d\":[{\"type\":\"histogram2d\",\"colorbar\":{\"outlinewidth\":0,\"ticks\":\"\"},\"colorscale\":[[0.0,\"#0d0887\"],[0.1111111111111111,\"#46039f\"],[0.2222222222222222,\"#7201a8\"],[0.3333333333333333,\"#9c179e\"],[0.4444444444444444,\"#bd3786\"],[0.5555555555555556,\"#d8576b\"],[0.6666666666666666,\"#ed7953\"],[0.7777777777777778,\"#fb9f3a\"],[0.8888888888888888,\"#fdca26\"],[1.0,\"#f0f921\"]]}],\"heatmap\":[{\"type\":\"heatmap\",\"colorbar\":{\"outlinewidth\":0,\"ticks\":\"\"},\"colorscale\":[[0.0,\"#0d0887\"],[0.1111111111111111,\"#46039f\"],[0.2222222222222222,\"#7201a8\"],[0.3333333333333333,\"#9c179e\"],[0.4444444444444444,\"#bd3786\"],[0.5555555555555556,\"#d8576b\"],[0.6666666666666666,\"#ed7953\"],[0.7777777777777778,\"#fb9f3a\"],[0.8888888888888888,\"#fdca26\"],[1.0,\"#f0f921\"]]}],\"heatmapgl\":[{\"type\":\"heatmapgl\",\"colorbar\":{\"outlinewidth\":0,\"ticks\":\"\"},\"colorscale\":[[0.0,\"#0d0887\"],[0.1111111111111111,\"#46039f\"],[0.2222222222222222,\"#7201a8\"],[0.3333333333333333,\"#9c179e\"],[0.4444444444444444,\"#bd3786\"],[0.5555555555555556,\"#d8576b\"],[0.6666666666666666,\"#ed7953\"],[0.7777777777777778,\"#fb9f3a\"],[0.8888888888888888,\"#fdca26\"],[1.0,\"#f0f921\"]]}],\"contourcarpet\":[{\"type\":\"contourcarpet\",\"colorbar\":{\"outlinewidth\":0,\"ticks\":\"\"}}],\"contour\":[{\"type\":\"contour\",\"colorbar\":{\"outlinewidth\":0,\"ticks\":\"\"},\"colorscale\":[[0.0,\"#0d0887\"],[0.1111111111111111,\"#46039f\"],[0.2222222222222222,\"#7201a8\"],[0.3333333333333333,\"#9c179e\"],[0.4444444444444444,\"#bd3786\"],[0.5555555555555556,\"#d8576b\"],[0.6666666666666666,\"#ed7953\"],[0.7777777777777778,\"#fb9f3a\"],[0.8888888888888888,\"#fdca26\"],[1.0,\"#f0f921\"]]}],\"surface\":[{\"type\":\"surface\",\"colorbar\":{\"outlinewidth\":0,\"ticks\":\"\"},\"colorscale\":[[0.0,\"#0d0887\"],[0.1111111111111111,\"#46039f\"],[0.2222222222222222,\"#7201a8\"],[0.3333333333333333,\"#9c179e\"],[0.4444444444444444,\"#bd3786\"],[0.5555555555555556,\"#d8576b\"],[0.6666666666666666,\"#ed7953\"],[0.7777777777777778,\"#fb9f3a\"],[0.8888888888888888,\"#fdca26\"],[1.0,\"#f0f921\"]]}],\"mesh3d\":[{\"type\":\"mesh3d\",\"colorbar\":{\"outlinewidth\":0,\"ticks\":\"\"}}],\"scatter\":[{\"fillpattern\":{\"fillmode\":\"overlay\",\"size\":10,\"solidity\":0.2},\"type\":\"scatter\"}],\"parcoords\":[{\"type\":\"parcoords\",\"line\":{\"colorbar\":{\"outlinewidth\":0,\"ticks\":\"\"}}}],\"scatterpolargl\":[{\"type\":\"scatterpolargl\",\"marker\":{\"colorbar\":{\"outlinewidth\":0,\"ticks\":\"\"}}}],\"bar\":[{\"error_x\":{\"color\":\"#2a3f5f\"},\"error_y\":{\"color\":\"#2a3f5f\"},\"marker\":{\"line\":{\"color\":\"#E5ECF6\",\"width\":0.5},\"pattern\":{\"fillmode\":\"overlay\",\"size\":10,\"solidity\":0.2}},\"type\":\"bar\"}],\"scattergeo\":[{\"type\":\"scattergeo\",\"marker\":{\"colorbar\":{\"outlinewidth\":0,\"ticks\":\"\"}}}],\"scatterpolar\":[{\"type\":\"scatterpolar\",\"marker\":{\"colorbar\":{\"outlinewidth\":0,\"ticks\":\"\"}}}],\"histogram\":[{\"marker\":{\"pattern\":{\"fillmode\":\"overlay\",\"size\":10,\"solidity\":0.2}},\"type\":\"histogram\"}],\"scattergl\":[{\"type\":\"scattergl\",\"marker\":{\"colorbar\":{\"outlinewidth\":0,\"ticks\":\"\"}}}],\"scatter3d\":[{\"type\":\"scatter3d\",\"line\":{\"colorbar\":{\"outlinewidth\":0,\"ticks\":\"\"}},\"marker\":{\"colorbar\":{\"outlinewidth\":0,\"ticks\":\"\"}}}],\"scattermapbox\":[{\"type\":\"scattermapbox\",\"marker\":{\"colorbar\":{\"outlinewidth\":0,\"ticks\":\"\"}}}],\"scatterternary\":[{\"type\":\"scatterternary\",\"marker\":{\"colorbar\":{\"outlinewidth\":0,\"ticks\":\"\"}}}],\"scattercarpet\":[{\"type\":\"scattercarpet\",\"marker\":{\"colorbar\":{\"outlinewidth\":0,\"ticks\":\"\"}}}],\"carpet\":[{\"aaxis\":{\"endlinecolor\":\"#2a3f5f\",\"gridcolor\":\"white\",\"linecolor\":\"white\",\"minorgridcolor\":\"white\",\"startlinecolor\":\"#2a3f5f\"},\"baxis\":{\"endlinecolor\":\"#2a3f5f\",\"gridcolor\":\"white\",\"linecolor\":\"white\",\"minorgridcolor\":\"white\",\"startlinecolor\":\"#2a3f5f\"},\"type\":\"carpet\"}],\"table\":[{\"cells\":{\"fill\":{\"color\":\"#EBF0F8\"},\"line\":{\"color\":\"white\"}},\"header\":{\"fill\":{\"color\":\"#C8D4E3\"},\"line\":{\"color\":\"white\"}},\"type\":\"table\"}],\"barpolar\":[{\"marker\":{\"line\":{\"color\":\"#E5ECF6\",\"width\":0.5},\"pattern\":{\"fillmode\":\"overlay\",\"size\":10,\"solidity\":0.2}},\"type\":\"barpolar\"}],\"pie\":[{\"automargin\":true,\"type\":\"pie\"}]},\"layout\":{\"autotypenumbers\":\"strict\",\"colorway\":[\"#636efa\",\"#EF553B\",\"#00cc96\",\"#ab63fa\",\"#FFA15A\",\"#19d3f3\",\"#FF6692\",\"#B6E880\",\"#FF97FF\",\"#FECB52\"],\"font\":{\"color\":\"#2a3f5f\"},\"hovermode\":\"closest\",\"hoverlabel\":{\"align\":\"left\"},\"paper_bgcolor\":\"white\",\"plot_bgcolor\":\"#E5ECF6\",\"polar\":{\"bgcolor\":\"#E5ECF6\",\"angularaxis\":{\"gridcolor\":\"white\",\"linecolor\":\"white\",\"ticks\":\"\"},\"radialaxis\":{\"gridcolor\":\"white\",\"linecolor\":\"white\",\"ticks\":\"\"}},\"ternary\":{\"bgcolor\":\"#E5ECF6\",\"aaxis\":{\"gridcolor\":\"white\",\"linecolor\":\"white\",\"ticks\":\"\"},\"baxis\":{\"gridcolor\":\"white\",\"linecolor\":\"white\",\"ticks\":\"\"},\"caxis\":{\"gridcolor\":\"white\",\"linecolor\":\"white\",\"ticks\":\"\"}},\"coloraxis\":{\"colorbar\":{\"outlinewidth\":0,\"ticks\":\"\"}},\"colorscale\":{\"sequential\":[[0.0,\"#0d0887\"],[0.1111111111111111,\"#46039f\"],[0.2222222222222222,\"#7201a8\"],[0.3333333333333333,\"#9c179e\"],[0.4444444444444444,\"#bd3786\"],[0.5555555555555556,\"#d8576b\"],[0.6666666666666666,\"#ed7953\"],[0.7777777777777778,\"#fb9f3a\"],[0.8888888888888888,\"#fdca26\"],[1.0,\"#f0f921\"]],\"sequentialminus\":[[0.0,\"#0d0887\"],[0.1111111111111111,\"#46039f\"],[0.2222222222222222,\"#7201a8\"],[0.3333333333333333,\"#9c179e\"],[0.4444444444444444,\"#bd3786\"],[0.5555555555555556,\"#d8576b\"],[0.6666666666666666,\"#ed7953\"],[0.7777777777777778,\"#fb9f3a\"],[0.8888888888888888,\"#fdca26\"],[1.0,\"#f0f921\"]],\"diverging\":[[0,\"#8e0152\"],[0.1,\"#c51b7d\"],[0.2,\"#de77ae\"],[0.3,\"#f1b6da\"],[0.4,\"#fde0ef\"],[0.5,\"#f7f7f7\"],[0.6,\"#e6f5d0\"],[0.7,\"#b8e186\"],[0.8,\"#7fbc41\"],[0.9,\"#4d9221\"],[1,\"#276419\"]]},\"xaxis\":{\"gridcolor\":\"white\",\"linecolor\":\"white\",\"ticks\":\"\",\"title\":{\"standoff\":15},\"zerolinecolor\":\"white\",\"automargin\":true,\"zerolinewidth\":2},\"yaxis\":{\"gridcolor\":\"white\",\"linecolor\":\"white\",\"ticks\":\"\",\"title\":{\"standoff\":15},\"zerolinecolor\":\"white\",\"automargin\":true,\"zerolinewidth\":2},\"scene\":{\"xaxis\":{\"backgroundcolor\":\"#E5ECF6\",\"gridcolor\":\"white\",\"linecolor\":\"white\",\"showbackground\":true,\"ticks\":\"\",\"zerolinecolor\":\"white\",\"gridwidth\":2},\"yaxis\":{\"backgroundcolor\":\"#E5ECF6\",\"gridcolor\":\"white\",\"linecolor\":\"white\",\"showbackground\":true,\"ticks\":\"\",\"zerolinecolor\":\"white\",\"gridwidth\":2},\"zaxis\":{\"backgroundcolor\":\"#E5ECF6\",\"gridcolor\":\"white\",\"linecolor\":\"white\",\"showbackground\":true,\"ticks\":\"\",\"zerolinecolor\":\"white\",\"gridwidth\":2}},\"shapedefaults\":{\"line\":{\"color\":\"#2a3f5f\"}},\"annotationdefaults\":{\"arrowcolor\":\"#2a3f5f\",\"arrowhead\":0,\"arrowwidth\":1},\"geo\":{\"bgcolor\":\"white\",\"landcolor\":\"#E5ECF6\",\"subunitcolor\":\"white\",\"showland\":true,\"showlakes\":true,\"lakecolor\":\"white\"},\"title\":{\"x\":0.05},\"mapbox\":{\"style\":\"light\"}}},\"xaxis\":{\"anchor\":\"y\",\"domain\":[0.0,1.0],\"matches\":\"x3\",\"showticklabels\":false},\"yaxis\":{\"anchor\":\"x\",\"domain\":[0.7300000000000001,1.0],\"tickformat\":\",d\"},\"xaxis2\":{\"anchor\":\"y2\",\"domain\":[0.0,1.0],\"matches\":\"x3\",\"showticklabels\":false},\"yaxis2\":{\"anchor\":\"x2\",\"domain\":[0.41000000000000003,0.68],\"tickformat\":\",d\"},\"xaxis3\":{\"anchor\":\"y3\",\"domain\":[0.0,1.0],\"hoverformat\":\"%Y-%m-%d\",\"showticklabels\":true,\"tickformat\":\"%Y-%m-%d\"},\"yaxis3\":{\"anchor\":\"x3\",\"domain\":[0.0,0.36000000000000004],\"tickformat\":\",d\"},\"annotations\":[{\"font\":{\"size\":16},\"showarrow\":false,\"text\":\"\\uc794\\uace0\\uac00\\uce58\",\"x\":0.5,\"xanchor\":\"center\",\"xref\":\"paper\",\"y\":1.0,\"yanchor\":\"bottom\",\"yref\":\"paper\"},{\"font\":{\"size\":16},\"showarrow\":false,\"text\":\"\\uc2e4\\ud604\\uc190\\uc775\",\"x\":0.5,\"xanchor\":\"center\",\"xref\":\"paper\",\"y\":0.68,\"yanchor\":\"bottom\",\"yref\":\"paper\"},{\"font\":{\"size\":16},\"showarrow\":false,\"text\":\"\\ucd1d\\uc790\\uc0b0\\uac00\\uce58\",\"x\":0.5,\"xanchor\":\"center\",\"xref\":\"paper\",\"y\":0.36000000000000004,\"yanchor\":\"bottom\",\"yref\":\"paper\"}],\"margin\":{\"b\":25,\"l\":25,\"r\":25,\"t\":80},\"title\":{\"text\":\"\\ubc31\\ud14c\\uc2a4\\ud2b8 \\uacb0\\uacfc: TOTAL, 2023-01-02~2023-01-13\",\"x\":0.5,\"y\":0.98},\"uniformtext\":{\"minsize\":12,\"mode\":\"show\"},\"height\":800,\"hovermode\":\"x unified\",\"showlegend\":false},                        {\"modeBarButtonsToRemove\": [\"resetScale2d\", \"lasso2d\", \"zoomIn2d\", \"zoomOut2d\", \"select2d\"], \"displaylogo\": false, \"responsive\": true}                    ).then(function(){\n",
       "                            \n",
       "var gd = document.getElementById('db06292a-c152-4c9f-908a-f8d14db6ea9d');\n",
       "var x = new MutationObserver(function (mutations, observer) {{\n",
       "        var display = window.getComputedStyle(gd).display;\n",
       "        if (!display || display === 'none') {{\n",
       "            console.log([gd, 'removed!']);\n",
       "            Plotly.purge(gd);\n",
       "            observer.disconnect();\n",
       "        }}\n",
       "}});\n",
       "\n",
       "// Listen for the removal of the full notebook cells\n",
       "var notebookContainer = gd.closest('#notebook-container');\n",
       "if (notebookContainer) {{\n",
       "    x.observe(notebookContainer, {childList: true});\n",
       "}}\n",
       "\n",
       "// Listen for the clearing of the current output cell\n",
       "var outputEl = gd.closest('.output');\n",
       "if (outputEl) {{\n",
       "    x.observe(outputEl, {childList: true});\n",
       "}}\n",
       "\n",
       "                        })                };                });            </script>        </div>"
      ]
     },
     "metadata": {},
     "output_type": "display_data"
    }
   ],
   "source": [
    "kq.backtest_plot_stock_daily(df_result5_total)"
   ]
  },
  {
   "cell_type": "markdown",
   "metadata": {},
   "source": [
    "## 6.6 전략 함수를 사용한 포워드테스트"
   ]
  },
  {
   "cell_type": "markdown",
   "metadata": {},
   "source": [
    "전략함수를 사용한 포트폴리오 포워드 테스트도 개별주식의 경우와 비슷한 방법으로 가능합니다.\n",
    "\n",
    "포워드테스트를 하는 경우에는 \n",
    "전략 함수 객체를 `backtest_update_stock_port_daily` 함수에 바로 넣을 수 없으므로\n",
    "사용자가 전략함수를 실행하여 주문 수량을 계산한 뒤 이 값을 넣어야 합니다.\n",
    "\n",
    "일단 전략함수를 인수로 넣고 백테스트를 수행합니다. 이 때 `return_logger` 인수를 True로 넣으면  전략함수에 넣을 로거 객체를 반환합니다."
   ]
  },
  {
   "cell_type": "code",
   "execution_count": 21,
   "metadata": {},
   "outputs": [
    {
     "name": "stderr",
     "output_type": "stream",
     "text": [
      "[2023-01-02] 종목: 005930, 주문전 보유수량:      0 주문수량:     10, 매매수량:     10, 주문후 보유수량:     10\n",
      "[2023-01-02] 종목: 373220, 주문전 보유수량:      0 주문수량:     10, 매매수량:     10, 주문후 보유수량:     10\n",
      "[2023-01-02] 종목: 000660, 주문전 보유수량:      0 주문수량:     10, 매매수량:     10, 주문후 보유수량:     10\n",
      "[2023-01-02] 종목: 207940, 주문전 보유수량:      0 주문수량:     10, 매매수량:     10, 주문후 보유수량:     10\n",
      "[2023-01-02] 종목: 005490, 주문전 보유수량:      0 주문수량:     10, 매매수량:     10, 주문후 보유수량:     10\n"
     ]
    }
   ],
   "source": [
    "dict_df_result6, dict_df_position6, logger = kq.backtest_stock_port_daily(\n",
    "    trade_func,\n",
    "    \"2023-01-02\",\n",
    "    \"2023-01-02\",\n",
    "    init_cash=1_000_000_000,\n",
    "    return_position=True,\n",
    "    return_logger=True,\n",
    ")\n"
   ]
  },
  {
   "cell_type": "markdown",
   "metadata": {},
   "source": [
    "다음으로 사용자가 직접 매매수량을 계산합니다."
   ]
  },
  {
   "cell_type": "code",
   "execution_count": 22,
   "metadata": {},
   "outputs": [
    {
     "data": {
      "text/plain": [
       "[('005930', 1), ('373220', 1), ('000660', 1), ('207940', 1), ('005490', 1)]"
      ]
     },
     "execution_count": 22,
     "metadata": {},
     "output_type": "execute_result"
    }
   ],
   "source": [
    "from dateutil.parser import parse\n",
    "\n",
    "date = parse(\"2023-01-03\")\n",
    "symbols_and_orders = trade_func(\n",
    "    date, \n",
    "    dict_df_result6,\n",
    "    dict_df_position6, \n",
    "    logger,\n",
    ")\n",
    "symbols_and_orders\n"
   ]
  },
  {
   "cell_type": "markdown",
   "metadata": {},
   "source": [
    "계산한 매매수량과 과거 백테스트 데이터프레임을 `backtest_update_stock_daily` 함수에 입력하여 포워드테스트를 수행합니다."
   ]
  },
  {
   "cell_type": "code",
   "execution_count": 23,
   "metadata": {},
   "outputs": [
    {
     "name": "stderr",
     "output_type": "stream",
     "text": [
      "[2023-01-03] 종목: 005930, 주문전 보유수량:     10 주문수량:      1, 매매수량:      1, 주문후 보유수량:     11\n",
      "[2023-01-03] 종목: 373220, 주문전 보유수량:     10 주문수량:      1, 매매수량:      1, 주문후 보유수량:     11\n",
      "[2023-01-03] 종목: 000660, 주문전 보유수량:     10 주문수량:      1, 매매수량:      1, 주문후 보유수량:     11\n",
      "[2023-01-03] 종목: 207940, 주문전 보유수량:     10 주문수량:      1, 매매수량:      1, 주문후 보유수량:     11\n",
      "[2023-01-03] 종목: 005490, 주문전 보유수량:     10 주문수량:      1, 매매수량:      1, 주문후 보유수량:     11\n"
     ]
    }
   ],
   "source": [
    "\n",
    "dict_df_result7, dict_df_position7 = kq.backtest_update_stock_port_daily(\n",
    "    symbols_and_orders,\n",
    "    date,\n",
    "    dict_df_result6,\n",
    "    dict_df_position6,\n",
    ")\n"
   ]
  },
  {
   "cell_type": "markdown",
   "metadata": {},
   "source": [
    "앞서 수행한 백테스트와 동일한 결과가 나오는 것을 확인할 수 있습니다."
   ]
  },
  {
   "cell_type": "code",
   "execution_count": 27,
   "metadata": {},
   "outputs": [
    {
     "data": {
      "text/plain": [
       "True"
      ]
     },
     "execution_count": 27,
     "metadata": {},
     "output_type": "execute_result"
    }
   ],
   "source": [
    "dict_df_result5[\"005930\"].iloc[:2].equals(dict_df_result7[\"005930\"])"
   ]
  },
  {
   "cell_type": "markdown",
   "metadata": {},
   "source": [
    "같은 방식으로 매일 포워드테스트를 진행할 수 있습니다."
   ]
  },
  {
   "cell_type": "markdown",
   "metadata": {},
   "source": []
  }
 ],
 "metadata": {
  "kernelspec": {
   "display_name": "base",
   "language": "python",
   "name": "python3"
  },
  "language_info": {
   "codemirror_mode": {
    "name": "ipython",
    "version": 3
   },
   "file_extension": ".py",
   "mimetype": "text/x-python",
   "name": "python",
   "nbconvert_exporter": "python",
   "pygments_lexer": "ipython3",
   "version": "3.10.10"
  },
  "orig_nbformat": 4
 },
 "nbformat": 4,
 "nbformat_minor": 2
}
