{
 "cells": [
  {
   "cell_type": "markdown",
   "id": "8093a55e",
   "metadata": {
    "papermill": {
     "duration": 0.00361,
     "end_time": "2023-08-18T08:09:45.360183",
     "exception": false,
     "start_time": "2023-08-18T08:09:45.356573",
     "status": "completed"
    },
    "tags": []
   },
   "source": [
    "# 튜토리얼 2 - CHECK-API 정보 설정"
   ]
  },
  {
   "cell_type": "markdown",
   "id": "2081cb31",
   "metadata": {
    "papermill": {
     "duration": 0.001449,
     "end_time": "2023-08-18T08:09:45.363621",
     "exception": false,
     "start_time": "2023-08-18T08:09:45.362172",
     "status": "completed"
    },
    "tags": []
   },
   "source": [
    "1. 코스콤의 CHECK-API 서비스를 사용하고 계신 고객만 `kquant` 패키지를 사용하여 금융 데이터를 입수할 수 있습니다.\n",
    "   데이터 입수를 제외한 `kquant` 패키지의 금융 분석 기능은 CHECK-API 서비스를 사용하지 않는 고객도 사용 가능합니다.\n"
   ]
  },
  {
   "cell_type": "markdown",
   "id": "dae1d3bd",
   "metadata": {
    "papermill": {
     "duration": 0.001295,
     "end_time": "2023-08-18T08:09:45.366259",
     "exception": false,
     "start_time": "2023-08-18T08:09:45.364964",
     "status": "completed"
    },
    "tags": []
   },
   "source": [
    ":::{.callout-caution title=\"주의사항\"}\n",
    "현재 `kquant` 패키지에서는 CHECK-API 서비스에서 제공하는 모든 데이터에 대해 정보입수 함수를 제공하지는 않고 있습니다.\n",
    "점진적으로 `kquant` 패키지에서 제공하는 CHECK-API 서비스 데이터를 추가할 예정입니다. 양해 부탁드립니다.\n",
    ":::"
   ]
  },
  {
   "cell_type": "markdown",
   "id": "b6901876",
   "metadata": {
    "papermill": {
     "duration": 0.001356,
     "end_time": "2023-08-18T08:09:45.368912",
     "exception": false,
     "start_time": "2023-08-18T08:09:45.367556",
     "status": "completed"
    },
    "tags": []
   },
   "source": [
    "2. CHECK-API 서비스는 실시간 금융 데이터를 REST-API 및 WebSocket 기반으로 제공하는 서비스입니다. \n",
    "   CHECK-API에서 제공하는 자세한 데이터 범위 및 입수방법은 홈페이지 [https://checkapi.koscom.co.kr](https://checkapi.koscom.co.kr/){target=\"_blank\"}를 참조해 주세요.\n",
    "  \n",
    "   CHECK-API 서비스 가입 및 문의는 유선상으로 부탁드립니다. (1577-7880)"
   ]
  },
  {
   "cell_type": "markdown",
   "id": "e508c1c6",
   "metadata": {
    "papermill": {
     "duration": 0.001718,
     "end_time": "2023-08-18T08:09:45.372099",
     "exception": false,
     "start_time": "2023-08-18T08:09:45.370381",
     "status": "completed"
    },
    "tags": []
   },
   "source": [
    "3. CHECK-API 서비스 고객에게는 `API ID` 및 `API KEY`가 발급됩니다. 이 `API ID` 및 `API KEY`를 다음과 같이 설정하여야 `kquant` 패키지에서 금융 데이터를 입수할 수 있습니다.\n",
    "\n",
    "    - `set_api()` 함수로 `API ID` 및 `API KEY`를 설정합니다.\n",
    "    - `get_api()` 함수로 설정된 `API ID` 및 `API KEY`를 확인할 수 있습니다.\n",
    "\n",
    "\n",
    "    ```{Python}\n",
    "    $ python\n",
    "    Python 3.10.10 | packaged by conda-forge | (main, Mar 24 2023, 20:17:34) [Clang 14.0.6 ] on darwin\n",
    "    Type \"help\", \"copyright\", \"credits\" or \"license\" for more information.\n",
    "    >>> import kquant\n",
    "    >>> kquant.set_api(\"발급받은 API ID 문자열\", \"발급받은 API KEY 문자열\")\n",
    "    >>> kquant.get_api()\n",
    "    ('발급받은 API ID 문자열', '발급받은 API KEY 문자열')\n",
    "    >>> exit()\n",
    "    $\n",
    "    ```\n",
    "\n",
    "      `set_api()` 함수로 `API ID` 및 `API KEY`를 설정하면 설정 데이터는 사용자의 홈 디렉토리 아래의 `.kquant` 디렉토리 상의 `credential` 파일에 다음과 같은 형식으로 저장됩니다. \n",
    "\n",
    "    ```\n",
    "    API_ID = \"발급받은 API ID 문자열\"\n",
    "    API_KEY = \"발급받은 API KEY 문자열\"\n",
    "    ```\n",
    "\n",
    "      따라서 한 번 `set_api()` 함수로 API 정보를 설정하면 이 파일이 삭제되거나 손상되지 않는 한 다시 `set_api()` 함수로 API 정보를 설정할 필요는 없습니다. "
   ]
  },
  {
   "cell_type": "markdown",
   "id": "59031e3b",
   "metadata": {
    "papermill": {
     "duration": 0.00136,
     "end_time": "2023-08-18T08:09:45.374908",
     "exception": false,
     "start_time": "2023-08-18T08:09:45.373548",
     "status": "completed"
    },
    "tags": []
   },
   "source": []
  }
 ],
 "metadata": {
  "kernelspec": {
   "display_name": "base",
   "language": "python",
   "name": "python3"
  },
  "language_info": {
   "codemirror_mode": {
    "name": "ipython",
    "version": 3
   },
   "file_extension": ".py",
   "mimetype": "text/x-python",
   "name": "python",
   "nbconvert_exporter": "python",
   "pygments_lexer": "ipython3",
   "version": "3.10.10"
  },
  "papermill": {
   "default_parameters": {},
   "duration": 3.337338,
   "end_time": "2023-08-18T08:09:45.799012",
   "environment_variables": {},
   "exception": null,
   "input_path": "docs/tutorials/tutorial02.ipynb",
   "output_path": "docs/tutorials/tutorial02.ipynb",
   "parameters": {},
   "start_time": "2023-08-18T08:09:42.461674",
   "version": "2.4.0"
  }
 },
 "nbformat": 4,
 "nbformat_minor": 5
}