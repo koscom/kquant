{
 "cells": [
  {
   "cell_type": "markdown",
   "id": "5c8514d5",
   "metadata": {
    "papermill": {
     "duration": 0.002457,
     "end_time": "2023-08-17T06:12:37.026059",
     "exception": false,
     "start_time": "2023-08-17T06:12:37.023602",
     "status": "completed"
    },
    "tags": []
   },
   "source": [
    "# 튜토리얼 1 - `kquant` 패키지 설치"
   ]
  },
  {
   "cell_type": "markdown",
   "id": "71864ceb",
   "metadata": {
    "papermill": {
     "duration": 0.002715,
     "end_time": "2023-08-17T06:12:37.031046",
     "exception": false,
     "start_time": "2023-08-17T06:12:37.028331",
     "status": "completed"
    },
    "tags": []
   },
   "source": [
    "1. `kquant` 패키지는 현재 공식 pypi 서버에서 제공하지 않으며 github 사이트 release 페이지([https://github.com/koscom/kquant/releases](https://github.com/koscom/kquant/releases){target=\"_blank\"})에서 직접 다운로드 받아 설치하여야 합니다.\n",
    "\n",
    "2. github 사이트 release 페이지([https://github.com/koscom/kquant/releases](https://github.com/koscom/kquant/releases){target=\"_blank\"})에서는 kquant 패키지 파일을 `.whl` 확장지를 가진 wheel 파일 형식으로 제공합니다. \n",
    "\n",
    "3. wheel 파일 이름은 다음과 같은 형식을 따릅니다.\n",
    "\n",
    "    ```\n",
    "    kquant-[kquant 버전 번호]-[파이썬 버전 번호]-[파이썬 버전 번호]-[운영체제 문자열].whl\n",
    "    ```\n",
    "\n",
    "     - 파이썬 버전 번호에는 `cp39`, `cp310`, `cp311`, 세 가지가 있으며 각각 파이썬 3.9, 3.10, 3.11 버전용입니다.\n",
    "     - 운영체제 문자열에는 `linux_x86_64`, `macosx_11_0_x86_64`, `win_amd64`, 세 가지가 있으며 각각 리눅스, 맥(Mac OSX), 윈도우(Windows)용입니다.\n",
    "\n",
    "4. 파이썬을 사용할 수 있는 터미널(콘솔) 창을 띄운 뒤 다음 명령으로 현재 자신이 사용하는 파이썬 버전을 확인합니다.\n",
    "   자신이 사용하는 파이썬 버전을 이미 알고 있는 경우에는 이 과정을 생략할 수 있습니다.\n",
    "\n",
    "    ```{Bash}\n",
    "    $ python -V                 \n",
    "    Python 3.10.10\n",
    "    ```\n",
    "\n",
    "\n",
    "5. github 사이트 release 페이지([https://github.com/koscom/kquant/releases](https://github.com/koscom/kquant/releases){target=\"_blank\"})에서\n",
    "   자신이 사용하는 운영체제와 파이썬 버전에 맞는 wheel 파일을 찾아 다운로드 합니다.\n",
    "\n",
    "\n",
    "6. 터미널(콘솔) 창에서 `cd` 명령으로 방금 다운로드한 wheel 파일이 저장된 디렉토리로 이동합니다.\n",
    "\n",
    "    ```{Bash}\n",
    "    $ cd \\다운로드디렉토리               \n",
    "    ```\n",
    "\n",
    "\n",
    "7. `pip install '자신에게해당하는wheel파일.whl'` 명령으로 해당하는 `.whl` 파일을 설치합니다.\n",
    "  예를 들어 파이썬 3.10용 윈도우즈 환경에 kquant 버전 0.2.1를 설치하는 경우에는 다음과 같은 명령을 실행합니다.\n",
    "\n",
    "    ```{Bash}\n",
    "    $ pip install kquant-0.2.1-cp310-cp310-win_amd64.whl\n",
    "    ```\n",
    "\n",
    "8. 정상적으로 설치가 된 경우에는 다음과 같은 메세지가 출력됩니다.\n",
    "\n",
    "    ```{Bash}\n",
    "    $ pip install kquant-0.2.1-cp310-cp310-win_amd64.whl\n",
    "    Processing ./kquant-0.2.1-cp310-cp310-win_amd64.whl\n",
    "    (... 중간 생략 ...)\n",
    "    Installing collected packages: kquant\n",
    "    Successfully installed kquant-0.2.1\n",
    "    $\n",
    "    ```\n",
    "\n",
    "    설치가 정상적으로 되지 않는 경우에는 현재 운영체제 및 설치된 파이썬 버전이 \n",
    "    설치하려는 .whl 파일 이름과 일치하는지 확인해 주세요.\n",
    "\n",
    "9. 터미널(콘솔) 창에서 파이썬을 실행하여 다음 명령으로 `kquant` 패키지가 정상적으로 임포트되는지 확인합니다.\n",
    "\n",
    "    ```{Python}\n",
    "    $ python\n",
    "    Python 3.10.10 | packaged by conda-forge | (main, Mar 24 2023, 20:17:34) [Clang 14.0.6 ] on darwin\n",
    "    Type \"help\", \"copyright\", \"credits\" or \"license\" for more information.\n",
    "    >>> import kquant\n",
    "    >>> kquant.__version__\n",
    "    '0.2.1'\n",
    "    >>> exit()\n",
    "    $\n",
    "    ```"
   ]
  },
  {
   "cell_type": "markdown",
   "id": "9f204018",
   "metadata": {
    "papermill": {
     "duration": 0.002334,
     "end_time": "2023-08-17T06:12:37.034928",
     "exception": false,
     "start_time": "2023-08-17T06:12:37.032594",
     "status": "completed"
    },
    "tags": []
   },
   "source": []
  }
 ],
 "metadata": {
  "kernelspec": {
   "display_name": "base",
   "language": "python",
   "name": "python3"
  },
  "language_info": {
   "codemirror_mode": {
    "name": "ipython",
    "version": 3
   },
   "file_extension": ".py",
   "mimetype": "text/x-python",
   "name": "python",
   "nbconvert_exporter": "python",
   "pygments_lexer": "ipython3",
   "version": "3.10.10"
  },
  "papermill": {
   "default_parameters": {},
   "duration": 3.693449,
   "end_time": "2023-08-17T06:12:37.560416",
   "environment_variables": {},
   "exception": null,
   "input_path": "docs/tutorials/tutorial01.ipynb",
   "output_path": "docs/tutorials/tutorial01.ipynb",
   "parameters": {},
   "start_time": "2023-08-17T06:12:33.866967",
   "version": "2.4.0"
  }
 },
 "nbformat": 4,
 "nbformat_minor": 5
}