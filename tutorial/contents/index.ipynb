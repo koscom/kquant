{
 "cells": [
  {
   "attachments": {},
   "cell_type": "markdown",
   "metadata": {},
   "source": [
    "# kquant"
   ]
  },
  {
   "cell_type": "markdown",
   "metadata": {},
   "source": [
    "`kquant` 패키지는 코스콤에서 개발한 금융데이터 분석용 파이썬 패키지로 코스콤 CHECK-API 서비스를 통해 실시간 금융데이터를 불러오고 분석하는 기능을 제공합니다.\n"
   ]
  },
  {
   "cell_type": "markdown",
   "metadata": {},
   "source": [
    "## 패키지 설치"
   ]
  },
  {
   "cell_type": "markdown",
   "metadata": {},
   "source": [
    "- `kquant` 패키지는 공식 pypi 서버에서 제공하지 않으며 github 사이트\n",
    "  [https://github.com/koscom/kquant/releases](https://github.com/koscom/kquant/releases)\n",
    "  에서 직접 다운로드 받아 설치하여야 합니다.\n",
    "- 현재 `kquant` 패키지는 다음 파이썬 버전과 운영체제에 대해서만 지원합니다.\n",
    "    - 지원하는 파이썬 버전: 3.9, 3.10, 3.11\n",
    "    - 지원하는 운영체제: ubuntu-22.04, macos, windows\n",
    "- 압축을 풀면 지원하는 파이썬 버전과 운영체제에 대한 wheel 파일이 있습니다.\n",
    "  `pip install` 명령으로 해당하는 wheel 파일을 설치합니다.\n",
    "  예를 들어 파이썬 3.9용 윈도우즈 환경에 버전 0.1.2를 설치하는 경우에는 다음과 같은 명령을 실행합니다.\n",
    "\n",
    "    ```\n",
    "    $ pip install kquant-0.1.2-cp310-cp310-win_amd64.whl\n",
    "    ```"
   ]
  },
  {
   "cell_type": "markdown",
   "metadata": {},
   "source": [
    "## 패키지 사용\n",
    "\n",
    "- `kquant` 패키지에서 제공하는 모든 함수는 다음과 같이 최상위 레벨에서 임포트하여 사용하실 수 있습니다.\n",
    "\n",
    "    ```{Python}\n",
    "    import kquant as kq\n",
    "    kq.daily_stock(\"005930\", \"20220101\", \"20221231\")\n",
    "    ```"
   ]
  },
  {
   "cell_type": "markdown",
   "metadata": {},
   "source": [
    "## API 참조문서"
   ]
  },
  {
   "cell_type": "markdown",
   "metadata": {},
   "source": [
    "- `kquant` 패키지의 API 참조문서는 다음 웹페이지에서 제공합니다."
   ]
  },
  {
   "cell_type": "markdown",
   "metadata": {},
   "source": []
  }
 ],
 "metadata": {
  "kernelspec": {
   "display_name": "base",
   "language": "python",
   "name": "python3"
  },
  "language_info": {
   "codemirror_mode": {
    "name": "ipython",
    "version": 3
   },
   "file_extension": ".py",
   "mimetype": "text/x-python",
   "name": "python",
   "nbconvert_exporter": "python",
   "pygments_lexer": "ipython3",
   "version": "3.10.10"
  },
  "orig_nbformat": 4
 },
 "nbformat": 4,
 "nbformat_minor": 2
}
